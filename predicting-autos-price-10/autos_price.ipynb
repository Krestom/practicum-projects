{
 "cells": [
  {
   "cell_type": "markdown",
   "id": "c83d8e1d",
   "metadata": {},
   "source": [
    "<div style=\"background-color:#D2DCFA; padding:10px;\">\n",
    "    \n",
    "# Описание задачи.\n",
    "    \n",
    "Сервис по продаже автомобилей с пробегом «Не бит, не крашен» разрабатывает приложение, чтобы привлечь новых клиентов. В нём можно будет узнать рыночную стоимость своего автомобиля. \n",
    "    \n",
    "\n",
    "Нам необходимо построить модель, которая умеет её определять. В нашем распоряжении данные о технических характеристиках, комплектации и ценах других автомобилей.\n",
    "Критерии, которые важны заказчику:\n",
    "    \n",
    " > качество предсказания;\n",
    "    \n",
    " > время обучения модели;\n",
    "    \n",
    " > время предсказания модели.\n",
    "    \n",
    "    \n",
    "Чтобы усилить исследование, не будем ограничиваться градиентным бустингом. Попробуем более простые модели — иногда они работают лучше. Эти редкие случаи легко пропустить, если всегда применять только бустинг. \n",
    "    \n",
    "Будем использовать следующие модели:\n",
    "    \n",
    " > Линейная регрессия - будет базовой моделью\n",
    "    \n",
    " > Градиентный бустинг LightGBM\n",
    "    \n",
    " > Градиентный бустинг CatBoost\n",
    "    \n",
    "    \n",
    "В качестве метрики выступит **`RMSE`**. Максимальное допустимое значение метрики - **`2500`**."
   ]
  },
  {
   "cell_type": "markdown",
   "id": "05f55c44",
   "metadata": {},
   "source": [
    "<div style=\"background-color:#D2DCFA; padding:10px;\">\n",
    "    \n",
    "# Описание данных\n",
    "\n",
    "Признаки: \n",
    " - **DateCrawled** — дата скачивания анкеты из базы\n",
    "    \n",
    " - **VehicleType** — тип автомобильного кузова\n",
    " - **RegistrationYear** — год регистрации автомобиля\n",
    " - **Gearbox** — тип коробки передач\n",
    " - **Power** — мощность (л. с.)\n",
    " - **Model** — модель автомобиля\n",
    " - **Kilometer** — пробег (км)\n",
    " - **RegistrationMonth** — месяц регистрации автомобиля\n",
    " - **FuelType** — тип топлива\n",
    " - **Brand** — марка автомобиля\n",
    " - **Repaired** — была машина в ремонте или нет\n",
    " - **DateCreated** — дата создания анкеты\n",
    " - **NumberOfPictures** — количество фотографий автомобиля\n",
    " - **PostalCode** — почтовый индекс владельца анкеты (пользователя)\n",
    " - **LastSeen** — дата последней активности пользователя\n",
    "    \n",
    "Целевой признак **`Price`**"
   ]
  },
  {
   "cell_type": "markdown",
   "id": "2a0a2d82",
   "metadata": {},
   "source": [
    "Загрузим необходимые библиотеки"
   ]
  },
  {
   "cell_type": "code",
   "execution_count": 1,
   "id": "c8d7a41c",
   "metadata": {},
   "outputs": [
    {
     "name": "stdout",
     "output_type": "stream",
     "text": [
      "Requirement already satisfied: phik in c:\\users\\ilyal\\anaconda3\\lib\\site-packages (0.12.4)\n",
      "Requirement already satisfied: numpy>=1.18.0 in c:\\users\\ilyal\\anaconda3\\lib\\site-packages (from phik) (1.24.3)\n",
      "Requirement already satisfied: scipy>=1.5.2 in c:\\users\\ilyal\\anaconda3\\lib\\site-packages (from phik) (1.11.1)\n",
      "Requirement already satisfied: pandas>=0.25.1 in c:\\users\\ilyal\\anaconda3\\lib\\site-packages (from phik) (2.0.3)\n",
      "Requirement already satisfied: matplotlib>=2.2.3 in c:\\users\\ilyal\\anaconda3\\lib\\site-packages (from phik) (3.7.2)\n",
      "Requirement already satisfied: joblib>=0.14.1 in c:\\users\\ilyal\\anaconda3\\lib\\site-packages (from phik) (1.2.0)\n",
      "Requirement already satisfied: contourpy>=1.0.1 in c:\\users\\ilyal\\anaconda3\\lib\\site-packages (from matplotlib>=2.2.3->phik) (1.0.5)\n",
      "Requirement already satisfied: cycler>=0.10 in c:\\users\\ilyal\\anaconda3\\lib\\site-packages (from matplotlib>=2.2.3->phik) (0.11.0)\n",
      "Requirement already satisfied: fonttools>=4.22.0 in c:\\users\\ilyal\\anaconda3\\lib\\site-packages (from matplotlib>=2.2.3->phik) (4.25.0)\n",
      "Requirement already satisfied: kiwisolver>=1.0.1 in c:\\users\\ilyal\\anaconda3\\lib\\site-packages (from matplotlib>=2.2.3->phik) (1.4.4)\n",
      "Requirement already satisfied: packaging>=20.0 in c:\\users\\ilyal\\anaconda3\\lib\\site-packages (from matplotlib>=2.2.3->phik) (23.1)\n",
      "Requirement already satisfied: pillow>=6.2.0 in c:\\users\\ilyal\\anaconda3\\lib\\site-packages (from matplotlib>=2.2.3->phik) (9.4.0)\n",
      "Requirement already satisfied: pyparsing<3.1,>=2.3.1 in c:\\users\\ilyal\\anaconda3\\lib\\site-packages (from matplotlib>=2.2.3->phik) (3.0.9)\n",
      "Requirement already satisfied: python-dateutil>=2.7 in c:\\users\\ilyal\\anaconda3\\lib\\site-packages (from matplotlib>=2.2.3->phik) (2.8.2)\n",
      "Requirement already satisfied: pytz>=2020.1 in c:\\users\\ilyal\\anaconda3\\lib\\site-packages (from pandas>=0.25.1->phik) (2023.3.post1)\n",
      "Requirement already satisfied: tzdata>=2022.1 in c:\\users\\ilyal\\anaconda3\\lib\\site-packages (from pandas>=0.25.1->phik) (2023.3)\n",
      "Requirement already satisfied: six>=1.5 in c:\\users\\ilyal\\anaconda3\\lib\\site-packages (from python-dateutil>=2.7->matplotlib>=2.2.3->phik) (1.16.0)\n"
     ]
    }
   ],
   "source": [
    "!pip install phik"
   ]
  },
  {
   "cell_type": "code",
   "execution_count": 2,
   "id": "143be323",
   "metadata": {},
   "outputs": [
    {
     "name": "stdout",
     "output_type": "stream",
     "text": [
      "Requirement already satisfied: scikit-learn in c:\\users\\ilyal\\anaconda3\\lib\\site-packages (1.5.1)\n",
      "Requirement already satisfied: numpy>=1.19.5 in c:\\users\\ilyal\\anaconda3\\lib\\site-packages (from scikit-learn) (1.24.3)\n",
      "Requirement already satisfied: scipy>=1.6.0 in c:\\users\\ilyal\\anaconda3\\lib\\site-packages (from scikit-learn) (1.11.1)\n",
      "Requirement already satisfied: joblib>=1.2.0 in c:\\users\\ilyal\\anaconda3\\lib\\site-packages (from scikit-learn) (1.2.0)\n",
      "Requirement already satisfied: threadpoolctl>=3.1.0 in c:\\users\\ilyal\\anaconda3\\lib\\site-packages (from scikit-learn) (3.5.0)\n"
     ]
    }
   ],
   "source": [
    "!pip install -U scikit-learn"
   ]
  },
  {
   "cell_type": "code",
   "execution_count": 3,
   "id": "04fe789b",
   "metadata": {},
   "outputs": [
    {
     "name": "stdout",
     "output_type": "stream",
     "text": [
      "Requirement already satisfied: lightgbm in c:\\users\\ilyal\\anaconda3\\lib\\site-packages (4.4.0)\n",
      "Requirement already satisfied: numpy>=1.17.0 in c:\\users\\ilyal\\anaconda3\\lib\\site-packages (from lightgbm) (1.24.3)\n",
      "Requirement already satisfied: scipy in c:\\users\\ilyal\\anaconda3\\lib\\site-packages (from lightgbm) (1.11.1)\n"
     ]
    }
   ],
   "source": [
    "!pip install lightgbm"
   ]
  },
  {
   "cell_type": "code",
   "execution_count": 4,
   "id": "0bb8a1d1",
   "metadata": {},
   "outputs": [
    {
     "name": "stdout",
     "output_type": "stream",
     "text": [
      "Requirement already satisfied: catboost in c:\\users\\ilyal\\anaconda3\\lib\\site-packages (1.2.5)\n",
      "Requirement already satisfied: graphviz in c:\\users\\ilyal\\anaconda3\\lib\\site-packages (from catboost) (0.20.3)\n",
      "Requirement already satisfied: matplotlib in c:\\users\\ilyal\\anaconda3\\lib\\site-packages (from catboost) (3.7.2)\n",
      "Requirement already satisfied: numpy>=1.16.0 in c:\\users\\ilyal\\anaconda3\\lib\\site-packages (from catboost) (1.24.3)\n",
      "Requirement already satisfied: pandas>=0.24 in c:\\users\\ilyal\\anaconda3\\lib\\site-packages (from catboost) (2.0.3)\n",
      "Requirement already satisfied: scipy in c:\\users\\ilyal\\anaconda3\\lib\\site-packages (from catboost) (1.11.1)\n",
      "Requirement already satisfied: plotly in c:\\users\\ilyal\\anaconda3\\lib\\site-packages (from catboost) (5.9.0)\n",
      "Requirement already satisfied: six in c:\\users\\ilyal\\anaconda3\\lib\\site-packages (from catboost) (1.16.0)\n",
      "Requirement already satisfied: python-dateutil>=2.8.2 in c:\\users\\ilyal\\anaconda3\\lib\\site-packages (from pandas>=0.24->catboost) (2.8.2)\n",
      "Requirement already satisfied: pytz>=2020.1 in c:\\users\\ilyal\\anaconda3\\lib\\site-packages (from pandas>=0.24->catboost) (2023.3.post1)\n",
      "Requirement already satisfied: tzdata>=2022.1 in c:\\users\\ilyal\\anaconda3\\lib\\site-packages (from pandas>=0.24->catboost) (2023.3)\n",
      "Requirement already satisfied: contourpy>=1.0.1 in c:\\users\\ilyal\\anaconda3\\lib\\site-packages (from matplotlib->catboost) (1.0.5)\n",
      "Requirement already satisfied: cycler>=0.10 in c:\\users\\ilyal\\anaconda3\\lib\\site-packages (from matplotlib->catboost) (0.11.0)\n",
      "Requirement already satisfied: fonttools>=4.22.0 in c:\\users\\ilyal\\anaconda3\\lib\\site-packages (from matplotlib->catboost) (4.25.0)\n",
      "Requirement already satisfied: kiwisolver>=1.0.1 in c:\\users\\ilyal\\anaconda3\\lib\\site-packages (from matplotlib->catboost) (1.4.4)\n",
      "Requirement already satisfied: packaging>=20.0 in c:\\users\\ilyal\\anaconda3\\lib\\site-packages (from matplotlib->catboost) (23.1)\n",
      "Requirement already satisfied: pillow>=6.2.0 in c:\\users\\ilyal\\anaconda3\\lib\\site-packages (from matplotlib->catboost) (9.4.0)\n",
      "Requirement already satisfied: pyparsing<3.1,>=2.3.1 in c:\\users\\ilyal\\anaconda3\\lib\\site-packages (from matplotlib->catboost) (3.0.9)\n",
      "Requirement already satisfied: tenacity>=6.2.0 in c:\\users\\ilyal\\anaconda3\\lib\\site-packages (from plotly->catboost) (8.2.2)\n"
     ]
    }
   ],
   "source": [
    "!pip install catboost"
   ]
  },
  {
   "cell_type": "markdown",
   "id": "4e2490a3",
   "metadata": {},
   "source": [
    "Импортируем библиотеки"
   ]
  },
  {
   "cell_type": "code",
   "execution_count": 5,
   "id": "e1bf3c2e",
   "metadata": {},
   "outputs": [],
   "source": [
    "import pandas as pd \n",
    "import numpy as np\n",
    "import matplotlib.pyplot as plt\n",
    "import seaborn as sns\n",
    "\n",
    "from sklearn.model_selection import train_test_split, GridSearchCV\n",
    "from sklearn.linear_model import LinearRegression\n",
    "from sklearn.preprocessing import StandardScaler, OneHotEncoder, OrdinalEncoder\n",
    "from sklearn.metrics import mean_squared_error\n",
    "from sklearn.pipeline import Pipeline\n",
    "from sklearn.compose import ColumnTransformer\n",
    "\n",
    "from catboost import CatBoostRegressor\n",
    "\n",
    "import lightgbm as lgb\n",
    "\n",
    "from phik import phik_matrix\n",
    "from phik.report import plot_correlation_matrix\n",
    "\n",
    "import time \n",
    "\n",
    "import warnings\n",
    "\n",
    "warnings.filterwarnings('ignore')\n",
    "sns.set_style('darkgrid') \n",
    "plt.rcParams[\"figure.figsize\"] = (12, 6)"
   ]
  },
  {
   "cell_type": "code",
   "execution_count": 6,
   "id": "f1bbefc2",
   "metadata": {},
   "outputs": [],
   "source": [
    "RANDOM_STATE = 42"
   ]
  },
  {
   "cell_type": "markdown",
   "id": "1bc573c8",
   "metadata": {},
   "source": [
    "## Шаг 1. Загрузка и предобработка данных"
   ]
  },
  {
   "cell_type": "code",
   "execution_count": 7,
   "id": "d2a1cbcc",
   "metadata": {},
   "outputs": [
    {
     "data": {
      "text/html": [
       "<div>\n",
       "<style scoped>\n",
       "    .dataframe tbody tr th:only-of-type {\n",
       "        vertical-align: middle;\n",
       "    }\n",
       "\n",
       "    .dataframe tbody tr th {\n",
       "        vertical-align: top;\n",
       "    }\n",
       "\n",
       "    .dataframe thead th {\n",
       "        text-align: right;\n",
       "    }\n",
       "</style>\n",
       "<table border=\"1\" class=\"dataframe\">\n",
       "  <thead>\n",
       "    <tr style=\"text-align: right;\">\n",
       "      <th></th>\n",
       "      <th>DateCrawled</th>\n",
       "      <th>Price</th>\n",
       "      <th>VehicleType</th>\n",
       "      <th>RegistrationYear</th>\n",
       "      <th>Gearbox</th>\n",
       "      <th>Power</th>\n",
       "      <th>Model</th>\n",
       "      <th>Kilometer</th>\n",
       "      <th>RegistrationMonth</th>\n",
       "      <th>FuelType</th>\n",
       "      <th>Brand</th>\n",
       "      <th>Repaired</th>\n",
       "      <th>DateCreated</th>\n",
       "      <th>NumberOfPictures</th>\n",
       "      <th>PostalCode</th>\n",
       "      <th>LastSeen</th>\n",
       "    </tr>\n",
       "  </thead>\n",
       "  <tbody>\n",
       "    <tr>\n",
       "      <th>352818</th>\n",
       "      <td>2016-04-01 22:50:00</td>\n",
       "      <td>1400</td>\n",
       "      <td>sedan</td>\n",
       "      <td>1994</td>\n",
       "      <td>manual</td>\n",
       "      <td>60</td>\n",
       "      <td>golf</td>\n",
       "      <td>125000</td>\n",
       "      <td>1</td>\n",
       "      <td>petrol</td>\n",
       "      <td>volkswagen</td>\n",
       "      <td>no</td>\n",
       "      <td>2016-04-01 00:00:00</td>\n",
       "      <td>0</td>\n",
       "      <td>67278</td>\n",
       "      <td>2016-04-05 21:45:01</td>\n",
       "    </tr>\n",
       "    <tr>\n",
       "      <th>326697</th>\n",
       "      <td>2016-03-12 01:32:36</td>\n",
       "      <td>4400</td>\n",
       "      <td>convertible</td>\n",
       "      <td>2006</td>\n",
       "      <td>manual</td>\n",
       "      <td>140</td>\n",
       "      <td>3_reihe</td>\n",
       "      <td>150000</td>\n",
       "      <td>8</td>\n",
       "      <td>petrol</td>\n",
       "      <td>peugeot</td>\n",
       "      <td>no</td>\n",
       "      <td>2016-03-12 00:00:00</td>\n",
       "      <td>0</td>\n",
       "      <td>55131</td>\n",
       "      <td>2016-04-07 05:16:08</td>\n",
       "    </tr>\n",
       "    <tr>\n",
       "      <th>320195</th>\n",
       "      <td>2016-03-06 01:43:32</td>\n",
       "      <td>5500</td>\n",
       "      <td>NaN</td>\n",
       "      <td>2017</td>\n",
       "      <td>manual</td>\n",
       "      <td>140</td>\n",
       "      <td>golf</td>\n",
       "      <td>150000</td>\n",
       "      <td>10</td>\n",
       "      <td>gasoline</td>\n",
       "      <td>volkswagen</td>\n",
       "      <td>no</td>\n",
       "      <td>2016-01-29 00:00:00</td>\n",
       "      <td>0</td>\n",
       "      <td>14943</td>\n",
       "      <td>2016-03-28 14:45:05</td>\n",
       "    </tr>\n",
       "    <tr>\n",
       "      <th>120584</th>\n",
       "      <td>2016-03-27 18:48:59</td>\n",
       "      <td>9500</td>\n",
       "      <td>sedan</td>\n",
       "      <td>2007</td>\n",
       "      <td>manual</td>\n",
       "      <td>160</td>\n",
       "      <td>a3</td>\n",
       "      <td>60000</td>\n",
       "      <td>11</td>\n",
       "      <td>petrol</td>\n",
       "      <td>audi</td>\n",
       "      <td>no</td>\n",
       "      <td>2016-03-27 00:00:00</td>\n",
       "      <td>0</td>\n",
       "      <td>89233</td>\n",
       "      <td>2016-04-05 15:45:49</td>\n",
       "    </tr>\n",
       "    <tr>\n",
       "      <th>36266</th>\n",
       "      <td>2016-03-24 19:54:29</td>\n",
       "      <td>500</td>\n",
       "      <td>sedan</td>\n",
       "      <td>1998</td>\n",
       "      <td>manual</td>\n",
       "      <td>0</td>\n",
       "      <td>golf</td>\n",
       "      <td>150000</td>\n",
       "      <td>0</td>\n",
       "      <td>petrol</td>\n",
       "      <td>volkswagen</td>\n",
       "      <td>NaN</td>\n",
       "      <td>2016-03-24 00:00:00</td>\n",
       "      <td>0</td>\n",
       "      <td>38259</td>\n",
       "      <td>2016-03-26 05:17:24</td>\n",
       "    </tr>\n",
       "  </tbody>\n",
       "</table>\n",
       "</div>"
      ],
      "text/plain": [
       "                DateCrawled  Price  VehicleType  RegistrationYear Gearbox  \\\n",
       "352818  2016-04-01 22:50:00   1400        sedan              1994  manual   \n",
       "326697  2016-03-12 01:32:36   4400  convertible              2006  manual   \n",
       "320195  2016-03-06 01:43:32   5500          NaN              2017  manual   \n",
       "120584  2016-03-27 18:48:59   9500        sedan              2007  manual   \n",
       "36266   2016-03-24 19:54:29    500        sedan              1998  manual   \n",
       "\n",
       "        Power    Model  Kilometer  RegistrationMonth  FuelType       Brand  \\\n",
       "352818     60     golf     125000                  1    petrol  volkswagen   \n",
       "326697    140  3_reihe     150000                  8    petrol     peugeot   \n",
       "320195    140     golf     150000                 10  gasoline  volkswagen   \n",
       "120584    160       a3      60000                 11    petrol        audi   \n",
       "36266       0     golf     150000                  0    petrol  volkswagen   \n",
       "\n",
       "       Repaired          DateCreated  NumberOfPictures  PostalCode  \\\n",
       "352818       no  2016-04-01 00:00:00                 0       67278   \n",
       "326697       no  2016-03-12 00:00:00                 0       55131   \n",
       "320195       no  2016-01-29 00:00:00                 0       14943   \n",
       "120584       no  2016-03-27 00:00:00                 0       89233   \n",
       "36266       NaN  2016-03-24 00:00:00                 0       38259   \n",
       "\n",
       "                   LastSeen  \n",
       "352818  2016-04-05 21:45:01  \n",
       "326697  2016-04-07 05:16:08  \n",
       "320195  2016-03-28 14:45:05  \n",
       "120584  2016-04-05 15:45:49  \n",
       "36266   2016-03-26 05:17:24  "
      ]
     },
     "execution_count": 7,
     "metadata": {},
     "output_type": "execute_result"
    }
   ],
   "source": [
    "try:\n",
    "    df = pd.read_csv(r'C:\\Users\\ilyal\\OneDrive\\Рабочий стол\\Портфолио\\practicum_projects\\autos_price_10\\autos_price_10.csv')\n",
    "    \n",
    "except:\n",
    "    df = pd.read_csv(r'/datasets/autos.csv')\n",
    "    \n",
    "df.sample(5)"
   ]
  },
  {
   "cell_type": "markdown",
   "id": "ff0f5b7e",
   "metadata": {},
   "source": [
    "Для удобства сразу приведем все названия столбцов к нижнему регистру "
   ]
  },
  {
   "cell_type": "code",
   "execution_count": 8,
   "id": "d824d6c0",
   "metadata": {},
   "outputs": [],
   "source": [
    "df.columns = [column.lower() for column in df.columns]"
   ]
  },
  {
   "cell_type": "markdown",
   "id": "deb572c6",
   "metadata": {},
   "source": [
    "Выведем основную информацию о датафрейме"
   ]
  },
  {
   "cell_type": "code",
   "execution_count": 9,
   "id": "5553ad97",
   "metadata": {},
   "outputs": [
    {
     "name": "stdout",
     "output_type": "stream",
     "text": [
      "<class 'pandas.core.frame.DataFrame'>\n",
      "RangeIndex: 354369 entries, 0 to 354368\n",
      "Data columns (total 16 columns):\n",
      " #   Column             Non-Null Count   Dtype \n",
      "---  ------             --------------   ----- \n",
      " 0   datecrawled        354369 non-null  object\n",
      " 1   price              354369 non-null  int64 \n",
      " 2   vehicletype        316879 non-null  object\n",
      " 3   registrationyear   354369 non-null  int64 \n",
      " 4   gearbox            334536 non-null  object\n",
      " 5   power              354369 non-null  int64 \n",
      " 6   model              334664 non-null  object\n",
      " 7   kilometer          354369 non-null  int64 \n",
      " 8   registrationmonth  354369 non-null  int64 \n",
      " 9   fueltype           321474 non-null  object\n",
      " 10  brand              354369 non-null  object\n",
      " 11  repaired           283215 non-null  object\n",
      " 12  datecreated        354369 non-null  object\n",
      " 13  numberofpictures   354369 non-null  int64 \n",
      " 14  postalcode         354369 non-null  int64 \n",
      " 15  lastseen           354369 non-null  object\n",
      "dtypes: int64(7), object(9)\n",
      "memory usage: 43.3+ MB\n"
     ]
    },
    {
     "data": {
      "text/plain": [
       "None"
      ]
     },
     "metadata": {},
     "output_type": "display_data"
    },
    {
     "data": {
      "text/html": [
       "<div>\n",
       "<style scoped>\n",
       "    .dataframe tbody tr th:only-of-type {\n",
       "        vertical-align: middle;\n",
       "    }\n",
       "\n",
       "    .dataframe tbody tr th {\n",
       "        vertical-align: top;\n",
       "    }\n",
       "\n",
       "    .dataframe thead th {\n",
       "        text-align: right;\n",
       "    }\n",
       "</style>\n",
       "<table border=\"1\" class=\"dataframe\">\n",
       "  <thead>\n",
       "    <tr style=\"text-align: right;\">\n",
       "      <th></th>\n",
       "      <th>price</th>\n",
       "      <th>registrationyear</th>\n",
       "      <th>power</th>\n",
       "      <th>kilometer</th>\n",
       "      <th>registrationmonth</th>\n",
       "      <th>numberofpictures</th>\n",
       "      <th>postalcode</th>\n",
       "    </tr>\n",
       "  </thead>\n",
       "  <tbody>\n",
       "    <tr>\n",
       "      <th>count</th>\n",
       "      <td>354369.000000</td>\n",
       "      <td>354369.000000</td>\n",
       "      <td>354369.000000</td>\n",
       "      <td>354369.000000</td>\n",
       "      <td>354369.000000</td>\n",
       "      <td>354369.0</td>\n",
       "      <td>354369.000000</td>\n",
       "    </tr>\n",
       "    <tr>\n",
       "      <th>mean</th>\n",
       "      <td>4416.656776</td>\n",
       "      <td>2004.234448</td>\n",
       "      <td>110.094337</td>\n",
       "      <td>128211.172535</td>\n",
       "      <td>5.714645</td>\n",
       "      <td>0.0</td>\n",
       "      <td>50508.689087</td>\n",
       "    </tr>\n",
       "    <tr>\n",
       "      <th>std</th>\n",
       "      <td>4514.158514</td>\n",
       "      <td>90.227958</td>\n",
       "      <td>189.850405</td>\n",
       "      <td>37905.341530</td>\n",
       "      <td>3.726421</td>\n",
       "      <td>0.0</td>\n",
       "      <td>25783.096248</td>\n",
       "    </tr>\n",
       "    <tr>\n",
       "      <th>min</th>\n",
       "      <td>0.000000</td>\n",
       "      <td>1000.000000</td>\n",
       "      <td>0.000000</td>\n",
       "      <td>5000.000000</td>\n",
       "      <td>0.000000</td>\n",
       "      <td>0.0</td>\n",
       "      <td>1067.000000</td>\n",
       "    </tr>\n",
       "    <tr>\n",
       "      <th>25%</th>\n",
       "      <td>1050.000000</td>\n",
       "      <td>1999.000000</td>\n",
       "      <td>69.000000</td>\n",
       "      <td>125000.000000</td>\n",
       "      <td>3.000000</td>\n",
       "      <td>0.0</td>\n",
       "      <td>30165.000000</td>\n",
       "    </tr>\n",
       "    <tr>\n",
       "      <th>50%</th>\n",
       "      <td>2700.000000</td>\n",
       "      <td>2003.000000</td>\n",
       "      <td>105.000000</td>\n",
       "      <td>150000.000000</td>\n",
       "      <td>6.000000</td>\n",
       "      <td>0.0</td>\n",
       "      <td>49413.000000</td>\n",
       "    </tr>\n",
       "    <tr>\n",
       "      <th>75%</th>\n",
       "      <td>6400.000000</td>\n",
       "      <td>2008.000000</td>\n",
       "      <td>143.000000</td>\n",
       "      <td>150000.000000</td>\n",
       "      <td>9.000000</td>\n",
       "      <td>0.0</td>\n",
       "      <td>71083.000000</td>\n",
       "    </tr>\n",
       "    <tr>\n",
       "      <th>max</th>\n",
       "      <td>20000.000000</td>\n",
       "      <td>9999.000000</td>\n",
       "      <td>20000.000000</td>\n",
       "      <td>150000.000000</td>\n",
       "      <td>12.000000</td>\n",
       "      <td>0.0</td>\n",
       "      <td>99998.000000</td>\n",
       "    </tr>\n",
       "  </tbody>\n",
       "</table>\n",
       "</div>"
      ],
      "text/plain": [
       "               price  registrationyear          power      kilometer  \\\n",
       "count  354369.000000     354369.000000  354369.000000  354369.000000   \n",
       "mean     4416.656776       2004.234448     110.094337  128211.172535   \n",
       "std      4514.158514         90.227958     189.850405   37905.341530   \n",
       "min         0.000000       1000.000000       0.000000    5000.000000   \n",
       "25%      1050.000000       1999.000000      69.000000  125000.000000   \n",
       "50%      2700.000000       2003.000000     105.000000  150000.000000   \n",
       "75%      6400.000000       2008.000000     143.000000  150000.000000   \n",
       "max     20000.000000       9999.000000   20000.000000  150000.000000   \n",
       "\n",
       "       registrationmonth  numberofpictures     postalcode  \n",
       "count      354369.000000          354369.0  354369.000000  \n",
       "mean            5.714645               0.0   50508.689087  \n",
       "std             3.726421               0.0   25783.096248  \n",
       "min             0.000000               0.0    1067.000000  \n",
       "25%             3.000000               0.0   30165.000000  \n",
       "50%             6.000000               0.0   49413.000000  \n",
       "75%             9.000000               0.0   71083.000000  \n",
       "max            12.000000               0.0   99998.000000  "
      ]
     },
     "metadata": {},
     "output_type": "display_data"
    }
   ],
   "source": [
    "display(df.info())\n",
    "display(df.describe())"
   ]
  },
  {
   "cell_type": "markdown",
   "id": "f9e04b04",
   "metadata": {},
   "source": [
    "Можно сразу выделить несколько проблем:\n",
    "\n",
    "- пропуски в столбцах `vehicletype`, `fueltype`, `model` и `repaired`\n",
    "\n",
    "- в столбцах `registrationyear` и `power` есть заметные выбросы\n",
    "\n",
    "- столбцы `numberofpictures`, `datecreated`, `registrationmonth`, `postalcode` и `lastseen` можно удалить. Число картинок везде равно нулю, год и месяц есть в отдельных столбцах, почтовый индекс не несет в себе смысловую нагрузку, а дата последней активности пользователя неинформативна.\n",
    "\n",
    "- вместо столбца `datecrawled` оставим только год выгрузки данных для установки границы, а после удалим его."
   ]
  },
  {
   "cell_type": "code",
   "execution_count": 10,
   "id": "196ad0e8",
   "metadata": {},
   "outputs": [],
   "source": [
    "df = df.drop(['numberofpictures', 'datecreated', 'lastseen', 'postalcode', 'registrationmonth'], axis=1)"
   ]
  },
  {
   "cell_type": "markdown",
   "id": "debb1995",
   "metadata": {},
   "source": [
    "Заполним пропуски."
   ]
  },
  {
   "cell_type": "markdown",
   "id": "8b5eff59",
   "metadata": {},
   "source": [
    "Пропусков в датафрейме достаточно много и все они в в столбцах типа object. Чтобы не терять данные установим заглушку в виде строки **'unknown'**"
   ]
  },
  {
   "cell_type": "code",
   "execution_count": 11,
   "id": "a8812291",
   "metadata": {},
   "outputs": [],
   "source": [
    "df.fillna('unknown', inplace=True)"
   ]
  },
  {
   "cell_type": "markdown",
   "id": "8e2df597",
   "metadata": {},
   "source": [
    "Переведем столбец с датой выгрузки анкеты из базы, чтобы в дальнейшем заменить выбросы в данных."
   ]
  },
  {
   "cell_type": "code",
   "execution_count": 12,
   "id": "70df2e52",
   "metadata": {},
   "outputs": [],
   "source": [
    "df['datecrawled'] = pd.to_datetime(df['datecrawled'])\n",
    "df['datecrawled'] = df['datecrawled'].dt.year"
   ]
  },
  {
   "cell_type": "markdown",
   "id": "41f1d730",
   "metadata": {},
   "source": []
  },
  {
   "cell_type": "markdown",
   "id": "5414c66c",
   "metadata": {},
   "source": [
    "## Шаг 2. Исследовательский анализ данных."
   ]
  },
  {
   "cell_type": "markdown",
   "id": "67953204",
   "metadata": {},
   "source": [
    "Для начала построим \"ящик с усами\" для числовых столбцов."
   ]
  },
  {
   "cell_type": "code",
   "execution_count": 13,
   "id": "2796bf15",
   "metadata": {},
   "outputs": [],
   "source": [
    "box_cols = ['price', 'registrationyear', 'power', 'kilometer']"
   ]
  },
  {
   "cell_type": "code",
   "execution_count": 14,
   "id": "51bf7d03",
   "metadata": {},
   "outputs": [
    {
     "data": {
      "image/png": "[encoded data removed]",
      "text/plain": [
       "<Figure size 1200x1000 with 4 Axes>"
      ]
     },
     "metadata": {},
     "output_type": "display_data"
    }
   ],
   "source": [
    "plt.figure(figsize=(12, 10))\n",
    "\n",
    "# Цикл для построения графиков\n",
    "for i, col in enumerate(box_cols, 1):\n",
    "    plt.subplot(4, 2, i)\n",
    "    sns.boxplot(x=col, data=df)\n",
    "    plt.title(col.capitalize(), fontsize=15, pad=15)\n",
    "    plt.xlabel('')\n",
    "    \n",
    "plt.tight_layout()\n",
    "plt.show()"
   ]
  },
  {
   "cell_type": "markdown",
   "id": "093c994e",
   "metadata": {},
   "source": [
    "Посмотрим на гистограмму по лошадиным силам."
   ]
  },
  {
   "cell_type": "code",
   "execution_count": 15,
   "id": "2c8e3e6a",
   "metadata": {},
   "outputs": [
    {
     "data": {
      "image/png": "[encoded data removed]",
      "text/plain": [
       "<Figure size 1200x600 with 1 Axes>"
      ]
     },
     "metadata": {},
     "output_type": "display_data"
    }
   ],
   "source": [
    "sns.histplot(data=df, x=df['power'])\n",
    "plt.title('Power', fontsize=15)\n",
    "plt.xlabel('')\n",
    "plt.ylabel('Количество')\n",
    "\n",
    "plt.show()"
   ]
  },
  {
   "cell_type": "markdown",
   "id": "25bd75bc",
   "metadata": {},
   "source": [
    "Лучшим значением для максимума будет 500 лошадиных сил"
   ]
  },
  {
   "cell_type": "markdown",
   "id": "22896f5b",
   "metadata": {},
   "source": [
    "В столбцах power и registrationyear много выбросов. \n",
    "Для столбца `registrationyear` оставим года в диапазоне 1990 - 2016, всё остальное будем считать выбросами и заменим на значение года выгрузки данных из базы соответствующей строки.\n",
    "Для столбца `power` установим диапазон 50-500 лошадиных сил.\n",
    "В столбце `price` оставим машины, со стоимостью больше 750 евро."
   ]
  },
  {
   "cell_type": "code",
   "execution_count": 16,
   "id": "563b6426",
   "metadata": {},
   "outputs": [],
   "source": [
    "df.loc[df['registrationyear'] > df['datecrawled'].max(), 'registrationyear'] = df['datecrawled']"
   ]
  },
  {
   "cell_type": "code",
   "execution_count": 17,
   "id": "6363a4b0",
   "metadata": {},
   "outputs": [],
   "source": [
    "df = df[df['registrationyear'] >= 1990]"
   ]
  },
  {
   "cell_type": "markdown",
   "id": "b451f31c",
   "metadata": {},
   "source": [
    "Удалим столбец с датой выгрузки данных из базы. Она не несет в себе смысловой нагрузки."
   ]
  },
  {
   "cell_type": "code",
   "execution_count": 18,
   "id": "b40288b8",
   "metadata": {},
   "outputs": [],
   "source": [
    "df = df.drop('datecrawled', axis=1)"
   ]
  },
  {
   "cell_type": "code",
   "execution_count": 19,
   "id": "4b7ae9e5",
   "metadata": {},
   "outputs": [],
   "source": [
    "df = df[(df['power'] >= 50) & (df['power'] <= 500)]"
   ]
  },
  {
   "cell_type": "code",
   "execution_count": 20,
   "id": "86dc5b7c",
   "metadata": {},
   "outputs": [],
   "source": [
    "df = df[df['price'] > 750]"
   ]
  },
  {
   "cell_type": "markdown",
   "id": "e940a2b5",
   "metadata": {},
   "source": [
    "Теперь построим ящики заново"
   ]
  },
  {
   "cell_type": "code",
   "execution_count": 21,
   "id": "cf312f8d",
   "metadata": {},
   "outputs": [
    {
     "data": {
      "image/png": "[encoded data removed]",
      "text/plain": [
       "<Figure size 1200x1000 with 4 Axes>"
      ]
     },
     "metadata": {},
     "output_type": "display_data"
    }
   ],
   "source": [
    "plt.figure(figsize=(12, 10))\n",
    "\n",
    "# Цикл для построения графиков\n",
    "for i, col in enumerate(box_cols, 1):\n",
    "    plt.subplot(4, 2, i)\n",
    "    sns.boxplot(x=col, data=df)\n",
    "    plt.title(col.capitalize(), fontsize=15, pad=15)\n",
    "    plt.xlabel('')\n",
    "    \n",
    "plt.tight_layout()\n",
    "plt.show()"
   ]
  },
  {
   "cell_type": "markdown",
   "id": "555dcd78",
   "metadata": {},
   "source": [
    "Вывод по ящикам с усами:\n",
    "\n",
    "- в столбце `registrationyear` был оставлен диапазон значений от 1990 - 2016 года, значения выше 2016 года были заполнены соответствуцющим значением из столбца `datecrawled`\n",
    "\n",
    "- в столбце `power` был оставлен диапазон значений от 50 - 1000 лошадиных сил."
   ]
  },
  {
   "cell_type": "markdown",
   "id": "8f77f847",
   "metadata": {},
   "source": [
    "Теперь построим гистограммы."
   ]
  },
  {
   "cell_type": "code",
   "execution_count": 22,
   "id": "3dfa58b2",
   "metadata": {},
   "outputs": [],
   "source": [
    "hist_cols = ['price', 'power', 'kilometer', 'registrationyear']"
   ]
  },
  {
   "cell_type": "code",
   "execution_count": 23,
   "id": "76a53a5b",
   "metadata": {},
   "outputs": [
    {
     "data": {
      "image/png": "[encoded data removed]",
      "text/plain": [
       "<Figure size 1500x1000 with 4 Axes>"
      ]
     },
     "metadata": {},
     "output_type": "display_data"
    }
   ],
   "source": [
    "plt.figure(figsize=(15, 10))\n",
    "for i, col in enumerate(hist_cols, 1):\n",
    "    plt.subplot(4, 1, i) \n",
    "    sns.histplot(data=df, x=col, color='skyblue', bins=15)\n",
    "    plt.title(col.capitalize(), fontsize=15)\n",
    "    plt.xlabel('')\n",
    "    plt.ylabel('Количество')\n",
    "    plt.grid(axis='y', linestyle='--', linewidth=0.5)\n",
    "    \n",
    "plt.tight_layout()\n",
    "plt.show()"
   ]
  },
  {
   "cell_type": "markdown",
   "id": "6aba2f6c",
   "metadata": {},
   "source": [
    "Вывод по гистограммам:\n",
    "\n",
    "- распределение цены скошено вправо, выбросов нет\n",
    "\n",
    "- распределение лошадиных сил так же скошено вправо\n",
    "\n",
    "- распределение пробега скошено влево. Большая часть значений сгруппированы после 140 тыс.км.\n",
    "\n",
    "- распределение года регистрации автомобиля распределено нормально, большинство значений в диапазоне 1997-2010"
   ]
  },
  {
   "cell_type": "markdown",
   "id": "3d83ae3a",
   "metadata": {},
   "source": [
    "Построение диаграмм накопления."
   ]
  },
  {
   "cell_type": "code",
   "execution_count": 24,
   "id": "f068a935",
   "metadata": {},
   "outputs": [],
   "source": [
    "bar_cols = ['gearbox', 'vehicletype', 'fueltype', 'repaired']"
   ]
  },
  {
   "cell_type": "code",
   "execution_count": 25,
   "id": "c5f6a852",
   "metadata": {},
   "outputs": [
    {
     "data": {
      "image/png": "[encoded data removed]",
      "text/plain": [
       "<Figure size 1200x1000 with 4 Axes>"
      ]
     },
     "metadata": {},
     "output_type": "display_data"
    }
   ],
   "source": [
    "plt.figure(figsize=(12, 10))\n",
    "\n",
    "for i, col in enumerate(bar_cols, 1):\n",
    "    plt.subplot(2, 2, i)\n",
    "    sns.countplot(x=col, data=df)\n",
    "    plt.title(col.capitalize(), fontsize=15)\n",
    "    plt.xlabel('')\n",
    "    plt.ylabel('Количество')\n",
    "    plt.xticks(rotation=20)\n",
    "    \n",
    "plt.tight_layout()\n",
    "plt.show()"
   ]
  },
  {
   "cell_type": "markdown",
   "id": "a6f9c0b2",
   "metadata": {},
   "source": [
    "Столбец `brand` выведем отдельно для подробного разбора. Выведем только 10 наиболее популярных марок автомобилей в наших данных."
   ]
  },
  {
   "cell_type": "code",
   "execution_count": 26,
   "id": "009ed0a2",
   "metadata": {},
   "outputs": [
    {
     "data": {
      "image/png": "[encoded data removed]",
      "text/plain": [
       "<Figure size 1200x600 with 1 Axes>"
      ]
     },
     "metadata": {},
     "output_type": "display_data"
    }
   ],
   "source": [
    "sns.barplot(x=df['brand'].value_counts().head(10).index, y=df['brand'].value_counts().head(10))\n",
    "plt.title('Brand', fontsize=15)\n",
    "plt.xlabel('')\n",
    "plt.ylabel('Количество')\n",
    "plt.xticks(rotation=35)\n",
    "plt.show()"
   ]
  },
  {
   "cell_type": "markdown",
   "id": "2205b17c",
   "metadata": {},
   "source": [
    "Вывод по диаграммам накопления:\n",
    "\n",
    "- чаще встречаются машины с механической КП\n",
    "\n",
    "- топ-3 типов кузова выглядят так: **sedan**, **small** и **wagon**\n",
    "\n",
    "- чаще всего в качестве топлива используют бензин, на втором месте газ\n",
    "\n",
    "- большая часть машин в наших данных не восстанавливались\n",
    "\n",
    "- топ-3 марок выглядят так: **volkswagen**, **bmw** и **opel**"
   ]
  },
  {
   "cell_type": "markdown",
   "id": "fa5b8e75",
   "metadata": {},
   "source": [
    "Проведем корреляционный анализ.\n",
    "\n",
    "Так как в данных есть категориальные признаки, то будем использовать phik."
   ]
  },
  {
   "cell_type": "code",
   "execution_count": 27,
   "id": "cdec8c03",
   "metadata": {},
   "outputs": [],
   "source": [
    "interval_cols = ['price', 'power']"
   ]
  },
  {
   "cell_type": "code",
   "execution_count": 28,
   "id": "3cdc2622",
   "metadata": {},
   "outputs": [],
   "source": [
    "phik_overview = phik_matrix(df, interval_cols=interval_cols) "
   ]
  },
  {
   "cell_type": "code",
   "execution_count": 29,
   "id": "67b7f2d3",
   "metadata": {},
   "outputs": [
    {
     "data": {
      "image/png": "[encoded data removed]",
      "text/plain": [
       "<Figure size 1500x1000 with 2 Axes>"
      ]
     },
     "metadata": {},
     "output_type": "display_data"
    }
   ],
   "source": [
    "plot_correlation_matrix(\n",
    "    phik_overview.values,\n",
    "    x_labels=phik_overview.columns,\n",
    "    y_labels=phik_overview.index,\n",
    "    vmin=0, vmax=1, color_map='Greens',\n",
    "    title=r'correlation $\\phi_K$',\n",
    "    fontsize_factor=1.5,\n",
    "    figsize=(15, 10)\n",
    ") "
   ]
  },
  {
   "cell_type": "markdown",
   "id": "6fb326f0",
   "metadata": {},
   "source": [
    "Вывод по матрице корреляций:\n",
    "\n",
    "- на целевой признак сильнее всего влияет количество лошадиных сил, модель и год регистрации\n",
    "\n",
    "- самая сильная корреляция между маркой автомобиля и моделью"
   ]
  },
  {
   "cell_type": "markdown",
   "id": "62ebefae",
   "metadata": {},
   "source": [
    "<div style=\"background-color:#D2DCFA; padding:10px;\">\n",
    "    \n",
    "**Промежуточный вывод:**\n",
    "    \n",
    "Была проведена предобработка и исследовательский анализ данных.\n",
    "    \n",
    " - удалены неинформативные столбцы\n",
    "    \n",
    " - пропуски заполнены значением `unknown`\n",
    "    \n",
    " - названия столбцов приведены к нижнему регистру\n",
    "    \n",
    " - проведен анализ выбросов и подобран диапазон, при котором данные будут чище, но не потерять при этом много строк\n",
    "    \n",
    "Вывод по гистограммам:\n",
    "\n",
    "- распределение цены скошено вправо, выбросов нет\n",
    "\n",
    "- распределение лошадиных сил так же скошено вправо\n",
    "\n",
    "- распределение пробега скошено влево. Большая часть значений сгруппированы после 140 тыс.км.\n",
    "\n",
    "- распределение года регистрации автомобиля распределено нормально, большинство значений в диапазоне 1997-2010\n",
    "    \n",
    "\n",
    "Вывод по диаграммам накопления:\n",
    "\n",
    "- чаще встречаются машины с механической КП\n",
    "\n",
    "- топ-3 типов кузова выглядят так: **sedan**, **small** и **wagon**\n",
    "\n",
    "- чаще всего в качестве топлива используют бензин, на втором месте газ\n",
    "\n",
    "- большая часть машин в наших данных не восстанавливались\n",
    "\n",
    "- топ-3 марок выглядят так: **volkswagen**, **bmw** и **opel**\n",
    "    \n",
    "    \n",
    "Вывод по матрице корреляций:\n",
    "\n",
    "- на целевой признак сильнее всего влияет количество лошадиных сил, модель и год регистрации\n",
    "\n",
    "- самая сильная корреляция между маркой автомобиля и моделью"
   ]
  },
  {
   "cell_type": "markdown",
   "id": "8d2bb625",
   "metadata": {},
   "source": [
    "## Шаг 3. Подготовка данных."
   ]
  },
  {
   "cell_type": "markdown",
   "id": "50dc7886",
   "metadata": {},
   "source": [
    "Так как LightGBM и CatBoost поддерживает работу с категориальными данными, то скопируем наш датафрейм без изменений"
   ]
  },
  {
   "cell_type": "code",
   "execution_count": 30,
   "id": "a4eca6ce",
   "metadata": {},
   "outputs": [],
   "source": [
    "df_with_cat = df.copy()"
   ]
  },
  {
   "cell_type": "markdown",
   "id": "654913b8",
   "metadata": {},
   "source": [
    "Зададим списки с категориальными и числовыми столбцами"
   ]
  },
  {
   "cell_type": "code",
   "execution_count": 31,
   "id": "4cf60fb5",
   "metadata": {},
   "outputs": [],
   "source": [
    "cat_col = ['gearbox', 'repaired', 'vehicletype', 'model', 'fueltype', 'brand']\n",
    "num_col = ['registrationyear', 'power', 'kilometer']"
   ]
  },
  {
   "cell_type": "markdown",
   "id": "498bb63f",
   "metadata": {},
   "source": [
    "Разделим данные на обучающую и тестовые выборки. Сделаем это 2 раза для моделей градиентного бустинга и линейной регрессии"
   ]
  },
  {
   "cell_type": "code",
   "execution_count": 32,
   "id": "a3bd791d",
   "metadata": {},
   "outputs": [
    {
     "data": {
      "text/plain": [
       "((194700, 9), (64900, 9))"
      ]
     },
     "execution_count": 32,
     "metadata": {},
     "output_type": "execute_result"
    }
   ],
   "source": [
    "X = df.drop('price', axis=1)\n",
    "y = df['price']\n",
    "\n",
    "X_train, X_test, y_train, y_test = train_test_split(X, y, test_size=0.25, random_state=RANDOM_STATE)\n",
    "\n",
    "X_train.shape, X_test.shape"
   ]
  },
  {
   "cell_type": "code",
   "execution_count": 33,
   "id": "becf0f4b",
   "metadata": {},
   "outputs": [],
   "source": [
    "scaler = StandardScaler()\n",
    "encoder = OneHotEncoder(drop='first', sparse_output=False, handle_unknown='ignore')\n",
    "\n",
    "X_train_scaled = scaler.fit_transform(X_train[num_col])\n",
    "X_test_scaled = scaler.transform(X_test[num_col])\n",
    "\n",
    "X_train_ohe = encoder.fit_transform(X_train[cat_col])\n",
    "X_test_ohe = encoder.transform(X_test[cat_col])\n",
    "\n",
    "encoder_col_names = encoder.get_feature_names_out()\n",
    "\n",
    "X_train_ohe_df = pd.DataFrame(X_train_ohe, columns=encoder_col_names)\n",
    "X_test_ohe_df = pd.DataFrame(X_test_ohe, columns=encoder_col_names)\n",
    "     \n",
    "X_train = pd.concat([pd.DataFrame(X_train_scaled, columns=num_col), X_train_ohe_df], axis=1)\n",
    "X_test = pd.concat([pd.DataFrame(X_test_scaled, columns=num_col), X_test_ohe_df], axis=1)"
   ]
  },
  {
   "cell_type": "code",
   "execution_count": 34,
   "id": "1789f3d9",
   "metadata": {},
   "outputs": [
    {
     "data": {
      "text/plain": [
       "(194700, 306)"
      ]
     },
     "execution_count": 34,
     "metadata": {},
     "output_type": "execute_result"
    }
   ],
   "source": [
    "X_train.shape "
   ]
  },
  {
   "cell_type": "markdown",
   "id": "a84f2428",
   "metadata": {},
   "source": [
    "Бустинг LightGBM и CatBoost работает с типом данных `category`, для этого переведем наши категориальные столбцы к нему"
   ]
  },
  {
   "cell_type": "code",
   "execution_count": 35,
   "id": "3da305f7",
   "metadata": {},
   "outputs": [],
   "source": [
    "df_with_cat[cat_col] = df_with_cat[cat_col].astype('category')"
   ]
  },
  {
   "cell_type": "code",
   "execution_count": 36,
   "id": "d86e0e4c",
   "metadata": {},
   "outputs": [
    {
     "data": {
      "text/plain": [
       "((194700, 9), (64900, 9))"
      ]
     },
     "execution_count": 36,
     "metadata": {},
     "output_type": "execute_result"
    }
   ],
   "source": [
    "X_1 = df_with_cat.drop('price', axis=1)\n",
    "y_1 = df_with_cat['price']\n",
    "\n",
    "X_1_train, X_1_test, y_1_train, y_1_test = train_test_split(X_1, y_1, test_size=0.25, random_state=RANDOM_STATE)\n",
    "\n",
    "X_1_train.shape, X_1_test.shape"
   ]
  },
  {
   "cell_type": "code",
   "execution_count": 37,
   "id": "9b69be64",
   "metadata": {},
   "outputs": [],
   "source": [
    "scaler = StandardScaler()\n",
    "X_1_train[num_col] = scaler.fit_transform(X_1_train[num_col])\n",
    "X_1_test[num_col] = scaler.transform(X_1_test[num_col])"
   ]
  },
  {
   "cell_type": "markdown",
   "id": "517d90f4",
   "metadata": {},
   "source": [
    "<div style=\"background-color:#D2DCFA; padding:10px;\">\n",
    "    \n",
    "**Промежуточный вывод:**\n",
    "    \n",
    "Была проведена подготовка данных для моделирования:\n",
    "    \n",
    "- создана копия исходного датафрейма для раздельной работы с градиентным бустингом и линейной регрессией\n",
    "    \n",
    "- закодированы категориальные признаки\n",
    "    \n",
    "- стандартизированы числовые признаки\n",
    "    \n",
    "- данные разделены на 2 разных обучающих и тестовых выборки"
   ]
  },
  {
   "cell_type": "markdown",
   "id": "a1f881de",
   "metadata": {},
   "source": [
    "## Шаг 4. Обучение моделей."
   ]
  },
  {
   "cell_type": "markdown",
   "id": "f010409b",
   "metadata": {},
   "source": [
    "Будем использовать 3 модели для нашей задачи: Линейную регрессию, LightGBM и CatBoost"
   ]
  },
  {
   "cell_type": "markdown",
   "id": "2ad7f078",
   "metadata": {},
   "source": [
    "### LinearRegression"
   ]
  },
  {
   "cell_type": "markdown",
   "id": "bd0c775e",
   "metadata": {},
   "source": [
    "Первой для обучения будем использовать простую линейную регрессию"
   ]
  },
  {
   "cell_type": "markdown",
   "id": "0617fb5a",
   "metadata": {},
   "source": [
    "Соберем все данные о метриках и времени на всех этапах для удобства в анализе."
   ]
  },
  {
   "cell_type": "code",
   "execution_count": 38,
   "id": "d28e6a7c",
   "metadata": {},
   "outputs": [],
   "source": [
    "rmse = []\n",
    "time_fit = []\n",
    "time_predict = []"
   ]
  },
  {
   "cell_type": "code",
   "execution_count": 39,
   "id": "2602d65a",
   "metadata": {},
   "outputs": [],
   "source": [
    "model_linear = LinearRegression()"
   ]
  },
  {
   "cell_type": "markdown",
   "id": "9176e0d6",
   "metadata": {},
   "source": [
    "Для оценки качества модели будем использовать кросс-валидацию"
   ]
  },
  {
   "cell_type": "code",
   "execution_count": 40,
   "id": "209871f2",
   "metadata": {},
   "outputs": [],
   "source": [
    "gs_linear = GridSearchCV(model_linear,\n",
    "                         param_grid={},\n",
    "                         scoring='neg_root_mean_squared_error',\n",
    "                         cv=3,\n",
    "                         n_jobs=-1) "
   ]
  },
  {
   "cell_type": "markdown",
   "id": "477c06db",
   "metadata": {},
   "source": [
    "Обучим поиск по сетке на тренировочных данных"
   ]
  },
  {
   "cell_type": "code",
   "execution_count": 41,
   "id": "20c13d03",
   "metadata": {},
   "outputs": [
    {
     "data": {
      "text/html": [
       "<style>#sk-container-id-1 {\n",
       "  /* Definition of color scheme common for light and dark mode */\n",
       "  --sklearn-color-text: black;\n",
       "  --sklearn-color-line: gray;\n",
       "  /* Definition of color scheme for unfitted estimators */\n",
       "  --sklearn-color-unfitted-level-0: #fff5e6;\n",
       "  --sklearn-color-unfitted-level-1: #f6e4d2;\n",
       "  --sklearn-color-unfitted-level-2: #ffe0b3;\n",
       "  --sklearn-color-unfitted-level-3: chocolate;\n",
       "  /* Definition of color scheme for fitted estimators */\n",
       "  --sklearn-color-fitted-level-0: #f0f8ff;\n",
       "  --sklearn-color-fitted-level-1: #d4ebff;\n",
       "  --sklearn-color-fitted-level-2: #b3dbfd;\n",
       "  --sklearn-color-fitted-level-3: cornflowerblue;\n",
       "\n",
       "  /* Specific color for light theme */\n",
       "  --sklearn-color-text-on-default-background: var(--sg-text-color, var(--theme-code-foreground, var(--jp-content-font-color1, black)));\n",
       "  --sklearn-color-background: var(--sg-background-color, var(--theme-background, var(--jp-layout-color0, white)));\n",
       "  --sklearn-color-border-box: var(--sg-text-color, var(--theme-code-foreground, var(--jp-content-font-color1, black)));\n",
       "  --sklearn-color-icon: #696969;\n",
       "\n",
       "  @media (prefers-color-scheme: dark) {\n",
       "    /* Redefinition of color scheme for dark theme */\n",
       "    --sklearn-color-text-on-default-background: var(--sg-text-color, var(--theme-code-foreground, var(--jp-content-font-color1, white)));\n",
       "    --sklearn-color-background: var(--sg-background-color, var(--theme-background, var(--jp-layout-color0, #111)));\n",
       "    --sklearn-color-border-box: var(--sg-text-color, var(--theme-code-foreground, var(--jp-content-font-color1, white)));\n",
       "    --sklearn-color-icon: #878787;\n",
       "  }\n",
       "}\n",
       "\n",
       "#sk-container-id-1 {\n",
       "  color: var(--sklearn-color-text);\n",
       "}\n",
       "\n",
       "#sk-container-id-1 pre {\n",
       "  padding: 0;\n",
       "}\n",
       "\n",
       "#sk-container-id-1 input.sk-hidden--visually {\n",
       "  border: 0;\n",
       "  clip: rect(1px 1px 1px 1px);\n",
       "  clip: rect(1px, 1px, 1px, 1px);\n",
       "  height: 1px;\n",
       "  margin: -1px;\n",
       "  overflow: hidden;\n",
       "  padding: 0;\n",
       "  position: absolute;\n",
       "  width: 1px;\n",
       "}\n",
       "\n",
       "#sk-container-id-1 div.sk-dashed-wrapped {\n",
       "  border: 1px dashed var(--sklearn-color-line);\n",
       "  margin: 0 0.4em 0.5em 0.4em;\n",
       "  box-sizing: border-box;\n",
       "  padding-bottom: 0.4em;\n",
       "  background-color: var(--sklearn-color-background);\n",
       "}\n",
       "\n",
       "#sk-container-id-1 div.sk-container {\n",
       "  /* jupyter's `normalize.less` sets `[hidden] { display: none; }`\n",
       "     but bootstrap.min.css set `[hidden] { display: none !important; }`\n",
       "     so we also need the `!important` here to be able to override the\n",
       "     default hidden behavior on the sphinx rendered scikit-learn.org.\n",
       "     See: https://github.com/scikit-learn/scikit-learn/issues/21755 */\n",
       "  display: inline-block !important;\n",
       "  position: relative;\n",
       "}\n",
       "\n",
       "#sk-container-id-1 div.sk-text-repr-fallback {\n",
       "  display: none;\n",
       "}\n",
       "\n",
       "div.sk-parallel-item,\n",
       "div.sk-serial,\n",
       "div.sk-item {\n",
       "  /* draw centered vertical line to link estimators */\n",
       "  background-image: linear-gradient(var(--sklearn-color-text-on-default-background), var(--sklearn-color-text-on-default-background));\n",
       "  background-size: 2px 100%;\n",
       "  background-repeat: no-repeat;\n",
       "  background-position: center center;\n",
       "}\n",
       "\n",
       "/* Parallel-specific style estimator block */\n",
       "\n",
       "#sk-container-id-1 div.sk-parallel-item::after {\n",
       "  content: \"\";\n",
       "  width: 100%;\n",
       "  border-bottom: 2px solid var(--sklearn-color-text-on-default-background);\n",
       "  flex-grow: 1;\n",
       "}\n",
       "\n",
       "#sk-container-id-1 div.sk-parallel {\n",
       "  display: flex;\n",
       "  align-items: stretch;\n",
       "  justify-content: center;\n",
       "  background-color: var(--sklearn-color-background);\n",
       "  position: relative;\n",
       "}\n",
       "\n",
       "#sk-container-id-1 div.sk-parallel-item {\n",
       "  display: flex;\n",
       "  flex-direction: column;\n",
       "}\n",
       "\n",
       "#sk-container-id-1 div.sk-parallel-item:first-child::after {\n",
       "  align-self: flex-end;\n",
       "  width: 50%;\n",
       "}\n",
       "\n",
       "#sk-container-id-1 div.sk-parallel-item:last-child::after {\n",
       "  align-self: flex-start;\n",
       "  width: 50%;\n",
       "}\n",
       "\n",
       "#sk-container-id-1 div.sk-parallel-item:only-child::after {\n",
       "  width: 0;\n",
       "}\n",
       "\n",
       "/* Serial-specific style estimator block */\n",
       "\n",
       "#sk-container-id-1 div.sk-serial {\n",
       "  display: flex;\n",
       "  flex-direction: column;\n",
       "  align-items: center;\n",
       "  background-color: var(--sklearn-color-background);\n",
       "  padding-right: 1em;\n",
       "  padding-left: 1em;\n",
       "}\n",
       "\n",
       "\n",
       "/* Toggleable style: style used for estimator/Pipeline/ColumnTransformer box that is\n",
       "clickable and can be expanded/collapsed.\n",
       "- Pipeline and ColumnTransformer use this feature and define the default style\n",
       "- Estimators will overwrite some part of the style using the `sk-estimator` class\n",
       "*/\n",
       "\n",
       "/* Pipeline and ColumnTransformer style (default) */\n",
       "\n",
       "#sk-container-id-1 div.sk-toggleable {\n",
       "  /* Default theme specific background. It is overwritten whether we have a\n",
       "  specific estimator or a Pipeline/ColumnTransformer */\n",
       "  background-color: var(--sklearn-color-background);\n",
       "}\n",
       "\n",
       "/* Toggleable label */\n",
       "#sk-container-id-1 label.sk-toggleable__label {\n",
       "  cursor: pointer;\n",
       "  display: block;\n",
       "  width: 100%;\n",
       "  margin-bottom: 0;\n",
       "  padding: 0.5em;\n",
       "  box-sizing: border-box;\n",
       "  text-align: center;\n",
       "}\n",
       "\n",
       "#sk-container-id-1 label.sk-toggleable__label-arrow:before {\n",
       "  /* Arrow on the left of the label */\n",
       "  content: \"▸\";\n",
       "  float: left;\n",
       "  margin-right: 0.25em;\n",
       "  color: var(--sklearn-color-icon);\n",
       "}\n",
       "\n",
       "#sk-container-id-1 label.sk-toggleable__label-arrow:hover:before {\n",
       "  color: var(--sklearn-color-text);\n",
       "}\n",
       "\n",
       "/* Toggleable content - dropdown */\n",
       "\n",
       "#sk-container-id-1 div.sk-toggleable__content {\n",
       "  max-height: 0;\n",
       "  max-width: 0;\n",
       "  overflow: hidden;\n",
       "  text-align: left;\n",
       "  /* unfitted */\n",
       "  background-color: var(--sklearn-color-unfitted-level-0);\n",
       "}\n",
       "\n",
       "#sk-container-id-1 div.sk-toggleable__content.fitted {\n",
       "  /* fitted */\n",
       "  background-color: var(--sklearn-color-fitted-level-0);\n",
       "}\n",
       "\n",
       "#sk-container-id-1 div.sk-toggleable__content pre {\n",
       "  margin: 0.2em;\n",
       "  border-radius: 0.25em;\n",
       "  color: var(--sklearn-color-text);\n",
       "  /* unfitted */\n",
       "  background-color: var(--sklearn-color-unfitted-level-0);\n",
       "}\n",
       "\n",
       "#sk-container-id-1 div.sk-toggleable__content.fitted pre {\n",
       "  /* unfitted */\n",
       "  background-color: var(--sklearn-color-fitted-level-0);\n",
       "}\n",
       "\n",
       "#sk-container-id-1 input.sk-toggleable__control:checked~div.sk-toggleable__content {\n",
       "  /* Expand drop-down */\n",
       "  max-height: 200px;\n",
       "  max-width: 100%;\n",
       "  overflow: auto;\n",
       "}\n",
       "\n",
       "#sk-container-id-1 input.sk-toggleable__control:checked~label.sk-toggleable__label-arrow:before {\n",
       "  content: \"▾\";\n",
       "}\n",
       "\n",
       "/* Pipeline/ColumnTransformer-specific style */\n",
       "\n",
       "#sk-container-id-1 div.sk-label input.sk-toggleable__control:checked~label.sk-toggleable__label {\n",
       "  color: var(--sklearn-color-text);\n",
       "  background-color: var(--sklearn-color-unfitted-level-2);\n",
       "}\n",
       "\n",
       "#sk-container-id-1 div.sk-label.fitted input.sk-toggleable__control:checked~label.sk-toggleable__label {\n",
       "  background-color: var(--sklearn-color-fitted-level-2);\n",
       "}\n",
       "\n",
       "/* Estimator-specific style */\n",
       "\n",
       "/* Colorize estimator box */\n",
       "#sk-container-id-1 div.sk-estimator input.sk-toggleable__control:checked~label.sk-toggleable__label {\n",
       "  /* unfitted */\n",
       "  background-color: var(--sklearn-color-unfitted-level-2);\n",
       "}\n",
       "\n",
       "#sk-container-id-1 div.sk-estimator.fitted input.sk-toggleable__control:checked~label.sk-toggleable__label {\n",
       "  /* fitted */\n",
       "  background-color: var(--sklearn-color-fitted-level-2);\n",
       "}\n",
       "\n",
       "#sk-container-id-1 div.sk-label label.sk-toggleable__label,\n",
       "#sk-container-id-1 div.sk-label label {\n",
       "  /* The background is the default theme color */\n",
       "  color: var(--sklearn-color-text-on-default-background);\n",
       "}\n",
       "\n",
       "/* On hover, darken the color of the background */\n",
       "#sk-container-id-1 div.sk-label:hover label.sk-toggleable__label {\n",
       "  color: var(--sklearn-color-text);\n",
       "  background-color: var(--sklearn-color-unfitted-level-2);\n",
       "}\n",
       "\n",
       "/* Label box, darken color on hover, fitted */\n",
       "#sk-container-id-1 div.sk-label.fitted:hover label.sk-toggleable__label.fitted {\n",
       "  color: var(--sklearn-color-text);\n",
       "  background-color: var(--sklearn-color-fitted-level-2);\n",
       "}\n",
       "\n",
       "/* Estimator label */\n",
       "\n",
       "#sk-container-id-1 div.sk-label label {\n",
       "  font-family: monospace;\n",
       "  font-weight: bold;\n",
       "  display: inline-block;\n",
       "  line-height: 1.2em;\n",
       "}\n",
       "\n",
       "#sk-container-id-1 div.sk-label-container {\n",
       "  text-align: center;\n",
       "}\n",
       "\n",
       "/* Estimator-specific */\n",
       "#sk-container-id-1 div.sk-estimator {\n",
       "  font-family: monospace;\n",
       "  border: 1px dotted var(--sklearn-color-border-box);\n",
       "  border-radius: 0.25em;\n",
       "  box-sizing: border-box;\n",
       "  margin-bottom: 0.5em;\n",
       "  /* unfitted */\n",
       "  background-color: var(--sklearn-color-unfitted-level-0);\n",
       "}\n",
       "\n",
       "#sk-container-id-1 div.sk-estimator.fitted {\n",
       "  /* fitted */\n",
       "  background-color: var(--sklearn-color-fitted-level-0);\n",
       "}\n",
       "\n",
       "/* on hover */\n",
       "#sk-container-id-1 div.sk-estimator:hover {\n",
       "  /* unfitted */\n",
       "  background-color: var(--sklearn-color-unfitted-level-2);\n",
       "}\n",
       "\n",
       "#sk-container-id-1 div.sk-estimator.fitted:hover {\n",
       "  /* fitted */\n",
       "  background-color: var(--sklearn-color-fitted-level-2);\n",
       "}\n",
       "\n",
       "/* Specification for estimator info (e.g. \"i\" and \"?\") */\n",
       "\n",
       "/* Common style for \"i\" and \"?\" */\n",
       "\n",
       ".sk-estimator-doc-link,\n",
       "a:link.sk-estimator-doc-link,\n",
       "a:visited.sk-estimator-doc-link {\n",
       "  float: right;\n",
       "  font-size: smaller;\n",
       "  line-height: 1em;\n",
       "  font-family: monospace;\n",
       "  background-color: var(--sklearn-color-background);\n",
       "  border-radius: 1em;\n",
       "  height: 1em;\n",
       "  width: 1em;\n",
       "  text-decoration: none !important;\n",
       "  margin-left: 1ex;\n",
       "  /* unfitted */\n",
       "  border: var(--sklearn-color-unfitted-level-1) 1pt solid;\n",
       "  color: var(--sklearn-color-unfitted-level-1);\n",
       "}\n",
       "\n",
       ".sk-estimator-doc-link.fitted,\n",
       "a:link.sk-estimator-doc-link.fitted,\n",
       "a:visited.sk-estimator-doc-link.fitted {\n",
       "  /* fitted */\n",
       "  border: var(--sklearn-color-fitted-level-1) 1pt solid;\n",
       "  color: var(--sklearn-color-fitted-level-1);\n",
       "}\n",
       "\n",
       "/* On hover */\n",
       "div.sk-estimator:hover .sk-estimator-doc-link:hover,\n",
       ".sk-estimator-doc-link:hover,\n",
       "div.sk-label-container:hover .sk-estimator-doc-link:hover,\n",
       ".sk-estimator-doc-link:hover {\n",
       "  /* unfitted */\n",
       "  background-color: var(--sklearn-color-unfitted-level-3);\n",
       "  color: var(--sklearn-color-background);\n",
       "  text-decoration: none;\n",
       "}\n",
       "\n",
       "div.sk-estimator.fitted:hover .sk-estimator-doc-link.fitted:hover,\n",
       ".sk-estimator-doc-link.fitted:hover,\n",
       "div.sk-label-container:hover .sk-estimator-doc-link.fitted:hover,\n",
       ".sk-estimator-doc-link.fitted:hover {\n",
       "  /* fitted */\n",
       "  background-color: var(--sklearn-color-fitted-level-3);\n",
       "  color: var(--sklearn-color-background);\n",
       "  text-decoration: none;\n",
       "}\n",
       "\n",
       "/* Span, style for the box shown on hovering the info icon */\n",
       ".sk-estimator-doc-link span {\n",
       "  display: none;\n",
       "  z-index: 9999;\n",
       "  position: relative;\n",
       "  font-weight: normal;\n",
       "  right: .2ex;\n",
       "  padding: .5ex;\n",
       "  margin: .5ex;\n",
       "  width: min-content;\n",
       "  min-width: 20ex;\n",
       "  max-width: 50ex;\n",
       "  color: var(--sklearn-color-text);\n",
       "  box-shadow: 2pt 2pt 4pt #999;\n",
       "  /* unfitted */\n",
       "  background: var(--sklearn-color-unfitted-level-0);\n",
       "  border: .5pt solid var(--sklearn-color-unfitted-level-3);\n",
       "}\n",
       "\n",
       ".sk-estimator-doc-link.fitted span {\n",
       "  /* fitted */\n",
       "  background: var(--sklearn-color-fitted-level-0);\n",
       "  border: var(--sklearn-color-fitted-level-3);\n",
       "}\n",
       "\n",
       ".sk-estimator-doc-link:hover span {\n",
       "  display: block;\n",
       "}\n",
       "\n",
       "/* \"?\"-specific style due to the `<a>` HTML tag */\n",
       "\n",
       "#sk-container-id-1 a.estimator_doc_link {\n",
       "  float: right;\n",
       "  font-size: 1rem;\n",
       "  line-height: 1em;\n",
       "  font-family: monospace;\n",
       "  background-color: var(--sklearn-color-background);\n",
       "  border-radius: 1rem;\n",
       "  height: 1rem;\n",
       "  width: 1rem;\n",
       "  text-decoration: none;\n",
       "  /* unfitted */\n",
       "  color: var(--sklearn-color-unfitted-level-1);\n",
       "  border: var(--sklearn-color-unfitted-level-1) 1pt solid;\n",
       "}\n",
       "\n",
       "#sk-container-id-1 a.estimator_doc_link.fitted {\n",
       "  /* fitted */\n",
       "  border: var(--sklearn-color-fitted-level-1) 1pt solid;\n",
       "  color: var(--sklearn-color-fitted-level-1);\n",
       "}\n",
       "\n",
       "/* On hover */\n",
       "#sk-container-id-1 a.estimator_doc_link:hover {\n",
       "  /* unfitted */\n",
       "  background-color: var(--sklearn-color-unfitted-level-3);\n",
       "  color: var(--sklearn-color-background);\n",
       "  text-decoration: none;\n",
       "}\n",
       "\n",
       "#sk-container-id-1 a.estimator_doc_link.fitted:hover {\n",
       "  /* fitted */\n",
       "  background-color: var(--sklearn-color-fitted-level-3);\n",
       "}\n",
       "</style><div id=\"sk-container-id-1\" class=\"sk-top-container\"><div class=\"sk-text-repr-fallback\"><pre>GridSearchCV(cv=3, estimator=LinearRegression(), n_jobs=-1, param_grid={},\n",
       "             scoring=&#x27;neg_root_mean_squared_error&#x27;)</pre><b>In a Jupyter environment, please rerun this cell to show the HTML representation or trust the notebook. <br />On GitHub, the HTML representation is unable to render, please try loading this page with nbviewer.org.</b></div><div class=\"sk-container\" hidden><div class=\"sk-item sk-dashed-wrapped\"><div class=\"sk-label-container\"><div class=\"sk-label fitted sk-toggleable\"><input class=\"sk-toggleable__control sk-hidden--visually\" id=\"sk-estimator-id-1\" type=\"checkbox\" ><label for=\"sk-estimator-id-1\" class=\"sk-toggleable__label fitted sk-toggleable__label-arrow fitted\">&nbsp;&nbsp;GridSearchCV<a class=\"sk-estimator-doc-link fitted\" rel=\"noreferrer\" target=\"_blank\" href=\"https://scikit-learn.org/1.5/modules/generated/sklearn.model_selection.GridSearchCV.html\">?<span>Documentation for GridSearchCV</span></a><span class=\"sk-estimator-doc-link fitted\">i<span>Fitted</span></span></label><div class=\"sk-toggleable__content fitted\"><pre>GridSearchCV(cv=3, estimator=LinearRegression(), n_jobs=-1, param_grid={},\n",
       "             scoring=&#x27;neg_root_mean_squared_error&#x27;)</pre></div> </div></div><div class=\"sk-parallel\"><div class=\"sk-parallel-item\"><div class=\"sk-item\"><div class=\"sk-label-container\"><div class=\"sk-label fitted sk-toggleable\"><input class=\"sk-toggleable__control sk-hidden--visually\" id=\"sk-estimator-id-2\" type=\"checkbox\" ><label for=\"sk-estimator-id-2\" class=\"sk-toggleable__label fitted sk-toggleable__label-arrow fitted\">best_estimator_: LinearRegression</label><div class=\"sk-toggleable__content fitted\"><pre>LinearRegression()</pre></div> </div></div><div class=\"sk-serial\"><div class=\"sk-item\"><div class=\"sk-estimator fitted sk-toggleable\"><input class=\"sk-toggleable__control sk-hidden--visually\" id=\"sk-estimator-id-3\" type=\"checkbox\" ><label for=\"sk-estimator-id-3\" class=\"sk-toggleable__label fitted sk-toggleable__label-arrow fitted\">&nbsp;LinearRegression<a class=\"sk-estimator-doc-link fitted\" rel=\"noreferrer\" target=\"_blank\" href=\"https://scikit-learn.org/1.5/modules/generated/sklearn.linear_model.LinearRegression.html\">?<span>Documentation for LinearRegression</span></a></label><div class=\"sk-toggleable__content fitted\"><pre>LinearRegression()</pre></div> </div></div></div></div></div></div></div></div></div>"
      ],
      "text/plain": [
       "GridSearchCV(cv=3, estimator=LinearRegression(), n_jobs=-1, param_grid={},\n",
       "             scoring='neg_root_mean_squared_error')"
      ]
     },
     "execution_count": 41,
     "metadata": {},
     "output_type": "execute_result"
    }
   ],
   "source": [
    "gs_linear.fit(X_train, y_train)"
   ]
  },
  {
   "cell_type": "markdown",
   "id": "12085cb6",
   "metadata": {},
   "source": [
    "Теперь замерим время обучения модели"
   ]
  },
  {
   "cell_type": "code",
   "execution_count": 42,
   "id": "d1b32cdc",
   "metadata": {},
   "outputs": [],
   "source": [
    "start = time.time()\n",
    "gs_linear.best_estimator_.fit(X_train, y_train)\n",
    "end = time.time()\n",
    "time_linear_fit = end - start"
   ]
  },
  {
   "cell_type": "markdown",
   "id": "7d323598",
   "metadata": {},
   "source": [
    "Замерим время предсказания на тренировочных данных"
   ]
  },
  {
   "cell_type": "code",
   "execution_count": 43,
   "id": "3db5ec9b",
   "metadata": {},
   "outputs": [
    {
     "name": "stdout",
     "output_type": "stream",
     "text": [
      "RMSE for LinearRegression: 2316.96931964481\n"
     ]
    }
   ],
   "source": [
    "start = time.time()\n",
    "gs_linear.best_estimator_.predict(X_train)\n",
    "end = time.time()\n",
    "time_linear_predict = end - start\n",
    "print(f'RMSE for LinearRegression: {abs(gs_linear.best_score_)}')"
   ]
  },
  {
   "cell_type": "markdown",
   "id": "24b6c6d2",
   "metadata": {},
   "source": [
    "Сохраним все метрики"
   ]
  },
  {
   "cell_type": "code",
   "execution_count": 44,
   "id": "22278912",
   "metadata": {},
   "outputs": [],
   "source": [
    "rmse.append(abs(gs_linear.best_score_))\n",
    "time_fit.append(time_linear_fit)\n",
    "time_predict.append(time_linear_predict)"
   ]
  },
  {
   "cell_type": "markdown",
   "id": "d07604fe",
   "metadata": {},
   "source": [
    "### LightGBM"
   ]
  },
  {
   "cell_type": "markdown",
   "id": "be0e27e4",
   "metadata": {},
   "source": [
    "Теперь посмотрим какие результаты даст LightGBM"
   ]
  },
  {
   "cell_type": "markdown",
   "id": "dd9fd5b1",
   "metadata": {},
   "source": [
    "Обьявим модель и передадим список категориальных столбцов"
   ]
  },
  {
   "cell_type": "code",
   "execution_count": 45,
   "id": "b9b68231",
   "metadata": {},
   "outputs": [],
   "source": [
    "model_lgbm = lgb.LGBMRegressor(verbose=-1, categorical_features=cat_col, random_state=RANDOM_STATE)"
   ]
  },
  {
   "cell_type": "markdown",
   "id": "72af08dd",
   "metadata": {},
   "source": [
    "Список с параметрами для поиска по сетке"
   ]
  },
  {
   "cell_type": "code",
   "execution_count": 46,
   "id": "a81ca884",
   "metadata": {},
   "outputs": [],
   "source": [
    "parameters = {\n",
    "    'num_leaves': [20, 30, 35],\n",
    "    'learning_rate': [0.1, 0.2, 0.3],\n",
    "    'n_estimators': [100, 200]\n",
    "}"
   ]
  },
  {
   "cell_type": "markdown",
   "id": "49debede",
   "metadata": {},
   "source": [
    "Поиск по сетке"
   ]
  },
  {
   "cell_type": "code",
   "execution_count": 47,
   "id": "59b5dc49",
   "metadata": {},
   "outputs": [],
   "source": [
    "gs_lgbm = GridSearchCV(model_lgbm,\n",
    "                       parameters,\n",
    "                       scoring='neg_root_mean_squared_error',\n",
    "                       cv=3,\n",
    "                       n_jobs=-1)"
   ]
  },
  {
   "cell_type": "markdown",
   "id": "09a411d6",
   "metadata": {},
   "source": [
    "Обучим сетку"
   ]
  },
  {
   "cell_type": "code",
   "execution_count": 48,
   "id": "26a5db13",
   "metadata": {},
   "outputs": [
    {
     "data": {
      "text/html": [
       "<style>#sk-container-id-2 {\n",
       "  /* Definition of color scheme common for light and dark mode */\n",
       "  --sklearn-color-text: black;\n",
       "  --sklearn-color-line: gray;\n",
       "  /* Definition of color scheme for unfitted estimators */\n",
       "  --sklearn-color-unfitted-level-0: #fff5e6;\n",
       "  --sklearn-color-unfitted-level-1: #f6e4d2;\n",
       "  --sklearn-color-unfitted-level-2: #ffe0b3;\n",
       "  --sklearn-color-unfitted-level-3: chocolate;\n",
       "  /* Definition of color scheme for fitted estimators */\n",
       "  --sklearn-color-fitted-level-0: #f0f8ff;\n",
       "  --sklearn-color-fitted-level-1: #d4ebff;\n",
       "  --sklearn-color-fitted-level-2: #b3dbfd;\n",
       "  --sklearn-color-fitted-level-3: cornflowerblue;\n",
       "\n",
       "  /* Specific color for light theme */\n",
       "  --sklearn-color-text-on-default-background: var(--sg-text-color, var(--theme-code-foreground, var(--jp-content-font-color1, black)));\n",
       "  --sklearn-color-background: var(--sg-background-color, var(--theme-background, var(--jp-layout-color0, white)));\n",
       "  --sklearn-color-border-box: var(--sg-text-color, var(--theme-code-foreground, var(--jp-content-font-color1, black)));\n",
       "  --sklearn-color-icon: #696969;\n",
       "\n",
       "  @media (prefers-color-scheme: dark) {\n",
       "    /* Redefinition of color scheme for dark theme */\n",
       "    --sklearn-color-text-on-default-background: var(--sg-text-color, var(--theme-code-foreground, var(--jp-content-font-color1, white)));\n",
       "    --sklearn-color-background: var(--sg-background-color, var(--theme-background, var(--jp-layout-color0, #111)));\n",
       "    --sklearn-color-border-box: var(--sg-text-color, var(--theme-code-foreground, var(--jp-content-font-color1, white)));\n",
       "    --sklearn-color-icon: #878787;\n",
       "  }\n",
       "}\n",
       "\n",
       "#sk-container-id-2 {\n",
       "  color: var(--sklearn-color-text);\n",
       "}\n",
       "\n",
       "#sk-container-id-2 pre {\n",
       "  padding: 0;\n",
       "}\n",
       "\n",
       "#sk-container-id-2 input.sk-hidden--visually {\n",
       "  border: 0;\n",
       "  clip: rect(1px 1px 1px 1px);\n",
       "  clip: rect(1px, 1px, 1px, 1px);\n",
       "  height: 1px;\n",
       "  margin: -1px;\n",
       "  overflow: hidden;\n",
       "  padding: 0;\n",
       "  position: absolute;\n",
       "  width: 1px;\n",
       "}\n",
       "\n",
       "#sk-container-id-2 div.sk-dashed-wrapped {\n",
       "  border: 1px dashed var(--sklearn-color-line);\n",
       "  margin: 0 0.4em 0.5em 0.4em;\n",
       "  box-sizing: border-box;\n",
       "  padding-bottom: 0.4em;\n",
       "  background-color: var(--sklearn-color-background);\n",
       "}\n",
       "\n",
       "#sk-container-id-2 div.sk-container {\n",
       "  /* jupyter's `normalize.less` sets `[hidden] { display: none; }`\n",
       "     but bootstrap.min.css set `[hidden] { display: none !important; }`\n",
       "     so we also need the `!important` here to be able to override the\n",
       "     default hidden behavior on the sphinx rendered scikit-learn.org.\n",
       "     See: https://github.com/scikit-learn/scikit-learn/issues/21755 */\n",
       "  display: inline-block !important;\n",
       "  position: relative;\n",
       "}\n",
       "\n",
       "#sk-container-id-2 div.sk-text-repr-fallback {\n",
       "  display: none;\n",
       "}\n",
       "\n",
       "div.sk-parallel-item,\n",
       "div.sk-serial,\n",
       "div.sk-item {\n",
       "  /* draw centered vertical line to link estimators */\n",
       "  background-image: linear-gradient(var(--sklearn-color-text-on-default-background), var(--sklearn-color-text-on-default-background));\n",
       "  background-size: 2px 100%;\n",
       "  background-repeat: no-repeat;\n",
       "  background-position: center center;\n",
       "}\n",
       "\n",
       "/* Parallel-specific style estimator block */\n",
       "\n",
       "#sk-container-id-2 div.sk-parallel-item::after {\n",
       "  content: \"\";\n",
       "  width: 100%;\n",
       "  border-bottom: 2px solid var(--sklearn-color-text-on-default-background);\n",
       "  flex-grow: 1;\n",
       "}\n",
       "\n",
       "#sk-container-id-2 div.sk-parallel {\n",
       "  display: flex;\n",
       "  align-items: stretch;\n",
       "  justify-content: center;\n",
       "  background-color: var(--sklearn-color-background);\n",
       "  position: relative;\n",
       "}\n",
       "\n",
       "#sk-container-id-2 div.sk-parallel-item {\n",
       "  display: flex;\n",
       "  flex-direction: column;\n",
       "}\n",
       "\n",
       "#sk-container-id-2 div.sk-parallel-item:first-child::after {\n",
       "  align-self: flex-end;\n",
       "  width: 50%;\n",
       "}\n",
       "\n",
       "#sk-container-id-2 div.sk-parallel-item:last-child::after {\n",
       "  align-self: flex-start;\n",
       "  width: 50%;\n",
       "}\n",
       "\n",
       "#sk-container-id-2 div.sk-parallel-item:only-child::after {\n",
       "  width: 0;\n",
       "}\n",
       "\n",
       "/* Serial-specific style estimator block */\n",
       "\n",
       "#sk-container-id-2 div.sk-serial {\n",
       "  display: flex;\n",
       "  flex-direction: column;\n",
       "  align-items: center;\n",
       "  background-color: var(--sklearn-color-background);\n",
       "  padding-right: 1em;\n",
       "  padding-left: 1em;\n",
       "}\n",
       "\n",
       "\n",
       "/* Toggleable style: style used for estimator/Pipeline/ColumnTransformer box that is\n",
       "clickable and can be expanded/collapsed.\n",
       "- Pipeline and ColumnTransformer use this feature and define the default style\n",
       "- Estimators will overwrite some part of the style using the `sk-estimator` class\n",
       "*/\n",
       "\n",
       "/* Pipeline and ColumnTransformer style (default) */\n",
       "\n",
       "#sk-container-id-2 div.sk-toggleable {\n",
       "  /* Default theme specific background. It is overwritten whether we have a\n",
       "  specific estimator or a Pipeline/ColumnTransformer */\n",
       "  background-color: var(--sklearn-color-background);\n",
       "}\n",
       "\n",
       "/* Toggleable label */\n",
       "#sk-container-id-2 label.sk-toggleable__label {\n",
       "  cursor: pointer;\n",
       "  display: block;\n",
       "  width: 100%;\n",
       "  margin-bottom: 0;\n",
       "  padding: 0.5em;\n",
       "  box-sizing: border-box;\n",
       "  text-align: center;\n",
       "}\n",
       "\n",
       "#sk-container-id-2 label.sk-toggleable__label-arrow:before {\n",
       "  /* Arrow on the left of the label */\n",
       "  content: \"▸\";\n",
       "  float: left;\n",
       "  margin-right: 0.25em;\n",
       "  color: var(--sklearn-color-icon);\n",
       "}\n",
       "\n",
       "#sk-container-id-2 label.sk-toggleable__label-arrow:hover:before {\n",
       "  color: var(--sklearn-color-text);\n",
       "}\n",
       "\n",
       "/* Toggleable content - dropdown */\n",
       "\n",
       "#sk-container-id-2 div.sk-toggleable__content {\n",
       "  max-height: 0;\n",
       "  max-width: 0;\n",
       "  overflow: hidden;\n",
       "  text-align: left;\n",
       "  /* unfitted */\n",
       "  background-color: var(--sklearn-color-unfitted-level-0);\n",
       "}\n",
       "\n",
       "#sk-container-id-2 div.sk-toggleable__content.fitted {\n",
       "  /* fitted */\n",
       "  background-color: var(--sklearn-color-fitted-level-0);\n",
       "}\n",
       "\n",
       "#sk-container-id-2 div.sk-toggleable__content pre {\n",
       "  margin: 0.2em;\n",
       "  border-radius: 0.25em;\n",
       "  color: var(--sklearn-color-text);\n",
       "  /* unfitted */\n",
       "  background-color: var(--sklearn-color-unfitted-level-0);\n",
       "}\n",
       "\n",
       "#sk-container-id-2 div.sk-toggleable__content.fitted pre {\n",
       "  /* unfitted */\n",
       "  background-color: var(--sklearn-color-fitted-level-0);\n",
       "}\n",
       "\n",
       "#sk-container-id-2 input.sk-toggleable__control:checked~div.sk-toggleable__content {\n",
       "  /* Expand drop-down */\n",
       "  max-height: 200px;\n",
       "  max-width: 100%;\n",
       "  overflow: auto;\n",
       "}\n",
       "\n",
       "#sk-container-id-2 input.sk-toggleable__control:checked~label.sk-toggleable__label-arrow:before {\n",
       "  content: \"▾\";\n",
       "}\n",
       "\n",
       "/* Pipeline/ColumnTransformer-specific style */\n",
       "\n",
       "#sk-container-id-2 div.sk-label input.sk-toggleable__control:checked~label.sk-toggleable__label {\n",
       "  color: var(--sklearn-color-text);\n",
       "  background-color: var(--sklearn-color-unfitted-level-2);\n",
       "}\n",
       "\n",
       "#sk-container-id-2 div.sk-label.fitted input.sk-toggleable__control:checked~label.sk-toggleable__label {\n",
       "  background-color: var(--sklearn-color-fitted-level-2);\n",
       "}\n",
       "\n",
       "/* Estimator-specific style */\n",
       "\n",
       "/* Colorize estimator box */\n",
       "#sk-container-id-2 div.sk-estimator input.sk-toggleable__control:checked~label.sk-toggleable__label {\n",
       "  /* unfitted */\n",
       "  background-color: var(--sklearn-color-unfitted-level-2);\n",
       "}\n",
       "\n",
       "#sk-container-id-2 div.sk-estimator.fitted input.sk-toggleable__control:checked~label.sk-toggleable__label {\n",
       "  /* fitted */\n",
       "  background-color: var(--sklearn-color-fitted-level-2);\n",
       "}\n",
       "\n",
       "#sk-container-id-2 div.sk-label label.sk-toggleable__label,\n",
       "#sk-container-id-2 div.sk-label label {\n",
       "  /* The background is the default theme color */\n",
       "  color: var(--sklearn-color-text-on-default-background);\n",
       "}\n",
       "\n",
       "/* On hover, darken the color of the background */\n",
       "#sk-container-id-2 div.sk-label:hover label.sk-toggleable__label {\n",
       "  color: var(--sklearn-color-text);\n",
       "  background-color: var(--sklearn-color-unfitted-level-2);\n",
       "}\n",
       "\n",
       "/* Label box, darken color on hover, fitted */\n",
       "#sk-container-id-2 div.sk-label.fitted:hover label.sk-toggleable__label.fitted {\n",
       "  color: var(--sklearn-color-text);\n",
       "  background-color: var(--sklearn-color-fitted-level-2);\n",
       "}\n",
       "\n",
       "/* Estimator label */\n",
       "\n",
       "#sk-container-id-2 div.sk-label label {\n",
       "  font-family: monospace;\n",
       "  font-weight: bold;\n",
       "  display: inline-block;\n",
       "  line-height: 1.2em;\n",
       "}\n",
       "\n",
       "#sk-container-id-2 div.sk-label-container {\n",
       "  text-align: center;\n",
       "}\n",
       "\n",
       "/* Estimator-specific */\n",
       "#sk-container-id-2 div.sk-estimator {\n",
       "  font-family: monospace;\n",
       "  border: 1px dotted var(--sklearn-color-border-box);\n",
       "  border-radius: 0.25em;\n",
       "  box-sizing: border-box;\n",
       "  margin-bottom: 0.5em;\n",
       "  /* unfitted */\n",
       "  background-color: var(--sklearn-color-unfitted-level-0);\n",
       "}\n",
       "\n",
       "#sk-container-id-2 div.sk-estimator.fitted {\n",
       "  /* fitted */\n",
       "  background-color: var(--sklearn-color-fitted-level-0);\n",
       "}\n",
       "\n",
       "/* on hover */\n",
       "#sk-container-id-2 div.sk-estimator:hover {\n",
       "  /* unfitted */\n",
       "  background-color: var(--sklearn-color-unfitted-level-2);\n",
       "}\n",
       "\n",
       "#sk-container-id-2 div.sk-estimator.fitted:hover {\n",
       "  /* fitted */\n",
       "  background-color: var(--sklearn-color-fitted-level-2);\n",
       "}\n",
       "\n",
       "/* Specification for estimator info (e.g. \"i\" and \"?\") */\n",
       "\n",
       "/* Common style for \"i\" and \"?\" */\n",
       "\n",
       ".sk-estimator-doc-link,\n",
       "a:link.sk-estimator-doc-link,\n",
       "a:visited.sk-estimator-doc-link {\n",
       "  float: right;\n",
       "  font-size: smaller;\n",
       "  line-height: 1em;\n",
       "  font-family: monospace;\n",
       "  background-color: var(--sklearn-color-background);\n",
       "  border-radius: 1em;\n",
       "  height: 1em;\n",
       "  width: 1em;\n",
       "  text-decoration: none !important;\n",
       "  margin-left: 1ex;\n",
       "  /* unfitted */\n",
       "  border: var(--sklearn-color-unfitted-level-1) 1pt solid;\n",
       "  color: var(--sklearn-color-unfitted-level-1);\n",
       "}\n",
       "\n",
       ".sk-estimator-doc-link.fitted,\n",
       "a:link.sk-estimator-doc-link.fitted,\n",
       "a:visited.sk-estimator-doc-link.fitted {\n",
       "  /* fitted */\n",
       "  border: var(--sklearn-color-fitted-level-1) 1pt solid;\n",
       "  color: var(--sklearn-color-fitted-level-1);\n",
       "}\n",
       "\n",
       "/* On hover */\n",
       "div.sk-estimator:hover .sk-estimator-doc-link:hover,\n",
       ".sk-estimator-doc-link:hover,\n",
       "div.sk-label-container:hover .sk-estimator-doc-link:hover,\n",
       ".sk-estimator-doc-link:hover {\n",
       "  /* unfitted */\n",
       "  background-color: var(--sklearn-color-unfitted-level-3);\n",
       "  color: var(--sklearn-color-background);\n",
       "  text-decoration: none;\n",
       "}\n",
       "\n",
       "div.sk-estimator.fitted:hover .sk-estimator-doc-link.fitted:hover,\n",
       ".sk-estimator-doc-link.fitted:hover,\n",
       "div.sk-label-container:hover .sk-estimator-doc-link.fitted:hover,\n",
       ".sk-estimator-doc-link.fitted:hover {\n",
       "  /* fitted */\n",
       "  background-color: var(--sklearn-color-fitted-level-3);\n",
       "  color: var(--sklearn-color-background);\n",
       "  text-decoration: none;\n",
       "}\n",
       "\n",
       "/* Span, style for the box shown on hovering the info icon */\n",
       ".sk-estimator-doc-link span {\n",
       "  display: none;\n",
       "  z-index: 9999;\n",
       "  position: relative;\n",
       "  font-weight: normal;\n",
       "  right: .2ex;\n",
       "  padding: .5ex;\n",
       "  margin: .5ex;\n",
       "  width: min-content;\n",
       "  min-width: 20ex;\n",
       "  max-width: 50ex;\n",
       "  color: var(--sklearn-color-text);\n",
       "  box-shadow: 2pt 2pt 4pt #999;\n",
       "  /* unfitted */\n",
       "  background: var(--sklearn-color-unfitted-level-0);\n",
       "  border: .5pt solid var(--sklearn-color-unfitted-level-3);\n",
       "}\n",
       "\n",
       ".sk-estimator-doc-link.fitted span {\n",
       "  /* fitted */\n",
       "  background: var(--sklearn-color-fitted-level-0);\n",
       "  border: var(--sklearn-color-fitted-level-3);\n",
       "}\n",
       "\n",
       ".sk-estimator-doc-link:hover span {\n",
       "  display: block;\n",
       "}\n",
       "\n",
       "/* \"?\"-specific style due to the `<a>` HTML tag */\n",
       "\n",
       "#sk-container-id-2 a.estimator_doc_link {\n",
       "  float: right;\n",
       "  font-size: 1rem;\n",
       "  line-height: 1em;\n",
       "  font-family: monospace;\n",
       "  background-color: var(--sklearn-color-background);\n",
       "  border-radius: 1rem;\n",
       "  height: 1rem;\n",
       "  width: 1rem;\n",
       "  text-decoration: none;\n",
       "  /* unfitted */\n",
       "  color: var(--sklearn-color-unfitted-level-1);\n",
       "  border: var(--sklearn-color-unfitted-level-1) 1pt solid;\n",
       "}\n",
       "\n",
       "#sk-container-id-2 a.estimator_doc_link.fitted {\n",
       "  /* fitted */\n",
       "  border: var(--sklearn-color-fitted-level-1) 1pt solid;\n",
       "  color: var(--sklearn-color-fitted-level-1);\n",
       "}\n",
       "\n",
       "/* On hover */\n",
       "#sk-container-id-2 a.estimator_doc_link:hover {\n",
       "  /* unfitted */\n",
       "  background-color: var(--sklearn-color-unfitted-level-3);\n",
       "  color: var(--sklearn-color-background);\n",
       "  text-decoration: none;\n",
       "}\n",
       "\n",
       "#sk-container-id-2 a.estimator_doc_link.fitted:hover {\n",
       "  /* fitted */\n",
       "  background-color: var(--sklearn-color-fitted-level-3);\n",
       "}\n",
       "</style><div id=\"sk-container-id-2\" class=\"sk-top-container\"><div class=\"sk-text-repr-fallback\"><pre>GridSearchCV(cv=3,\n",
       "             estimator=LGBMRegressor(categorical_features=[&#x27;gearbox&#x27;,\n",
       "                                                           &#x27;repaired&#x27;,\n",
       "                                                           &#x27;vehicletype&#x27;,\n",
       "                                                           &#x27;model&#x27;, &#x27;fueltype&#x27;,\n",
       "                                                           &#x27;brand&#x27;],\n",
       "                                     random_state=42, verbose=-1),\n",
       "             n_jobs=-1,\n",
       "             param_grid={&#x27;learning_rate&#x27;: [0.1, 0.2, 0.3],\n",
       "                         &#x27;n_estimators&#x27;: [100, 200],\n",
       "                         &#x27;num_leaves&#x27;: [20, 30, 35]},\n",
       "             scoring=&#x27;neg_root_mean_squared_error&#x27;)</pre><b>In a Jupyter environment, please rerun this cell to show the HTML representation or trust the notebook. <br />On GitHub, the HTML representation is unable to render, please try loading this page with nbviewer.org.</b></div><div class=\"sk-container\" hidden><div class=\"sk-item sk-dashed-wrapped\"><div class=\"sk-label-container\"><div class=\"sk-label fitted sk-toggleable\"><input class=\"sk-toggleable__control sk-hidden--visually\" id=\"sk-estimator-id-4\" type=\"checkbox\" ><label for=\"sk-estimator-id-4\" class=\"sk-toggleable__label fitted sk-toggleable__label-arrow fitted\">&nbsp;&nbsp;GridSearchCV<a class=\"sk-estimator-doc-link fitted\" rel=\"noreferrer\" target=\"_blank\" href=\"https://scikit-learn.org/1.5/modules/generated/sklearn.model_selection.GridSearchCV.html\">?<span>Documentation for GridSearchCV</span></a><span class=\"sk-estimator-doc-link fitted\">i<span>Fitted</span></span></label><div class=\"sk-toggleable__content fitted\"><pre>GridSearchCV(cv=3,\n",
       "             estimator=LGBMRegressor(categorical_features=[&#x27;gearbox&#x27;,\n",
       "                                                           &#x27;repaired&#x27;,\n",
       "                                                           &#x27;vehicletype&#x27;,\n",
       "                                                           &#x27;model&#x27;, &#x27;fueltype&#x27;,\n",
       "                                                           &#x27;brand&#x27;],\n",
       "                                     random_state=42, verbose=-1),\n",
       "             n_jobs=-1,\n",
       "             param_grid={&#x27;learning_rate&#x27;: [0.1, 0.2, 0.3],\n",
       "                         &#x27;n_estimators&#x27;: [100, 200],\n",
       "                         &#x27;num_leaves&#x27;: [20, 30, 35]},\n",
       "             scoring=&#x27;neg_root_mean_squared_error&#x27;)</pre></div> </div></div><div class=\"sk-parallel\"><div class=\"sk-parallel-item\"><div class=\"sk-item\"><div class=\"sk-label-container\"><div class=\"sk-label fitted sk-toggleable\"><input class=\"sk-toggleable__control sk-hidden--visually\" id=\"sk-estimator-id-5\" type=\"checkbox\" ><label for=\"sk-estimator-id-5\" class=\"sk-toggleable__label fitted sk-toggleable__label-arrow fitted\">best_estimator_: LGBMRegressor</label><div class=\"sk-toggleable__content fitted\"><pre>LGBMRegressor(categorical_features=[&#x27;gearbox&#x27;, &#x27;repaired&#x27;, &#x27;vehicletype&#x27;,\n",
       "                                    &#x27;model&#x27;, &#x27;fueltype&#x27;, &#x27;brand&#x27;],\n",
       "              learning_rate=0.2, n_estimators=200, num_leaves=35,\n",
       "              random_state=42, verbose=-1)</pre></div> </div></div><div class=\"sk-serial\"><div class=\"sk-item\"><div class=\"sk-estimator fitted sk-toggleable\"><input class=\"sk-toggleable__control sk-hidden--visually\" id=\"sk-estimator-id-6\" type=\"checkbox\" ><label for=\"sk-estimator-id-6\" class=\"sk-toggleable__label fitted sk-toggleable__label-arrow fitted\">LGBMRegressor</label><div class=\"sk-toggleable__content fitted\"><pre>LGBMRegressor(categorical_features=[&#x27;gearbox&#x27;, &#x27;repaired&#x27;, &#x27;vehicletype&#x27;,\n",
       "                                    &#x27;model&#x27;, &#x27;fueltype&#x27;, &#x27;brand&#x27;],\n",
       "              learning_rate=0.2, n_estimators=200, num_leaves=35,\n",
       "              random_state=42, verbose=-1)</pre></div> </div></div></div></div></div></div></div></div></div>"
      ],
      "text/plain": [
       "GridSearchCV(cv=3,\n",
       "             estimator=LGBMRegressor(categorical_features=['gearbox',\n",
       "                                                           'repaired',\n",
       "                                                           'vehicletype',\n",
       "                                                           'model', 'fueltype',\n",
       "                                                           'brand'],\n",
       "                                     random_state=42, verbose=-1),\n",
       "             n_jobs=-1,\n",
       "             param_grid={'learning_rate': [0.1, 0.2, 0.3],\n",
       "                         'n_estimators': [100, 200],\n",
       "                         'num_leaves': [20, 30, 35]},\n",
       "             scoring='neg_root_mean_squared_error')"
      ]
     },
     "execution_count": 48,
     "metadata": {},
     "output_type": "execute_result"
    }
   ],
   "source": [
    "gs_lgbm.fit(X_1_train, y_1_train)"
   ]
  },
  {
   "cell_type": "markdown",
   "id": "703a0ff3",
   "metadata": {},
   "source": [
    "Замерим время обучения модели"
   ]
  },
  {
   "cell_type": "code",
   "execution_count": 49,
   "id": "ccc4e579",
   "metadata": {},
   "outputs": [],
   "source": [
    "start = time.time()\n",
    "gs_lgbm.best_estimator_.fit(X_1_train, y_1_train)\n",
    "end = time.time()\n",
    "time_lgbm_fit = end - start"
   ]
  },
  {
   "cell_type": "markdown",
   "id": "1260fd39",
   "metadata": {},
   "source": [
    "Замерим время предсказания модели на тренировочных данных"
   ]
  },
  {
   "cell_type": "code",
   "execution_count": 50,
   "id": "43feef87",
   "metadata": {},
   "outputs": [
    {
     "name": "stdout",
     "output_type": "stream",
     "text": [
      "RMSE for LightGBM: 1552.510907751047\n"
     ]
    }
   ],
   "source": [
    "start = time.time()\n",
    "gs_lgbm.best_estimator_.predict(X_1_train)\n",
    "end = time.time()\n",
    "time_lgbm_predict = end - start\n",
    "print(f'RMSE for LightGBM: {abs(gs_lgbm.best_score_)}') "
   ]
  },
  {
   "cell_type": "markdown",
   "id": "1bcacc80",
   "metadata": {},
   "source": [
    "Сохраним все метрики"
   ]
  },
  {
   "cell_type": "code",
   "execution_count": 51,
   "id": "b36adc9b",
   "metadata": {},
   "outputs": [],
   "source": [
    "rmse.append(abs(gs_lgbm.best_score_))\n",
    "time_fit.append(time_lgbm_fit)\n",
    "time_predict.append(time_lgbm_predict)"
   ]
  },
  {
   "cell_type": "markdown",
   "id": "63d6ba79",
   "metadata": {},
   "source": [
    "### CatBoost"
   ]
  },
  {
   "cell_type": "code",
   "execution_count": 52,
   "id": "ec26563d",
   "metadata": {},
   "outputs": [],
   "source": [
    "model_cbsr = CatBoostRegressor(cat_features=cat_col, random_state=RANDOM_STATE, verbose=200)"
   ]
  },
  {
   "cell_type": "code",
   "execution_count": 53,
   "id": "7d1e456b",
   "metadata": {},
   "outputs": [],
   "source": [
    "parameters = {\n",
    "    'iterations': [200, 400, 1000],\n",
    "    'learning_rate': [0.1, 0.2]\n",
    "}"
   ]
  },
  {
   "cell_type": "code",
   "execution_count": 54,
   "id": "37225c6b",
   "metadata": {},
   "outputs": [],
   "source": [
    "gs_catboost = GridSearchCV(model_cbsr,\n",
    "                           parameters,\n",
    "                           scoring='neg_root_mean_squared_error',\n",
    "                           cv=3,\n",
    "                           n_jobs=-1) "
   ]
  },
  {
   "cell_type": "code",
   "execution_count": 55,
   "id": "79b6301c",
   "metadata": {},
   "outputs": [
    {
     "name": "stdout",
     "output_type": "stream",
     "text": [
      "0:\tlearn: 3991.6476358\ttotal: 256ms\tremaining: 4m 15s\n",
      "200:\tlearn: 1605.6594891\ttotal: 20.4s\tremaining: 1m 21s\n",
      "400:\tlearn: 1547.7455442\ttotal: 41.7s\tremaining: 1m 2s\n",
      "600:\tlearn: 1517.2086566\ttotal: 1m 1s\tremaining: 40.8s\n",
      "800:\tlearn: 1491.8344777\ttotal: 1m 21s\tremaining: 20.3s\n",
      "999:\tlearn: 1473.9151788\ttotal: 1m 41s\tremaining: 0us\n"
     ]
    },
    {
     "data": {
      "text/html": [
       "<style>#sk-container-id-3 {\n",
       "  /* Definition of color scheme common for light and dark mode */\n",
       "  --sklearn-color-text: black;\n",
       "  --sklearn-color-line: gray;\n",
       "  /* Definition of color scheme for unfitted estimators */\n",
       "  --sklearn-color-unfitted-level-0: #fff5e6;\n",
       "  --sklearn-color-unfitted-level-1: #f6e4d2;\n",
       "  --sklearn-color-unfitted-level-2: #ffe0b3;\n",
       "  --sklearn-color-unfitted-level-3: chocolate;\n",
       "  /* Definition of color scheme for fitted estimators */\n",
       "  --sklearn-color-fitted-level-0: #f0f8ff;\n",
       "  --sklearn-color-fitted-level-1: #d4ebff;\n",
       "  --sklearn-color-fitted-level-2: #b3dbfd;\n",
       "  --sklearn-color-fitted-level-3: cornflowerblue;\n",
       "\n",
       "  /* Specific color for light theme */\n",
       "  --sklearn-color-text-on-default-background: var(--sg-text-color, var(--theme-code-foreground, var(--jp-content-font-color1, black)));\n",
       "  --sklearn-color-background: var(--sg-background-color, var(--theme-background, var(--jp-layout-color0, white)));\n",
       "  --sklearn-color-border-box: var(--sg-text-color, var(--theme-code-foreground, var(--jp-content-font-color1, black)));\n",
       "  --sklearn-color-icon: #696969;\n",
       "\n",
       "  @media (prefers-color-scheme: dark) {\n",
       "    /* Redefinition of color scheme for dark theme */\n",
       "    --sklearn-color-text-on-default-background: var(--sg-text-color, var(--theme-code-foreground, var(--jp-content-font-color1, white)));\n",
       "    --sklearn-color-background: var(--sg-background-color, var(--theme-background, var(--jp-layout-color0, #111)));\n",
       "    --sklearn-color-border-box: var(--sg-text-color, var(--theme-code-foreground, var(--jp-content-font-color1, white)));\n",
       "    --sklearn-color-icon: #878787;\n",
       "  }\n",
       "}\n",
       "\n",
       "#sk-container-id-3 {\n",
       "  color: var(--sklearn-color-text);\n",
       "}\n",
       "\n",
       "#sk-container-id-3 pre {\n",
       "  padding: 0;\n",
       "}\n",
       "\n",
       "#sk-container-id-3 input.sk-hidden--visually {\n",
       "  border: 0;\n",
       "  clip: rect(1px 1px 1px 1px);\n",
       "  clip: rect(1px, 1px, 1px, 1px);\n",
       "  height: 1px;\n",
       "  margin: -1px;\n",
       "  overflow: hidden;\n",
       "  padding: 0;\n",
       "  position: absolute;\n",
       "  width: 1px;\n",
       "}\n",
       "\n",
       "#sk-container-id-3 div.sk-dashed-wrapped {\n",
       "  border: 1px dashed var(--sklearn-color-line);\n",
       "  margin: 0 0.4em 0.5em 0.4em;\n",
       "  box-sizing: border-box;\n",
       "  padding-bottom: 0.4em;\n",
       "  background-color: var(--sklearn-color-background);\n",
       "}\n",
       "\n",
       "#sk-container-id-3 div.sk-container {\n",
       "  /* jupyter's `normalize.less` sets `[hidden] { display: none; }`\n",
       "     but bootstrap.min.css set `[hidden] { display: none !important; }`\n",
       "     so we also need the `!important` here to be able to override the\n",
       "     default hidden behavior on the sphinx rendered scikit-learn.org.\n",
       "     See: https://github.com/scikit-learn/scikit-learn/issues/21755 */\n",
       "  display: inline-block !important;\n",
       "  position: relative;\n",
       "}\n",
       "\n",
       "#sk-container-id-3 div.sk-text-repr-fallback {\n",
       "  display: none;\n",
       "}\n",
       "\n",
       "div.sk-parallel-item,\n",
       "div.sk-serial,\n",
       "div.sk-item {\n",
       "  /* draw centered vertical line to link estimators */\n",
       "  background-image: linear-gradient(var(--sklearn-color-text-on-default-background), var(--sklearn-color-text-on-default-background));\n",
       "  background-size: 2px 100%;\n",
       "  background-repeat: no-repeat;\n",
       "  background-position: center center;\n",
       "}\n",
       "\n",
       "/* Parallel-specific style estimator block */\n",
       "\n",
       "#sk-container-id-3 div.sk-parallel-item::after {\n",
       "  content: \"\";\n",
       "  width: 100%;\n",
       "  border-bottom: 2px solid var(--sklearn-color-text-on-default-background);\n",
       "  flex-grow: 1;\n",
       "}\n",
       "\n",
       "#sk-container-id-3 div.sk-parallel {\n",
       "  display: flex;\n",
       "  align-items: stretch;\n",
       "  justify-content: center;\n",
       "  background-color: var(--sklearn-color-background);\n",
       "  position: relative;\n",
       "}\n",
       "\n",
       "#sk-container-id-3 div.sk-parallel-item {\n",
       "  display: flex;\n",
       "  flex-direction: column;\n",
       "}\n",
       "\n",
       "#sk-container-id-3 div.sk-parallel-item:first-child::after {\n",
       "  align-self: flex-end;\n",
       "  width: 50%;\n",
       "}\n",
       "\n",
       "#sk-container-id-3 div.sk-parallel-item:last-child::after {\n",
       "  align-self: flex-start;\n",
       "  width: 50%;\n",
       "}\n",
       "\n",
       "#sk-container-id-3 div.sk-parallel-item:only-child::after {\n",
       "  width: 0;\n",
       "}\n",
       "\n",
       "/* Serial-specific style estimator block */\n",
       "\n",
       "#sk-container-id-3 div.sk-serial {\n",
       "  display: flex;\n",
       "  flex-direction: column;\n",
       "  align-items: center;\n",
       "  background-color: var(--sklearn-color-background);\n",
       "  padding-right: 1em;\n",
       "  padding-left: 1em;\n",
       "}\n",
       "\n",
       "\n",
       "/* Toggleable style: style used for estimator/Pipeline/ColumnTransformer box that is\n",
       "clickable and can be expanded/collapsed.\n",
       "- Pipeline and ColumnTransformer use this feature and define the default style\n",
       "- Estimators will overwrite some part of the style using the `sk-estimator` class\n",
       "*/\n",
       "\n",
       "/* Pipeline and ColumnTransformer style (default) */\n",
       "\n",
       "#sk-container-id-3 div.sk-toggleable {\n",
       "  /* Default theme specific background. It is overwritten whether we have a\n",
       "  specific estimator or a Pipeline/ColumnTransformer */\n",
       "  background-color: var(--sklearn-color-background);\n",
       "}\n",
       "\n",
       "/* Toggleable label */\n",
       "#sk-container-id-3 label.sk-toggleable__label {\n",
       "  cursor: pointer;\n",
       "  display: block;\n",
       "  width: 100%;\n",
       "  margin-bottom: 0;\n",
       "  padding: 0.5em;\n",
       "  box-sizing: border-box;\n",
       "  text-align: center;\n",
       "}\n",
       "\n",
       "#sk-container-id-3 label.sk-toggleable__label-arrow:before {\n",
       "  /* Arrow on the left of the label */\n",
       "  content: \"▸\";\n",
       "  float: left;\n",
       "  margin-right: 0.25em;\n",
       "  color: var(--sklearn-color-icon);\n",
       "}\n",
       "\n",
       "#sk-container-id-3 label.sk-toggleable__label-arrow:hover:before {\n",
       "  color: var(--sklearn-color-text);\n",
       "}\n",
       "\n",
       "/* Toggleable content - dropdown */\n",
       "\n",
       "#sk-container-id-3 div.sk-toggleable__content {\n",
       "  max-height: 0;\n",
       "  max-width: 0;\n",
       "  overflow: hidden;\n",
       "  text-align: left;\n",
       "  /* unfitted */\n",
       "  background-color: var(--sklearn-color-unfitted-level-0);\n",
       "}\n",
       "\n",
       "#sk-container-id-3 div.sk-toggleable__content.fitted {\n",
       "  /* fitted */\n",
       "  background-color: var(--sklearn-color-fitted-level-0);\n",
       "}\n",
       "\n",
       "#sk-container-id-3 div.sk-toggleable__content pre {\n",
       "  margin: 0.2em;\n",
       "  border-radius: 0.25em;\n",
       "  color: var(--sklearn-color-text);\n",
       "  /* unfitted */\n",
       "  background-color: var(--sklearn-color-unfitted-level-0);\n",
       "}\n",
       "\n",
       "#sk-container-id-3 div.sk-toggleable__content.fitted pre {\n",
       "  /* unfitted */\n",
       "  background-color: var(--sklearn-color-fitted-level-0);\n",
       "}\n",
       "\n",
       "#sk-container-id-3 input.sk-toggleable__control:checked~div.sk-toggleable__content {\n",
       "  /* Expand drop-down */\n",
       "  max-height: 200px;\n",
       "  max-width: 100%;\n",
       "  overflow: auto;\n",
       "}\n",
       "\n",
       "#sk-container-id-3 input.sk-toggleable__control:checked~label.sk-toggleable__label-arrow:before {\n",
       "  content: \"▾\";\n",
       "}\n",
       "\n",
       "/* Pipeline/ColumnTransformer-specific style */\n",
       "\n",
       "#sk-container-id-3 div.sk-label input.sk-toggleable__control:checked~label.sk-toggleable__label {\n",
       "  color: var(--sklearn-color-text);\n",
       "  background-color: var(--sklearn-color-unfitted-level-2);\n",
       "}\n",
       "\n",
       "#sk-container-id-3 div.sk-label.fitted input.sk-toggleable__control:checked~label.sk-toggleable__label {\n",
       "  background-color: var(--sklearn-color-fitted-level-2);\n",
       "}\n",
       "\n",
       "/* Estimator-specific style */\n",
       "\n",
       "/* Colorize estimator box */\n",
       "#sk-container-id-3 div.sk-estimator input.sk-toggleable__control:checked~label.sk-toggleable__label {\n",
       "  /* unfitted */\n",
       "  background-color: var(--sklearn-color-unfitted-level-2);\n",
       "}\n",
       "\n",
       "#sk-container-id-3 div.sk-estimator.fitted input.sk-toggleable__control:checked~label.sk-toggleable__label {\n",
       "  /* fitted */\n",
       "  background-color: var(--sklearn-color-fitted-level-2);\n",
       "}\n",
       "\n",
       "#sk-container-id-3 div.sk-label label.sk-toggleable__label,\n",
       "#sk-container-id-3 div.sk-label label {\n",
       "  /* The background is the default theme color */\n",
       "  color: var(--sklearn-color-text-on-default-background);\n",
       "}\n",
       "\n",
       "/* On hover, darken the color of the background */\n",
       "#sk-container-id-3 div.sk-label:hover label.sk-toggleable__label {\n",
       "  color: var(--sklearn-color-text);\n",
       "  background-color: var(--sklearn-color-unfitted-level-2);\n",
       "}\n",
       "\n",
       "/* Label box, darken color on hover, fitted */\n",
       "#sk-container-id-3 div.sk-label.fitted:hover label.sk-toggleable__label.fitted {\n",
       "  color: var(--sklearn-color-text);\n",
       "  background-color: var(--sklearn-color-fitted-level-2);\n",
       "}\n",
       "\n",
       "/* Estimator label */\n",
       "\n",
       "#sk-container-id-3 div.sk-label label {\n",
       "  font-family: monospace;\n",
       "  font-weight: bold;\n",
       "  display: inline-block;\n",
       "  line-height: 1.2em;\n",
       "}\n",
       "\n",
       "#sk-container-id-3 div.sk-label-container {\n",
       "  text-align: center;\n",
       "}\n",
       "\n",
       "/* Estimator-specific */\n",
       "#sk-container-id-3 div.sk-estimator {\n",
       "  font-family: monospace;\n",
       "  border: 1px dotted var(--sklearn-color-border-box);\n",
       "  border-radius: 0.25em;\n",
       "  box-sizing: border-box;\n",
       "  margin-bottom: 0.5em;\n",
       "  /* unfitted */\n",
       "  background-color: var(--sklearn-color-unfitted-level-0);\n",
       "}\n",
       "\n",
       "#sk-container-id-3 div.sk-estimator.fitted {\n",
       "  /* fitted */\n",
       "  background-color: var(--sklearn-color-fitted-level-0);\n",
       "}\n",
       "\n",
       "/* on hover */\n",
       "#sk-container-id-3 div.sk-estimator:hover {\n",
       "  /* unfitted */\n",
       "  background-color: var(--sklearn-color-unfitted-level-2);\n",
       "}\n",
       "\n",
       "#sk-container-id-3 div.sk-estimator.fitted:hover {\n",
       "  /* fitted */\n",
       "  background-color: var(--sklearn-color-fitted-level-2);\n",
       "}\n",
       "\n",
       "/* Specification for estimator info (e.g. \"i\" and \"?\") */\n",
       "\n",
       "/* Common style for \"i\" and \"?\" */\n",
       "\n",
       ".sk-estimator-doc-link,\n",
       "a:link.sk-estimator-doc-link,\n",
       "a:visited.sk-estimator-doc-link {\n",
       "  float: right;\n",
       "  font-size: smaller;\n",
       "  line-height: 1em;\n",
       "  font-family: monospace;\n",
       "  background-color: var(--sklearn-color-background);\n",
       "  border-radius: 1em;\n",
       "  height: 1em;\n",
       "  width: 1em;\n",
       "  text-decoration: none !important;\n",
       "  margin-left: 1ex;\n",
       "  /* unfitted */\n",
       "  border: var(--sklearn-color-unfitted-level-1) 1pt solid;\n",
       "  color: var(--sklearn-color-unfitted-level-1);\n",
       "}\n",
       "\n",
       ".sk-estimator-doc-link.fitted,\n",
       "a:link.sk-estimator-doc-link.fitted,\n",
       "a:visited.sk-estimator-doc-link.fitted {\n",
       "  /* fitted */\n",
       "  border: var(--sklearn-color-fitted-level-1) 1pt solid;\n",
       "  color: var(--sklearn-color-fitted-level-1);\n",
       "}\n",
       "\n",
       "/* On hover */\n",
       "div.sk-estimator:hover .sk-estimator-doc-link:hover,\n",
       ".sk-estimator-doc-link:hover,\n",
       "div.sk-label-container:hover .sk-estimator-doc-link:hover,\n",
       ".sk-estimator-doc-link:hover {\n",
       "  /* unfitted */\n",
       "  background-color: var(--sklearn-color-unfitted-level-3);\n",
       "  color: var(--sklearn-color-background);\n",
       "  text-decoration: none;\n",
       "}\n",
       "\n",
       "div.sk-estimator.fitted:hover .sk-estimator-doc-link.fitted:hover,\n",
       ".sk-estimator-doc-link.fitted:hover,\n",
       "div.sk-label-container:hover .sk-estimator-doc-link.fitted:hover,\n",
       ".sk-estimator-doc-link.fitted:hover {\n",
       "  /* fitted */\n",
       "  background-color: var(--sklearn-color-fitted-level-3);\n",
       "  color: var(--sklearn-color-background);\n",
       "  text-decoration: none;\n",
       "}\n",
       "\n",
       "/* Span, style for the box shown on hovering the info icon */\n",
       ".sk-estimator-doc-link span {\n",
       "  display: none;\n",
       "  z-index: 9999;\n",
       "  position: relative;\n",
       "  font-weight: normal;\n",
       "  right: .2ex;\n",
       "  padding: .5ex;\n",
       "  margin: .5ex;\n",
       "  width: min-content;\n",
       "  min-width: 20ex;\n",
       "  max-width: 50ex;\n",
       "  color: var(--sklearn-color-text);\n",
       "  box-shadow: 2pt 2pt 4pt #999;\n",
       "  /* unfitted */\n",
       "  background: var(--sklearn-color-unfitted-level-0);\n",
       "  border: .5pt solid var(--sklearn-color-unfitted-level-3);\n",
       "}\n",
       "\n",
       ".sk-estimator-doc-link.fitted span {\n",
       "  /* fitted */\n",
       "  background: var(--sklearn-color-fitted-level-0);\n",
       "  border: var(--sklearn-color-fitted-level-3);\n",
       "}\n",
       "\n",
       ".sk-estimator-doc-link:hover span {\n",
       "  display: block;\n",
       "}\n",
       "\n",
       "/* \"?\"-specific style due to the `<a>` HTML tag */\n",
       "\n",
       "#sk-container-id-3 a.estimator_doc_link {\n",
       "  float: right;\n",
       "  font-size: 1rem;\n",
       "  line-height: 1em;\n",
       "  font-family: monospace;\n",
       "  background-color: var(--sklearn-color-background);\n",
       "  border-radius: 1rem;\n",
       "  height: 1rem;\n",
       "  width: 1rem;\n",
       "  text-decoration: none;\n",
       "  /* unfitted */\n",
       "  color: var(--sklearn-color-unfitted-level-1);\n",
       "  border: var(--sklearn-color-unfitted-level-1) 1pt solid;\n",
       "}\n",
       "\n",
       "#sk-container-id-3 a.estimator_doc_link.fitted {\n",
       "  /* fitted */\n",
       "  border: var(--sklearn-color-fitted-level-1) 1pt solid;\n",
       "  color: var(--sklearn-color-fitted-level-1);\n",
       "}\n",
       "\n",
       "/* On hover */\n",
       "#sk-container-id-3 a.estimator_doc_link:hover {\n",
       "  /* unfitted */\n",
       "  background-color: var(--sklearn-color-unfitted-level-3);\n",
       "  color: var(--sklearn-color-background);\n",
       "  text-decoration: none;\n",
       "}\n",
       "\n",
       "#sk-container-id-3 a.estimator_doc_link.fitted:hover {\n",
       "  /* fitted */\n",
       "  background-color: var(--sklearn-color-fitted-level-3);\n",
       "}\n",
       "</style><div id=\"sk-container-id-3\" class=\"sk-top-container\"><div class=\"sk-text-repr-fallback\"><pre>GridSearchCV(cv=3,\n",
       "             estimator=&lt;catboost.core.CatBoostRegressor object at 0x00000144B845A710&gt;,\n",
       "             n_jobs=-1,\n",
       "             param_grid={&#x27;iterations&#x27;: [200, 400, 1000],\n",
       "                         &#x27;learning_rate&#x27;: [0.1, 0.2]},\n",
       "             scoring=&#x27;neg_root_mean_squared_error&#x27;)</pre><b>In a Jupyter environment, please rerun this cell to show the HTML representation or trust the notebook. <br />On GitHub, the HTML representation is unable to render, please try loading this page with nbviewer.org.</b></div><div class=\"sk-container\" hidden><div class=\"sk-item sk-dashed-wrapped\"><div class=\"sk-label-container\"><div class=\"sk-label fitted sk-toggleable\"><input class=\"sk-toggleable__control sk-hidden--visually\" id=\"sk-estimator-id-7\" type=\"checkbox\" ><label for=\"sk-estimator-id-7\" class=\"sk-toggleable__label fitted sk-toggleable__label-arrow fitted\">&nbsp;&nbsp;GridSearchCV<a class=\"sk-estimator-doc-link fitted\" rel=\"noreferrer\" target=\"_blank\" href=\"https://scikit-learn.org/1.5/modules/generated/sklearn.model_selection.GridSearchCV.html\">?<span>Documentation for GridSearchCV</span></a><span class=\"sk-estimator-doc-link fitted\">i<span>Fitted</span></span></label><div class=\"sk-toggleable__content fitted\"><pre>GridSearchCV(cv=3,\n",
       "             estimator=&lt;catboost.core.CatBoostRegressor object at 0x00000144B845A710&gt;,\n",
       "             n_jobs=-1,\n",
       "             param_grid={&#x27;iterations&#x27;: [200, 400, 1000],\n",
       "                         &#x27;learning_rate&#x27;: [0.1, 0.2]},\n",
       "             scoring=&#x27;neg_root_mean_squared_error&#x27;)</pre></div> </div></div><div class=\"sk-parallel\"><div class=\"sk-parallel-item\"><div class=\"sk-item\"><div class=\"sk-label-container\"><div class=\"sk-label fitted sk-toggleable\"><input class=\"sk-toggleable__control sk-hidden--visually\" id=\"sk-estimator-id-8\" type=\"checkbox\" ><label for=\"sk-estimator-id-8\" class=\"sk-toggleable__label fitted sk-toggleable__label-arrow fitted\">best_estimator_: CatBoostRegressor</label><div class=\"sk-toggleable__content fitted\"><pre>&lt;catboost.core.CatBoostRegressor object at 0x00000144E5F9F1D0&gt;</pre></div> </div></div><div class=\"sk-serial\"><div class=\"sk-item\"><div class=\"sk-estimator fitted sk-toggleable\"><input class=\"sk-toggleable__control sk-hidden--visually\" id=\"sk-estimator-id-9\" type=\"checkbox\" ><label for=\"sk-estimator-id-9\" class=\"sk-toggleable__label fitted sk-toggleable__label-arrow fitted\">CatBoostRegressor</label><div class=\"sk-toggleable__content fitted\"><pre>&lt;catboost.core.CatBoostRegressor object at 0x00000144E5F9F1D0&gt;</pre></div> </div></div></div></div></div></div></div></div></div>"
      ],
      "text/plain": [
       "GridSearchCV(cv=3,\n",
       "             estimator=<catboost.core.CatBoostRegressor object at 0x00000144B845A710>,\n",
       "             n_jobs=-1,\n",
       "             param_grid={'iterations': [200, 400, 1000],\n",
       "                         'learning_rate': [0.1, 0.2]},\n",
       "             scoring='neg_root_mean_squared_error')"
      ]
     },
     "execution_count": 55,
     "metadata": {},
     "output_type": "execute_result"
    }
   ],
   "source": [
    "gs_catboost.fit(X_1_train, y_1_train)"
   ]
  },
  {
   "cell_type": "markdown",
   "id": "19773697",
   "metadata": {},
   "source": [
    "Замерим время обучения лучшей модели на тренировочных данных"
   ]
  },
  {
   "cell_type": "code",
   "execution_count": 56,
   "id": "3d425695",
   "metadata": {},
   "outputs": [
    {
     "name": "stdout",
     "output_type": "stream",
     "text": [
      "0:\tlearn: 3991.6476358\ttotal: 111ms\tremaining: 1m 50s\n",
      "200:\tlearn: 1605.6594891\ttotal: 19.7s\tremaining: 1m 18s\n",
      "400:\tlearn: 1547.7455442\ttotal: 39.3s\tremaining: 58.8s\n",
      "600:\tlearn: 1517.2086566\ttotal: 58.2s\tremaining: 38.6s\n",
      "800:\tlearn: 1491.8344777\ttotal: 1m 18s\tremaining: 19.4s\n",
      "999:\tlearn: 1473.9151788\ttotal: 1m 37s\tremaining: 0us\n"
     ]
    }
   ],
   "source": [
    "start = time.time()\n",
    "gs_catboost.best_estimator_.fit(X_1_train, y_1_train)\n",
    "end = time.time()\n",
    "time_catboost_fit = end - start"
   ]
  },
  {
   "cell_type": "markdown",
   "id": "28b1990c",
   "metadata": {},
   "source": [
    "Замерим время предсказания лучшей модели на тренировочных данных"
   ]
  },
  {
   "cell_type": "code",
   "execution_count": 57,
   "id": "abb7188c",
   "metadata": {},
   "outputs": [
    {
     "name": "stdout",
     "output_type": "stream",
     "text": [
      "RMSE for CatBoost: 1569.4580951672203\n"
     ]
    }
   ],
   "source": [
    "start = time.time()\n",
    "gs_catboost.best_estimator_.predict(X_1_train)\n",
    "end = time.time()\n",
    "time_catboost_predict = end - start\n",
    "print(f'RMSE for CatBoost: {abs(gs_catboost.best_score_)}')"
   ]
  },
  {
   "cell_type": "markdown",
   "id": "44305dcf",
   "metadata": {},
   "source": [
    "Сохраним все метрики"
   ]
  },
  {
   "cell_type": "code",
   "execution_count": 58,
   "id": "81f9c72f",
   "metadata": {},
   "outputs": [],
   "source": [
    "rmse.append(abs(gs_catboost.best_score_))\n",
    "time_fit.append(time_catboost_fit)\n",
    "time_predict.append(time_catboost_predict)"
   ]
  },
  {
   "cell_type": "markdown",
   "id": "06c2316d",
   "metadata": {},
   "source": [
    "## Шаг 5. Анализ результатов"
   ]
  },
  {
   "cell_type": "code",
   "execution_count": 59,
   "id": "ecbadac4",
   "metadata": {},
   "outputs": [],
   "source": [
    "result = pd.DataFrame(data=[rmse, time_fit, time_predict],\n",
    "                      columns=['LinearRegression', 'LightGBM', 'CatBoost'],\n",
    "                      index=['RMSE', 'Learning Time', 'Predicting Time'])"
   ]
  },
  {
   "cell_type": "code",
   "execution_count": 60,
   "id": "6bb54608",
   "metadata": {},
   "outputs": [
    {
     "data": {
      "text/html": [
       "<div>\n",
       "<style scoped>\n",
       "    .dataframe tbody tr th:only-of-type {\n",
       "        vertical-align: middle;\n",
       "    }\n",
       "\n",
       "    .dataframe tbody tr th {\n",
       "        vertical-align: top;\n",
       "    }\n",
       "\n",
       "    .dataframe thead th {\n",
       "        text-align: right;\n",
       "    }\n",
       "</style>\n",
       "<table border=\"1\" class=\"dataframe\">\n",
       "  <thead>\n",
       "    <tr style=\"text-align: right;\">\n",
       "      <th></th>\n",
       "      <th>LinearRegression</th>\n",
       "      <th>LightGBM</th>\n",
       "      <th>CatBoost</th>\n",
       "    </tr>\n",
       "  </thead>\n",
       "  <tbody>\n",
       "    <tr>\n",
       "      <th>RMSE</th>\n",
       "      <td>2316.969320</td>\n",
       "      <td>1552.510908</td>\n",
       "      <td>1569.458095</td>\n",
       "    </tr>\n",
       "    <tr>\n",
       "      <th>Learning Time</th>\n",
       "      <td>2.858643</td>\n",
       "      <td>0.887715</td>\n",
       "      <td>98.363503</td>\n",
       "    </tr>\n",
       "    <tr>\n",
       "      <th>Predicting Time</th>\n",
       "      <td>0.239067</td>\n",
       "      <td>0.539635</td>\n",
       "      <td>0.335075</td>\n",
       "    </tr>\n",
       "  </tbody>\n",
       "</table>\n",
       "</div>"
      ],
      "text/plain": [
       "                 LinearRegression     LightGBM     CatBoost\n",
       "RMSE                  2316.969320  1552.510908  1569.458095\n",
       "Learning Time            2.858643     0.887715    98.363503\n",
       "Predicting Time          0.239067     0.539635     0.335075"
      ]
     },
     "execution_count": 60,
     "metadata": {},
     "output_type": "execute_result"
    }
   ],
   "source": [
    "result"
   ]
  },
  {
   "cell_type": "markdown",
   "id": "69304e9a",
   "metadata": {},
   "source": [
    "<div style=\"background-color:#D2DCFA; padding:10px;\">\n",
    "    \n",
    "# Промежуточный вывод\n",
    "\n",
    "Было обучено три модели. Линейная регрессия и 2 модели градиентного бустинга\n",
    "    \n",
    "- результаты:\n",
    "    \n",
    "    - Лучшей оказалась модель LightGBM с минимальной метрикой - **1552** на тренировочных данных. Время обучения - **0.88** секунды\n",
    "    - На втором месте CatBoost с минмальной метрикой - **1569** на тренировочных данных. Время обучения - **98** секунд\n",
    "    - Самой бесполезной оказалась модель линейной регрессии. Её метрика **2316** на тренировочных данных. Время обучения **2.8** секунды\n",
    "    \n",
    "    - Время предсказания всех моделей в пределах 0.5 секунды\n",
    "    \n",
    "\n",
    "Исходя из результатов моделирования лучшей моделью оказалась модель градиентного бустинга - **LightGBM**. Она имеет наименьшую метрику в наших условиях. Метрика CatBoost-а остала не сильно, и если продолжать играться с гиперпараметрами (а их у него больше в разы чем у LightGBM), то можно добиться лучших результатов. Но самой большой проблемой CatBoost является время работы, и с увеличением диапазона и количества гиперпараметров значение времени будет увеличиваться непропорционально метрике качества.\n",
    "    \n",
    "Поэтому рекомендую выбрать для этой задачи модель градиентного бустинга **LightGBM**"
   ]
  },
  {
   "cell_type": "markdown",
   "id": "ece34842",
   "metadata": {},
   "source": [
    "## Шаг 6. Предсказание на тестовых данных"
   ]
  },
  {
   "cell_type": "markdown",
   "id": "fa4d0f51",
   "metadata": {},
   "source": [
    "Лучшей моделью и по времени, и по значению метрики оказалась модель градиентного бустинга LightGBM, сделаем с помощью неё предсказание на тестовых данных"
   ]
  },
  {
   "cell_type": "code",
   "execution_count": 61,
   "id": "8f1c9475",
   "metadata": {},
   "outputs": [
    {
     "name": "stdout",
     "output_type": "stream",
     "text": [
      "Метрика RMSE для модели LightGBM на тестовых данных: 1529.3642531315804\n"
     ]
    }
   ],
   "source": [
    "prediction = gs_lgbm.best_estimator_.predict(X_1_test)\n",
    "RMSE = np.sqrt(mean_squared_error(y_1_test, prediction))\n",
    "print(f'Метрика RMSE для модели LightGBM на тестовых данных: {RMSE}')"
   ]
  },
  {
   "cell_type": "markdown",
   "id": "bb65eda9",
   "metadata": {},
   "source": [
    "<div style=\"background-color:#D2DCFA; padding:10px;\">\n",
    "    \n",
    "# Промежуточный вывод\n",
    "    \n",
    "Было выполнено предсказание на тестовых данных с помощью LightGBM. Метрика RMSE составила **1529**. Это хороший результат, который покрывает требования заказчика."
   ]
  },
  {
   "cell_type": "markdown",
   "id": "e78955a3",
   "metadata": {},
   "source": [
    "---"
   ]
  },
  {
   "cell_type": "markdown",
   "id": "4560af48",
   "metadata": {},
   "source": [
    "<div style=\"background-color:#D2DCFA; padding:10px;\">\n",
    "    \n",
    "# Финальный вывод\n",
    "    \n",
    "---\n",
    "    \n",
    "Была проведена предобработка и исследовательский анализ данных.\n",
    "    \n",
    " - удалены неинформативные столбцы\n",
    "    \n",
    " - пропуски заполнены значением `unknown`\n",
    "    \n",
    " - названия столбцов приведены к нижнему регистру\n",
    "    \n",
    " - проведен анализ выбросов и подобран диапазон, при котором данные будут чище, но не потерять при этом много строк\n",
    "    \n",
    "Вывод по гистограммам:\n",
    "\n",
    "- распределение цены скошено вправо, выбросов нет\n",
    "\n",
    "- распределение лошадиных сил так же скошено вправо\n",
    "\n",
    "- распределение пробега скошено влево. Большая часть значений сгруппированы после 140 тыс.км.\n",
    "\n",
    "- распределение года регистрации автомобиля распределено нормально, большинство значений в диапазоне 1997-2010\n",
    "    \n",
    "\n",
    "Вывод по диаграммам накопления:\n",
    "\n",
    "- чаще встречаются машины с механической КП\n",
    "\n",
    "- топ-3 типов кузова выглядят так: **sedan**, **small** и **wagon**\n",
    "\n",
    "- чаще всего в качестве топлива используют бензин, на втором месте газ\n",
    "\n",
    "- большая часть машин в наших данных не восстанавливались\n",
    "\n",
    "- топ-3 марок выглядят так: **volkswagen**, **bmw** и **opel**\n",
    "    \n",
    "    \n",
    "Вывод по матрице корреляций:\n",
    "\n",
    "- на целевой признак сильнее всего влияет количество лошадиных сил, модель и год регистрации\n",
    "\n",
    "- самая сильная корреляция между маркой автомобиля и моделью\n",
    "    \n",
    "    \n",
    "    \n",
    "---  \n",
    "\n",
    "    \n",
    "Была проведена подготовка данных для моделирования:\n",
    "    \n",
    "- создана копия исходного датафрейма для раздельной работы с градиентным бустингом и линейной регрессией\n",
    "    \n",
    "- закодированы категориальные признаки\n",
    "    \n",
    "- стандартизированы числовые признаки\n",
    "    \n",
    "- данные разделены на 2 разных обучающих и тестовых выборки\n",
    "    \n",
    "    \n",
    "---\n",
    "    \n",
    "    \n",
    "Было обучено три модели. Линейная регрессия и 2 модели градиентного бустинга\n",
    "    \n",
    "- результаты:\n",
    "    \n",
    "    - Лучшей оказалась модель LightGBM с минимальной метрикой - **1552** на тренировочных данных. Время обучения - **0.4** секунд\n",
    "    - На втором месте CatBoost с минмальной метрикой - **1569** на тренировочных данных. Время обучения - **101** секунда\n",
    "    - Самой бесполезной оказалась модель линейной регрессии. Её метрика **2316** на тренировочных данных.\n",
    "    \n",
    "    - Время предсказания всех моделей в пределах 0.4 секунды\n",
    "    \n",
    "\n",
    "Исходя из результатов моделирования лучшей моделью оказалась модель градиентного бустинга - **LightGBM**. Она имеет наименьшую метрику в наших условиях. Метрика CatBoost-а остала не сильно, и если продолжать играться с гиперпараметрами (а их у него больше в разы чем у LightGBM), то можно добиться лучших результатов. Но самой большой проблемой CatBoost является время работы, и с увеличением диапазона и количества гиперпараметров значение времени будет увеличиваться непропорционально метрике качества.\n",
    "    \n",
    "---\n",
    "    \n",
    "Было выполнено предсказание на тестовых данных с помощью модели градиентного бустинга LightGBM. Метрика RMSE составила **1529**. Это хороший результат, который покрывает требования заказчика."
   ]
  }
 ],
 "metadata": {
  "kernelspec": {
   "display_name": "Python 3 (ipykernel)",
   "language": "python",
   "name": "python3"
  },
  "language_info": {
   "codemirror_mode": {
    "name": "ipython",
    "version": 3
   },
   "file_extension": ".py",
   "mimetype": "text/x-python",
   "name": "python",
   "nbconvert_exporter": "python",
   "pygments_lexer": "ipython3",
   "version": "3.11.5"
  },
  "toc": {
   "base_numbering": 1,
   "nav_menu": {},
   "number_sections": true,
   "sideBar": true,
   "skip_h1_title": true,
   "title_cell": "Table of Contents",
   "title_sidebar": "Contents",
   "toc_cell": false,
   "toc_position": {},
   "toc_section_display": true,
   "toc_window_display": false
  },
  "varInspector": {
   "cols": {
    "lenName": 16,
    "lenType": 16,
    "lenVar": 40
   },
   "kernels_config": {
    "python": {
     "delete_cmd_postfix": "",
     "delete_cmd_prefix": "del ",
     "library": "var_list.py",
     "varRefreshCmd": "print(var_dic_list())"
    },
    "r": {
     "delete_cmd_postfix": ") ",
     "delete_cmd_prefix": "rm(",
     "library": "var_list.r",
     "varRefreshCmd": "cat(var_dic_list()) "
    }
   },
   "types_to_exclude": [
    "module",
    "function",
    "builtin_function_or_method",
    "instance",
    "_Feature"
   ],
   "window_display": false
  }
 },
 "nbformat": 4,
 "nbformat_minor": 5
}
