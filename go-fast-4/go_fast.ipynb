{
 "cells": [
  {
   "cell_type": "markdown",
   "id": "c8682bef",
   "metadata": {
    "toc": true
   },
   "source": [
    "<h1>Table of Contents<span class=\"tocSkip\"></span></h1>\n",
    "<div class=\"toc\"><ul class=\"toc-item\"><li><span><a href=\"#Загрузите-данные\" data-toc-modified-id=\"Загрузите-данные-1\"><span class=\"toc-item-num\">1&nbsp;&nbsp;</span>Загрузите данные</a></span><ul class=\"toc-item\"><li><span><a href=\"#Выведите-общую-информацию-о-датафреймах.\" data-toc-modified-id=\"Выведите-общую-информацию-о-датафреймах.-1.1\"><span class=\"toc-item-num\">1.1&nbsp;&nbsp;</span>Выведите общую информацию о датафреймах.</a></span></li></ul></li><li><span><a href=\"#Предобработка-данных.\" data-toc-modified-id=\"Предобработка-данных.-2\"><span class=\"toc-item-num\">2&nbsp;&nbsp;</span>Предобработка данных.</a></span><ul class=\"toc-item\"><li><span><a href=\"#Приведем-столбец-date-к-типу-даты-pandas\" data-toc-modified-id=\"Приведем-столбец-date-к-типу-даты-pandas-2.1\"><span class=\"toc-item-num\">2.1&nbsp;&nbsp;</span>Приведем столбец <code>date</code> к типу даты <em>pandas</em></a></span></li><li><span><a href=\"#Добавим-столбец-month\" data-toc-modified-id=\"Добавим-столбец-month-2.2\"><span class=\"toc-item-num\">2.2&nbsp;&nbsp;</span>Добавим столбец <code>month</code></a></span></li><li><span><a href=\"#Проверьте-наличие-пропущенных-значений-и-дубликатов-в-датафреймах.-Обработайте-их,-если-такие-значения-присутствуют.\" data-toc-modified-id=\"Проверьте-наличие-пропущенных-значений-и-дубликатов-в-датафреймах.-Обработайте-их,-если-такие-значения-присутствуют.-2.3\"><span class=\"toc-item-num\">2.3&nbsp;&nbsp;</span>Проверьте наличие пропущенных значений и дубликатов в датафреймах. Обработайте их, если такие значения присутствуют.</a></span></li></ul></li><li><span><a href=\"#Исследовательский-анализ-данных.\" data-toc-modified-id=\"Исследовательский-анализ-данных.-3\"><span class=\"toc-item-num\">3&nbsp;&nbsp;</span>Исследовательский анализ данных.</a></span><ul class=\"toc-item\"><li><span><a href=\"#Частота-встречаемости-городов\" data-toc-modified-id=\"Частота-встречаемости-городов-3.1\"><span class=\"toc-item-num\">3.1&nbsp;&nbsp;</span>Частота встречаемости городов</a></span></li><li><span><a href=\"#Соотношение-пользователей-с-подпиской-и-без-подписки\" data-toc-modified-id=\"Соотношение-пользователей-с-подпиской-и-без-подписки-3.2\"><span class=\"toc-item-num\">3.2&nbsp;&nbsp;</span>Соотношение пользователей с подпиской и без подписки</a></span></li><li><span><a href=\"#Возраст-пользователей\" data-toc-modified-id=\"Возраст-пользователей-3.3\"><span class=\"toc-item-num\">3.3&nbsp;&nbsp;</span>Возраст пользователей</a></span></li><li><span><a href=\"#Расстояние,-которое-пользователь-преодолел-за-одну-поездку\" data-toc-modified-id=\"Расстояние,-которое-пользователь-преодолел-за-одну-поездку-3.4\"><span class=\"toc-item-num\">3.4&nbsp;&nbsp;</span>Расстояние, которое пользователь преодолел за одну поездку</a></span></li><li><span><a href=\"#Продолжительность-поездок\" data-toc-modified-id=\"Продолжительность-поездок-3.5\"><span class=\"toc-item-num\">3.5&nbsp;&nbsp;</span>Продолжительность поездок</a></span></li></ul></li><li><span><a href=\"#Объединение-данных\" data-toc-modified-id=\"Объединение-данных-4\"><span class=\"toc-item-num\">4&nbsp;&nbsp;</span>Объединение данных</a></span><ul class=\"toc-item\"><li><span><a href=\"#Объедините-данные-о-пользователях,-поездках-и-подписках-в-один-датафрейм.\" data-toc-modified-id=\"Объедините-данные-о-пользователях,-поездках-и-подписках-в-один-датафрейм.-4.1\"><span class=\"toc-item-num\">4.1&nbsp;&nbsp;</span>Объедините данные о пользователях, поездках и подписках в один датафрейм.</a></span></li><li><span><a href=\"#Создайте-ещё-два-датафрейма-из-датафрейма,-созданного-на-этапе-4.1:\" data-toc-modified-id=\"Создайте-ещё-два-датафрейма-из-датафрейма,-созданного-на-этапе-4.1:-4.2\"><span class=\"toc-item-num\">4.2&nbsp;&nbsp;</span>Создайте ещё два датафрейма из датафрейма, созданного на этапе 4.1:</a></span></li><li><span><a href=\"#Визуализируйте-информацию-о-расстоянии-и-времени-поездок-для-пользователей-обеих-категорий.\" data-toc-modified-id=\"Визуализируйте-информацию-о-расстоянии-и-времени-поездок-для-пользователей-обеих-категорий.-4.3\"><span class=\"toc-item-num\">4.3&nbsp;&nbsp;</span>Визуализируйте информацию о расстоянии и времени поездок для пользователей обеих категорий.</a></span></li><li><span><a href=\"#Общий-вывод:\" data-toc-modified-id=\"Общий-вывод:-4.4\"><span class=\"toc-item-num\">4.4&nbsp;&nbsp;</span>Общий вывод:</a></span></li></ul></li><li><span><a href=\"#Подсчёт-выручки.\" data-toc-modified-id=\"Подсчёт-выручки.-5\"><span class=\"toc-item-num\">5&nbsp;&nbsp;</span>Подсчёт выручки.</a></span><ul class=\"toc-item\"><li><span><a href=\"#Создайте-датафрейм-с-агрегированными-данными-о-поездках-на-основе-датафрейма-с-объединёнными-данными-из-пункта-4.\" data-toc-modified-id=\"Создайте-датафрейм-с-агрегированными-данными-о-поездках-на-основе-датафрейма-с-объединёнными-данными-из-пункта-4.-5.1\"><span class=\"toc-item-num\">5.1&nbsp;&nbsp;</span>Создайте датафрейм с агрегированными данными о поездках на основе датафрейма с объединёнными данными из пункта 4.</a></span></li><li><span><a href=\"#В-этот-же-датафрейм-добавьте-столбец-с-помесячной-выручкой,-которую-принёс-каждый-пользователь.\" data-toc-modified-id=\"В-этот-же-датафрейм-добавьте-столбец-с-помесячной-выручкой,-которую-принёс-каждый-пользователь.-5.2\"><span class=\"toc-item-num\">5.2&nbsp;&nbsp;</span>В этот же датафрейм добавьте столбец с помесячной выручкой, которую принёс каждый пользователь.</a></span></li></ul></li><li><span><a href=\"#Проверка-гипотез.\" data-toc-modified-id=\"Проверка-гипотез.-6\"><span class=\"toc-item-num\">6&nbsp;&nbsp;</span>Проверка гипотез.</a></span><ul class=\"toc-item\"><li><span><a href=\"#Тратят-ли-пользователи-с-подпиской-больше-времени-на-поездки?\" data-toc-modified-id=\"Тратят-ли-пользователи-с-подпиской-больше-времени-на-поездки?-6.1\"><span class=\"toc-item-num\">6.1&nbsp;&nbsp;</span>Тратят ли пользователи с подпиской больше времени на поездки?</a></span></li><li><span><a href=\"#Можно-ли-сказать,-что-среднее-расстояние,-которое-проезжают-пользователи-с-подпиской-за-одну-поездку,-не-превышает-3130-метров?\" data-toc-modified-id=\"Можно-ли-сказать,-что-среднее-расстояние,-которое-проезжают-пользователи-с-подпиской-за-одну-поездку,-не-превышает-3130-метров?-6.2\"><span class=\"toc-item-num\">6.2&nbsp;&nbsp;</span>Можно ли сказать, что среднее расстояние, которое проезжают пользователи с подпиской за одну поездку, не превышает 3130 метров?</a></span></li><li><span><a href=\"#Будет-ли-помесячная-выручка-от-пользователей-с-подпиской-по-месяцам-выше,-чем-выручка-от-пользователей-без-подписки.\" data-toc-modified-id=\"Будет-ли-помесячная-выручка-от-пользователей-с-подпиской-по-месяцам-выше,-чем-выручка-от-пользователей-без-подписки.-6.3\"><span class=\"toc-item-num\">6.3&nbsp;&nbsp;</span>Будет ли помесячная выручка от пользователей с подпиской по месяцам выше, чем выручка от пользователей без подписки.</a></span></li><li><span><a href=\"#Представьте-такую-ситуацию:-техническая-команда-сервиса-обновила-сервера,-с-которыми-взаимодействует-мобильное-приложение.-Она-надеется,-что-из-за-этого-количество-обращений-в-техподдержку-значимо-снизилось.-Некоторый-файл-содержит-для-каждого-пользователя-данные-о-количестве-обращений-до-обновления-и-после-него.-Какой-тест-вам-понадобился-бы-для-проверки-этой-гипотезы?\" data-toc-modified-id=\"Представьте-такую-ситуацию:-техническая-команда-сервиса-обновила-сервера,-с-которыми-взаимодействует-мобильное-приложение.-Она-надеется,-что-из-за-этого-количество-обращений-в-техподдержку-значимо-снизилось.-Некоторый-файл-содержит-для-каждого-пользователя-данные-о-количестве-обращений-до-обновления-и-после-него.-Какой-тест-вам-понадобился-бы-для-проверки-этой-гипотезы?-6.4\"><span class=\"toc-item-num\">6.4&nbsp;&nbsp;</span>Представьте такую ситуацию: техническая команда сервиса обновила сервера, с которыми взаимодействует мобильное приложение. Она надеется, что из-за этого количество обращений в техподдержку значимо снизилось. Некоторый файл содержит для каждого пользователя данные о количестве обращений до обновления и после него. Какой тест вам понадобился бы для проверки этой гипотезы?</a></span></li></ul></li></ul></div>"
   ]
  },
  {
   "cell_type": "markdown",
   "id": "eb35cde2",
   "metadata": {},
   "source": []
  },
  {
   "cell_type": "markdown",
   "id": "d15a362e",
   "metadata": {},
   "source": [
    "# Описание данных.\n",
    "\n",
    "**Мы анализируем данные сервиса аренды самокатов, в нашем распоряжении 3 таблицы:**\n",
    "- **`users_go.csv`**,  в которой:\n",
    "\n",
    " > **`user_id`** - уникальный идентификатор пользователя\n",
    " \n",
    " > **`name`** - имя пользователя\n",
    " \n",
    " > **`age`** - возраст\n",
    " \n",
    " > **`city`** - город\n",
    " \n",
    " > **`subscription_type`** - тип подписки: **`free`** или **`ultra`**\n",
    "\n",
    "- **`rides_go.csv`**, в которой:\n",
    "\n",
    " > **`user_id`** - уникальный идентификатор пользователя\n",
    " \n",
    " > **`distance`** - расстояние, которое пользователь проехал в текущей сессии (в метрах)\n",
    " \n",
    " > **`duration`** - продолжительность сессии (в минутах) — время с того момента, как пользователь нажал кнопку *«Начать поездку»* до момента, как он нажал кнопку *«Завершить поездку»*\n",
    " \n",
    " > **`date`** - дата совершения поездки\n",
    " \n",
    "- **`subscription_go.csv`**, в которой:\n",
    "\n",
    " > **`subscription_type`** - тип подписки\n",
    " \n",
    " > **`minute_price`** - стоимость одной минуты поездки по данной подписке\n",
    " \n",
    " > **`start_ride_price`** - стоимость начала поездки\n",
    " \n",
    " > **`subscription_fee`** - стоимость ежемесячного платежа\n",
    " \n",
    "-------------------------------------------------\n",
    "\n",
    "Чтобы совершать поездки по городу, пользователи сервиса GoFast пользуются мобильным приложением. Сервисом можно пользоваться:\n",
    "\n",
    "**Без подписки:**\n",
    "\n",
    " - абонентская плата отсутствует;\n",
    " \n",
    " - стоимость одной минуты поездки — 8 рублей;\n",
    " \n",
    " - стоимость старта (начала поездки) — 50 рублей;\n",
    " \n",
    " ------------------------------------------------------\n",
    "**С подпиской Ultra:**\n",
    "\n",
    " - абонентская плата — 199 рублей в месяц;\n",
    " \n",
    " - стоимость одной минуты поездки — 6 рублей;\n",
    " \n",
    " - стоимость старта — бесплатно."
   ]
  },
  {
   "cell_type": "markdown",
   "id": "eb4098d9",
   "metadata": {},
   "source": [
    "# План проекта:\n",
    "\n",
    "- Загрузить данные;\n",
    "\n",
    "- Предобработать данные;\n",
    "\n",
    "- Провести Исследовательский анализ данных;\n",
    "\n",
    "- Обьединить данные и создать дополнительные датафреймы для проведения рассчетов и тестов;\n",
    "\n",
    "- Подсчитать выручку;\n",
    "\n",
    "- Проверить гипотезы;"
   ]
  },
  {
   "cell_type": "markdown",
   "id": "9c91032e",
   "metadata": {},
   "source": [
    "## Загрузите данные"
   ]
  },
  {
   "cell_type": "code",
   "execution_count": 1,
   "id": "1b663495",
   "metadata": {},
   "outputs": [],
   "source": [
    "# Импортируем необходимые библиотеки\n",
    "import pandas as pd\n",
    "import matplotlib.pyplot as plt\n",
    "import numpy as np\n",
    "from scipy import stats as st"
   ]
  },
  {
   "cell_type": "code",
   "execution_count": 2,
   "id": "34926271",
   "metadata": {},
   "outputs": [],
   "source": [
    "# Установим параметры отображения таблиц и уберем математическую нотацию. Оставим везде 5 знаков после запятой\n",
    "pd.set_option('display.max_columns', None)\n",
    "pd.options.display.float_format = '{:20,.5f}'.format"
   ]
  },
  {
   "cell_type": "code",
   "execution_count": 3,
   "id": "81b06856",
   "metadata": {},
   "outputs": [],
   "source": [
    "# Прочитаем необходимые таблицы\n",
    "try:\n",
    "    users = pd.read_csv(r\"C:\\Users\\ilyal\\OneDrive\\Рабочий стол\\Портфолио\\practicum_projects\\go_fast_4\\users_go.csv\")\n",
    "    rides = pd.read_csv(r\"C:\\Users\\ilyal\\OneDrive\\Рабочий стол\\Портфолио\\practicum_projects\\go_fast_4\\rides_go.csv\")\n",
    "    subs = pd.read_csv(r\"C:\\Users\\ilyal\\OneDrive\\Рабочий стол\\Портфолио\\practicum_projects\\go_fast_4\\subscriptions_go.csv\")\n",
    "except:\n",
    "    users = pd.read_csv('/datasets/users_go.csv')\n",
    "    rides = pd.read_csv('/datasets/rides_go.csv')\n",
    "    subs = pd.read_csv('/datasets/subscriptions_go.csv')"
   ]
  },
  {
   "cell_type": "markdown",
   "id": "b8a38ab2",
   "metadata": {},
   "source": [
    "### Выведите общую информацию о датафреймах."
   ]
  },
  {
   "cell_type": "code",
   "execution_count": 4,
   "id": "bf31b666",
   "metadata": {},
   "outputs": [
    {
     "name": "stdout",
     "output_type": "stream",
     "text": [
      "<class 'pandas.core.frame.DataFrame'>\n",
      "RangeIndex: 1565 entries, 0 to 1564\n",
      "Data columns (total 5 columns):\n",
      " #   Column             Non-Null Count  Dtype \n",
      "---  ------             --------------  ----- \n",
      " 0   user_id            1565 non-null   int64 \n",
      " 1   name               1565 non-null   object\n",
      " 2   age                1565 non-null   int64 \n",
      " 3   city               1565 non-null   object\n",
      " 4   subscription_type  1565 non-null   object\n",
      "dtypes: int64(2), object(3)\n",
      "memory usage: 61.3+ KB\n"
     ]
    },
    {
     "data": {
      "text/html": [
       "<div>\n",
       "<style scoped>\n",
       "    .dataframe tbody tr th:only-of-type {\n",
       "        vertical-align: middle;\n",
       "    }\n",
       "\n",
       "    .dataframe tbody tr th {\n",
       "        vertical-align: top;\n",
       "    }\n",
       "\n",
       "    .dataframe thead th {\n",
       "        text-align: right;\n",
       "    }\n",
       "</style>\n",
       "<table border=\"1\" class=\"dataframe\">\n",
       "  <thead>\n",
       "    <tr style=\"text-align: right;\">\n",
       "      <th></th>\n",
       "      <th>user_id</th>\n",
       "      <th>name</th>\n",
       "      <th>age</th>\n",
       "      <th>city</th>\n",
       "      <th>subscription_type</th>\n",
       "    </tr>\n",
       "  </thead>\n",
       "  <tbody>\n",
       "    <tr>\n",
       "      <th>0</th>\n",
       "      <td>1</td>\n",
       "      <td>Кира</td>\n",
       "      <td>22</td>\n",
       "      <td>Тюмень</td>\n",
       "      <td>ultra</td>\n",
       "    </tr>\n",
       "    <tr>\n",
       "      <th>1</th>\n",
       "      <td>2</td>\n",
       "      <td>Станислав</td>\n",
       "      <td>31</td>\n",
       "      <td>Омск</td>\n",
       "      <td>ultra</td>\n",
       "    </tr>\n",
       "    <tr>\n",
       "      <th>2</th>\n",
       "      <td>3</td>\n",
       "      <td>Алексей</td>\n",
       "      <td>20</td>\n",
       "      <td>Москва</td>\n",
       "      <td>ultra</td>\n",
       "    </tr>\n",
       "    <tr>\n",
       "      <th>3</th>\n",
       "      <td>4</td>\n",
       "      <td>Константин</td>\n",
       "      <td>26</td>\n",
       "      <td>Ростов-на-Дону</td>\n",
       "      <td>ultra</td>\n",
       "    </tr>\n",
       "    <tr>\n",
       "      <th>4</th>\n",
       "      <td>5</td>\n",
       "      <td>Адель</td>\n",
       "      <td>28</td>\n",
       "      <td>Омск</td>\n",
       "      <td>ultra</td>\n",
       "    </tr>\n",
       "  </tbody>\n",
       "</table>\n",
       "</div>"
      ],
      "text/plain": [
       "   user_id        name  age            city subscription_type\n",
       "0        1        Кира   22          Тюмень             ultra\n",
       "1        2   Станислав   31            Омск             ultra\n",
       "2        3     Алексей   20          Москва             ultra\n",
       "3        4  Константин   26  Ростов-на-Дону             ultra\n",
       "4        5       Адель   28            Омск             ultra"
      ]
     },
     "execution_count": 4,
     "metadata": {},
     "output_type": "execute_result"
    }
   ],
   "source": [
    "# Выведем первые 5 строк и общую информацию о каждом датафрейме\n",
    "users.info()\n",
    "users.head()"
   ]
  },
  {
   "cell_type": "code",
   "execution_count": 5,
   "id": "56922e66",
   "metadata": {},
   "outputs": [
    {
     "name": "stdout",
     "output_type": "stream",
     "text": [
      "<class 'pandas.core.frame.DataFrame'>\n",
      "RangeIndex: 18068 entries, 0 to 18067\n",
      "Data columns (total 4 columns):\n",
      " #   Column    Non-Null Count  Dtype  \n",
      "---  ------    --------------  -----  \n",
      " 0   user_id   18068 non-null  int64  \n",
      " 1   distance  18068 non-null  float64\n",
      " 2   duration  18068 non-null  float64\n",
      " 3   date      18068 non-null  object \n",
      "dtypes: float64(2), int64(1), object(1)\n",
      "memory usage: 564.8+ KB\n"
     ]
    },
    {
     "data": {
      "text/html": [
       "<div>\n",
       "<style scoped>\n",
       "    .dataframe tbody tr th:only-of-type {\n",
       "        vertical-align: middle;\n",
       "    }\n",
       "\n",
       "    .dataframe tbody tr th {\n",
       "        vertical-align: top;\n",
       "    }\n",
       "\n",
       "    .dataframe thead th {\n",
       "        text-align: right;\n",
       "    }\n",
       "</style>\n",
       "<table border=\"1\" class=\"dataframe\">\n",
       "  <thead>\n",
       "    <tr style=\"text-align: right;\">\n",
       "      <th></th>\n",
       "      <th>user_id</th>\n",
       "      <th>distance</th>\n",
       "      <th>duration</th>\n",
       "      <th>date</th>\n",
       "    </tr>\n",
       "  </thead>\n",
       "  <tbody>\n",
       "    <tr>\n",
       "      <th>0</th>\n",
       "      <td>1</td>\n",
       "      <td>4,409.91914</td>\n",
       "      <td>25.59977</td>\n",
       "      <td>2021-01-01</td>\n",
       "    </tr>\n",
       "    <tr>\n",
       "      <th>1</th>\n",
       "      <td>1</td>\n",
       "      <td>2,617.59215</td>\n",
       "      <td>15.81687</td>\n",
       "      <td>2021-01-18</td>\n",
       "    </tr>\n",
       "    <tr>\n",
       "      <th>2</th>\n",
       "      <td>1</td>\n",
       "      <td>754.15981</td>\n",
       "      <td>6.23211</td>\n",
       "      <td>2021-04-20</td>\n",
       "    </tr>\n",
       "    <tr>\n",
       "      <th>3</th>\n",
       "      <td>1</td>\n",
       "      <td>2,694.78325</td>\n",
       "      <td>18.51100</td>\n",
       "      <td>2021-08-11</td>\n",
       "    </tr>\n",
       "    <tr>\n",
       "      <th>4</th>\n",
       "      <td>1</td>\n",
       "      <td>4,028.68731</td>\n",
       "      <td>26.26580</td>\n",
       "      <td>2021-08-28</td>\n",
       "    </tr>\n",
       "  </tbody>\n",
       "</table>\n",
       "</div>"
      ],
      "text/plain": [
       "   user_id             distance             duration        date\n",
       "0        1          4,409.91914             25.59977  2021-01-01\n",
       "1        1          2,617.59215             15.81687  2021-01-18\n",
       "2        1            754.15981              6.23211  2021-04-20\n",
       "3        1          2,694.78325             18.51100  2021-08-11\n",
       "4        1          4,028.68731             26.26580  2021-08-28"
      ]
     },
     "execution_count": 5,
     "metadata": {},
     "output_type": "execute_result"
    }
   ],
   "source": [
    "rides.info()\n",
    "rides.head()"
   ]
  },
  {
   "cell_type": "code",
   "execution_count": 6,
   "id": "27c8b0c3",
   "metadata": {},
   "outputs": [
    {
     "name": "stdout",
     "output_type": "stream",
     "text": [
      "<class 'pandas.core.frame.DataFrame'>\n",
      "RangeIndex: 2 entries, 0 to 1\n",
      "Data columns (total 4 columns):\n",
      " #   Column             Non-Null Count  Dtype \n",
      "---  ------             --------------  ----- \n",
      " 0   subscription_type  2 non-null      object\n",
      " 1   minute_price       2 non-null      int64 \n",
      " 2   start_ride_price   2 non-null      int64 \n",
      " 3   subscription_fee   2 non-null      int64 \n",
      "dtypes: int64(3), object(1)\n",
      "memory usage: 192.0+ bytes\n"
     ]
    },
    {
     "data": {
      "text/html": [
       "<div>\n",
       "<style scoped>\n",
       "    .dataframe tbody tr th:only-of-type {\n",
       "        vertical-align: middle;\n",
       "    }\n",
       "\n",
       "    .dataframe tbody tr th {\n",
       "        vertical-align: top;\n",
       "    }\n",
       "\n",
       "    .dataframe thead th {\n",
       "        text-align: right;\n",
       "    }\n",
       "</style>\n",
       "<table border=\"1\" class=\"dataframe\">\n",
       "  <thead>\n",
       "    <tr style=\"text-align: right;\">\n",
       "      <th></th>\n",
       "      <th>subscription_type</th>\n",
       "      <th>minute_price</th>\n",
       "      <th>start_ride_price</th>\n",
       "      <th>subscription_fee</th>\n",
       "    </tr>\n",
       "  </thead>\n",
       "  <tbody>\n",
       "    <tr>\n",
       "      <th>0</th>\n",
       "      <td>free</td>\n",
       "      <td>8</td>\n",
       "      <td>50</td>\n",
       "      <td>0</td>\n",
       "    </tr>\n",
       "    <tr>\n",
       "      <th>1</th>\n",
       "      <td>ultra</td>\n",
       "      <td>6</td>\n",
       "      <td>0</td>\n",
       "      <td>199</td>\n",
       "    </tr>\n",
       "  </tbody>\n",
       "</table>\n",
       "</div>"
      ],
      "text/plain": [
       "  subscription_type  minute_price  start_ride_price  subscription_fee\n",
       "0              free             8                50                 0\n",
       "1             ultra             6                 0               199"
      ]
     },
     "execution_count": 6,
     "metadata": {},
     "output_type": "execute_result"
    }
   ],
   "source": [
    "subs.info()\n",
    "subs.head()"
   ]
  },
  {
   "cell_type": "markdown",
   "id": "89a14fac",
   "metadata": {},
   "source": [
    "**В наших данных нет пропусков (пока еще глаз от исследовательского дергается).**"
   ]
  },
  {
   "cell_type": "markdown",
   "id": "3b2e7993",
   "metadata": {},
   "source": [
    "## Предобработка данных."
   ]
  },
  {
   "cell_type": "markdown",
   "id": "46dae75b",
   "metadata": {},
   "source": [
    "### Приведем столбец `date` к типу даты *pandas*"
   ]
  },
  {
   "cell_type": "code",
   "execution_count": 7,
   "id": "5e3f743e",
   "metadata": {},
   "outputs": [
    {
     "data": {
      "text/plain": [
       "0   2021-01-01\n",
       "1   2021-01-18\n",
       "2   2021-04-20\n",
       "3   2021-08-11\n",
       "4   2021-08-28\n",
       "Name: date, dtype: datetime64[ns]"
      ]
     },
     "execution_count": 7,
     "metadata": {},
     "output_type": "execute_result"
    }
   ],
   "source": [
    "rides['date'] = pd.to_datetime(rides['date'])\n",
    "rides['date'].head()"
   ]
  },
  {
   "cell_type": "markdown",
   "id": "66a9d1a4",
   "metadata": {},
   "source": [
    "Преобразование прошло успешно"
   ]
  },
  {
   "cell_type": "markdown",
   "id": "f2beb1c6",
   "metadata": {},
   "source": [
    "### Добавим столбец `month`"
   ]
  },
  {
   "cell_type": "code",
   "execution_count": 8,
   "id": "ca3cb360",
   "metadata": {
    "scrolled": true
   },
   "outputs": [
    {
     "data": {
      "text/html": [
       "<div>\n",
       "<style scoped>\n",
       "    .dataframe tbody tr th:only-of-type {\n",
       "        vertical-align: middle;\n",
       "    }\n",
       "\n",
       "    .dataframe tbody tr th {\n",
       "        vertical-align: top;\n",
       "    }\n",
       "\n",
       "    .dataframe thead th {\n",
       "        text-align: right;\n",
       "    }\n",
       "</style>\n",
       "<table border=\"1\" class=\"dataframe\">\n",
       "  <thead>\n",
       "    <tr style=\"text-align: right;\">\n",
       "      <th></th>\n",
       "      <th>user_id</th>\n",
       "      <th>distance</th>\n",
       "      <th>duration</th>\n",
       "      <th>date</th>\n",
       "      <th>month</th>\n",
       "    </tr>\n",
       "  </thead>\n",
       "  <tbody>\n",
       "    <tr>\n",
       "      <th>0</th>\n",
       "      <td>1</td>\n",
       "      <td>4,409.91914</td>\n",
       "      <td>25.59977</td>\n",
       "      <td>2021-01-01</td>\n",
       "      <td>1</td>\n",
       "    </tr>\n",
       "    <tr>\n",
       "      <th>1</th>\n",
       "      <td>1</td>\n",
       "      <td>2,617.59215</td>\n",
       "      <td>15.81687</td>\n",
       "      <td>2021-01-18</td>\n",
       "      <td>1</td>\n",
       "    </tr>\n",
       "    <tr>\n",
       "      <th>2</th>\n",
       "      <td>1</td>\n",
       "      <td>754.15981</td>\n",
       "      <td>6.23211</td>\n",
       "      <td>2021-04-20</td>\n",
       "      <td>4</td>\n",
       "    </tr>\n",
       "    <tr>\n",
       "      <th>3</th>\n",
       "      <td>1</td>\n",
       "      <td>2,694.78325</td>\n",
       "      <td>18.51100</td>\n",
       "      <td>2021-08-11</td>\n",
       "      <td>8</td>\n",
       "    </tr>\n",
       "    <tr>\n",
       "      <th>4</th>\n",
       "      <td>1</td>\n",
       "      <td>4,028.68731</td>\n",
       "      <td>26.26580</td>\n",
       "      <td>2021-08-28</td>\n",
       "      <td>8</td>\n",
       "    </tr>\n",
       "  </tbody>\n",
       "</table>\n",
       "</div>"
      ],
      "text/plain": [
       "   user_id             distance             duration       date  month\n",
       "0        1          4,409.91914             25.59977 2021-01-01      1\n",
       "1        1          2,617.59215             15.81687 2021-01-18      1\n",
       "2        1            754.15981              6.23211 2021-04-20      4\n",
       "3        1          2,694.78325             18.51100 2021-08-11      8\n",
       "4        1          4,028.68731             26.26580 2021-08-28      8"
      ]
     },
     "execution_count": 8,
     "metadata": {},
     "output_type": "execute_result"
    }
   ],
   "source": [
    "rides['month'] = rides['date'].dt.month\n",
    "rides.head()"
   ]
  },
  {
   "cell_type": "markdown",
   "id": "e76b3b1d",
   "metadata": {},
   "source": [
    "Посмотрим на анализируемый период:"
   ]
  },
  {
   "cell_type": "code",
   "execution_count": 9,
   "id": "4deae77f",
   "metadata": {},
   "outputs": [
    {
     "data": {
      "text/plain": [
       "0       2021-01-01\n",
       "13113   2021-01-01\n",
       "5445    2021-01-01\n",
       "12775   2021-01-01\n",
       "17096   2021-01-01\n",
       "           ...    \n",
       "15325   2021-12-30\n",
       "7541    2021-12-30\n",
       "6115    2021-12-30\n",
       "10991   2021-12-30\n",
       "11778   2021-12-30\n",
       "Name: date, Length: 18068, dtype: datetime64[ns]"
      ]
     },
     "execution_count": 9,
     "metadata": {},
     "output_type": "execute_result"
    }
   ],
   "source": [
    "rides['date'].sort_values()"
   ]
  },
  {
   "cell_type": "markdown",
   "id": "67614d5d",
   "metadata": {},
   "source": [
    "Итак, наш анализируемый период с **1 января 2021 года по 30 декабря 2021 года.**"
   ]
  },
  {
   "cell_type": "markdown",
   "id": "12cdb290",
   "metadata": {},
   "source": [
    "### Проверьте наличие пропущенных значений и дубликатов в датафреймах. Обработайте их, если такие значения присутствуют."
   ]
  },
  {
   "cell_type": "code",
   "execution_count": 10,
   "id": "4fa79618",
   "metadata": {},
   "outputs": [
    {
     "name": "stdout",
     "output_type": "stream",
     "text": [
      "Явных дубликатов: 31\n",
      "Явных дубликатов: 0\n",
      "Явных дубликатов: 0\n"
     ]
    }
   ],
   "source": [
    "for i in users.duplicated().sum(), rides.duplicated().sum(), subs.duplicated().sum():\n",
    "    print(f'Явных дубликатов: {i}')"
   ]
  },
  {
   "cell_type": "markdown",
   "id": "e848c7ca",
   "metadata": {},
   "source": [
    "В датафрейме `users` 31 явный дубликат, удалим эти строки:"
   ]
  },
  {
   "cell_type": "code",
   "execution_count": 11,
   "id": "6a8bbd51",
   "metadata": {},
   "outputs": [],
   "source": [
    "users = users.drop_duplicates()"
   ]
  },
  {
   "cell_type": "markdown",
   "id": "0e569e41",
   "metadata": {},
   "source": [
    "Проверим результат выполнения кода:"
   ]
  },
  {
   "cell_type": "code",
   "execution_count": 12,
   "id": "ae2cf480",
   "metadata": {},
   "outputs": [
    {
     "data": {
      "text/plain": [
       "0"
      ]
     },
     "execution_count": 12,
     "metadata": {},
     "output_type": "execute_result"
    }
   ],
   "source": [
    "users.duplicated().sum()"
   ]
  },
  {
   "cell_type": "markdown",
   "id": "f1d3fbd7",
   "metadata": {},
   "source": [
    "Теперь явных дубликатов не осталось"
   ]
  },
  {
   "cell_type": "markdown",
   "id": "6a52b7b6",
   "metadata": {},
   "source": [
    "## Исследовательский анализ данных.\n",
    "**Опишите и визуализируйте общую информацию о пользователях и поездках:**"
   ]
  },
  {
   "cell_type": "markdown",
   "id": "0db42dd5",
   "metadata": {},
   "source": [
    "###  Частота встречаемости городов"
   ]
  },
  {
   "cell_type": "code",
   "execution_count": 13,
   "id": "fffbdaed",
   "metadata": {},
   "outputs": [
    {
     "data": {
      "text/plain": [
       "Пятигорск         219\n",
       "Екатеринбург      204\n",
       "Ростов-на-Дону    198\n",
       "Краснодар         193\n",
       "Сочи              189\n",
       "Омск              183\n",
       "Тюмень            180\n",
       "Москва            168\n",
       "Name: city, dtype: int64"
      ]
     },
     "execution_count": 13,
     "metadata": {},
     "output_type": "execute_result"
    }
   ],
   "source": [
    "users['city'].value_counts()"
   ]
  },
  {
   "cell_type": "code",
   "execution_count": 14,
   "id": "6f3a6c98",
   "metadata": {},
   "outputs": [
    {
     "data": {
      "image/png": "[encoded data removed]",
      "text/plain": [
       "<Figure size 720x360 with 1 Axes>"
      ]
     },
     "metadata": {
      "needs_background": "light"
     },
     "output_type": "display_data"
    }
   ],
   "source": [
    "# Построим гистограмму по этим данным\n",
    "users['city'].value_counts().plot(kind='bar',\n",
    "                                 grid=True,\n",
    "                                 figsize=(10, 5),\n",
    "                                 title='Частота встречаемости городов',\n",
    "                                 xlabel='Город',\n",
    "                                 ylabel='Частота');"
   ]
  },
  {
   "cell_type": "markdown",
   "id": "688eeff4",
   "metadata": {},
   "source": [
    "Самый часто встречающийся город - Пятигорск."
   ]
  },
  {
   "cell_type": "markdown",
   "id": "ddf2d21b",
   "metadata": {},
   "source": [
    "### Соотношение пользователей с подпиской и без подписки"
   ]
  },
  {
   "cell_type": "code",
   "execution_count": 15,
   "id": "ff915d02",
   "metadata": {},
   "outputs": [
    {
     "data": {
      "text/plain": [
       "free     835\n",
       "ultra    699\n",
       "Name: subscription_type, dtype: int64"
      ]
     },
     "execution_count": 15,
     "metadata": {},
     "output_type": "execute_result"
    }
   ],
   "source": [
    "users['subscription_type'].value_counts()"
   ]
  },
  {
   "cell_type": "code",
   "execution_count": 16,
   "id": "85b03ade",
   "metadata": {
    "scrolled": false
   },
   "outputs": [
    {
     "data": {
      "image/png": "[encoded data removed]",
      "text/plain": [
       "<Figure size 720x360 with 1 Axes>"
      ]
     },
     "metadata": {},
     "output_type": "display_data"
    }
   ],
   "source": [
    "# Сохраним количество пользователей с каждым типом подписки в переменную, для дальнейшего построения диаграммы\n",
    "subscription_counts = users['subscription_type'].value_counts()\n",
    "\n",
    "# построение круговой диаграммы\n",
    "plt.figure(figsize=(10, 5))\n",
    "plt.pie(subscription_counts,\n",
    "        labels=['free', 'ultra'],\n",
    "        autopct='%1.1f%%',\n",
    "        startangle=90,\n",
    "        colors=['skyblue', 'coral'])\n",
    "\n",
    "plt.title('Соотношение количества пользователей с подпиской и без подписки')\n",
    "plt.show()"
   ]
  },
  {
   "cell_type": "markdown",
   "id": "662683df",
   "metadata": {},
   "source": [
    "**Вывод:**\n",
    "- пользователей без подписки на `8.8%` больше, чем пользователей с подпиской"
   ]
  },
  {
   "cell_type": "markdown",
   "id": "32ce127f",
   "metadata": {},
   "source": [
    "### Возраст пользователей"
   ]
  },
  {
   "cell_type": "code",
   "execution_count": 17,
   "id": "5c8cebb1",
   "metadata": {
    "scrolled": false
   },
   "outputs": [
    {
     "data": {
      "text/plain": [
       "count            1,534.00000\n",
       "mean                24.90352\n",
       "std                  4.57237\n",
       "min                 12.00000\n",
       "25%                 22.00000\n",
       "50%                 25.00000\n",
       "75%                 28.00000\n",
       "max                 43.00000\n",
       "Name: age, dtype: float64"
      ]
     },
     "execution_count": 17,
     "metadata": {},
     "output_type": "execute_result"
    }
   ],
   "source": [
    "users['age'].describe()"
   ]
  },
  {
   "cell_type": "code",
   "execution_count": 18,
   "id": "9fe86031",
   "metadata": {},
   "outputs": [
    {
     "data": {
      "image/png": "[encoded data removed]",
      "text/plain": [
       "<Figure size 720x360 with 1 Axes>"
      ]
     },
     "metadata": {
      "needs_background": "light"
     },
     "output_type": "display_data"
    }
   ],
   "source": [
    "users['age'].value_counts().plot(kind='bar',\n",
    "                                figsize=(10, 5),\n",
    "                                title='Возраст пользователей',\n",
    "                                xlabel='Возраст',\n",
    "                                ylabel='Количество пользователей');"
   ]
  },
  {
   "cell_type": "markdown",
   "id": "a4a34eab",
   "metadata": {},
   "source": [
    "**Вывод:**\n",
    "- средний возраст нашей выборки - **25 лет**;\n",
    "\n",
    "- целевая аудитория - пользователи от **20 до 28 лет**;\n",
    "\n",
    "- минимальный возраст пользователя - **12 лет**;\n",
    "\n",
    "- максимальный возраст пользователя - **43 года**."
   ]
  },
  {
   "cell_type": "markdown",
   "id": "3559e5c0",
   "metadata": {},
   "source": [
    "### Расстояние, которое пользователь преодолел за одну поездку"
   ]
  },
  {
   "cell_type": "code",
   "execution_count": 19,
   "id": "cb34cf01",
   "metadata": {},
   "outputs": [
    {
     "data": {
      "text/plain": [
       "Text(0, 0.5, 'Частота')"
      ]
     },
     "execution_count": 19,
     "metadata": {},
     "output_type": "execute_result"
    },
    {
     "data": {
      "image/png": "[encoded data removed]",
      "text/plain": [
       "<Figure size 720x360 with 1 Axes>"
      ]
     },
     "metadata": {
      "needs_background": "light"
     },
     "output_type": "display_data"
    }
   ],
   "source": [
    "rides['distance'].plot(kind='hist',\n",
    "                       grid=True,\n",
    "                       bins=50,\n",
    "                       figsize=(10, 5),\n",
    "                       title='Расстояние, которое преодолел пользователь за одну поездку',\n",
    "                       xlabel='Расстояние в метрах',\n",
    "                       ylabel='Частота');\n",
    "plt.xlabel('Расстояние в метрах')\n",
    "plt.ylabel('Частота')"
   ]
  },
  {
   "cell_type": "markdown",
   "id": "028a7038",
   "metadata": {},
   "source": []
  },
  {
   "cell_type": "markdown",
   "id": "6298fe4a",
   "metadata": {},
   "source": [
    "На гистограмме видно всплеск расстояния на отметке 0-1000 метров. Нужно поближе рассмотреть данные и проверить их на наличие выбросов."
   ]
  },
  {
   "cell_type": "code",
   "execution_count": 20,
   "id": "f4f2c86f",
   "metadata": {},
   "outputs": [
    {
     "data": {
      "text/plain": [
       "count           18,068.00000\n",
       "mean             3,070.65998\n",
       "std              1,116.83121\n",
       "min                  0.85568\n",
       "25%              2,543.22636\n",
       "50%              3,133.60999\n",
       "75%              3,776.22274\n",
       "max              7,211.00774\n",
       "Name: distance, dtype: float64"
      ]
     },
     "execution_count": 20,
     "metadata": {},
     "output_type": "execute_result"
    }
   ],
   "source": [
    "rides['distance'].describe()"
   ]
  },
  {
   "cell_type": "code",
   "execution_count": 21,
   "id": "9608caee",
   "metadata": {},
   "outputs": [
    {
     "data": {
      "image/png": "[encoded data removed]",
      "text/plain": [
       "<Figure size 432x288 with 1 Axes>"
      ]
     },
     "metadata": {
      "needs_background": "light"
     },
     "output_type": "display_data"
    }
   ],
   "source": [
    "rides['distance'].plot(kind='box',\n",
    "                      grid=True);"
   ]
  },
  {
   "cell_type": "markdown",
   "id": "57b9624d",
   "metadata": {},
   "source": [
    "**Вывод:**\n",
    "- в среднем дистанция поездки варьируется от **2.5** до **3.7 километров**;\n",
    "\n",
    "- максимальное расстояние **больше 7 километров**;\n",
    "\n",
    "- минимальное расстояние **меньше одного метра**. ***Скорее всего в данном случае самокат был взят в аренду ошибочно, или пользователь передумал совершать поездку.***"
   ]
  },
  {
   "cell_type": "markdown",
   "id": "0d355567",
   "metadata": {},
   "source": [
    "### Продолжительность поездок"
   ]
  },
  {
   "cell_type": "code",
   "execution_count": 22,
   "id": "1912a0b2",
   "metadata": {},
   "outputs": [
    {
     "data": {
      "text/plain": [
       "Text(0, 0.5, 'Частота')"
      ]
     },
     "execution_count": 22,
     "metadata": {},
     "output_type": "execute_result"
    },
    {
     "data": {
      "image/png": "[encoded data removed]",
      "text/plain": [
       "<Figure size 720x360 with 1 Axes>"
      ]
     },
     "metadata": {
      "needs_background": "light"
     },
     "output_type": "display_data"
    }
   ],
   "source": [
    "rides['duration'].plot(kind='hist',\n",
    "                       grid=True,\n",
    "                       bins=100,\n",
    "                       figsize=(10, 5),\n",
    "                       title='Продолжительность поездок в минутах',\n",
    "                       xlabel='Время поездки в минутах',\n",
    "                       ylabel='Частота');\n",
    "plt.xlabel('Время поездки в минутах')\n",
    "plt.ylabel('Частота')"
   ]
  },
  {
   "cell_type": "code",
   "execution_count": 23,
   "id": "65cd32e4",
   "metadata": {},
   "outputs": [
    {
     "data": {
      "image/png": "[encoded data removed]",
      "text/plain": [
       "<Figure size 432x288 with 1 Axes>"
      ]
     },
     "metadata": {
      "needs_background": "light"
     },
     "output_type": "display_data"
    }
   ],
   "source": [
    "rides['duration'].plot(kind='box',\n",
    "                      grid=True);"
   ]
  },
  {
   "cell_type": "code",
   "execution_count": 24,
   "id": "3d62260d",
   "metadata": {},
   "outputs": [
    {
     "data": {
      "text/plain": [
       "count           18,068.00000\n",
       "mean                17.80501\n",
       "std                  6.09105\n",
       "min                  0.50000\n",
       "25%                 13.59756\n",
       "50%                 17.67839\n",
       "75%                 21.72480\n",
       "max                 40.82396\n",
       "Name: duration, dtype: float64"
      ]
     },
     "execution_count": 24,
     "metadata": {},
     "output_type": "execute_result"
    }
   ],
   "source": [
    "rides['duration'].describe()"
   ]
  },
  {
   "cell_type": "markdown",
   "id": "6accd54c",
   "metadata": {},
   "source": [
    "**Вывод:**\n",
    "- в среднем длительность поездки варьируется от **13** до **21 минуты**;\n",
    "\n",
    "- самая длинная поездка составляет **40 минут**;\n",
    "\n",
    "- самая короткая **меньше минуты**. ***Скорее всего такие данные появились в результате пользовательской ошибки, например:*** \n",
    "***Самокат оказался разряжен, или пользователь решил пойти пешком и отменил аренду***."
   ]
  },
  {
   "cell_type": "markdown",
   "id": "1d43e757",
   "metadata": {},
   "source": [
    "## Объединение данных"
   ]
  },
  {
   "cell_type": "code",
   "execution_count": 25,
   "id": "a860c08a",
   "metadata": {},
   "outputs": [
    {
     "name": "stdout",
     "output_type": "stream",
     "text": [
      "Размер датафрейма до обьединения: 5 cтолбцов и 1534 строк\n",
      "Размер датафрейма до обьединения: 5 cтолбцов и 18068 строк\n",
      "Размер датафрейма до обьединения: 4 cтолбца и 2 строки\n"
     ]
    }
   ],
   "source": [
    "for i, k in users.shape, rides.shape, subs.shape:\n",
    "    if k > 4:\n",
    "        print(f'Размер датафрейма до обьединения: {k} cтолбцов и {i} строк')\n",
    "    elif k <= 4:\n",
    "        print(f'Размер датафрейма до обьединения: {k} cтолбца и {i} строки')"
   ]
  },
  {
   "cell_type": "markdown",
   "id": "9f41f3f1",
   "metadata": {},
   "source": [
    "### Объедините данные о пользователях, поездках и подписках в один датафрейм. "
   ]
  },
  {
   "cell_type": "markdown",
   "id": "dada4419",
   "metadata": {},
   "source": [
    "Для объединения всех таблиц в одну, воспользуемся методом merge(). \n",
    "Таблицы `users` и `rides` обьединим по столбцу `user_id` и добавим таблицу `subs`."
   ]
  },
  {
   "cell_type": "code",
   "execution_count": 26,
   "id": "91a66b94",
   "metadata": {},
   "outputs": [
    {
     "name": "stdout",
     "output_type": "stream",
     "text": [
      "Размер датафрейма после объединения: 18068 строк и 12 столбцов.\n",
      "\n"
     ]
    },
    {
     "data": {
      "text/html": [
       "<div>\n",
       "<style scoped>\n",
       "    .dataframe tbody tr th:only-of-type {\n",
       "        vertical-align: middle;\n",
       "    }\n",
       "\n",
       "    .dataframe tbody tr th {\n",
       "        vertical-align: top;\n",
       "    }\n",
       "\n",
       "    .dataframe thead th {\n",
       "        text-align: right;\n",
       "    }\n",
       "</style>\n",
       "<table border=\"1\" class=\"dataframe\">\n",
       "  <thead>\n",
       "    <tr style=\"text-align: right;\">\n",
       "      <th></th>\n",
       "      <th>user_id</th>\n",
       "      <th>name</th>\n",
       "      <th>age</th>\n",
       "      <th>city</th>\n",
       "      <th>subscription_type</th>\n",
       "      <th>distance</th>\n",
       "      <th>duration</th>\n",
       "      <th>date</th>\n",
       "      <th>month</th>\n",
       "      <th>minute_price</th>\n",
       "      <th>start_ride_price</th>\n",
       "      <th>subscription_fee</th>\n",
       "    </tr>\n",
       "  </thead>\n",
       "  <tbody>\n",
       "    <tr>\n",
       "      <th>0</th>\n",
       "      <td>1</td>\n",
       "      <td>Кира</td>\n",
       "      <td>22</td>\n",
       "      <td>Тюмень</td>\n",
       "      <td>ultra</td>\n",
       "      <td>4,409.91914</td>\n",
       "      <td>25.59977</td>\n",
       "      <td>2021-01-01</td>\n",
       "      <td>1</td>\n",
       "      <td>6</td>\n",
       "      <td>0</td>\n",
       "      <td>199</td>\n",
       "    </tr>\n",
       "    <tr>\n",
       "      <th>1</th>\n",
       "      <td>1</td>\n",
       "      <td>Кира</td>\n",
       "      <td>22</td>\n",
       "      <td>Тюмень</td>\n",
       "      <td>ultra</td>\n",
       "      <td>2,617.59215</td>\n",
       "      <td>15.81687</td>\n",
       "      <td>2021-01-18</td>\n",
       "      <td>1</td>\n",
       "      <td>6</td>\n",
       "      <td>0</td>\n",
       "      <td>199</td>\n",
       "    </tr>\n",
       "    <tr>\n",
       "      <th>2</th>\n",
       "      <td>1</td>\n",
       "      <td>Кира</td>\n",
       "      <td>22</td>\n",
       "      <td>Тюмень</td>\n",
       "      <td>ultra</td>\n",
       "      <td>754.15981</td>\n",
       "      <td>6.23211</td>\n",
       "      <td>2021-04-20</td>\n",
       "      <td>4</td>\n",
       "      <td>6</td>\n",
       "      <td>0</td>\n",
       "      <td>199</td>\n",
       "    </tr>\n",
       "    <tr>\n",
       "      <th>3</th>\n",
       "      <td>1</td>\n",
       "      <td>Кира</td>\n",
       "      <td>22</td>\n",
       "      <td>Тюмень</td>\n",
       "      <td>ultra</td>\n",
       "      <td>2,694.78325</td>\n",
       "      <td>18.51100</td>\n",
       "      <td>2021-08-11</td>\n",
       "      <td>8</td>\n",
       "      <td>6</td>\n",
       "      <td>0</td>\n",
       "      <td>199</td>\n",
       "    </tr>\n",
       "    <tr>\n",
       "      <th>4</th>\n",
       "      <td>1</td>\n",
       "      <td>Кира</td>\n",
       "      <td>22</td>\n",
       "      <td>Тюмень</td>\n",
       "      <td>ultra</td>\n",
       "      <td>4,028.68731</td>\n",
       "      <td>26.26580</td>\n",
       "      <td>2021-08-28</td>\n",
       "      <td>8</td>\n",
       "      <td>6</td>\n",
       "      <td>0</td>\n",
       "      <td>199</td>\n",
       "    </tr>\n",
       "    <tr>\n",
       "      <th>...</th>\n",
       "      <td>...</td>\n",
       "      <td>...</td>\n",
       "      <td>...</td>\n",
       "      <td>...</td>\n",
       "      <td>...</td>\n",
       "      <td>...</td>\n",
       "      <td>...</td>\n",
       "      <td>...</td>\n",
       "      <td>...</td>\n",
       "      <td>...</td>\n",
       "      <td>...</td>\n",
       "      <td>...</td>\n",
       "    </tr>\n",
       "    <tr>\n",
       "      <th>18063</th>\n",
       "      <td>1534</td>\n",
       "      <td>Альберт</td>\n",
       "      <td>25</td>\n",
       "      <td>Краснодар</td>\n",
       "      <td>free</td>\n",
       "      <td>3,781.09808</td>\n",
       "      <td>19.82296</td>\n",
       "      <td>2021-11-04</td>\n",
       "      <td>11</td>\n",
       "      <td>8</td>\n",
       "      <td>50</td>\n",
       "      <td>0</td>\n",
       "    </tr>\n",
       "    <tr>\n",
       "      <th>18064</th>\n",
       "      <td>1534</td>\n",
       "      <td>Альберт</td>\n",
       "      <td>25</td>\n",
       "      <td>Краснодар</td>\n",
       "      <td>free</td>\n",
       "      <td>2,840.42306</td>\n",
       "      <td>21.40980</td>\n",
       "      <td>2021-11-16</td>\n",
       "      <td>11</td>\n",
       "      <td>8</td>\n",
       "      <td>50</td>\n",
       "      <td>0</td>\n",
       "    </tr>\n",
       "    <tr>\n",
       "      <th>18065</th>\n",
       "      <td>1534</td>\n",
       "      <td>Альберт</td>\n",
       "      <td>25</td>\n",
       "      <td>Краснодар</td>\n",
       "      <td>free</td>\n",
       "      <td>3,826.18551</td>\n",
       "      <td>18.43505</td>\n",
       "      <td>2021-11-18</td>\n",
       "      <td>11</td>\n",
       "      <td>8</td>\n",
       "      <td>50</td>\n",
       "      <td>0</td>\n",
       "    </tr>\n",
       "    <tr>\n",
       "      <th>18066</th>\n",
       "      <td>1534</td>\n",
       "      <td>Альберт</td>\n",
       "      <td>25</td>\n",
       "      <td>Краснодар</td>\n",
       "      <td>free</td>\n",
       "      <td>2,902.30866</td>\n",
       "      <td>16.67436</td>\n",
       "      <td>2021-11-27</td>\n",
       "      <td>11</td>\n",
       "      <td>8</td>\n",
       "      <td>50</td>\n",
       "      <td>0</td>\n",
       "    </tr>\n",
       "    <tr>\n",
       "      <th>18067</th>\n",
       "      <td>1534</td>\n",
       "      <td>Альберт</td>\n",
       "      <td>25</td>\n",
       "      <td>Краснодар</td>\n",
       "      <td>free</td>\n",
       "      <td>2,371.71119</td>\n",
       "      <td>15.89392</td>\n",
       "      <td>2021-12-29</td>\n",
       "      <td>12</td>\n",
       "      <td>8</td>\n",
       "      <td>50</td>\n",
       "      <td>0</td>\n",
       "    </tr>\n",
       "  </tbody>\n",
       "</table>\n",
       "<p>18068 rows × 12 columns</p>\n",
       "</div>"
      ],
      "text/plain": [
       "       user_id     name  age       city subscription_type  \\\n",
       "0            1     Кира   22     Тюмень             ultra   \n",
       "1            1     Кира   22     Тюмень             ultra   \n",
       "2            1     Кира   22     Тюмень             ultra   \n",
       "3            1     Кира   22     Тюмень             ultra   \n",
       "4            1     Кира   22     Тюмень             ultra   \n",
       "...        ...      ...  ...        ...               ...   \n",
       "18063     1534  Альберт   25  Краснодар              free   \n",
       "18064     1534  Альберт   25  Краснодар              free   \n",
       "18065     1534  Альберт   25  Краснодар              free   \n",
       "18066     1534  Альберт   25  Краснодар              free   \n",
       "18067     1534  Альберт   25  Краснодар              free   \n",
       "\n",
       "                  distance             duration       date  month  \\\n",
       "0              4,409.91914             25.59977 2021-01-01      1   \n",
       "1              2,617.59215             15.81687 2021-01-18      1   \n",
       "2                754.15981              6.23211 2021-04-20      4   \n",
       "3              2,694.78325             18.51100 2021-08-11      8   \n",
       "4              4,028.68731             26.26580 2021-08-28      8   \n",
       "...                    ...                  ...        ...    ...   \n",
       "18063          3,781.09808             19.82296 2021-11-04     11   \n",
       "18064          2,840.42306             21.40980 2021-11-16     11   \n",
       "18065          3,826.18551             18.43505 2021-11-18     11   \n",
       "18066          2,902.30866             16.67436 2021-11-27     11   \n",
       "18067          2,371.71119             15.89392 2021-12-29     12   \n",
       "\n",
       "       minute_price  start_ride_price  subscription_fee  \n",
       "0                 6                 0               199  \n",
       "1                 6                 0               199  \n",
       "2                 6                 0               199  \n",
       "3                 6                 0               199  \n",
       "4                 6                 0               199  \n",
       "...             ...               ...               ...  \n",
       "18063             8                50                 0  \n",
       "18064             8                50                 0  \n",
       "18065             8                50                 0  \n",
       "18066             8                50                 0  \n",
       "18067             8                50                 0  \n",
       "\n",
       "[18068 rows x 12 columns]"
      ]
     },
     "execution_count": 26,
     "metadata": {},
     "output_type": "execute_result"
    }
   ],
   "source": [
    "df_merge = pd.merge(pd.merge(users, rides, on='user_id'), subs, on='subscription_type')\n",
    "print(f'Размер датафрейма после объединения: {df_merge.shape[0]} строк и {df_merge.shape[1]} столбцов.')\n",
    "print()\n",
    "df_merge"
   ]
  },
  {
   "cell_type": "markdown",
   "id": "9ebf4c39",
   "metadata": {},
   "source": [
    "------------------------------"
   ]
  },
  {
   "cell_type": "markdown",
   "id": "5674354d",
   "metadata": {},
   "source": [
    "**Создание обьединенного датафрейма прошло успешно, количество строк не изменилось, все столбцы добавились корректно**"
   ]
  },
  {
   "cell_type": "markdown",
   "id": "7eaf541b",
   "metadata": {},
   "source": [
    "### Создайте ещё два датафрейма из датафрейма, созданного на этапе 4.1:\n",
    "- c данными о пользователях без подписки;\n",
    "- с данными о пользователях с подпиской."
   ]
  },
  {
   "cell_type": "markdown",
   "id": "a9b5a952",
   "metadata": {},
   "source": [
    "Создадим датафрейм с данными о пользователях без подписки"
   ]
  },
  {
   "cell_type": "code",
   "execution_count": 27,
   "id": "1d22dc1c",
   "metadata": {},
   "outputs": [
    {
     "data": {
      "text/html": [
       "<div>\n",
       "<style scoped>\n",
       "    .dataframe tbody tr th:only-of-type {\n",
       "        vertical-align: middle;\n",
       "    }\n",
       "\n",
       "    .dataframe tbody tr th {\n",
       "        vertical-align: top;\n",
       "    }\n",
       "\n",
       "    .dataframe thead th {\n",
       "        text-align: right;\n",
       "    }\n",
       "</style>\n",
       "<table border=\"1\" class=\"dataframe\">\n",
       "  <thead>\n",
       "    <tr style=\"text-align: right;\">\n",
       "      <th></th>\n",
       "      <th>user_id</th>\n",
       "      <th>name</th>\n",
       "      <th>age</th>\n",
       "      <th>city</th>\n",
       "      <th>subscription_type</th>\n",
       "      <th>distance</th>\n",
       "      <th>duration</th>\n",
       "      <th>date</th>\n",
       "      <th>month</th>\n",
       "      <th>minute_price</th>\n",
       "      <th>start_ride_price</th>\n",
       "      <th>subscription_fee</th>\n",
       "    </tr>\n",
       "  </thead>\n",
       "  <tbody>\n",
       "    <tr>\n",
       "      <th>6500</th>\n",
       "      <td>700</td>\n",
       "      <td>Айдар</td>\n",
       "      <td>22</td>\n",
       "      <td>Омск</td>\n",
       "      <td>free</td>\n",
       "      <td>2,515.69072</td>\n",
       "      <td>14.94429</td>\n",
       "      <td>2021-01-02</td>\n",
       "      <td>1</td>\n",
       "      <td>8</td>\n",
       "      <td>50</td>\n",
       "      <td>0</td>\n",
       "    </tr>\n",
       "    <tr>\n",
       "      <th>6501</th>\n",
       "      <td>700</td>\n",
       "      <td>Айдар</td>\n",
       "      <td>22</td>\n",
       "      <td>Омск</td>\n",
       "      <td>free</td>\n",
       "      <td>846.93264</td>\n",
       "      <td>16.23466</td>\n",
       "      <td>2021-02-01</td>\n",
       "      <td>2</td>\n",
       "      <td>8</td>\n",
       "      <td>50</td>\n",
       "      <td>0</td>\n",
       "    </tr>\n",
       "    <tr>\n",
       "      <th>6502</th>\n",
       "      <td>700</td>\n",
       "      <td>Айдар</td>\n",
       "      <td>22</td>\n",
       "      <td>Омск</td>\n",
       "      <td>free</td>\n",
       "      <td>4,004.43414</td>\n",
       "      <td>20.01663</td>\n",
       "      <td>2021-02-04</td>\n",
       "      <td>2</td>\n",
       "      <td>8</td>\n",
       "      <td>50</td>\n",
       "      <td>0</td>\n",
       "    </tr>\n",
       "    <tr>\n",
       "      <th>6503</th>\n",
       "      <td>700</td>\n",
       "      <td>Айдар</td>\n",
       "      <td>22</td>\n",
       "      <td>Омск</td>\n",
       "      <td>free</td>\n",
       "      <td>1,205.91129</td>\n",
       "      <td>9.78287</td>\n",
       "      <td>2021-02-10</td>\n",
       "      <td>2</td>\n",
       "      <td>8</td>\n",
       "      <td>50</td>\n",
       "      <td>0</td>\n",
       "    </tr>\n",
       "    <tr>\n",
       "      <th>6504</th>\n",
       "      <td>700</td>\n",
       "      <td>Айдар</td>\n",
       "      <td>22</td>\n",
       "      <td>Омск</td>\n",
       "      <td>free</td>\n",
       "      <td>3,047.37944</td>\n",
       "      <td>17.42767</td>\n",
       "      <td>2021-02-14</td>\n",
       "      <td>2</td>\n",
       "      <td>8</td>\n",
       "      <td>50</td>\n",
       "      <td>0</td>\n",
       "    </tr>\n",
       "    <tr>\n",
       "      <th>...</th>\n",
       "      <td>...</td>\n",
       "      <td>...</td>\n",
       "      <td>...</td>\n",
       "      <td>...</td>\n",
       "      <td>...</td>\n",
       "      <td>...</td>\n",
       "      <td>...</td>\n",
       "      <td>...</td>\n",
       "      <td>...</td>\n",
       "      <td>...</td>\n",
       "      <td>...</td>\n",
       "      <td>...</td>\n",
       "    </tr>\n",
       "    <tr>\n",
       "      <th>18063</th>\n",
       "      <td>1534</td>\n",
       "      <td>Альберт</td>\n",
       "      <td>25</td>\n",
       "      <td>Краснодар</td>\n",
       "      <td>free</td>\n",
       "      <td>3,781.09808</td>\n",
       "      <td>19.82296</td>\n",
       "      <td>2021-11-04</td>\n",
       "      <td>11</td>\n",
       "      <td>8</td>\n",
       "      <td>50</td>\n",
       "      <td>0</td>\n",
       "    </tr>\n",
       "    <tr>\n",
       "      <th>18064</th>\n",
       "      <td>1534</td>\n",
       "      <td>Альберт</td>\n",
       "      <td>25</td>\n",
       "      <td>Краснодар</td>\n",
       "      <td>free</td>\n",
       "      <td>2,840.42306</td>\n",
       "      <td>21.40980</td>\n",
       "      <td>2021-11-16</td>\n",
       "      <td>11</td>\n",
       "      <td>8</td>\n",
       "      <td>50</td>\n",
       "      <td>0</td>\n",
       "    </tr>\n",
       "    <tr>\n",
       "      <th>18065</th>\n",
       "      <td>1534</td>\n",
       "      <td>Альберт</td>\n",
       "      <td>25</td>\n",
       "      <td>Краснодар</td>\n",
       "      <td>free</td>\n",
       "      <td>3,826.18551</td>\n",
       "      <td>18.43505</td>\n",
       "      <td>2021-11-18</td>\n",
       "      <td>11</td>\n",
       "      <td>8</td>\n",
       "      <td>50</td>\n",
       "      <td>0</td>\n",
       "    </tr>\n",
       "    <tr>\n",
       "      <th>18066</th>\n",
       "      <td>1534</td>\n",
       "      <td>Альберт</td>\n",
       "      <td>25</td>\n",
       "      <td>Краснодар</td>\n",
       "      <td>free</td>\n",
       "      <td>2,902.30866</td>\n",
       "      <td>16.67436</td>\n",
       "      <td>2021-11-27</td>\n",
       "      <td>11</td>\n",
       "      <td>8</td>\n",
       "      <td>50</td>\n",
       "      <td>0</td>\n",
       "    </tr>\n",
       "    <tr>\n",
       "      <th>18067</th>\n",
       "      <td>1534</td>\n",
       "      <td>Альберт</td>\n",
       "      <td>25</td>\n",
       "      <td>Краснодар</td>\n",
       "      <td>free</td>\n",
       "      <td>2,371.71119</td>\n",
       "      <td>15.89392</td>\n",
       "      <td>2021-12-29</td>\n",
       "      <td>12</td>\n",
       "      <td>8</td>\n",
       "      <td>50</td>\n",
       "      <td>0</td>\n",
       "    </tr>\n",
       "  </tbody>\n",
       "</table>\n",
       "<p>11568 rows × 12 columns</p>\n",
       "</div>"
      ],
      "text/plain": [
       "       user_id     name  age       city subscription_type  \\\n",
       "6500       700    Айдар   22       Омск              free   \n",
       "6501       700    Айдар   22       Омск              free   \n",
       "6502       700    Айдар   22       Омск              free   \n",
       "6503       700    Айдар   22       Омск              free   \n",
       "6504       700    Айдар   22       Омск              free   \n",
       "...        ...      ...  ...        ...               ...   \n",
       "18063     1534  Альберт   25  Краснодар              free   \n",
       "18064     1534  Альберт   25  Краснодар              free   \n",
       "18065     1534  Альберт   25  Краснодар              free   \n",
       "18066     1534  Альберт   25  Краснодар              free   \n",
       "18067     1534  Альберт   25  Краснодар              free   \n",
       "\n",
       "                  distance             duration       date  month  \\\n",
       "6500           2,515.69072             14.94429 2021-01-02      1   \n",
       "6501             846.93264             16.23466 2021-02-01      2   \n",
       "6502           4,004.43414             20.01663 2021-02-04      2   \n",
       "6503           1,205.91129              9.78287 2021-02-10      2   \n",
       "6504           3,047.37944             17.42767 2021-02-14      2   \n",
       "...                    ...                  ...        ...    ...   \n",
       "18063          3,781.09808             19.82296 2021-11-04     11   \n",
       "18064          2,840.42306             21.40980 2021-11-16     11   \n",
       "18065          3,826.18551             18.43505 2021-11-18     11   \n",
       "18066          2,902.30866             16.67436 2021-11-27     11   \n",
       "18067          2,371.71119             15.89392 2021-12-29     12   \n",
       "\n",
       "       minute_price  start_ride_price  subscription_fee  \n",
       "6500              8                50                 0  \n",
       "6501              8                50                 0  \n",
       "6502              8                50                 0  \n",
       "6503              8                50                 0  \n",
       "6504              8                50                 0  \n",
       "...             ...               ...               ...  \n",
       "18063             8                50                 0  \n",
       "18064             8                50                 0  \n",
       "18065             8                50                 0  \n",
       "18066             8                50                 0  \n",
       "18067             8                50                 0  \n",
       "\n",
       "[11568 rows x 12 columns]"
      ]
     },
     "execution_count": 27,
     "metadata": {},
     "output_type": "execute_result"
    }
   ],
   "source": [
    "df_free = df_merge[df_merge['subscription_type'] == 'free']\n",
    "df_free"
   ]
  },
  {
   "cell_type": "markdown",
   "id": "9fe1941b",
   "metadata": {},
   "source": [
    "Создадим датафрейм с данными о пользователях с подпиской"
   ]
  },
  {
   "cell_type": "code",
   "execution_count": 28,
   "id": "131f237b",
   "metadata": {},
   "outputs": [
    {
     "data": {
      "text/html": [
       "<div>\n",
       "<style scoped>\n",
       "    .dataframe tbody tr th:only-of-type {\n",
       "        vertical-align: middle;\n",
       "    }\n",
       "\n",
       "    .dataframe tbody tr th {\n",
       "        vertical-align: top;\n",
       "    }\n",
       "\n",
       "    .dataframe thead th {\n",
       "        text-align: right;\n",
       "    }\n",
       "</style>\n",
       "<table border=\"1\" class=\"dataframe\">\n",
       "  <thead>\n",
       "    <tr style=\"text-align: right;\">\n",
       "      <th></th>\n",
       "      <th>user_id</th>\n",
       "      <th>name</th>\n",
       "      <th>age</th>\n",
       "      <th>city</th>\n",
       "      <th>subscription_type</th>\n",
       "      <th>distance</th>\n",
       "      <th>duration</th>\n",
       "      <th>date</th>\n",
       "      <th>month</th>\n",
       "      <th>minute_price</th>\n",
       "      <th>start_ride_price</th>\n",
       "      <th>subscription_fee</th>\n",
       "    </tr>\n",
       "  </thead>\n",
       "  <tbody>\n",
       "    <tr>\n",
       "      <th>0</th>\n",
       "      <td>1</td>\n",
       "      <td>Кира</td>\n",
       "      <td>22</td>\n",
       "      <td>Тюмень</td>\n",
       "      <td>ultra</td>\n",
       "      <td>4,409.91914</td>\n",
       "      <td>25.59977</td>\n",
       "      <td>2021-01-01</td>\n",
       "      <td>1</td>\n",
       "      <td>6</td>\n",
       "      <td>0</td>\n",
       "      <td>199</td>\n",
       "    </tr>\n",
       "    <tr>\n",
       "      <th>1</th>\n",
       "      <td>1</td>\n",
       "      <td>Кира</td>\n",
       "      <td>22</td>\n",
       "      <td>Тюмень</td>\n",
       "      <td>ultra</td>\n",
       "      <td>2,617.59215</td>\n",
       "      <td>15.81687</td>\n",
       "      <td>2021-01-18</td>\n",
       "      <td>1</td>\n",
       "      <td>6</td>\n",
       "      <td>0</td>\n",
       "      <td>199</td>\n",
       "    </tr>\n",
       "    <tr>\n",
       "      <th>2</th>\n",
       "      <td>1</td>\n",
       "      <td>Кира</td>\n",
       "      <td>22</td>\n",
       "      <td>Тюмень</td>\n",
       "      <td>ultra</td>\n",
       "      <td>754.15981</td>\n",
       "      <td>6.23211</td>\n",
       "      <td>2021-04-20</td>\n",
       "      <td>4</td>\n",
       "      <td>6</td>\n",
       "      <td>0</td>\n",
       "      <td>199</td>\n",
       "    </tr>\n",
       "    <tr>\n",
       "      <th>3</th>\n",
       "      <td>1</td>\n",
       "      <td>Кира</td>\n",
       "      <td>22</td>\n",
       "      <td>Тюмень</td>\n",
       "      <td>ultra</td>\n",
       "      <td>2,694.78325</td>\n",
       "      <td>18.51100</td>\n",
       "      <td>2021-08-11</td>\n",
       "      <td>8</td>\n",
       "      <td>6</td>\n",
       "      <td>0</td>\n",
       "      <td>199</td>\n",
       "    </tr>\n",
       "    <tr>\n",
       "      <th>4</th>\n",
       "      <td>1</td>\n",
       "      <td>Кира</td>\n",
       "      <td>22</td>\n",
       "      <td>Тюмень</td>\n",
       "      <td>ultra</td>\n",
       "      <td>4,028.68731</td>\n",
       "      <td>26.26580</td>\n",
       "      <td>2021-08-28</td>\n",
       "      <td>8</td>\n",
       "      <td>6</td>\n",
       "      <td>0</td>\n",
       "      <td>199</td>\n",
       "    </tr>\n",
       "    <tr>\n",
       "      <th>...</th>\n",
       "      <td>...</td>\n",
       "      <td>...</td>\n",
       "      <td>...</td>\n",
       "      <td>...</td>\n",
       "      <td>...</td>\n",
       "      <td>...</td>\n",
       "      <td>...</td>\n",
       "      <td>...</td>\n",
       "      <td>...</td>\n",
       "      <td>...</td>\n",
       "      <td>...</td>\n",
       "      <td>...</td>\n",
       "    </tr>\n",
       "    <tr>\n",
       "      <th>6495</th>\n",
       "      <td>699</td>\n",
       "      <td>Оксана</td>\n",
       "      <td>22</td>\n",
       "      <td>Москва</td>\n",
       "      <td>ultra</td>\n",
       "      <td>3,973.04650</td>\n",
       "      <td>24.67116</td>\n",
       "      <td>2021-08-29</td>\n",
       "      <td>8</td>\n",
       "      <td>6</td>\n",
       "      <td>0</td>\n",
       "      <td>199</td>\n",
       "    </tr>\n",
       "    <tr>\n",
       "      <th>6496</th>\n",
       "      <td>699</td>\n",
       "      <td>Оксана</td>\n",
       "      <td>22</td>\n",
       "      <td>Москва</td>\n",
       "      <td>ultra</td>\n",
       "      <td>3,288.70256</td>\n",
       "      <td>15.89289</td>\n",
       "      <td>2021-09-12</td>\n",
       "      <td>9</td>\n",
       "      <td>6</td>\n",
       "      <td>0</td>\n",
       "      <td>199</td>\n",
       "    </tr>\n",
       "    <tr>\n",
       "      <th>6497</th>\n",
       "      <td>699</td>\n",
       "      <td>Оксана</td>\n",
       "      <td>22</td>\n",
       "      <td>Москва</td>\n",
       "      <td>ultra</td>\n",
       "      <td>3,076.15935</td>\n",
       "      <td>14.38953</td>\n",
       "      <td>2021-09-26</td>\n",
       "      <td>9</td>\n",
       "      <td>6</td>\n",
       "      <td>0</td>\n",
       "      <td>199</td>\n",
       "    </tr>\n",
       "    <tr>\n",
       "      <th>6498</th>\n",
       "      <td>699</td>\n",
       "      <td>Оксана</td>\n",
       "      <td>22</td>\n",
       "      <td>Москва</td>\n",
       "      <td>ultra</td>\n",
       "      <td>4,707.84550</td>\n",
       "      <td>15.83958</td>\n",
       "      <td>2021-10-17</td>\n",
       "      <td>10</td>\n",
       "      <td>6</td>\n",
       "      <td>0</td>\n",
       "      <td>199</td>\n",
       "    </tr>\n",
       "    <tr>\n",
       "      <th>6499</th>\n",
       "      <td>699</td>\n",
       "      <td>Оксана</td>\n",
       "      <td>22</td>\n",
       "      <td>Москва</td>\n",
       "      <td>ultra</td>\n",
       "      <td>3,202.89077</td>\n",
       "      <td>25.21734</td>\n",
       "      <td>2021-12-03</td>\n",
       "      <td>12</td>\n",
       "      <td>6</td>\n",
       "      <td>0</td>\n",
       "      <td>199</td>\n",
       "    </tr>\n",
       "  </tbody>\n",
       "</table>\n",
       "<p>6500 rows × 12 columns</p>\n",
       "</div>"
      ],
      "text/plain": [
       "      user_id    name  age    city subscription_type             distance  \\\n",
       "0           1    Кира   22  Тюмень             ultra          4,409.91914   \n",
       "1           1    Кира   22  Тюмень             ultra          2,617.59215   \n",
       "2           1    Кира   22  Тюмень             ultra            754.15981   \n",
       "3           1    Кира   22  Тюмень             ultra          2,694.78325   \n",
       "4           1    Кира   22  Тюмень             ultra          4,028.68731   \n",
       "...       ...     ...  ...     ...               ...                  ...   \n",
       "6495      699  Оксана   22  Москва             ultra          3,973.04650   \n",
       "6496      699  Оксана   22  Москва             ultra          3,288.70256   \n",
       "6497      699  Оксана   22  Москва             ultra          3,076.15935   \n",
       "6498      699  Оксана   22  Москва             ultra          4,707.84550   \n",
       "6499      699  Оксана   22  Москва             ultra          3,202.89077   \n",
       "\n",
       "                 duration       date  month  minute_price  start_ride_price  \\\n",
       "0                25.59977 2021-01-01      1             6                 0   \n",
       "1                15.81687 2021-01-18      1             6                 0   \n",
       "2                 6.23211 2021-04-20      4             6                 0   \n",
       "3                18.51100 2021-08-11      8             6                 0   \n",
       "4                26.26580 2021-08-28      8             6                 0   \n",
       "...                   ...        ...    ...           ...               ...   \n",
       "6495             24.67116 2021-08-29      8             6                 0   \n",
       "6496             15.89289 2021-09-12      9             6                 0   \n",
       "6497             14.38953 2021-09-26      9             6                 0   \n",
       "6498             15.83958 2021-10-17     10             6                 0   \n",
       "6499             25.21734 2021-12-03     12             6                 0   \n",
       "\n",
       "      subscription_fee  \n",
       "0                  199  \n",
       "1                  199  \n",
       "2                  199  \n",
       "3                  199  \n",
       "4                  199  \n",
       "...                ...  \n",
       "6495               199  \n",
       "6496               199  \n",
       "6497               199  \n",
       "6498               199  \n",
       "6499               199  \n",
       "\n",
       "[6500 rows x 12 columns]"
      ]
     },
     "execution_count": 28,
     "metadata": {},
     "output_type": "execute_result"
    }
   ],
   "source": [
    "df_ultra = df_merge[df_merge['subscription_type'] == 'ultra']\n",
    "df_ultra"
   ]
  },
  {
   "cell_type": "markdown",
   "id": "53fe9054",
   "metadata": {},
   "source": [
    "Обьединение и разделение таблиц на отдельные прошло гладко, нигде не потерялись строки."
   ]
  },
  {
   "cell_type": "markdown",
   "id": "c8c03ec6",
   "metadata": {},
   "source": [
    "###  Визуализируйте информацию о расстоянии и времени поездок для пользователей обеих категорий."
   ]
  },
  {
   "cell_type": "markdown",
   "id": "b8c4f954",
   "metadata": {},
   "source": [
    "**Пользователи без подписки:**"
   ]
  },
  {
   "cell_type": "code",
   "execution_count": 29,
   "id": "de64b51d",
   "metadata": {},
   "outputs": [
    {
     "data": {
      "text/plain": [
       "Text(0, 0.5, 'Частота')"
      ]
     },
     "execution_count": 29,
     "metadata": {},
     "output_type": "execute_result"
    },
    {
     "data": {
      "image/png": "[encoded data removed]",
      "text/plain": [
       "<Figure size 720x360 with 1 Axes>"
      ]
     },
     "metadata": {
      "needs_background": "light"
     },
     "output_type": "display_data"
    }
   ],
   "source": [
    "# Визуализация расстояния для пользователей без подписки\n",
    "df_free['distance'].plot(kind='hist',\n",
    "                       grid=True,\n",
    "                       bins=50,\n",
    "                       figsize=(10, 5),\n",
    "                       title='Расстояние за одну поездку для пользователей без подписки',\n",
    "                       xlabel='Расстояние',\n",
    "                       ylabel='Частота');\n",
    "plt.xlabel('Расстояние')\n",
    "plt.ylabel('Частота')"
   ]
  },
  {
   "cell_type": "code",
   "execution_count": 30,
   "id": "b32f414b",
   "metadata": {},
   "outputs": [
    {
     "data": {
      "text/plain": [
       "count           11,568.00000\n",
       "mean             3,045.49528\n",
       "std              1,246.17381\n",
       "min                  0.85568\n",
       "25%              2,366.56269\n",
       "50%              3,114.64846\n",
       "75%              3,905.69789\n",
       "max              7,211.00774\n",
       "Name: distance, dtype: float64"
      ]
     },
     "execution_count": 30,
     "metadata": {},
     "output_type": "execute_result"
    }
   ],
   "source": [
    "df_free['distance'].describe()"
   ]
  },
  {
   "cell_type": "markdown",
   "id": "aff4392a",
   "metadata": {},
   "source": [
    "**Вывод:**\n",
    "- среднее расстояние, преодоленное пользователем без подписки за одну поездку варьируется от **2.5** до **3.9 километров**;\n",
    "\n",
    "- максимальное расстояние **7.2 километра**;\n",
    "\n",
    "- минимальное расстояние **меньше метра**, вероятнее всего, пользователь сразу после начала поездки предпочел самокату другой способ передвижения и завершил поездку."
   ]
  },
  {
   "cell_type": "code",
   "execution_count": 31,
   "id": "6a3dd2cd",
   "metadata": {},
   "outputs": [
    {
     "data": {
      "text/plain": [
       "Text(0, 0.5, 'Частота')"
      ]
     },
     "execution_count": 31,
     "metadata": {},
     "output_type": "execute_result"
    },
    {
     "data": {
      "image/png": "[encoded data removed]",
      "text/plain": [
       "<Figure size 720x360 with 1 Axes>"
      ]
     },
     "metadata": {
      "needs_background": "light"
     },
     "output_type": "display_data"
    }
   ],
   "source": [
    "# Визуализация длительности поездки для пользователей без подписки\n",
    "df_free['duration'].plot(kind='hist',\n",
    "                       grid=True,\n",
    "                       bins=100,\n",
    "                       figsize=(10, 5),\n",
    "                       title='Продолжительность поездок для пользователей без подписки',\n",
    "                       xlabel='Время поездки в минутах',\n",
    "                       ylabel='Частота');\n",
    "plt.xlabel('Время поездки в минутах')\n",
    "plt.ylabel('Частота')"
   ]
  },
  {
   "cell_type": "code",
   "execution_count": 32,
   "id": "1be36c45",
   "metadata": {},
   "outputs": [
    {
     "data": {
      "text/plain": [
       "count           11,568.00000\n",
       "mean                17.39091\n",
       "std                  6.32680\n",
       "min                  0.50000\n",
       "25%                 12.95844\n",
       "50%                 17.32689\n",
       "75%                 21.59407\n",
       "max                 34.94850\n",
       "Name: duration, dtype: float64"
      ]
     },
     "execution_count": 32,
     "metadata": {},
     "output_type": "execute_result"
    }
   ],
   "source": [
    "df_free['duration'].describe()"
   ]
  },
  {
   "cell_type": "markdown",
   "id": "875c0d18",
   "metadata": {},
   "source": [
    "**Вывод:**\n",
    "- среднее время поездки для пользователей без подписки варьируется от **13** до **21 минуты**;\n",
    "\n",
    "- максимальное время **34 минуты**;\n",
    "\n",
    "- минимальное время **меньше минуты**, вероятнее всего, пользователь сразу после начала поездки предпочел самокату другой способ передвижения и завершил поездку."
   ]
  },
  {
   "cell_type": "markdown",
   "id": "f0ce7d31",
   "metadata": {},
   "source": [
    "**Пользователи с подпиской:**"
   ]
  },
  {
   "cell_type": "code",
   "execution_count": 33,
   "id": "3d03101d",
   "metadata": {},
   "outputs": [
    {
     "data": {
      "text/plain": [
       "Text(0, 0.5, 'Частота')"
      ]
     },
     "execution_count": 33,
     "metadata": {},
     "output_type": "execute_result"
    },
    {
     "data": {
      "image/png": "[encoded data removed]",
      "text/plain": [
       "<Figure size 720x360 with 1 Axes>"
      ]
     },
     "metadata": {
      "needs_background": "light"
     },
     "output_type": "display_data"
    }
   ],
   "source": [
    "# Визуализация расстояния для пользователей с подпиской\n",
    "df_ultra['distance'].plot(kind='hist',\n",
    "                       grid=True,\n",
    "                       bins=50,\n",
    "                       figsize=(10, 5),\n",
    "                       title='Расстояние за одну поездку для пользователей с подпиской',\n",
    "                       xlabel='Расстояние',\n",
    "                       ylabel='Частота');\n",
    "plt.xlabel('Расстояние')\n",
    "plt.ylabel('Частота')"
   ]
  },
  {
   "cell_type": "code",
   "execution_count": 34,
   "id": "e2e6a0cd",
   "metadata": {},
   "outputs": [
    {
     "data": {
      "text/plain": [
       "count            6,500.00000\n",
       "mean             3,115.44539\n",
       "std                836.89533\n",
       "min                244.21044\n",
       "25%              2,785.44402\n",
       "50%              3,148.63723\n",
       "75%              3,560.57442\n",
       "max              5,699.76966\n",
       "Name: distance, dtype: float64"
      ]
     },
     "execution_count": 34,
     "metadata": {},
     "output_type": "execute_result"
    }
   ],
   "source": [
    "df_ultra['distance'].describe()"
   ]
  },
  {
   "cell_type": "markdown",
   "id": "9f1dbcd5",
   "metadata": {},
   "source": [
    "**Вывод:**\n",
    "- среднее расстояние, преодоленное пользователем с подпиской за одну поездку варьируется от **2.7** до **3.5 километров**;\n",
    "\n",
    "- максимальное расстояние **5.6 километров**;\n",
    "\n",
    "- минимальное расстояние **244 метра**"
   ]
  },
  {
   "cell_type": "code",
   "execution_count": 35,
   "id": "b4157783",
   "metadata": {},
   "outputs": [
    {
     "data": {
      "text/plain": [
       "Text(0, 0.5, 'Частота')"
      ]
     },
     "execution_count": 35,
     "metadata": {},
     "output_type": "execute_result"
    },
    {
     "data": {
      "image/png": "[encoded data removed]",
      "text/plain": [
       "<Figure size 720x360 with 1 Axes>"
      ]
     },
     "metadata": {
      "needs_background": "light"
     },
     "output_type": "display_data"
    }
   ],
   "source": [
    "# Визуализация длительности поездки для пользователей с подпиской\n",
    "df_ultra['duration'].plot(kind='hist',\n",
    "                       grid=True,\n",
    "                       bins=100,\n",
    "                       figsize=(10, 5),\n",
    "                       title='Продолжительность поездок для пользователей с подпиской',\n",
    "                       xlabel='Время поездки в минутах',\n",
    "                       ylabel='Частота');\n",
    "plt.xlabel('Время поездки в минутах')\n",
    "plt.ylabel('Частота')"
   ]
  },
  {
   "cell_type": "code",
   "execution_count": 36,
   "id": "94b8ca40",
   "metadata": {
    "scrolled": true
   },
   "outputs": [
    {
     "data": {
      "text/plain": [
       "count            6,500.00000\n",
       "mean                18.54199\n",
       "std                  5.57205\n",
       "min                  3.76035\n",
       "25%                 14.52465\n",
       "50%                 18.17815\n",
       "75%                 21.88413\n",
       "max                 40.82396\n",
       "Name: duration, dtype: float64"
      ]
     },
     "execution_count": 36,
     "metadata": {},
     "output_type": "execute_result"
    }
   ],
   "source": [
    "df_ultra['duration'].describe()"
   ]
  },
  {
   "cell_type": "markdown",
   "id": "6cefbf44",
   "metadata": {},
   "source": [
    "**Вывод:**\n",
    "- среднее время поездки для пользователей без подписки варьируется от **14** до **21 минуты**;\n",
    "\n",
    "- максимальное время **40 минут**;\n",
    "\n",
    "- минимальное время **3.7 минуты**."
   ]
  },
  {
   "cell_type": "markdown",
   "id": "b6ef3e93",
   "metadata": {},
   "source": [
    "### Общий вывод:\n",
    "\n",
    "- средние расстояния, преодоленные пользователями с подпиской и без примерно одинаковы, у пользователей с подпиской среднее расстояние за одну поездку чуть меньше. Но у пользователей без подписки разброс значений заметен сильнее. Так, максимальное расстояние без подписки составляет **7.2 километра** против **5.6 километра**. Вероятнее всего это связано с тем, что пользователи с подпиской готовы ездить на менее короткие расстояния, так как не платят ничего за старт поездки;\n",
    "\n",
    "- среднее время одной поездки у пользователей с подпиской и без нее практически равны."
   ]
  },
  {
   "cell_type": "markdown",
   "id": "6cdfb997",
   "metadata": {},
   "source": [
    "## Подсчёт выручки."
   ]
  },
  {
   "cell_type": "code",
   "execution_count": 37,
   "id": "784a68a1",
   "metadata": {},
   "outputs": [
    {
     "data": {
      "text/plain": [
       "user_id              0\n",
       "name                 0\n",
       "age                  0\n",
       "city                 0\n",
       "subscription_type    0\n",
       "distance             0\n",
       "duration             0\n",
       "date                 0\n",
       "month                0\n",
       "minute_price         0\n",
       "start_ride_price     0\n",
       "subscription_fee     0\n",
       "dtype: int64"
      ]
     },
     "execution_count": 37,
     "metadata": {},
     "output_type": "execute_result"
    }
   ],
   "source": [
    "df_merge.isna().sum()"
   ]
  },
  {
   "cell_type": "markdown",
   "id": "51ade879",
   "metadata": {},
   "source": [
    "Проверка на пропуски прошла успешно, все данные присутствуют."
   ]
  },
  {
   "cell_type": "markdown",
   "id": "5b18b943",
   "metadata": {},
   "source": [
    "### Создайте датафрейм с агрегированными данными о поездках на основе датафрейма с объединёнными данными из пункта 4."
   ]
  },
  {
   "cell_type": "code",
   "execution_count": 38,
   "id": "9a14dfff",
   "metadata": {},
   "outputs": [
    {
     "data": {
      "text/html": [
       "<div>\n",
       "<style scoped>\n",
       "    .dataframe tbody tr th:only-of-type {\n",
       "        vertical-align: middle;\n",
       "    }\n",
       "\n",
       "    .dataframe tbody tr th {\n",
       "        vertical-align: top;\n",
       "    }\n",
       "\n",
       "    .dataframe thead th {\n",
       "        text-align: right;\n",
       "    }\n",
       "</style>\n",
       "<table border=\"1\" class=\"dataframe\">\n",
       "  <thead>\n",
       "    <tr style=\"text-align: right;\">\n",
       "      <th></th>\n",
       "      <th>user_id</th>\n",
       "      <th>name</th>\n",
       "      <th>age</th>\n",
       "      <th>city</th>\n",
       "      <th>subscription_type</th>\n",
       "      <th>distance</th>\n",
       "      <th>duration</th>\n",
       "      <th>date</th>\n",
       "      <th>month</th>\n",
       "      <th>minute_price</th>\n",
       "      <th>start_ride_price</th>\n",
       "      <th>subscription_fee</th>\n",
       "    </tr>\n",
       "  </thead>\n",
       "  <tbody>\n",
       "    <tr>\n",
       "      <th>0</th>\n",
       "      <td>1</td>\n",
       "      <td>Кира</td>\n",
       "      <td>22</td>\n",
       "      <td>Тюмень</td>\n",
       "      <td>ultra</td>\n",
       "      <td>4,409.91914</td>\n",
       "      <td>25.59977</td>\n",
       "      <td>2021-01-01</td>\n",
       "      <td>1</td>\n",
       "      <td>6</td>\n",
       "      <td>0</td>\n",
       "      <td>199</td>\n",
       "    </tr>\n",
       "    <tr>\n",
       "      <th>1</th>\n",
       "      <td>1</td>\n",
       "      <td>Кира</td>\n",
       "      <td>22</td>\n",
       "      <td>Тюмень</td>\n",
       "      <td>ultra</td>\n",
       "      <td>2,617.59215</td>\n",
       "      <td>15.81687</td>\n",
       "      <td>2021-01-18</td>\n",
       "      <td>1</td>\n",
       "      <td>6</td>\n",
       "      <td>0</td>\n",
       "      <td>199</td>\n",
       "    </tr>\n",
       "    <tr>\n",
       "      <th>2</th>\n",
       "      <td>1</td>\n",
       "      <td>Кира</td>\n",
       "      <td>22</td>\n",
       "      <td>Тюмень</td>\n",
       "      <td>ultra</td>\n",
       "      <td>754.15981</td>\n",
       "      <td>6.23211</td>\n",
       "      <td>2021-04-20</td>\n",
       "      <td>4</td>\n",
       "      <td>6</td>\n",
       "      <td>0</td>\n",
       "      <td>199</td>\n",
       "    </tr>\n",
       "    <tr>\n",
       "      <th>3</th>\n",
       "      <td>1</td>\n",
       "      <td>Кира</td>\n",
       "      <td>22</td>\n",
       "      <td>Тюмень</td>\n",
       "      <td>ultra</td>\n",
       "      <td>2,694.78325</td>\n",
       "      <td>18.51100</td>\n",
       "      <td>2021-08-11</td>\n",
       "      <td>8</td>\n",
       "      <td>6</td>\n",
       "      <td>0</td>\n",
       "      <td>199</td>\n",
       "    </tr>\n",
       "    <tr>\n",
       "      <th>4</th>\n",
       "      <td>1</td>\n",
       "      <td>Кира</td>\n",
       "      <td>22</td>\n",
       "      <td>Тюмень</td>\n",
       "      <td>ultra</td>\n",
       "      <td>4,028.68731</td>\n",
       "      <td>26.26580</td>\n",
       "      <td>2021-08-28</td>\n",
       "      <td>8</td>\n",
       "      <td>6</td>\n",
       "      <td>0</td>\n",
       "      <td>199</td>\n",
       "    </tr>\n",
       "  </tbody>\n",
       "</table>\n",
       "</div>"
      ],
      "text/plain": [
       "   user_id  name  age    city subscription_type             distance  \\\n",
       "0        1  Кира   22  Тюмень             ultra          4,409.91914   \n",
       "1        1  Кира   22  Тюмень             ultra          2,617.59215   \n",
       "2        1  Кира   22  Тюмень             ultra            754.15981   \n",
       "3        1  Кира   22  Тюмень             ultra          2,694.78325   \n",
       "4        1  Кира   22  Тюмень             ultra          4,028.68731   \n",
       "\n",
       "              duration       date  month  minute_price  start_ride_price  \\\n",
       "0             25.59977 2021-01-01      1             6                 0   \n",
       "1             15.81687 2021-01-18      1             6                 0   \n",
       "2              6.23211 2021-04-20      4             6                 0   \n",
       "3             18.51100 2021-08-11      8             6                 0   \n",
       "4             26.26580 2021-08-28      8             6                 0   \n",
       "\n",
       "   subscription_fee  \n",
       "0               199  \n",
       "1               199  \n",
       "2               199  \n",
       "3               199  \n",
       "4               199  "
      ]
     },
     "execution_count": 38,
     "metadata": {},
     "output_type": "execute_result"
    }
   ],
   "source": [
    "df_merge.head()"
   ]
  },
  {
   "cell_type": "code",
   "execution_count": 39,
   "id": "c2d87893",
   "metadata": {},
   "outputs": [
    {
     "data": {
      "text/html": [
       "<div>\n",
       "<style scoped>\n",
       "    .dataframe tbody tr th:only-of-type {\n",
       "        vertical-align: middle;\n",
       "    }\n",
       "\n",
       "    .dataframe tbody tr th {\n",
       "        vertical-align: top;\n",
       "    }\n",
       "\n",
       "    .dataframe thead th {\n",
       "        text-align: right;\n",
       "    }\n",
       "</style>\n",
       "<table border=\"1\" class=\"dataframe\">\n",
       "  <thead>\n",
       "    <tr style=\"text-align: right;\">\n",
       "      <th></th>\n",
       "      <th>user_id</th>\n",
       "      <th>month</th>\n",
       "      <th>trips</th>\n",
       "      <th>total_distance</th>\n",
       "      <th>total_duration</th>\n",
       "    </tr>\n",
       "  </thead>\n",
       "  <tbody>\n",
       "    <tr>\n",
       "      <th>0</th>\n",
       "      <td>1</td>\n",
       "      <td>1</td>\n",
       "      <td>2</td>\n",
       "      <td>7027</td>\n",
       "      <td>42</td>\n",
       "    </tr>\n",
       "    <tr>\n",
       "      <th>1</th>\n",
       "      <td>1</td>\n",
       "      <td>4</td>\n",
       "      <td>1</td>\n",
       "      <td>754</td>\n",
       "      <td>7</td>\n",
       "    </tr>\n",
       "    <tr>\n",
       "      <th>2</th>\n",
       "      <td>1</td>\n",
       "      <td>8</td>\n",
       "      <td>2</td>\n",
       "      <td>6723</td>\n",
       "      <td>46</td>\n",
       "    </tr>\n",
       "    <tr>\n",
       "      <th>3</th>\n",
       "      <td>1</td>\n",
       "      <td>10</td>\n",
       "      <td>2</td>\n",
       "      <td>5809</td>\n",
       "      <td>32</td>\n",
       "    </tr>\n",
       "    <tr>\n",
       "      <th>4</th>\n",
       "      <td>1</td>\n",
       "      <td>11</td>\n",
       "      <td>3</td>\n",
       "      <td>7003</td>\n",
       "      <td>56</td>\n",
       "    </tr>\n",
       "    <tr>\n",
       "      <th>...</th>\n",
       "      <td>...</td>\n",
       "      <td>...</td>\n",
       "      <td>...</td>\n",
       "      <td>...</td>\n",
       "      <td>...</td>\n",
       "    </tr>\n",
       "    <tr>\n",
       "      <th>11326</th>\n",
       "      <td>1534</td>\n",
       "      <td>6</td>\n",
       "      <td>2</td>\n",
       "      <td>3409</td>\n",
       "      <td>26</td>\n",
       "    </tr>\n",
       "    <tr>\n",
       "      <th>11327</th>\n",
       "      <td>1534</td>\n",
       "      <td>8</td>\n",
       "      <td>2</td>\n",
       "      <td>7622</td>\n",
       "      <td>48</td>\n",
       "    </tr>\n",
       "    <tr>\n",
       "      <th>11328</th>\n",
       "      <td>1534</td>\n",
       "      <td>9</td>\n",
       "      <td>1</td>\n",
       "      <td>4928</td>\n",
       "      <td>23</td>\n",
       "    </tr>\n",
       "    <tr>\n",
       "      <th>11329</th>\n",
       "      <td>1534</td>\n",
       "      <td>11</td>\n",
       "      <td>4</td>\n",
       "      <td>13350</td>\n",
       "      <td>78</td>\n",
       "    </tr>\n",
       "    <tr>\n",
       "      <th>11330</th>\n",
       "      <td>1534</td>\n",
       "      <td>12</td>\n",
       "      <td>1</td>\n",
       "      <td>2371</td>\n",
       "      <td>16</td>\n",
       "    </tr>\n",
       "  </tbody>\n",
       "</table>\n",
       "<p>11331 rows × 5 columns</p>\n",
       "</div>"
      ],
      "text/plain": [
       "       user_id  month  trips  total_distance  total_duration\n",
       "0            1      1      2            7027              42\n",
       "1            1      4      1             754               7\n",
       "2            1      8      2            6723              46\n",
       "3            1     10      2            5809              32\n",
       "4            1     11      3            7003              56\n",
       "...        ...    ...    ...             ...             ...\n",
       "11326     1534      6      2            3409              26\n",
       "11327     1534      8      2            7622              48\n",
       "11328     1534      9      1            4928              23\n",
       "11329     1534     11      4           13350              78\n",
       "11330     1534     12      1            2371              16\n",
       "\n",
       "[11331 rows x 5 columns]"
      ]
     },
     "execution_count": 39,
     "metadata": {},
     "output_type": "execute_result"
    }
   ],
   "source": [
    "# Округлим длительность каждой поездки до следующего целого значения\n",
    "df_merge['duration'] = np.ceil(df_merge['duration'])\n",
    "\n",
    "# Суммарное расстояние, количество поездок и суммарное время для каждого пользователя за каждый месяц\n",
    "df_grouped = df_merge.groupby(['user_id', 'month']).agg({'user_id': 'count',\n",
    "                                                         'distance': 'sum',\n",
    "                                                         'duration': 'sum'})\n",
    "\n",
    "# Переименуем столбцы\n",
    "df_grouped.rename(columns={'distance': 'total_distance',\n",
    "                           'user_id': 'trips',\n",
    "                           'duration': 'total_duration'},\n",
    "                            inplace=True)\n",
    "# Обновим индексацию\n",
    "df_grouped = df_grouped.reset_index()\n",
    "\n",
    "# Для читабельности приведем столбцы с длительностью и расстоянием поездки к типу целых чисел\n",
    "df_grouped['total_duration'] = df_grouped['total_duration'].astype('int')\n",
    "df_grouped['total_distance'] = df_grouped['total_distance'].astype('int')\n",
    "\n",
    "df_grouped"
   ]
  },
  {
   "cell_type": "markdown",
   "id": "9fe12f3b",
   "metadata": {},
   "source": [
    "### В этот же датафрейм добавьте столбец с помесячной выручкой, которую принёс каждый пользователь."
   ]
  },
  {
   "cell_type": "markdown",
   "id": "12b1bde3",
   "metadata": {},
   "source": [
    "Для удобства выполнения данного вычисления добавим в датафрейм `df_grouped` столбец с типом подписки, затем создадим функцию, которая проверяет наличие подписки, проводит вычисления и применим её к `df_grouped` для создания нового столбца `monthly_income`:"
   ]
  },
  {
   "cell_type": "code",
   "execution_count": 40,
   "id": "c55cb17a",
   "metadata": {},
   "outputs": [
    {
     "data": {
      "text/html": [
       "<div>\n",
       "<style scoped>\n",
       "    .dataframe tbody tr th:only-of-type {\n",
       "        vertical-align: middle;\n",
       "    }\n",
       "\n",
       "    .dataframe tbody tr th {\n",
       "        vertical-align: top;\n",
       "    }\n",
       "\n",
       "    .dataframe thead th {\n",
       "        text-align: right;\n",
       "    }\n",
       "</style>\n",
       "<table border=\"1\" class=\"dataframe\">\n",
       "  <thead>\n",
       "    <tr style=\"text-align: right;\">\n",
       "      <th></th>\n",
       "      <th>user_id</th>\n",
       "      <th>month</th>\n",
       "      <th>trips</th>\n",
       "      <th>total_distance</th>\n",
       "      <th>total_duration</th>\n",
       "      <th>subscription_type</th>\n",
       "      <th>monthly_income</th>\n",
       "    </tr>\n",
       "  </thead>\n",
       "  <tbody>\n",
       "    <tr>\n",
       "      <th>0</th>\n",
       "      <td>1</td>\n",
       "      <td>1</td>\n",
       "      <td>2</td>\n",
       "      <td>7027</td>\n",
       "      <td>42</td>\n",
       "      <td>ultra</td>\n",
       "      <td>451</td>\n",
       "    </tr>\n",
       "    <tr>\n",
       "      <th>1</th>\n",
       "      <td>1</td>\n",
       "      <td>4</td>\n",
       "      <td>1</td>\n",
       "      <td>754</td>\n",
       "      <td>7</td>\n",
       "      <td>ultra</td>\n",
       "      <td>241</td>\n",
       "    </tr>\n",
       "    <tr>\n",
       "      <th>2</th>\n",
       "      <td>1</td>\n",
       "      <td>8</td>\n",
       "      <td>2</td>\n",
       "      <td>6723</td>\n",
       "      <td>46</td>\n",
       "      <td>ultra</td>\n",
       "      <td>475</td>\n",
       "    </tr>\n",
       "    <tr>\n",
       "      <th>3</th>\n",
       "      <td>1</td>\n",
       "      <td>10</td>\n",
       "      <td>2</td>\n",
       "      <td>5809</td>\n",
       "      <td>32</td>\n",
       "      <td>ultra</td>\n",
       "      <td>391</td>\n",
       "    </tr>\n",
       "    <tr>\n",
       "      <th>4</th>\n",
       "      <td>1</td>\n",
       "      <td>11</td>\n",
       "      <td>3</td>\n",
       "      <td>7003</td>\n",
       "      <td>56</td>\n",
       "      <td>ultra</td>\n",
       "      <td>535</td>\n",
       "    </tr>\n",
       "    <tr>\n",
       "      <th>...</th>\n",
       "      <td>...</td>\n",
       "      <td>...</td>\n",
       "      <td>...</td>\n",
       "      <td>...</td>\n",
       "      <td>...</td>\n",
       "      <td>...</td>\n",
       "      <td>...</td>\n",
       "    </tr>\n",
       "    <tr>\n",
       "      <th>11326</th>\n",
       "      <td>1534</td>\n",
       "      <td>6</td>\n",
       "      <td>2</td>\n",
       "      <td>3409</td>\n",
       "      <td>26</td>\n",
       "      <td>free</td>\n",
       "      <td>308</td>\n",
       "    </tr>\n",
       "    <tr>\n",
       "      <th>11327</th>\n",
       "      <td>1534</td>\n",
       "      <td>8</td>\n",
       "      <td>2</td>\n",
       "      <td>7622</td>\n",
       "      <td>48</td>\n",
       "      <td>free</td>\n",
       "      <td>484</td>\n",
       "    </tr>\n",
       "    <tr>\n",
       "      <th>11328</th>\n",
       "      <td>1534</td>\n",
       "      <td>9</td>\n",
       "      <td>1</td>\n",
       "      <td>4928</td>\n",
       "      <td>23</td>\n",
       "      <td>free</td>\n",
       "      <td>234</td>\n",
       "    </tr>\n",
       "    <tr>\n",
       "      <th>11329</th>\n",
       "      <td>1534</td>\n",
       "      <td>11</td>\n",
       "      <td>4</td>\n",
       "      <td>13350</td>\n",
       "      <td>78</td>\n",
       "      <td>free</td>\n",
       "      <td>824</td>\n",
       "    </tr>\n",
       "    <tr>\n",
       "      <th>11330</th>\n",
       "      <td>1534</td>\n",
       "      <td>12</td>\n",
       "      <td>1</td>\n",
       "      <td>2371</td>\n",
       "      <td>16</td>\n",
       "      <td>free</td>\n",
       "      <td>178</td>\n",
       "    </tr>\n",
       "  </tbody>\n",
       "</table>\n",
       "<p>11331 rows × 7 columns</p>\n",
       "</div>"
      ],
      "text/plain": [
       "       user_id  month  trips  total_distance  total_duration  \\\n",
       "0            1      1      2            7027              42   \n",
       "1            1      4      1             754               7   \n",
       "2            1      8      2            6723              46   \n",
       "3            1     10      2            5809              32   \n",
       "4            1     11      3            7003              56   \n",
       "...        ...    ...    ...             ...             ...   \n",
       "11326     1534      6      2            3409              26   \n",
       "11327     1534      8      2            7622              48   \n",
       "11328     1534      9      1            4928              23   \n",
       "11329     1534     11      4           13350              78   \n",
       "11330     1534     12      1            2371              16   \n",
       "\n",
       "      subscription_type  monthly_income  \n",
       "0                 ultra             451  \n",
       "1                 ultra             241  \n",
       "2                 ultra             475  \n",
       "3                 ultra             391  \n",
       "4                 ultra             535  \n",
       "...                 ...             ...  \n",
       "11326              free             308  \n",
       "11327              free             484  \n",
       "11328              free             234  \n",
       "11329              free             824  \n",
       "11330              free             178  \n",
       "\n",
       "[11331 rows x 7 columns]"
      ]
     },
     "execution_count": 40,
     "metadata": {},
     "output_type": "execute_result"
    }
   ],
   "source": [
    "# Добавим столбец 'subscription_type' в датафрейм 'df_grouped'\n",
    "df_grouped['subscription_type'] = df_merge['subscription_type']\n",
    "\n",
    "# Функция для подсчета месячной выручки\n",
    "def monthly_income(row):\n",
    "    if row['subscription_type'] == 'free':\n",
    "        return (50 * row['trips']) + (8 * row['total_duration'])\n",
    "    elif row['subscription_type'] == 'ultra':\n",
    "        return (6 * row['total_duration']) + 199\n",
    "    \n",
    "# Применим функцию к 'df_grouped'\n",
    "df_grouped['monthly_income'] = df_grouped.apply(monthly_income, axis=1)\n",
    "df_grouped"
   ]
  },
  {
   "cell_type": "markdown",
   "id": "91693f59",
   "metadata": {},
   "source": [
    "## Проверка гипотез."
   ]
  },
  {
   "cell_type": "markdown",
   "id": "bd093756",
   "metadata": {},
   "source": [
    "###  Тратят ли пользователи с подпиской больше времени на поездки?"
   ]
  },
  {
   "cell_type": "code",
   "execution_count": 41,
   "id": "d8a36945",
   "metadata": {},
   "outputs": [
    {
     "data": {
      "text/html": [
       "<div>\n",
       "<style scoped>\n",
       "    .dataframe tbody tr th:only-of-type {\n",
       "        vertical-align: middle;\n",
       "    }\n",
       "\n",
       "    .dataframe tbody tr th {\n",
       "        vertical-align: top;\n",
       "    }\n",
       "\n",
       "    .dataframe thead th {\n",
       "        text-align: right;\n",
       "    }\n",
       "</style>\n",
       "<table border=\"1\" class=\"dataframe\">\n",
       "  <thead>\n",
       "    <tr style=\"text-align: right;\">\n",
       "      <th></th>\n",
       "      <th>subscription_type</th>\n",
       "      <th>total_duration</th>\n",
       "    </tr>\n",
       "  </thead>\n",
       "  <tbody>\n",
       "    <tr>\n",
       "      <th>0</th>\n",
       "      <td>free</td>\n",
       "      <td>146892</td>\n",
       "    </tr>\n",
       "    <tr>\n",
       "      <th>1</th>\n",
       "      <td>ultra</td>\n",
       "      <td>183816</td>\n",
       "    </tr>\n",
       "  </tbody>\n",
       "</table>\n",
       "</div>"
      ],
      "text/plain": [
       "  subscription_type  total_duration\n",
       "0              free          146892\n",
       "1             ultra          183816"
      ]
     },
     "execution_count": 41,
     "metadata": {},
     "output_type": "execute_result"
    }
   ],
   "source": [
    "t = df_grouped.pivot_table(index='subscription_type', values='total_duration', aggfunc='sum').reset_index()\n",
    "t"
   ]
  },
  {
   "cell_type": "code",
   "execution_count": 42,
   "id": "c62c6c0b",
   "metadata": {
    "scrolled": false
   },
   "outputs": [
    {
     "data": {
      "image/png": "[encoded data removed]",
      "text/plain": [
       "<Figure size 432x288 with 1 Axes>"
      ]
     },
     "metadata": {
      "needs_background": "light"
     },
     "output_type": "display_data"
    }
   ],
   "source": [
    "# Предположим, у тебя есть DataFrame t с индексами, которые нужно заменить\n",
    "t.index = ['free', 'ultra']  # Присваиваем новые названия индексам\n",
    "t['total_duration'].plot(kind='bar', grid=True, title='Общая продолжительность поездок')\n",
    "plt.xlabel('Тип тарифа')  # Теперь общее название по оси X\n",
    "plt.show()"
   ]
  },
  {
   "cell_type": "markdown",
   "id": "d965e8f7",
   "metadata": {},
   "source": [
    "**Сформулируем нулевую и альтернативные гипотезы:**\n",
    "\n",
    "- H0 - пользователи с подпиской тратят также времени на поездку\n",
    "\n",
    "- H1 - пользователи с подпиской тратят меньше времени на поездку"
   ]
  },
  {
   "cell_type": "markdown",
   "id": "389e9a6e",
   "metadata": {},
   "source": [
    "***Для проведения теста для двух независимых выборок будем использовать метод `scipy.stats.ttest_ind`, так как мы проверяем, больше ли среднее время, потраченное на поездки у пользователей с подпиской, то параметр `alternative='less'`***"
   ]
  },
  {
   "cell_type": "code",
   "execution_count": 47,
   "id": "1afc8b55",
   "metadata": {},
   "outputs": [
    {
     "name": "stdout",
     "output_type": "stream",
     "text": [
      "p-значение: 1.0\n",
      "Не получилось отвергнуть нулевую гипотезу: пользователи с подпиской тратят больше времени на поездку\n"
     ]
    }
   ],
   "source": [
    "# Разобьем данные на две выборки, время с подпиской и без нее\n",
    "ultra_time = df_merge[df_merge['subscription_type'] == 'ultra']['duration']\n",
    "free_time = df_merge[df_merge['subscription_type'] == 'free']['duration']\n",
    "\n",
    "# Установим уровень статистической значимости 5%\n",
    "alpha = 0.05\n",
    "\n",
    "# Проведем t-тест\n",
    "results = st.ttest_ind(ultra_time, free_time, alternative='less', equal_var=False)\n",
    "\n",
    "# Выведем p-value\n",
    "print('p-значение:', results.pvalue )\n",
    "\n",
    "if (results.pvalue < alpha):\n",
    "    print('Отвергаем нулевую гипотезу: пользователи с подпиской тратят меньше времени на поездку')\n",
    "else:\n",
    "    print('Не получилось отвергнуть нулевую гипотезу: пользователи с подпиской тратят больше времени на поездку')"
   ]
  },
  {
   "cell_type": "markdown",
   "id": "47dc8cb5",
   "metadata": {},
   "source": [
    "**Вывод:**\n",
    "\n",
    "График, построенный по **общему** времени всех поездок показал, что пользователи с подпиской суммарно потратили больше времени на поездки.\n",
    "\n",
    "Так же, судя по результатам проведенного теста, пользователи с подпиской **в среднем** тратят больше времени на поездку."
   ]
  },
  {
   "cell_type": "markdown",
   "id": "9d3d8d50",
   "metadata": {},
   "source": [
    "### Можно ли сказать, что среднее расстояние, которое проезжают пользователи с подпиской за одну поездку, не превышает 3130 метров? "
   ]
  },
  {
   "cell_type": "markdown",
   "id": "e95004ca",
   "metadata": {},
   "source": [
    "Так как в данном случае мы должны проанализировать только одну выборку, то нам подойдет **Одновыборочный t-тест**:\n",
    "> **`scipy.stats.ttest_1samp()`**"
   ]
  },
  {
   "cell_type": "markdown",
   "id": "4ff665c1",
   "metadata": {},
   "source": [
    "**Сформулируем нулевую и альтернативные гипотезы:**\n",
    "\n",
    "- H0 - среднее расстояние, котороые проезжают пользователи с подпиской за одну поездку <= 3130 метров\n",
    "\n",
    "- H1 - среднее расстояние, которое проезжают пользователи с подпиской за одну поездку > 3130 метров"
   ]
  },
  {
   "cell_type": "code",
   "execution_count": 44,
   "id": "bcd3c7ed",
   "metadata": {},
   "outputs": [
    {
     "name": "stdout",
     "output_type": "stream",
     "text": [
      "p-значение: 0.9195368847849785\n",
      "Не получилось отвергнуть нулевую гипотезу: среднее расстояние близко к 3130 метрам\n"
     ]
    }
   ],
   "source": [
    "# Сохраним в переменную данные о расстоянии поездки пользователей с подпиской\n",
    "distance = df_merge[df_merge['subscription_type'] == 'ultra']['distance']\n",
    "\n",
    "# Интересующая нас дистанция\n",
    "interested_value = 3130\n",
    "\n",
    "# Установим уровень статистической значимости 5%\n",
    "alpha = 0.05\n",
    "\n",
    "# Проведем t-тест\n",
    "results = st.ttest_1samp(distance, interested_value, alternative='greater')\n",
    "\n",
    "# Выведем p-value\n",
    "print('p-значение:', results.pvalue )\n",
    "\n",
    "if (results.pvalue < alpha):\n",
    "    print('Отвергаем нулевую гипотезу: среднее расстояние больше чем 3130 метров')\n",
    "else:\n",
    "    print('Не получилось отвергнуть нулевую гипотезу: среднее расстояние близко к 3130 метрам')"
   ]
  },
  {
   "cell_type": "markdown",
   "id": "f561f961",
   "metadata": {},
   "source": [
    "**Вывод:**\n",
    "\n",
    "Действительно, на графике в пункте **4.3** видно, что среднее расстояние, которое проезжают пользователи с подпиской за одну поездку находится в районе **3000 метров**."
   ]
  },
  {
   "cell_type": "markdown",
   "id": "1d73dc90",
   "metadata": {},
   "source": [
    "### Будет ли помесячная выручка от пользователей с подпиской по месяцам выше, чем выручка от пользователей без подписки. "
   ]
  },
  {
   "cell_type": "markdown",
   "id": "7c127a0b",
   "metadata": {},
   "source": [
    "В данной ситуации нам нужно определить, равны ли два средних значения совокупности, для этого подойдет **Независимый t-тест для двух выборок, с параметром `equal_var=False`, так как у нас нет уверенности в схожести дисперсий этих выборок:**\n",
    "> **`scipy.stats.ttest_ind()`**"
   ]
  },
  {
   "cell_type": "markdown",
   "id": "28743ffa",
   "metadata": {},
   "source": [
    "**Сформулируем нулевую и альтернативные гипотезы:**\n",
    "\n",
    "- H0 - Средняя помесячная выручка от пользователей с подпиской == средней помесячной выручке от пользователей без подписки\n",
    "\n",
    "- H1 - Средняя помесячная выручка от пользователей с подпиской > средней помесячной выручке от пользователей без подписки"
   ]
  },
  {
   "cell_type": "code",
   "execution_count": 49,
   "id": "1b8cc59f",
   "metadata": {},
   "outputs": [
    {
     "name": "stdout",
     "output_type": "stream",
     "text": [
      "p-значение: 1.399236777307526e-43\n",
      "Отвергаем нулевую гипотезу: Средняя помесячная выручка от пользователей с подпиской\n",
      "не равна средней помесячной выручке от пользователей без подписки\n"
     ]
    }
   ],
   "source": [
    "# Сохраним данные о месячных доходах от пользователей с подпиской и без\n",
    "monthly_income_sub = df_grouped[df_grouped['subscription_type'] == 'ultra']['monthly_income'] # С подпиской\n",
    "monthly_income_unsub = df_grouped[df_grouped['subscription_type'] == 'free']['monthly_income'] # Без подписки\n",
    "\n",
    "# Зададим уровень статистической значимости 5%\n",
    "alpha = 0.05\n",
    "\n",
    "# Проведем t-тест, используем параметр equal_var=False, так как нет уверенности в схожести дисперсий\n",
    "results = st.ttest_ind(monthly_income_sub, monthly_income_unsub, alternative='greater', equal_var=False)\n",
    "\n",
    "# Выведем p-value\n",
    "print('p-значение:', results.pvalue )\n",
    "\n",
    "if (results.pvalue < alpha):\n",
    "    print('Отвергаем нулевую гипотезу: Средняя помесячная выручка от пользователей с подпиской\\nне равна средней помесячной выручке от пользователей без подписки')\n",
    "else:\n",
    "    print('Не получилось отвергнуть нулевую гипотезу: Средняя помесячная выручка от пользователей с подпиской\\nравна средней помесячной выручке от пользователей без подписки')"
   ]
  },
  {
   "cell_type": "markdown",
   "id": "4eac5b94",
   "metadata": {},
   "source": [
    "**Вывод:**\n",
    "- проведенный статистический тест показал, что `Средняя помесячная выручка от пользователей с подпиской не равна средней помесячной выручке от пользователей без подписки`."
   ]
  },
  {
   "cell_type": "markdown",
   "id": "5e6d7a6a",
   "metadata": {},
   "source": [
    "### Представьте такую ситуацию: техническая команда сервиса обновила сервера, с которыми взаимодействует мобильное приложение. Она надеется, что из-за этого количество обращений в техподдержку значимо снизилось. Некоторый файл содержит для каждого пользователя данные о количестве обращений до обновления и после него. Какой тест вам понадобился бы для проверки этой гипотезы?"
   ]
  },
  {
   "cell_type": "markdown",
   "id": "a609b7fb",
   "metadata": {},
   "source": [
    "Так как в данном случае нам предоставлены две генеральные совокупности, которые мы можем сравнить поэлементно, а нашей задачей является информация о том, изменилось ли количество обращений до обновления сервера и после, то для этого подойдет ***T-test для двух зависимых выборок:***\n",
    "> **`scipy.stats.ttest_rel(данные_до_обновления, данные_после_обновления)`**"
   ]
  },
  {
   "cell_type": "markdown",
   "id": "35b4f92d",
   "metadata": {},
   "source": [
    "# Вывод.\n",
    "\n",
    "**В ходе проекта были:**\n",
    "\n",
    "- Загружены данные;\n",
    "\n",
    "- Предобработаны данные;\n",
    "\n",
    "- Проведен Исследовательский анализ данных;\n",
    "\n",
    "- Обьединены данные и созданы дополнительные датафреймы для проведения рассчетов и тестов;\n",
    "\n",
    "- Подсчитана выручку;\n",
    "\n",
    "- Проверены гипотезы.\n",
    "\n",
    "**Проведение исследовательского анализа данных показало, что:**\n",
    "\n",
    "- самый часто встречающийся город - Пятигорск;\n",
    "\n",
    "- пользователей без подписки на **`8.8%`** больше, чем пользователей с подпиской;\n",
    "\n",
    "- средний возраст нашей выборки - **25 лет**;\n",
    "\n",
    "- целевая аудитория - пользователи от **20 до 28 лет**;\n",
    "\n",
    "- минимальный возраст пользователя - **12 лет**;\n",
    "\n",
    "- максимальный возраст пользователя - **43 года**;\n",
    "\n",
    "- в среднем дистанция поездки варьируется от **2.5** до **3.7 километров**;\n",
    "\n",
    "- максимальное расстояние **больше 7 километров**;\n",
    "\n",
    "- минимальное расстояние **меньше одного метра**. ***Скорее всего в данном случае самокат был взят в аренду ошибочно, или пользователь передумал совершать поездку***;\n",
    "\n",
    "- в среднем длительность поездки варьируется от **13** до **21 минуты**;\n",
    "\n",
    "- самая длинная поездка составляет **40 минут**;\n",
    "\n",
    "- самая короткая **меньше минуты**. ***Скорее всего такие данные появились в результате пользовательской ошибки, например:*** \n",
    "***Самокат оказался разряжен, или пользователь решил пойти пешком и отменил аренду***.\n",
    "\n",
    "**Были проверены 3 гипотезы:**\n",
    "\n",
    "1. Пользователи с подпиской тратят больше времени на поездки. Результат: **Нулевая гипотеза подтвердилась - пользователи с подпиской тратят больше времени на поездки**;\n",
    "\n",
    "2. Среднее расстояние, которое проезжают пользователи с подпиской за одну поездку, не превышает 3130 метров. Результат: ***Нулевая гипотеза подтвердилась - действительно, среднее расстояние, преодоленное пользователями за одну поездку в среднем не превышает 3130 метров***;\n",
    "\n",
    "3. Средняя помесячная выручка от пользователей с подпиской равна средней помесячной выручке от пользователей без подписки. Результат: ***Нулевая гипотеза не подтвердилась - средняя помесячная выручка от пользователей с подпиской не равна средней помесячной выручке от пользователей без подписки.***"
   ]
  },
  {
   "cell_type": "markdown",
   "id": "4edaf702",
   "metadata": {},
   "source": [
    "-------------------------------"
   ]
  },
  {
   "cell_type": "markdown",
   "id": "29adf89b",
   "metadata": {},
   "source": [
    "------------------------------------"
   ]
  }
 ],
 "metadata": {
  "ExecuteTimeLog": [
   {
    "duration": 1179,
    "start_time": "2024-03-18T19:14:26.641Z"
   },
   {
    "duration": 2,
    "start_time": "2024-03-18T19:14:27.822Z"
   },
   {
    "duration": 327,
    "start_time": "2024-03-18T19:14:27.825Z"
   },
   {
    "duration": 20,
    "start_time": "2024-03-18T19:14:28.154Z"
   },
   {
    "duration": 17,
    "start_time": "2024-03-18T19:14:28.176Z"
   },
   {
    "duration": 13,
    "start_time": "2024-03-18T19:14:28.195Z"
   },
   {
    "duration": 10,
    "start_time": "2024-03-18T19:14:28.210Z"
   },
   {
    "duration": 42,
    "start_time": "2024-03-18T19:14:28.222Z"
   },
   {
    "duration": 10,
    "start_time": "2024-03-18T19:14:28.266Z"
   },
   {
    "duration": 5,
    "start_time": "2024-03-18T19:14:28.278Z"
   },
   {
    "duration": 6,
    "start_time": "2024-03-18T19:14:28.284Z"
   },
   {
    "duration": 5,
    "start_time": "2024-03-18T19:14:28.291Z"
   },
   {
    "duration": 197,
    "start_time": "2024-03-18T19:14:28.297Z"
   },
   {
    "duration": 6,
    "start_time": "2024-03-18T19:14:28.495Z"
   },
   {
    "duration": 123,
    "start_time": "2024-03-18T19:14:28.502Z"
   },
   {
    "duration": 5,
    "start_time": "2024-03-18T19:14:28.626Z"
   },
   {
    "duration": 249,
    "start_time": "2024-03-18T19:14:28.632Z"
   },
   {
    "duration": 206,
    "start_time": "2024-03-18T19:14:28.882Z"
   },
   {
    "duration": 7,
    "start_time": "2024-03-18T19:14:29.090Z"
   },
   {
    "duration": 108,
    "start_time": "2024-03-18T19:14:29.099Z"
   },
   {
    "duration": 243,
    "start_time": "2024-03-18T19:14:29.209Z"
   },
   {
    "duration": 30,
    "start_time": "2024-03-18T19:14:29.454Z"
   },
   {
    "duration": 21,
    "start_time": "2024-03-18T19:14:29.486Z"
   },
   {
    "duration": 18,
    "start_time": "2024-03-18T19:14:29.509Z"
   },
   {
    "duration": 285,
    "start_time": "2024-03-18T19:14:29.529Z"
   },
   {
    "duration": 257,
    "start_time": "2024-03-18T19:14:29.815Z"
   },
   {
    "duration": 186,
    "start_time": "2024-03-18T19:14:30.073Z"
   },
   {
    "duration": 269,
    "start_time": "2024-03-18T19:14:30.262Z"
   },
   {
    "duration": 12,
    "start_time": "2024-03-18T19:14:30.532Z"
   },
   {
    "duration": 121,
    "start_time": "2024-03-18T19:14:30.545Z"
   },
   {
    "duration": 157,
    "start_time": "2024-03-18T19:14:30.668Z"
   },
   {
    "duration": 62,
    "start_time": "2024-03-18T19:14:30.826Z"
   },
   {
    "duration": 151,
    "start_time": "2024-03-18T19:14:30.890Z"
   },
   {
    "duration": 13,
    "start_time": "2024-03-18T19:14:31.043Z"
   },
   {
    "duration": 152,
    "start_time": "2024-03-18T19:14:31.059Z"
   },
   {
    "duration": 15,
    "start_time": "2024-03-18T19:14:31.213Z"
   },
   {
    "duration": 40,
    "start_time": "2024-03-18T19:14:31.230Z"
   },
   {
    "duration": 103,
    "start_time": "2024-03-18T19:14:31.272Z"
   },
   {
    "duration": 117,
    "start_time": "2024-03-18T19:22:43.909Z"
   },
   {
    "duration": 1043,
    "start_time": "2024-03-19T19:28:21.480Z"
   },
   {
    "duration": 3,
    "start_time": "2024-03-19T19:28:22.525Z"
   },
   {
    "duration": 107,
    "start_time": "2024-03-19T19:28:22.529Z"
   },
   {
    "duration": 18,
    "start_time": "2024-03-19T19:28:22.638Z"
   },
   {
    "duration": 14,
    "start_time": "2024-03-19T19:28:22.657Z"
   },
   {
    "duration": 13,
    "start_time": "2024-03-19T19:28:22.673Z"
   },
   {
    "duration": 15,
    "start_time": "2024-03-19T19:28:22.687Z"
   },
   {
    "duration": 8,
    "start_time": "2024-03-19T19:28:22.704Z"
   },
   {
    "duration": 6,
    "start_time": "2024-03-19T19:28:22.714Z"
   },
   {
    "duration": 9,
    "start_time": "2024-03-19T19:28:22.723Z"
   },
   {
    "duration": 5,
    "start_time": "2024-03-19T19:28:22.733Z"
   },
   {
    "duration": 7,
    "start_time": "2024-03-19T19:28:22.764Z"
   },
   {
    "duration": 6,
    "start_time": "2024-03-19T19:28:22.773Z"
   },
   {
    "duration": 180,
    "start_time": "2024-03-19T19:28:22.781Z"
   },
   {
    "duration": 7,
    "start_time": "2024-03-19T19:28:22.962Z"
   },
   {
    "duration": 83,
    "start_time": "2024-03-19T19:28:22.971Z"
   },
   {
    "duration": 6,
    "start_time": "2024-03-19T19:28:23.065Z"
   },
   {
    "duration": 245,
    "start_time": "2024-03-19T19:28:23.073Z"
   },
   {
    "duration": 199,
    "start_time": "2024-03-19T19:28:23.320Z"
   },
   {
    "duration": 7,
    "start_time": "2024-03-19T19:28:23.521Z"
   },
   {
    "duration": 112,
    "start_time": "2024-03-19T19:28:23.529Z"
   },
   {
    "duration": 272,
    "start_time": "2024-03-19T19:28:23.642Z"
   },
   {
    "duration": 165,
    "start_time": "2024-03-19T19:28:23.916Z"
   },
   {
    "duration": 8,
    "start_time": "2024-03-19T19:28:24.083Z"
   },
   {
    "duration": 4,
    "start_time": "2024-03-19T19:28:24.092Z"
   },
   {
    "duration": 43,
    "start_time": "2024-03-19T19:28:24.097Z"
   },
   {
    "duration": 30,
    "start_time": "2024-03-19T19:28:24.141Z"
   },
   {
    "duration": 20,
    "start_time": "2024-03-19T19:28:24.174Z"
   },
   {
    "duration": 206,
    "start_time": "2024-03-19T19:28:24.195Z"
   },
   {
    "duration": 8,
    "start_time": "2024-03-19T19:28:24.402Z"
   },
   {
    "duration": 257,
    "start_time": "2024-03-19T19:28:24.411Z"
   },
   {
    "duration": 7,
    "start_time": "2024-03-19T19:28:24.669Z"
   },
   {
    "duration": 190,
    "start_time": "2024-03-19T19:28:24.677Z"
   },
   {
    "duration": 8,
    "start_time": "2024-03-19T19:28:24.868Z"
   },
   {
    "duration": 272,
    "start_time": "2024-03-19T19:28:24.877Z"
   },
   {
    "duration": 17,
    "start_time": "2024-03-19T19:28:25.151Z"
   },
   {
    "duration": 8,
    "start_time": "2024-03-19T19:28:25.169Z"
   },
   {
    "duration": 13,
    "start_time": "2024-03-19T19:28:25.179Z"
   },
   {
    "duration": 32,
    "start_time": "2024-03-19T19:28:25.194Z"
   },
   {
    "duration": 148,
    "start_time": "2024-03-19T19:28:25.228Z"
   },
   {
    "duration": 14,
    "start_time": "2024-03-19T19:28:25.377Z"
   },
   {
    "duration": 121,
    "start_time": "2024-03-19T19:28:25.393Z"
   },
   {
    "duration": 9,
    "start_time": "2024-03-19T19:28:25.516Z"
   },
   {
    "duration": 8,
    "start_time": "2024-03-19T19:28:25.527Z"
   },
   {
    "duration": 29,
    "start_time": "2024-03-19T19:28:25.536Z"
   },
   {
    "duration": 206,
    "start_time": "2024-03-19T19:29:59.316Z"
   },
   {
    "duration": 336,
    "start_time": "2024-03-19T19:30:28.360Z"
   },
   {
    "duration": 198,
    "start_time": "2024-03-19T19:31:07.086Z"
   },
   {
    "duration": 219,
    "start_time": "2024-03-19T19:31:13.941Z"
   },
   {
    "duration": 242,
    "start_time": "2024-03-19T19:31:21.355Z"
   },
   {
    "duration": 251,
    "start_time": "2024-03-19T19:31:28.576Z"
   },
   {
    "duration": 5,
    "start_time": "2024-03-19T19:32:27.891Z"
   },
   {
    "duration": 9,
    "start_time": "2024-03-19T19:32:35.948Z"
   },
   {
    "duration": 9,
    "start_time": "2024-03-19T19:32:42.564Z"
   },
   {
    "duration": 10,
    "start_time": "2024-03-19T19:32:45.903Z"
   },
   {
    "duration": 16,
    "start_time": "2024-03-19T19:32:51.346Z"
   },
   {
    "duration": 16,
    "start_time": "2024-03-19T19:34:49.126Z"
   },
   {
    "duration": 1156,
    "start_time": "2024-03-19T20:45:35.542Z"
   },
   {
    "duration": 2,
    "start_time": "2024-03-19T20:45:36.700Z"
   },
   {
    "duration": 224,
    "start_time": "2024-03-19T20:45:36.703Z"
   },
   {
    "duration": 17,
    "start_time": "2024-03-19T20:45:36.928Z"
   },
   {
    "duration": 13,
    "start_time": "2024-03-19T20:45:36.946Z"
   },
   {
    "duration": 11,
    "start_time": "2024-03-19T20:45:36.960Z"
   },
   {
    "duration": 19,
    "start_time": "2024-03-19T20:45:36.972Z"
   },
   {
    "duration": 8,
    "start_time": "2024-03-19T20:45:36.992Z"
   },
   {
    "duration": 7,
    "start_time": "2024-03-19T20:45:37.001Z"
   },
   {
    "duration": 10,
    "start_time": "2024-03-19T20:45:37.010Z"
   },
   {
    "duration": 4,
    "start_time": "2024-03-19T20:45:37.021Z"
   },
   {
    "duration": 9,
    "start_time": "2024-03-19T20:45:37.026Z"
   },
   {
    "duration": 6,
    "start_time": "2024-03-19T20:45:37.036Z"
   },
   {
    "duration": 158,
    "start_time": "2024-03-19T20:45:37.043Z"
   },
   {
    "duration": 5,
    "start_time": "2024-03-19T20:45:37.203Z"
   },
   {
    "duration": 73,
    "start_time": "2024-03-19T20:45:37.210Z"
   },
   {
    "duration": 6,
    "start_time": "2024-03-19T20:45:37.301Z"
   },
   {
    "duration": 217,
    "start_time": "2024-03-19T20:45:37.308Z"
   },
   {
    "duration": 178,
    "start_time": "2024-03-19T20:45:37.526Z"
   },
   {
    "duration": 6,
    "start_time": "2024-03-19T20:45:37.705Z"
   },
   {
    "duration": 90,
    "start_time": "2024-03-19T20:45:37.712Z"
   },
   {
    "duration": 222,
    "start_time": "2024-03-19T20:45:37.803Z"
   },
   {
    "duration": 133,
    "start_time": "2024-03-19T20:45:38.027Z"
   },
   {
    "duration": 6,
    "start_time": "2024-03-19T20:45:38.162Z"
   },
   {
    "duration": 7,
    "start_time": "2024-03-19T20:45:38.169Z"
   },
   {
    "duration": 43,
    "start_time": "2024-03-19T20:45:38.178Z"
   },
   {
    "duration": 16,
    "start_time": "2024-03-19T20:45:38.222Z"
   },
   {
    "duration": 13,
    "start_time": "2024-03-19T20:45:38.241Z"
   },
   {
    "duration": 179,
    "start_time": "2024-03-19T20:45:38.256Z"
   },
   {
    "duration": 7,
    "start_time": "2024-03-19T20:45:38.436Z"
   },
   {
    "duration": 212,
    "start_time": "2024-03-19T20:45:38.444Z"
   },
   {
    "duration": 14,
    "start_time": "2024-03-19T20:45:38.658Z"
   },
   {
    "duration": 178,
    "start_time": "2024-03-19T20:45:38.674Z"
   },
   {
    "duration": 5,
    "start_time": "2024-03-19T20:45:38.854Z"
   },
   {
    "duration": 216,
    "start_time": "2024-03-19T20:45:38.860Z"
   },
   {
    "duration": 6,
    "start_time": "2024-03-19T20:45:39.077Z"
   },
   {
    "duration": 8,
    "start_time": "2024-03-19T20:45:39.084Z"
   },
   {
    "duration": 8,
    "start_time": "2024-03-19T20:45:39.101Z"
   },
   {
    "duration": 18,
    "start_time": "2024-03-19T20:45:39.110Z"
   },
   {
    "duration": 141,
    "start_time": "2024-03-19T20:45:39.129Z"
   },
   {
    "duration": 11,
    "start_time": "2024-03-19T20:45:39.271Z"
   },
   {
    "duration": 99,
    "start_time": "2024-03-19T20:45:39.283Z"
   },
   {
    "duration": 18,
    "start_time": "2024-03-19T20:45:39.383Z"
   },
   {
    "duration": 6,
    "start_time": "2024-03-19T20:45:39.402Z"
   },
   {
    "duration": 7,
    "start_time": "2024-03-19T20:45:39.409Z"
   },
   {
    "duration": 10,
    "start_time": "2024-03-19T20:46:57.415Z"
   },
   {
    "duration": 9,
    "start_time": "2024-03-19T20:47:20.657Z"
   },
   {
    "duration": 9,
    "start_time": "2024-03-19T20:47:51.034Z"
   },
   {
    "duration": 12,
    "start_time": "2024-03-19T20:47:53.179Z"
   },
   {
    "duration": 4,
    "start_time": "2024-03-19T20:47:57.678Z"
   },
   {
    "duration": 3,
    "start_time": "2024-03-19T20:48:03.471Z"
   }
  ],
  "kernelspec": {
   "display_name": "Python 3 (ipykernel)",
   "language": "python",
   "name": "python3"
  },
  "language_info": {
   "codemirror_mode": {
    "name": "ipython",
    "version": 3
   },
   "file_extension": ".py",
   "mimetype": "text/x-python",
   "name": "python",
   "nbconvert_exporter": "python",
   "pygments_lexer": "ipython3",
   "version": "3.11.5"
  },
  "toc": {
   "base_numbering": 1,
   "nav_menu": {},
   "number_sections": true,
   "sideBar": true,
   "skip_h1_title": true,
   "title_cell": "Table of Contents",
   "title_sidebar": "Contents",
   "toc_cell": true,
   "toc_position": {
    "height": "calc(100% - 180px)",
    "left": "10px",
    "top": "150px",
    "width": "165px"
   },
   "toc_section_display": true,
   "toc_window_display": false
  },
  "varInspector": {
   "cols": {
    "lenName": 16,
    "lenType": 16,
    "lenVar": 40
   },
   "kernels_config": {
    "python": {
     "delete_cmd_postfix": "",
     "delete_cmd_prefix": "del ",
     "library": "var_list.py",
     "varRefreshCmd": "print(var_dic_list())"
    },
    "r": {
     "delete_cmd_postfix": ") ",
     "delete_cmd_prefix": "rm(",
     "library": "var_list.r",
     "varRefreshCmd": "cat(var_dic_list()) "
    }
   },
   "types_to_exclude": [
    "module",
    "function",
    "builtin_function_or_method",
    "instance",
    "_Feature"
   ],
   "window_display": false
  }
 },
 "nbformat": 4,
 "nbformat_minor": 5
}
