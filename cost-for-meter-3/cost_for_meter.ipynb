{
 "cells": [
  {
   "cell_type": "markdown",
   "id": "07f67aab",
   "metadata": {
    "toc": true
   },
   "source": [
    "<h1>Table of Contents<span class=\"tocSkip\"></span></h1>\n",
    "<div class=\"toc\"><ul class=\"toc-item\"><li><span><a href=\"#Откройте-файл-с-данными-и-изучите-общую-информацию.\" data-toc-modified-id=\"Откройте-файл-с-данными-и-изучите-общую-информацию.-1\"><span class=\"toc-item-num\">1&nbsp;&nbsp;</span>Откройте файл с данными и изучите общую информацию.</a></span></li><li><span><a href=\"#Выполните-предобработку-данных\" data-toc-modified-id=\"Выполните-предобработку-данных-2\"><span class=\"toc-item-num\">2&nbsp;&nbsp;</span>Выполните предобработку данных</a></span><ul class=\"toc-item\"><li><span><a href=\"#Найдите-и-изучите-пропущенные-значения-в-столбцах.\" data-toc-modified-id=\"Найдите-и-изучите-пропущенные-значения-в-столбцах.-2.1\"><span class=\"toc-item-num\">2.1&nbsp;&nbsp;</span>Найдите и изучите пропущенные значения в столбцах.</a></span></li><li><span><a href=\"#Рассмотрите-типы-данных-в-каждом-столбце.\" data-toc-modified-id=\"Рассмотрите-типы-данных-в-каждом-столбце.-2.2\"><span class=\"toc-item-num\">2.2&nbsp;&nbsp;</span>Рассмотрите типы данных в каждом столбце.</a></span></li><li><span><a href=\"#Изучите-уникальные-значения-в-столбце-с-названиями-и-устраните-неявные-дубликаты.\" data-toc-modified-id=\"Изучите-уникальные-значения-в-столбце-с-названиями-и-устраните-неявные-дубликаты.-2.3\"><span class=\"toc-item-num\">2.3&nbsp;&nbsp;</span>Изучите уникальные значения в столбце с названиями и устраните неявные дубликаты.</a></span></li></ul></li><li><span><a href=\"#Добавьте-в-таблицу-новые-столбцы-со-следующими-параметрами.\" data-toc-modified-id=\"Добавьте-в-таблицу-новые-столбцы-со-следующими-параметрами.-3\"><span class=\"toc-item-num\">3&nbsp;&nbsp;</span>Добавьте в таблицу новые столбцы со следующими параметрами.</a></span></li><li><span><a href=\"#Проведите-исследовательский-анализ-данных.\" data-toc-modified-id=\"Проведите-исследовательский-анализ-данных.-4\"><span class=\"toc-item-num\">4&nbsp;&nbsp;</span>Проведите исследовательский анализ данных.</a></span><ul class=\"toc-item\"><li><span><a href=\"#Изучите-перечисленные-ниже-параметры-объектов-и-постройте-отдельные-гистограммы-для-каждого-из-этих-параметров.\" data-toc-modified-id=\"Изучите-перечисленные-ниже-параметры-объектов-и-постройте-отдельные-гистограммы-для-каждого-из-этих-параметров.-4.1\"><span class=\"toc-item-num\">4.1&nbsp;&nbsp;</span>Изучите перечисленные ниже параметры объектов и постройте отдельные гистограммы для каждого из этих параметров.</a></span></li><li><span><a href=\"#Изучите,-как-быстро-продавались-квартиры.\" data-toc-modified-id=\"Изучите,-как-быстро-продавались-квартиры.-4.2\"><span class=\"toc-item-num\">4.2&nbsp;&nbsp;</span>Изучите, как быстро продавались квартиры.</a></span></li><li><span><a href=\"#Определите-факторы,-которые-больше-всего-влияют-на-общую-(полную)-стоимость-объекта.\" data-toc-modified-id=\"Определите-факторы,-которые-больше-всего-влияют-на-общую-(полную)-стоимость-объекта.-4.3\"><span class=\"toc-item-num\">4.3&nbsp;&nbsp;</span>Определите факторы, которые больше всего влияют на общую (полную) стоимость объекта.</a></span></li></ul></li><li><span><a href=\"#Посчитайте-среднюю-цену-одного-квадратного-метра-в-10-населённых-пунктах-с-наибольшим-числом-объявлений.\" data-toc-modified-id=\"Посчитайте-среднюю-цену-одного-квадратного-метра-в-10-населённых-пунктах-с-наибольшим-числом-объявлений.-5\"><span class=\"toc-item-num\">5&nbsp;&nbsp;</span>Посчитайте среднюю цену одного квадратного метра в 10 населённых пунктах с наибольшим числом объявлений.</a></span></li><li><span><a href=\"#Опишите,-как-стоимость-объектов-зависит-от-расстояния-до-центра-Санкт-Петербурга.\" data-toc-modified-id=\"Опишите,-как-стоимость-объектов-зависит-от-расстояния-до-центра-Санкт-Петербурга.-6\"><span class=\"toc-item-num\">6&nbsp;&nbsp;</span>Опишите, как стоимость объектов зависит от расстояния до центра Санкт-Петербурга.</a></span></li><li><span><a href=\"#Итоговый-вывод:\" data-toc-modified-id=\"Итоговый-вывод:-7\"><span class=\"toc-item-num\">7&nbsp;&nbsp;</span>Итоговый вывод:</a></span></li><li><span><a href=\"#Для-ревьюера\" data-toc-modified-id=\"Для-ревьюера-8\"><span class=\"toc-item-num\">8&nbsp;&nbsp;</span>Для ревьюера</a></span></li></ul></div>"
   ]
  },
  {
   "cell_type": "markdown",
   "id": "cf0f7854",
   "metadata": {},
   "source": [
    "# Описание проекта:\n",
    "**В вашем распоряжении данные сервиса Яндекс Недвижимость — архив объявлений о продаже квартир в Санкт-Петербурге и соседних населённых пунктах за несколько лет. Вам нужно научиться определять рыночную стоимость объектов недвижимости. Для этого проведите исследовательский анализ данных и установите параметры, влияющие на цену объектов. Это позволит построить автоматизированную систему: она отследит аномалии и мошенническую деятельность.**"
   ]
  },
  {
   "cell_type": "markdown",
   "id": "75b2d646",
   "metadata": {},
   "source": [
    "## Откройте файл с данными и изучите общую информацию."
   ]
  },
  {
   "cell_type": "code",
   "execution_count": 1,
   "id": "afeedcd3",
   "metadata": {},
   "outputs": [],
   "source": [
    "# импортируем библиотеку pandas и читаем файл\n",
    "import pandas as pd\n",
    "import numpy as np"
   ]
  },
  {
   "cell_type": "code",
   "execution_count": 2,
   "id": "3e3a5ac2",
   "metadata": {},
   "outputs": [
    {
     "data": {
      "text/html": [
       "<div>\n",
       "<style scoped>\n",
       "    .dataframe tbody tr th:only-of-type {\n",
       "        vertical-align: middle;\n",
       "    }\n",
       "\n",
       "    .dataframe tbody tr th {\n",
       "        vertical-align: top;\n",
       "    }\n",
       "\n",
       "    .dataframe thead th {\n",
       "        text-align: right;\n",
       "    }\n",
       "</style>\n",
       "<table border=\"1\" class=\"dataframe\">\n",
       "  <thead>\n",
       "    <tr style=\"text-align: right;\">\n",
       "      <th></th>\n",
       "      <th>total_images</th>\n",
       "      <th>last_price</th>\n",
       "      <th>total_area</th>\n",
       "      <th>first_day_exposition</th>\n",
       "      <th>rooms</th>\n",
       "      <th>ceiling_height</th>\n",
       "      <th>floors_total</th>\n",
       "      <th>living_area</th>\n",
       "      <th>floor</th>\n",
       "      <th>is_apartment</th>\n",
       "      <th>studio</th>\n",
       "      <th>open_plan</th>\n",
       "      <th>kitchen_area</th>\n",
       "      <th>balcony</th>\n",
       "      <th>locality_name</th>\n",
       "      <th>airports_nearest</th>\n",
       "      <th>cityCenters_nearest</th>\n",
       "      <th>parks_around3000</th>\n",
       "      <th>parks_nearest</th>\n",
       "      <th>ponds_around3000</th>\n",
       "      <th>ponds_nearest</th>\n",
       "      <th>days_exposition</th>\n",
       "    </tr>\n",
       "  </thead>\n",
       "  <tbody>\n",
       "    <tr>\n",
       "      <th>0</th>\n",
       "      <td>20</td>\n",
       "      <td>13,000,000.00</td>\n",
       "      <td>108.00</td>\n",
       "      <td>2019-03-07T00:00:00</td>\n",
       "      <td>3</td>\n",
       "      <td>2.70</td>\n",
       "      <td>16.00</td>\n",
       "      <td>51.00</td>\n",
       "      <td>8</td>\n",
       "      <td>NaN</td>\n",
       "      <td>False</td>\n",
       "      <td>False</td>\n",
       "      <td>25.00</td>\n",
       "      <td>NaN</td>\n",
       "      <td>Санкт-Петербург</td>\n",
       "      <td>18,863.00</td>\n",
       "      <td>16,028.00</td>\n",
       "      <td>1.00</td>\n",
       "      <td>482.00</td>\n",
       "      <td>2.00</td>\n",
       "      <td>755.00</td>\n",
       "      <td>NaN</td>\n",
       "    </tr>\n",
       "    <tr>\n",
       "      <th>1</th>\n",
       "      <td>7</td>\n",
       "      <td>3,350,000.00</td>\n",
       "      <td>40.40</td>\n",
       "      <td>2018-12-04T00:00:00</td>\n",
       "      <td>1</td>\n",
       "      <td>NaN</td>\n",
       "      <td>11.00</td>\n",
       "      <td>18.60</td>\n",
       "      <td>1</td>\n",
       "      <td>NaN</td>\n",
       "      <td>False</td>\n",
       "      <td>False</td>\n",
       "      <td>11.00</td>\n",
       "      <td>2.00</td>\n",
       "      <td>посёлок Шушары</td>\n",
       "      <td>12,817.00</td>\n",
       "      <td>18,603.00</td>\n",
       "      <td>0.00</td>\n",
       "      <td>NaN</td>\n",
       "      <td>0.00</td>\n",
       "      <td>NaN</td>\n",
       "      <td>81.00</td>\n",
       "    </tr>\n",
       "    <tr>\n",
       "      <th>2</th>\n",
       "      <td>10</td>\n",
       "      <td>5,196,000.00</td>\n",
       "      <td>56.00</td>\n",
       "      <td>2015-08-20T00:00:00</td>\n",
       "      <td>2</td>\n",
       "      <td>NaN</td>\n",
       "      <td>5.00</td>\n",
       "      <td>34.30</td>\n",
       "      <td>4</td>\n",
       "      <td>NaN</td>\n",
       "      <td>False</td>\n",
       "      <td>False</td>\n",
       "      <td>8.30</td>\n",
       "      <td>0.00</td>\n",
       "      <td>Санкт-Петербург</td>\n",
       "      <td>21,741.00</td>\n",
       "      <td>13,933.00</td>\n",
       "      <td>1.00</td>\n",
       "      <td>90.00</td>\n",
       "      <td>2.00</td>\n",
       "      <td>574.00</td>\n",
       "      <td>558.00</td>\n",
       "    </tr>\n",
       "    <tr>\n",
       "      <th>3</th>\n",
       "      <td>0</td>\n",
       "      <td>64,900,000.00</td>\n",
       "      <td>159.00</td>\n",
       "      <td>2015-07-24T00:00:00</td>\n",
       "      <td>3</td>\n",
       "      <td>NaN</td>\n",
       "      <td>14.00</td>\n",
       "      <td>NaN</td>\n",
       "      <td>9</td>\n",
       "      <td>NaN</td>\n",
       "      <td>False</td>\n",
       "      <td>False</td>\n",
       "      <td>NaN</td>\n",
       "      <td>0.00</td>\n",
       "      <td>Санкт-Петербург</td>\n",
       "      <td>28,098.00</td>\n",
       "      <td>6,800.00</td>\n",
       "      <td>2.00</td>\n",
       "      <td>84.00</td>\n",
       "      <td>3.00</td>\n",
       "      <td>234.00</td>\n",
       "      <td>424.00</td>\n",
       "    </tr>\n",
       "    <tr>\n",
       "      <th>4</th>\n",
       "      <td>2</td>\n",
       "      <td>10,000,000.00</td>\n",
       "      <td>100.00</td>\n",
       "      <td>2018-06-19T00:00:00</td>\n",
       "      <td>2</td>\n",
       "      <td>3.03</td>\n",
       "      <td>14.00</td>\n",
       "      <td>32.00</td>\n",
       "      <td>13</td>\n",
       "      <td>NaN</td>\n",
       "      <td>False</td>\n",
       "      <td>False</td>\n",
       "      <td>41.00</td>\n",
       "      <td>NaN</td>\n",
       "      <td>Санкт-Петербург</td>\n",
       "      <td>31,856.00</td>\n",
       "      <td>8,098.00</td>\n",
       "      <td>2.00</td>\n",
       "      <td>112.00</td>\n",
       "      <td>1.00</td>\n",
       "      <td>48.00</td>\n",
       "      <td>121.00</td>\n",
       "    </tr>\n",
       "  </tbody>\n",
       "</table>\n",
       "</div>"
      ],
      "text/plain": [
       "   total_images           last_price           total_area  \\\n",
       "0            20        13,000,000.00               108.00   \n",
       "1             7         3,350,000.00                40.40   \n",
       "2            10         5,196,000.00                56.00   \n",
       "3             0        64,900,000.00               159.00   \n",
       "4             2        10,000,000.00               100.00   \n",
       "\n",
       "  first_day_exposition  rooms       ceiling_height         floors_total  \\\n",
       "0  2019-03-07T00:00:00      3                 2.70                16.00   \n",
       "1  2018-12-04T00:00:00      1                  NaN                11.00   \n",
       "2  2015-08-20T00:00:00      2                  NaN                 5.00   \n",
       "3  2015-07-24T00:00:00      3                  NaN                14.00   \n",
       "4  2018-06-19T00:00:00      2                 3.03                14.00   \n",
       "\n",
       "           living_area  floor is_apartment  studio  open_plan  \\\n",
       "0                51.00      8          NaN   False      False   \n",
       "1                18.60      1          NaN   False      False   \n",
       "2                34.30      4          NaN   False      False   \n",
       "3                  NaN      9          NaN   False      False   \n",
       "4                32.00     13          NaN   False      False   \n",
       "\n",
       "          kitchen_area              balcony    locality_name  \\\n",
       "0                25.00                  NaN  Санкт-Петербург   \n",
       "1                11.00                 2.00   посёлок Шушары   \n",
       "2                 8.30                 0.00  Санкт-Петербург   \n",
       "3                  NaN                 0.00  Санкт-Петербург   \n",
       "4                41.00                  NaN  Санкт-Петербург   \n",
       "\n",
       "      airports_nearest  cityCenters_nearest     parks_around3000  \\\n",
       "0            18,863.00            16,028.00                 1.00   \n",
       "1            12,817.00            18,603.00                 0.00   \n",
       "2            21,741.00            13,933.00                 1.00   \n",
       "3            28,098.00             6,800.00                 2.00   \n",
       "4            31,856.00             8,098.00                 2.00   \n",
       "\n",
       "         parks_nearest     ponds_around3000        ponds_nearest  \\\n",
       "0               482.00                 2.00               755.00   \n",
       "1                  NaN                 0.00                  NaN   \n",
       "2                90.00                 2.00               574.00   \n",
       "3                84.00                 3.00               234.00   \n",
       "4               112.00                 1.00                48.00   \n",
       "\n",
       "       days_exposition  \n",
       "0                  NaN  \n",
       "1                81.00  \n",
       "2               558.00  \n",
       "3               424.00  \n",
       "4               121.00  "
      ]
     },
     "execution_count": 2,
     "metadata": {},
     "output_type": "execute_result"
    }
   ],
   "source": [
    "pd.options.display.float_format = '{:20,.2f}'.format # видел такой трюк у наставника на вебинаре,\n",
    "                                                    # слишком тяжело понимать цифры с буквами одновременно\n",
    "pd.set_option('display.max_columns', None)\n",
    "try:\n",
    "    df = pd.read_csv(r\"C:\\Users\\ilyal\\OneDrive\\Рабочий стол\\Портфолио\\practicum_projects\\real_estate_data.csv\", sep='\\t') \n",
    "except:\n",
    "    df = pd.read_csv('/datasets/real_estate_data.csv', sep='\\t')\n",
    "df.head()"
   ]
  },
  {
   "cell_type": "code",
   "execution_count": 3,
   "id": "994eb960",
   "metadata": {},
   "outputs": [
    {
     "data": {
      "image/png": "[encoded data removed]",
      "text/plain": [
       "<Figure size 1080x1440 with 20 Axes>"
      ]
     },
     "metadata": {
      "needs_background": "light"
     },
     "output_type": "display_data"
    }
   ],
   "source": [
    "# построим гистограммы для всех числовых значений датафрейма df\n",
    "df.hist(figsize=(15, 20));"
   ]
  },
  {
   "cell_type": "code",
   "execution_count": 4,
   "id": "34e0a7f7",
   "metadata": {},
   "outputs": [
    {
     "name": "stdout",
     "output_type": "stream",
     "text": [
      "<class 'pandas.core.frame.DataFrame'>\n",
      "RangeIndex: 23699 entries, 0 to 23698\n",
      "Data columns (total 22 columns):\n",
      " #   Column                Non-Null Count  Dtype  \n",
      "---  ------                --------------  -----  \n",
      " 0   total_images          23699 non-null  int64  \n",
      " 1   last_price            23699 non-null  float64\n",
      " 2   total_area            23699 non-null  float64\n",
      " 3   first_day_exposition  23699 non-null  object \n",
      " 4   rooms                 23699 non-null  int64  \n",
      " 5   ceiling_height        14504 non-null  float64\n",
      " 6   floors_total          23613 non-null  float64\n",
      " 7   living_area           21796 non-null  float64\n",
      " 8   floor                 23699 non-null  int64  \n",
      " 9   is_apartment          2775 non-null   object \n",
      " 10  studio                23699 non-null  bool   \n",
      " 11  open_plan             23699 non-null  bool   \n",
      " 12  kitchen_area          21421 non-null  float64\n",
      " 13  balcony               12180 non-null  float64\n",
      " 14  locality_name         23650 non-null  object \n",
      " 15  airports_nearest      18157 non-null  float64\n",
      " 16  cityCenters_nearest   18180 non-null  float64\n",
      " 17  parks_around3000      18181 non-null  float64\n",
      " 18  parks_nearest         8079 non-null   float64\n",
      " 19  ponds_around3000      18181 non-null  float64\n",
      " 20  ponds_nearest         9110 non-null   float64\n",
      " 21  days_exposition       20518 non-null  float64\n",
      "dtypes: bool(2), float64(14), int64(3), object(3)\n",
      "memory usage: 3.7+ MB\n"
     ]
    }
   ],
   "source": [
    "# получим общую информацию о датафрейме \n",
    "df.info()"
   ]
  },
  {
   "cell_type": "markdown",
   "id": "cdd394b3",
   "metadata": {},
   "source": [
    "В данных выше видно, что только в 8 столбцах из 22 нет пропусков. \n",
    "На следующем этапе **предобработки данных** нужно будет поближе рассмотреть каждый из этих столбцов, понять природу пропусков и определиться чем их заполнять, или не заполнять."
   ]
  },
  {
   "cell_type": "markdown",
   "id": "dcb35fcf",
   "metadata": {},
   "source": [
    "## Выполните предобработку данных"
   ]
  },
  {
   "cell_type": "markdown",
   "id": "612c104a",
   "metadata": {},
   "source": [
    "### Найдите и изучите пропущенные значения в столбцах."
   ]
  },
  {
   "cell_type": "code",
   "execution_count": 5,
   "id": "c5e6c30c",
   "metadata": {},
   "outputs": [
    {
     "data": {
      "text/plain": [
       "total_images                0\n",
       "last_price                  0\n",
       "total_area                  0\n",
       "first_day_exposition        0\n",
       "rooms                       0\n",
       "ceiling_height           9195\n",
       "floors_total               86\n",
       "living_area              1903\n",
       "floor                       0\n",
       "is_apartment            20924\n",
       "studio                      0\n",
       "open_plan                   0\n",
       "kitchen_area             2278\n",
       "balcony                 11519\n",
       "locality_name              49\n",
       "airports_nearest         5542\n",
       "cityCenters_nearest      5519\n",
       "parks_around3000         5518\n",
       "parks_nearest           15620\n",
       "ponds_around3000         5518\n",
       "ponds_nearest           14589\n",
       "days_exposition          3181\n",
       "dtype: int64"
      ]
     },
     "execution_count": 5,
     "metadata": {},
     "output_type": "execute_result"
    }
   ],
   "source": [
    "df.isna().sum()"
   ]
  },
  {
   "cell_type": "markdown",
   "id": "4aa51457",
   "metadata": {},
   "source": [
    "Самое большое количество пропусков в столбце `is_apartment`, посмотрим на уникальные значения этого столбца:"
   ]
  },
  {
   "cell_type": "code",
   "execution_count": 6,
   "id": "3ffaa707",
   "metadata": {},
   "outputs": [
    {
     "data": {
      "text/plain": [
       "array([nan, False, True], dtype=object)"
      ]
     },
     "execution_count": 6,
     "metadata": {},
     "output_type": "execute_result"
    }
   ],
   "source": [
    "df['is_apartment'].unique()"
   ]
  },
  {
   "cell_type": "markdown",
   "id": "df1c4b73",
   "metadata": {},
   "source": [
    "`True` говорит о том, что квартира является апартаментами, `False` наоборот\n",
    "\n",
    "Заменим значения `nan` на `False`:"
   ]
  },
  {
   "cell_type": "code",
   "execution_count": 7,
   "id": "3709e7c4",
   "metadata": {},
   "outputs": [],
   "source": [
    "df['is_apartment'] = df['is_apartment'].fillna(bool(False))"
   ]
  },
  {
   "cell_type": "markdown",
   "id": "3fa63cc7",
   "metadata": {},
   "source": [
    "С одним столбцом справились!!! Осталось еще 13..."
   ]
  },
  {
   "cell_type": "markdown",
   "id": "7410e3cc",
   "metadata": {},
   "source": [
    "Заполним значения `nan` в столбце `balcony` нулём, так как продавец скорее всего просто не указал эту информацию, а значит, что балконов в квартире 0:"
   ]
  },
  {
   "cell_type": "code",
   "execution_count": 8,
   "id": "cb5b7d50",
   "metadata": {},
   "outputs": [],
   "source": [
    "df['balcony'] = df['balcony'].fillna(0)"
   ]
  },
  {
   "cell_type": "markdown",
   "id": "e279fabc",
   "metadata": {},
   "source": [
    "Далее рассмотрим данные о высоте потолков:"
   ]
  },
  {
   "cell_type": "code",
   "execution_count": 9,
   "id": "6f6a4e26",
   "metadata": {},
   "outputs": [
    {
     "data": {
      "text/plain": [
       "9195"
      ]
     },
     "execution_count": 9,
     "metadata": {},
     "output_type": "execute_result"
    }
   ],
   "source": [
    "df['ceiling_height'].isna().sum()"
   ]
  },
  {
   "cell_type": "markdown",
   "id": "119359cc",
   "metadata": {},
   "source": [
    "9195 пропущенных значений - очень много, и данные пригодятся для дальнейшего анализа. \n",
    "\n",
    "Целесообразным будет заполнить пропущенные значения медианным по этому столбцу:"
   ]
  },
  {
   "cell_type": "code",
   "execution_count": 10,
   "id": "c3337d4e",
   "metadata": {},
   "outputs": [],
   "source": [
    "df['ceiling_height'] = df['ceiling_height'].fillna(df['ceiling_height'].median())"
   ]
  },
  {
   "cell_type": "markdown",
   "id": "d6ecce36",
   "metadata": {},
   "source": [
    "Так же давайте уберем из выборки строки, в которых высота потолков меньше двух метров и больше 5:"
   ]
  },
  {
   "cell_type": "code",
   "execution_count": 11,
   "id": "c768fe56",
   "metadata": {},
   "outputs": [],
   "source": [
    "df = df.query('2 < ceiling_height < 5')"
   ]
  },
  {
   "cell_type": "code",
   "execution_count": 12,
   "id": "1e754895",
   "metadata": {},
   "outputs": [
    {
     "data": {
      "text/plain": [
       "1898"
      ]
     },
     "execution_count": 12,
     "metadata": {},
     "output_type": "execute_result"
    }
   ],
   "source": [
    "df['living_area'].isna().sum()"
   ]
  },
  {
   "cell_type": "markdown",
   "id": "37d19f2e",
   "metadata": {},
   "source": [
    "У большого количества квартир отсутствуют данные о жилой площади. Думаю будет правильно заполнить пропуски в этих данных медианными для каждой группы по количеству комнат:\n"
   ]
  },
  {
   "cell_type": "code",
   "execution_count": 13,
   "id": "76924188",
   "metadata": {},
   "outputs": [],
   "source": [
    "for i in df['rooms'].unique():\n",
    "    df.loc[(df['rooms'] == i) & (df['living_area'].isna()), 'living_area'] = df.loc[(df['rooms'] == i), 'living_area'].median()"
   ]
  },
  {
   "cell_type": "markdown",
   "id": "b90957b5",
   "metadata": {},
   "source": [
    "Целесообразным так же будет удалить строки, в которых отсутствует информация о количестве этажей в доме:"
   ]
  },
  {
   "cell_type": "code",
   "execution_count": 14,
   "id": "5f5126df",
   "metadata": {},
   "outputs": [],
   "source": [
    "index_floor = df[df['floors_total'].isna()].index\n",
    "df.drop(index_floor, inplace=True)"
   ]
  },
  {
   "cell_type": "markdown",
   "id": "f7bf4371",
   "metadata": {},
   "source": [
    "Мы обработали пропуски в столбцах `living_area`, заменив пропущенные значения медианным по количеству комнат; в столбце `balcony` значению `nan` присвоили - 0; в столбце `is_apartment` значению `nan` присвоили - `False`; в столбце `ceiling_height` заменили пропущенные значения медианным по всему столбцу, а так же заранее избавились от явных выбросов.\n",
    "\n",
    "Пропуски в столбце `days_exposition` будем интерпретировать как *не закрытое обьявление*. \n",
    "\n",
    "Пропуски в столбце `kitchen_area` мы к сожалению никак не можем заменить аналитическим путем.\n",
    "\n",
    "Так же пропуски в столбцах, которые рассказывают об удаленности от каких-либо обьектов, мы не можем заполнить, т.к. доступа к геопозиции у нас нет. Побудем немного менеджерами и переложим ответственность на программу сбора данных))))"
   ]
  },
  {
   "cell_type": "markdown",
   "id": "476412d0",
   "metadata": {},
   "source": [
    "### Рассмотрите типы данных в каждом столбце."
   ]
  },
  {
   "cell_type": "markdown",
   "id": "c02d094d",
   "metadata": {},
   "source": [
    "Ранее, при заполнении пропусков в столбце `is_apartment` мы поменяли тип столбца с `object` на `bool`."
   ]
  },
  {
   "cell_type": "markdown",
   "id": "da4b2a6f",
   "metadata": {},
   "source": [
    "Поменяем тип данных `object` в столбце `first_day_exposition` на `datetime64`, так мы отсечем ненужную информацию о времени, которое, к слову, везде 00:00:00 и просто визуально засоряет таблицу:"
   ]
  },
  {
   "cell_type": "code",
   "execution_count": 15,
   "id": "cbd8f73f",
   "metadata": {},
   "outputs": [],
   "source": [
    "df['first_day_exposition'] = pd.to_datetime(\n",
    "    df['first_day_exposition'], format='%Y-%m-%dT%H:%M:%S'\n",
    ")"
   ]
  },
  {
   "cell_type": "markdown",
   "id": "669bbd86",
   "metadata": {},
   "source": [
    "### Изучите уникальные значения в столбце с названиями и устраните неявные дубликаты."
   ]
  },
  {
   "cell_type": "code",
   "execution_count": 16,
   "id": "7f178b2f",
   "metadata": {},
   "outputs": [
    {
     "data": {
      "text/plain": [
       "0"
      ]
     },
     "execution_count": 16,
     "metadata": {},
     "output_type": "execute_result"
    }
   ],
   "source": [
    "df.duplicated().sum()"
   ]
  },
  {
   "cell_type": "markdown",
   "id": "612f7382",
   "metadata": {},
   "source": [
    "Очень повезло, явных дубликатов нам Бог не подал, поэтому посмотрим на неявные. \n",
    "\n",
    "Выведем уникальные значения для `locality_name`:"
   ]
  },
  {
   "cell_type": "code",
   "execution_count": 17,
   "id": "064308aa",
   "metadata": {
    "scrolled": false
   },
   "outputs": [
    {
     "data": {
      "text/plain": [
       "array(['Санкт-Петербург', 'посёлок Шушары', 'городской посёлок Янино-1',\n",
       "       'посёлок Парголово', 'посёлок Мурино', 'Ломоносов', 'Сертолово',\n",
       "       'Петергоф', 'Пушкин', 'деревня Кудрово', 'Коммунар', 'Колпино',\n",
       "       'поселок городского типа Красный Бор', 'Гатчина', 'поселок Мурино',\n",
       "       'деревня Фёдоровское', 'Выборг', 'Кронштадт', 'Кировск',\n",
       "       'деревня Новое Девяткино', 'посёлок Металлострой',\n",
       "       'посёлок городского типа Лебяжье',\n",
       "       'посёлок городского типа Сиверский', 'поселок Молодцово',\n",
       "       'поселок городского типа Кузьмоловский',\n",
       "       'садовое товарищество Новая Ропша', 'Павловск',\n",
       "       'деревня Пикколово', 'Всеволожск', 'Волхов', 'Кингисепп',\n",
       "       'Приозерск', 'Сестрорецк', 'деревня Куттузи', 'посёлок Аннино',\n",
       "       'поселок городского типа Ефимовский', 'посёлок Плодовое',\n",
       "       'деревня Заклинье', 'поселок Торковичи', 'поселок Первомайское',\n",
       "       'Красное Село', 'посёлок Понтонный', 'Сясьстрой', 'деревня Старая',\n",
       "       'деревня Лесколово', 'посёлок Новый Свет', 'Сланцы',\n",
       "       'село Путилово', 'Ивангород', 'Мурино', 'Шлиссельбург',\n",
       "       'Никольское', 'Зеленогорск', 'Сосновый Бор', 'поселок Новый Свет',\n",
       "       'деревня Оржицы', 'деревня Кальтино', 'Кудрово',\n",
       "       'поселок Романовка', 'посёлок Бугры', 'поселок Бугры',\n",
       "       'поселок городского типа Рощино', 'Кириши', 'Луга', 'Волосово',\n",
       "       'Отрадное', 'село Павлово', 'поселок Оредеж', 'село Копорье',\n",
       "       'посёлок городского типа Красный Бор', 'посёлок Молодёжное',\n",
       "       'Тихвин', 'посёлок Победа', 'деревня Нурма',\n",
       "       'поселок городского типа Синявино', 'Тосно',\n",
       "       'посёлок городского типа Кузьмоловский', 'посёлок Стрельна',\n",
       "       'Бокситогорск', 'посёлок Александровская', 'деревня Лопухинка',\n",
       "       'Пикалёво', 'поселок Терволово',\n",
       "       'поселок городского типа Советский', 'Подпорожье',\n",
       "       'посёлок Петровское', 'посёлок городского типа Токсово',\n",
       "       'поселок Сельцо', 'посёлок городского типа Вырица',\n",
       "       'деревня Кипень', 'деревня Келози', 'деревня Вартемяги',\n",
       "       'посёлок Тельмана', 'поселок Севастьяново',\n",
       "       'городской поселок Большая Ижора', nan,\n",
       "       'городской посёлок Павлово', 'деревня Агалатово',\n",
       "       'посёлок Новогорелово', 'городской посёлок Лесогорский',\n",
       "       'деревня Лаголово', 'поселок Цвелодубово',\n",
       "       'поселок городского типа Рахья', 'поселок городского типа Вырица',\n",
       "       'деревня Белогорка', 'поселок Заводской',\n",
       "       'городской посёлок Новоселье', 'деревня Большие Колпаны',\n",
       "       'деревня Горбунки', 'деревня Батово', 'деревня Заневка',\n",
       "       'деревня Иссад', 'Приморск', 'городской посёлок Фёдоровское',\n",
       "       'деревня Мистолово', 'Новая Ладога', 'поселок Зимитицы',\n",
       "       'поселок Барышево', 'деревня Разметелево',\n",
       "       'поселок городского типа имени Свердлова', 'деревня Пеники',\n",
       "       'поселок Рябово', 'деревня Пудомяги', 'поселок станции Корнево',\n",
       "       'деревня Низино', 'деревня Бегуницы', 'посёлок Поляны',\n",
       "       'городской посёлок Мга', 'поселок Елизаветино',\n",
       "       'посёлок городского типа Кузнечное', 'деревня Колтуши',\n",
       "       'поселок Запорожское', 'посёлок городского типа Рощино',\n",
       "       'деревня Гостилицы', 'деревня Малое Карлино',\n",
       "       'посёлок Мичуринское', 'посёлок городского типа имени Морозова',\n",
       "       'посёлок Песочный', 'посёлок Сосново', 'деревня Аро',\n",
       "       'поселок Ильичёво', 'посёлок городского типа Тайцы',\n",
       "       'деревня Малое Верево', 'деревня Извара', 'поселок станции Вещево',\n",
       "       'село Паша', 'деревня Калитино',\n",
       "       'посёлок городского типа Ульяновка', 'деревня Чудской Бор',\n",
       "       'поселок городского типа Дубровка', 'деревня Мины',\n",
       "       'поселок Войсковицы', 'посёлок городского типа имени Свердлова',\n",
       "       'деревня Коркино', 'посёлок Ропша',\n",
       "       'поселок городского типа Приладожский', 'посёлок Щеглово',\n",
       "       'посёлок Гаврилово', 'Лодейное Поле', 'деревня Рабитицы',\n",
       "       'поселок городского типа Никольский', 'деревня Кузьмолово',\n",
       "       'деревня Малые Колпаны', 'поселок Тельмана',\n",
       "       'посёлок Петро-Славянка', 'городской посёлок Назия',\n",
       "       'посёлок Репино', 'посёлок Ильичёво', 'поселок Углово',\n",
       "       'поселок Старая Малукса', 'садовое товарищество Рахья',\n",
       "       'поселок Аннино', 'поселок Победа', 'деревня Меньково',\n",
       "       'деревня Старые Бегуницы', 'посёлок Сапёрный', 'поселок Семрино',\n",
       "       'поселок Гаврилово', 'поселок Глажево', 'поселок Кобринское',\n",
       "       'деревня Гарболово', 'деревня Юкки',\n",
       "       'поселок станции Приветнинское', 'деревня Мануйлово',\n",
       "       'деревня Пчева', 'поселок Поляны', 'поселок Цвылёво',\n",
       "       'поселок Мельниково', 'посёлок Пудость', 'посёлок Усть-Луга',\n",
       "       'Светогорск', 'Любань', 'поселок Селезнёво',\n",
       "       'поселок городского типа Рябово', 'Каменногорск', 'деревня Кривко',\n",
       "       'поселок Глебычево', 'деревня Парицы', 'поселок Жилпосёлок',\n",
       "       'посёлок городского типа Мга', 'городской поселок Янино-1',\n",
       "       'посёлок Войскорово', 'село Никольское', 'посёлок Терволово',\n",
       "       'поселок Стеклянный', 'посёлок городского типа Важины',\n",
       "       'посёлок Мыза-Ивановка', 'село Русско-Высоцкое',\n",
       "       'поселок городского типа Лебяжье',\n",
       "       'поселок городского типа Форносово', 'село Старая Ладога',\n",
       "       'поселок Житково', 'городской посёлок Виллози', 'деревня Лампово',\n",
       "       'деревня Шпаньково', 'деревня Лаврики', 'посёлок Сумино',\n",
       "       'посёлок Возрождение', 'деревня Старосиверская',\n",
       "       'посёлок Кикерино', 'поселок Возрождение',\n",
       "       'деревня Старое Хинколово', 'посёлок Пригородный',\n",
       "       'посёлок Торфяное', 'городской посёлок Будогощь',\n",
       "       'поселок Суходолье', 'поселок Красная Долина', 'деревня Хапо-Ое',\n",
       "       'поселок городского типа Дружная Горка', 'поселок Лисий Нос',\n",
       "       'деревня Яльгелево', 'посёлок Стеклянный', 'село Рождествено',\n",
       "       'деревня Старополье', 'посёлок Левашово', 'деревня Сяськелево',\n",
       "       'деревня Камышовка',\n",
       "       'садоводческое некоммерческое товарищество Лесная Поляна',\n",
       "       'деревня Хязельки', 'поселок Жилгородок',\n",
       "       'посёлок городского типа Павлово', 'деревня Ялгино',\n",
       "       'поселок Новый Учхоз', 'городской посёлок Рощино',\n",
       "       'поселок Гончарово', 'поселок Почап', 'посёлок Сапёрное',\n",
       "       'посёлок Платформа 69-й километр', 'поселок Каложицы',\n",
       "       'деревня Фалилеево', 'деревня Пельгора',\n",
       "       'поселок городского типа Лесогорский', 'деревня Торошковичи',\n",
       "       'посёлок Белоостров', 'посёлок Алексеевка', 'поселок Серебрянский',\n",
       "       'поселок Лукаши', 'поселок Петровское', 'деревня Щеглово',\n",
       "       'поселок Мичуринское', 'деревня Тарасово', 'поселок Кингисеппский',\n",
       "       'посёлок при железнодорожной станции Вещево', 'поселок Ушаки',\n",
       "       'деревня Котлы', 'деревня Сижно', 'деревня Торосово',\n",
       "       'посёлок Форт Красная Горка', 'деревня Новолисино',\n",
       "       'посёлок станции Громово', 'деревня Глинка', 'посёлок Мельниково',\n",
       "       'поселок городского типа Назия', 'деревня Старая Пустошь',\n",
       "       'поселок Коммунары', 'поселок Починок',\n",
       "       'посёлок городского типа Вознесенье', 'деревня Разбегаево',\n",
       "       'посёлок городского типа Рябово', 'поселок Гладкое',\n",
       "       'посёлок при железнодорожной станции Приветнинское',\n",
       "       'поселок Тёсово-4', 'посёлок Жилгородок', 'деревня Бор',\n",
       "       'посёлок Коробицыно', 'деревня Большая Вруда', 'деревня Курковицы',\n",
       "       'посёлок Лисий Нос', 'городской посёлок Советский',\n",
       "       'посёлок Кобралово', 'деревня Суоранда', 'поселок Кобралово',\n",
       "       'поселок городского типа Кондратьево',\n",
       "       'коттеджный поселок Счастье', 'поселок Любань', 'деревня Реброво',\n",
       "       'деревня Зимитицы', 'деревня Тойворово', 'поселок Семиозерье',\n",
       "       'поселок Лесное', 'поселок Совхозный', 'поселок Усть-Луга',\n",
       "       'посёлок Ленинское', 'посёлок Суйда',\n",
       "       'посёлок городского типа Форносово', 'деревня Нижние Осельки',\n",
       "       'посёлок станции Свирь', 'поселок Перово', 'Высоцк',\n",
       "       'поселок Гарболово', 'село Шум', 'поселок Котельский',\n",
       "       'поселок станции Лужайка', 'деревня Большая Пустомержа',\n",
       "       'поселок Красносельское', 'деревня Вахнова Кара', 'деревня Пижма',\n",
       "       'коттеджный поселок Кивеннапа Север', 'поселок Коробицыно',\n",
       "       'поселок Ромашки', 'посёлок Перово', 'деревня Каськово',\n",
       "       'деревня Куровицы', 'посёлок Плоское', 'поселок Сумино',\n",
       "       'поселок городского типа Большая Ижора', 'поселок Кирпичное',\n",
       "       'деревня Ям-Тесово', 'деревня Раздолье', 'деревня Терпилицы',\n",
       "       'поселок городского типа Токсово', 'посёлок Шугозеро',\n",
       "       'деревня Ваганово', 'поселок Пушное', 'садовое товарищество Садко',\n",
       "       'посёлок Усть-Ижора', 'деревня Выскатка',\n",
       "       'городской посёлок Свирьстрой', 'поселок Громово',\n",
       "       'деревня Кисельня', 'посёлок Старая Малукса',\n",
       "       'деревня Трубников Бор', 'поселок Калитино',\n",
       "       'посёлок Высокоключевой', 'садовое товарищество Приладожский',\n",
       "       'посёлок Пансионат Зелёный Бор', 'деревня Ненимяки',\n",
       "       'поселок Пансионат Зелёный Бор', 'деревня Снегирёвка',\n",
       "       'деревня Рапполово', 'деревня Пустынка', 'поселок Рабитицы',\n",
       "       'деревня Большой Сабск', 'деревня Русско', 'деревня Лупполово',\n",
       "       'деревня Большое Рейзино', 'деревня Малая Романовка',\n",
       "       'поселок Дружноселье', 'поселок Пчевжа', 'поселок Володарское',\n",
       "       'коттеджный посёлок Лесное', 'деревня Тихковицы',\n",
       "       'деревня Борисова Грива', 'посёлок Дзержинского'], dtype=object)"
      ]
     },
     "execution_count": 17,
     "metadata": {},
     "output_type": "execute_result"
    }
   ],
   "source": [
    "df['locality_name'].unique()"
   ]
  },
  {
   "cell_type": "markdown",
   "id": "4d42f694",
   "metadata": {},
   "source": [
    "Сразу видно, например, что слово `посёлок` где-то написано с буквой `ё`, а где-то с обычной `е`.Оставим везде только название населенного пункта:"
   ]
  },
  {
   "cell_type": "code",
   "execution_count": 18,
   "id": "a939d6ef",
   "metadata": {},
   "outputs": [],
   "source": [
    "df['locality_name'] = df['locality_name'].str.replace('ё', 'е').replace(['поселок', 'посёлок', 'городского', 'типа',\n",
    "                                                                         'деревня', 'садовое', 'товарищество',\n",
    "                                                                        'село', 'городской', 'имени', 'коттеджный',\n",
    "                                                                         'станции', 'при', 'железнодорожной', \n",
    "                                                                        'садоводческое', 'некоммерческое'], '', regex=True).str.lower()\n",
    "\n",
    "df['locality_name'] = df['locality_name'].str.lstrip()"
   ]
  },
  {
   "cell_type": "markdown",
   "id": "143ab886",
   "metadata": {},
   "source": [
    "Проверим, все ли отработало корректно, посмотрим на первые 10 значений:"
   ]
  },
  {
   "cell_type": "code",
   "execution_count": 19,
   "id": "a907f644",
   "metadata": {},
   "outputs": [
    {
     "data": {
      "text/plain": [
       "array(['санкт-петербург', 'шушары', 'янино-1', 'парголово', 'мурино',\n",
       "       'ломоносов', 'сертолово', 'петергоф', 'пушкин', 'кудрово'],\n",
       "      dtype=object)"
      ]
     },
     "execution_count": 19,
     "metadata": {},
     "output_type": "execute_result"
    }
   ],
   "source": [
    "df['locality_name'].unique()[:10]"
   ]
  },
  {
   "cell_type": "markdown",
   "id": "c04eac86",
   "metadata": {},
   "source": [
    "Как видно, все отлично! Мы оставили только названия и перевели все к строчной записи."
   ]
  },
  {
   "cell_type": "markdown",
   "id": "ca89fda7",
   "metadata": {},
   "source": [
    "## Добавьте в таблицу новые столбцы со следующими параметрами."
   ]
  },
  {
   "cell_type": "markdown",
   "id": "19167d65",
   "metadata": {},
   "source": [
    "**Цена одного квадратного метра:**"
   ]
  },
  {
   "cell_type": "code",
   "execution_count": 20,
   "id": "46b0fe3d",
   "metadata": {},
   "outputs": [],
   "source": [
    "df['one_square_meter'] = (df['last_price'] / df['total_area']).round(2)"
   ]
  },
  {
   "cell_type": "markdown",
   "id": "1fe6a094",
   "metadata": {},
   "source": [
    "**День недели публикации объявления (0 — понедельник, 1 — вторник и так далее):**"
   ]
  },
  {
   "cell_type": "code",
   "execution_count": 21,
   "id": "c4d2cb90",
   "metadata": {},
   "outputs": [],
   "source": [
    "df['day_of_week'] = df['first_day_exposition'].dt.weekday"
   ]
  },
  {
   "cell_type": "markdown",
   "id": "b8316d79",
   "metadata": {},
   "source": [
    "**Месяц публикации обьявления:**"
   ]
  },
  {
   "cell_type": "code",
   "execution_count": 22,
   "id": "43534646",
   "metadata": {},
   "outputs": [],
   "source": [
    "df['month'] = df['first_day_exposition'].dt.month"
   ]
  },
  {
   "cell_type": "markdown",
   "id": "8e370ce0",
   "metadata": {},
   "source": [
    "**Год публикации обьявления**"
   ]
  },
  {
   "cell_type": "code",
   "execution_count": 23,
   "id": "c17db92b",
   "metadata": {},
   "outputs": [],
   "source": [
    "df['year'] = df['first_day_exposition'].dt.year"
   ]
  },
  {
   "cell_type": "markdown",
   "id": "59ef7478",
   "metadata": {},
   "source": [
    "**Тип этажа квартиры:**"
   ]
  },
  {
   "cell_type": "code",
   "execution_count": 24,
   "id": "9cd4439f",
   "metadata": {},
   "outputs": [],
   "source": [
    "def type_of_floor(row):\n",
    "    if row['floor'] == 1:\n",
    "        return 'первый'\n",
    "    elif row['floor'] == row['floors_total']:\n",
    "        return 'последний'\n",
    "    else:\n",
    "        return 'другой'\n",
    "    \n",
    "df['type_of_floor'] = df.apply(type_of_floor, axis=1)"
   ]
  },
  {
   "cell_type": "markdown",
   "id": "63addaf3",
   "metadata": {},
   "source": [
    "**Удаленность от центра города в километрах:**"
   ]
  },
  {
   "cell_type": "code",
   "execution_count": 25,
   "id": "b18bb1bb",
   "metadata": {},
   "outputs": [],
   "source": [
    "df['km_cityCenters'] = np.ceil(df['cityCenters_nearest'] / 1000)"
   ]
  },
  {
   "cell_type": "markdown",
   "id": "e79af617",
   "metadata": {},
   "source": [
    "## Проведите исследовательский анализ данных."
   ]
  },
  {
   "cell_type": "markdown",
   "id": "27a31f12",
   "metadata": {},
   "source": [
    "### Изучите перечисленные ниже параметры объектов и постройте отдельные гистограммы для каждого из этих параметров."
   ]
  },
  {
   "cell_type": "markdown",
   "id": "531614c0",
   "metadata": {},
   "source": [
    "Для того, чтобы построить корректные гистограммы, нужно устранить все выбросы и некорректные значения в данных."
   ]
  },
  {
   "cell_type": "markdown",
   "id": "ee34280b",
   "metadata": {},
   "source": [
    "Начнем со столбца `total_area`:"
   ]
  },
  {
   "cell_type": "code",
   "execution_count": 26,
   "id": "03a1d517",
   "metadata": {},
   "outputs": [
    {
     "data": {
      "text/plain": [
       "count              23,562.00\n",
       "mean                   60.32\n",
       "std                    35.53\n",
       "min                    12.00\n",
       "25%                    40.00\n",
       "50%                    52.00\n",
       "75%                    69.80\n",
       "max                   900.00\n",
       "Name: total_area, dtype: float64"
      ]
     },
     "metadata": {},
     "output_type": "display_data"
    },
    {
     "data": {
      "text/plain": [
       "19540                 900.00\n",
       "12859                 631.20\n",
       "3117                  631.00\n",
       "15651                 618.00\n",
       "5358                  590.00\n",
       "                ...         \n",
       "19558                  13.20\n",
       "19546                  13.00\n",
       "19807                  13.00\n",
       "17961                  13.00\n",
       "19904                  12.00\n",
       "Name: total_area, Length: 23562, dtype: float64"
      ]
     },
     "execution_count": 26,
     "metadata": {},
     "output_type": "execute_result"
    }
   ],
   "source": [
    "display(df['total_area'].describe())\n",
    "df['total_area'].sort_values(ascending=False)"
   ]
  },
  {
   "cell_type": "markdown",
   "id": "56b0ade6",
   "metadata": {},
   "source": [
    "Построим гистограмму и отсечем аномально большие значения:"
   ]
  },
  {
   "cell_type": "code",
   "execution_count": 27,
   "id": "388e99f3",
   "metadata": {
    "scrolled": false
   },
   "outputs": [
    {
     "data": {
      "image/png": "[encoded data removed]",
      "text/plain": [
       "<Figure size 432x288 with 1 Axes>"
      ]
     },
     "metadata": {
      "needs_background": "light"
     },
     "output_type": "display_data"
    }
   ],
   "source": [
    "df.query('total_area < 900')['total_area'].hist(bins=50);"
   ]
  },
  {
   "cell_type": "markdown",
   "id": "973e4a9e",
   "metadata": {},
   "source": [
    "На гистограмме мы видим правильное распределение. Оно говорит нам о том, что больше всего квартир с общей площадью около 50 квадратных метров."
   ]
  },
  {
   "cell_type": "markdown",
   "id": "b95d918a",
   "metadata": {},
   "source": [
    "Проверим столбец `living_area`:"
   ]
  },
  {
   "cell_type": "code",
   "execution_count": 28,
   "id": "2b09f643",
   "metadata": {},
   "outputs": [
    {
     "data": {
      "text/plain": [
       "count              23,562.00\n",
       "mean                   34.32\n",
       "std                    21.67\n",
       "min                     2.00\n",
       "25%                    18.40\n",
       "50%                    30.30\n",
       "75%                    42.70\n",
       "max                   409.70\n",
       "Name: living_area, dtype: float64"
      ]
     },
     "metadata": {},
     "output_type": "display_data"
    },
    {
     "data": {
      "text/plain": [
       "19540                 409.70\n",
       "5358                  409.00\n",
       "12401                 347.50\n",
       "4237                  332.00\n",
       "12859                 322.30\n",
       "                ...         \n",
       "17582                   5.00\n",
       "23574                   3.00\n",
       "3242                    3.00\n",
       "13915                   2.00\n",
       "21758                   2.00\n",
       "Name: living_area, Length: 23562, dtype: float64"
      ]
     },
     "execution_count": 28,
     "metadata": {},
     "output_type": "execute_result"
    }
   ],
   "source": [
    "display(df['living_area'].describe())\n",
    "df['living_area'].sort_values(ascending=False)"
   ]
  },
  {
   "cell_type": "markdown",
   "id": "c3e8b798",
   "metadata": {},
   "source": [
    "Построим гистограмму и посмотрим на распределение. Отсечем обьекты с жилой площаью меньше 10 квадратных метров:"
   ]
  },
  {
   "cell_type": "code",
   "execution_count": 29,
   "id": "6972c31a",
   "metadata": {},
   "outputs": [
    {
     "data": {
      "image/png": "[encoded data removed]",
      "text/plain": [
       "<Figure size 432x288 with 1 Axes>"
      ]
     },
     "metadata": {
      "needs_background": "light"
     },
     "output_type": "display_data"
    }
   ],
   "source": [
    "df.query('living_area > 10')['living_area'].hist(bins=50);"
   ]
  },
  {
   "cell_type": "markdown",
   "id": "6830cd45",
   "metadata": {},
   "source": [
    "На гистограмме видно 2 пика: один из них примерно на отметке 18-22 квадратных метра, что характерно для квартир типа `студия` и `апартаменты`, второй на на отметке 30-35 квадратных метров, что характерно для `однокомнатных квартир`, коих в нашем датасете не мало."
   ]
  },
  {
   "cell_type": "markdown",
   "id": "ec69ed90",
   "metadata": {},
   "source": [
    "Столбец `kitchen_area`:"
   ]
  },
  {
   "cell_type": "code",
   "execution_count": 30,
   "id": "c1bdb68d",
   "metadata": {},
   "outputs": [
    {
     "data": {
      "text/plain": [
       "count              21,343.00\n",
       "mean                   10.56\n",
       "std                     5.90\n",
       "min                     1.30\n",
       "25%                     7.00\n",
       "50%                     9.10\n",
       "75%                    12.00\n",
       "max                   112.00\n",
       "Name: kitchen_area, dtype: float64"
      ]
     },
     "metadata": {},
     "output_type": "display_data"
    },
    {
     "data": {
      "text/plain": [
       "19540                 112.00\n",
       "20215                 107.00\n",
       "2489                  100.70\n",
       "5358                  100.00\n",
       "16239                  93.20\n",
       "                ...         \n",
       "23655                    NaN\n",
       "23663                    NaN\n",
       "23670                    NaN\n",
       "23679                    NaN\n",
       "23696                    NaN\n",
       "Name: kitchen_area, Length: 23562, dtype: float64"
      ]
     },
     "execution_count": 30,
     "metadata": {},
     "output_type": "execute_result"
    }
   ],
   "source": [
    "display(df['kitchen_area'].describe())\n",
    "df['kitchen_area'].sort_values(ascending=False)"
   ]
  },
  {
   "cell_type": "markdown",
   "id": "618eabc4",
   "metadata": {},
   "source": [
    "Отсечем кухни, площадь которых меньше 2.5 квадратных метров.\n",
    "Построим гистограмму:"
   ]
  },
  {
   "cell_type": "code",
   "execution_count": 31,
   "id": "8287f84e",
   "metadata": {},
   "outputs": [
    {
     "data": {
      "image/png": "[encoded data removed]",
      "text/plain": [
       "<Figure size 432x288 with 1 Axes>"
      ]
     },
     "metadata": {
      "needs_background": "light"
     },
     "output_type": "display_data"
    }
   ],
   "source": [
    "t = df.query('kitchen_area > 2.5')\n",
    "t['kitchen_area'].hist(bins=50);"
   ]
  },
  {
   "cell_type": "markdown",
   "id": "8c985f2b",
   "metadata": {},
   "source": [
    "Распределение можно назвать нормальным. Пик приходится на кухни площадью от 5 до 10 квадратных метров."
   ]
  },
  {
   "cell_type": "markdown",
   "id": "04982548",
   "metadata": {},
   "source": [
    "Данные о цене обьекта:"
   ]
  },
  {
   "cell_type": "code",
   "execution_count": 32,
   "id": "e9cd4380",
   "metadata": {},
   "outputs": [
    {
     "data": {
      "text/plain": [
       "count              23,562.00\n",
       "mean            6,527,544.23\n",
       "std            10,830,159.12\n",
       "min                12,190.00\n",
       "25%             3,409,250.00\n",
       "50%             4,650,000.00\n",
       "75%             6,799,000.00\n",
       "max           763,000,000.00\n",
       "Name: last_price, dtype: float64"
      ]
     },
     "metadata": {},
     "output_type": "display_data"
    },
    {
     "data": {
      "text/plain": [
       "12971         763,000,000.00\n",
       "19540         420,000,000.00\n",
       "14706         401,300,000.00\n",
       "1436          330,000,000.00\n",
       "15651         300,000,000.00\n",
       "                ...         \n",
       "9581              450,000.00\n",
       "16274             440,000.00\n",
       "17456             430,000.00\n",
       "14911             430,000.00\n",
       "8793               12,190.00\n",
       "Name: last_price, Length: 23562, dtype: float64"
      ]
     },
     "execution_count": 32,
     "metadata": {},
     "output_type": "execute_result"
    }
   ],
   "source": [
    "display(df['last_price'].describe())\n",
    "df['last_price'].sort_values(ascending=False)"
   ]
  },
  {
   "cell_type": "markdown",
   "id": "f42c863c",
   "metadata": {},
   "source": [
    "Уберем аномально маленькое и большие значение и построим гистограмму:"
   ]
  },
  {
   "cell_type": "code",
   "execution_count": 33,
   "id": "67df6f6c",
   "metadata": {
    "scrolled": false
   },
   "outputs": [
    {
     "data": {
      "image/png": "[encoded data removed]",
      "text/plain": [
       "<Figure size 432x288 with 1 Axes>"
      ]
     },
     "metadata": {
      "needs_background": "light"
     },
     "output_type": "display_data"
    }
   ],
   "source": [
    "t = df['last_price'] / 1000000\n",
    "t.hist(range=(0, 10.5), bins=25);"
   ]
  },
  {
   "cell_type": "markdown",
   "id": "cd1d8e55",
   "metadata": {},
   "source": [
    "Из-за выброса в виде квартиры за 730 млн.руб стандартное отклонение в этом столбце превышает 10 миллионов!\n",
    "Если убрать из графика аномальные значения, то распределение можно назвать нормальным (По оси `x` шаг в 10 млн.руб): Пик графика приходится на обьекты с стоимостью от 4-6 млн.руб."
   ]
  },
  {
   "cell_type": "markdown",
   "id": "6aa1d6b6",
   "metadata": {},
   "source": [
    "Столбец `rooms` с информацией о количестве комнат:"
   ]
  },
  {
   "cell_type": "code",
   "execution_count": 34,
   "id": "193748d4",
   "metadata": {},
   "outputs": [
    {
     "data": {
      "text/plain": [
       "count              23,562.00\n",
       "mean                    2.07\n",
       "std                     1.08\n",
       "min                     0.00\n",
       "25%                     1.00\n",
       "50%                     2.00\n",
       "75%                     3.00\n",
       "max                    19.00\n",
       "Name: rooms, dtype: float64"
      ]
     },
     "metadata": {},
     "output_type": "display_data"
    },
    {
     "data": {
      "text/plain": [
       "14498    19\n",
       "18848    16\n",
       "5358     15\n",
       "866      14\n",
       "20829    14\n",
       "         ..\n",
       "5188      0\n",
       "12130     0\n",
       "8454      0\n",
       "11051     0\n",
       "6364      0\n",
       "Name: rooms, Length: 23562, dtype: int64"
      ]
     },
     "execution_count": 34,
     "metadata": {},
     "output_type": "execute_result"
    }
   ],
   "source": [
    "display(df['rooms'].describe())\n",
    "df['rooms'].sort_values(ascending=False)"
   ]
  },
  {
   "cell_type": "markdown",
   "id": "7f38fe05",
   "metadata": {},
   "source": [
    "В исходных данных для квартир типа `студия` установлено значение `rooms` == 0, давайте это исправим и установим в этом случае значение == 1, тем самым избавимся от нулевых значений в этом столбце:"
   ]
  },
  {
   "cell_type": "code",
   "execution_count": 35,
   "id": "d7ab721c",
   "metadata": {},
   "outputs": [
    {
     "data": {
      "image/png": "[encoded data removed]",
      "text/plain": [
       "<Figure size 432x288 with 1 Axes>"
      ]
     },
     "metadata": {
      "needs_background": "light"
     },
     "output_type": "display_data"
    }
   ],
   "source": [
    "df.loc[df['rooms'] < 1, 'rooms'] = 1\n",
    "df['rooms'].hist(bins=20);"
   ]
  },
  {
   "cell_type": "markdown",
   "id": "08e6f07a",
   "metadata": {},
   "source": [
    "На гистограмме мы видим нормальное распределение. Самое большое количество квартир из 2х комнат."
   ]
  },
  {
   "cell_type": "markdown",
   "id": "b862bddb",
   "metadata": {},
   "source": [
    "Столбец `ceiling_heihgt`, хранящий информацию о высоте потолков. Ранее мы отсекли в нем значение меньше 2х и больше 5 метров:"
   ]
  },
  {
   "cell_type": "code",
   "execution_count": 36,
   "id": "dd125936",
   "metadata": {},
   "outputs": [
    {
     "data": {
      "text/plain": [
       "count              23,562.00\n",
       "mean                    2.70\n",
       "std                     0.22\n",
       "min                     2.20\n",
       "25%                     2.60\n",
       "50%                     2.65\n",
       "75%                     2.70\n",
       "max                     4.90\n",
       "Name: ceiling_height, dtype: float64"
      ]
     },
     "metadata": {},
     "output_type": "display_data"
    },
    {
     "data": {
      "text/plain": [
       "21923                   4.90\n",
       "2802                    4.80\n",
       "1300                    4.70\n",
       "19142                   4.70\n",
       "12401                   4.65\n",
       "                ...         \n",
       "1582                    2.30\n",
       "5498                    2.30\n",
       "17762                   2.30\n",
       "17794                   2.25\n",
       "12755                   2.20\n",
       "Name: ceiling_height, Length: 23562, dtype: float64"
      ]
     },
     "execution_count": 36,
     "metadata": {},
     "output_type": "execute_result"
    }
   ],
   "source": [
    "display(df['ceiling_height'].describe())\n",
    "df['ceiling_height'].sort_values(ascending=False)"
   ]
  },
  {
   "cell_type": "markdown",
   "id": "5788ba74",
   "metadata": {},
   "source": [
    "Построим гистограмму:"
   ]
  },
  {
   "cell_type": "code",
   "execution_count": 37,
   "id": "6f4f8fc2",
   "metadata": {},
   "outputs": [
    {
     "data": {
      "image/png": "[encoded data removed]",
      "text/plain": [
       "<Figure size 432x288 with 1 Axes>"
      ]
     },
     "metadata": {
      "needs_background": "light"
     },
     "output_type": "display_data"
    }
   ],
   "source": [
    "df['ceiling_height'].hist(bins=25);"
   ]
  },
  {
   "cell_type": "markdown",
   "id": "62ed7805",
   "metadata": {},
   "source": [
    "Ранее мы отсекли потолки меньше 2х и больше 5 метров, а так же заполнили отсутствующие значения медианным по этому столбцу. \n",
    "По этой причине на гистограмме 2 пика: на 2.5 метрах (медиана) и второй \"здоровый\" пик на уровне 2.65-2.75 метров."
   ]
  },
  {
   "cell_type": "markdown",
   "id": "392c160d",
   "metadata": {},
   "source": [
    "Столбец `type_of_floor`, который хранит в себе информацию об этаже, которые мы заранее разделили на 3 категории:"
   ]
  },
  {
   "cell_type": "code",
   "execution_count": 38,
   "id": "ae736548",
   "metadata": {},
   "outputs": [
    {
     "data": {
      "image/png": "[encoded data removed]",
      "text/plain": [
       "<Figure size 432x288 with 1 Axes>"
      ]
     },
     "metadata": {
      "needs_background": "light"
     },
     "output_type": "display_data"
    }
   ],
   "source": [
    "df['type_of_floor'].hist();"
   ]
  },
  {
   "cell_type": "markdown",
   "id": "ad99c23e",
   "metadata": {},
   "source": [
    "Ожидаемо самой многочисленной категорией оказалась `другой`."
   ]
  },
  {
   "cell_type": "markdown",
   "id": "b7e53709",
   "metadata": {},
   "source": [
    "Столбец `floors_total`, хранящий в себе информацию об общем количестве этажей в доме:"
   ]
  },
  {
   "cell_type": "code",
   "execution_count": 39,
   "id": "dc841e97",
   "metadata": {},
   "outputs": [
    {
     "data": {
      "text/plain": [
       "count              23,562.00\n",
       "mean                   10.68\n",
       "std                     6.59\n",
       "min                     1.00\n",
       "25%                     5.00\n",
       "50%                     9.00\n",
       "75%                    16.00\n",
       "max                    60.00\n",
       "Name: floors_total, dtype: float64"
      ]
     },
     "metadata": {},
     "output_type": "display_data"
    }
   ],
   "source": [
    "display(df['floors_total'].describe())"
   ]
  },
  {
   "cell_type": "markdown",
   "id": "e8f43afe",
   "metadata": {},
   "source": [
    "Построим гистограмму, отсекая дома выше 30 этажей:"
   ]
  },
  {
   "cell_type": "code",
   "execution_count": 40,
   "id": "9c588bc8",
   "metadata": {},
   "outputs": [
    {
     "data": {
      "image/png": "[encoded data removed]",
      "text/plain": [
       "<Figure size 432x288 with 1 Axes>"
      ]
     },
     "metadata": {
      "needs_background": "light"
     },
     "output_type": "display_data"
    }
   ],
   "source": [
    "df.query('floors_total <= 30')['floors_total'].hist(bins=10);"
   ]
  },
  {
   "cell_type": "markdown",
   "id": "6c3e4e28",
   "metadata": {},
   "source": [
    "Большинство зданий имеют высоту от 4-7 этажей. Типичный Питер."
   ]
  },
  {
   "cell_type": "markdown",
   "id": "bf23ee2c",
   "metadata": {},
   "source": [
    "Столбец `cityCenters_nearest`, который хранит в себе информацию о расстоянии до центра города в метрах:"
   ]
  },
  {
   "cell_type": "code",
   "execution_count": 41,
   "id": "3a1a6e0f",
   "metadata": {},
   "outputs": [
    {
     "data": {
      "text/plain": [
       "count              18,073.00\n",
       "mean               14,188.09\n",
       "std                 8,612.46\n",
       "min                   181.00\n",
       "25%                 9,234.00\n",
       "50%                13,094.00\n",
       "75%                16,293.00\n",
       "max                65,968.00\n",
       "Name: cityCenters_nearest, dtype: float64"
      ]
     },
     "execution_count": 41,
     "metadata": {},
     "output_type": "execute_result"
    }
   ],
   "source": [
    "df['cityCenters_nearest'].describe()"
   ]
  },
  {
   "cell_type": "code",
   "execution_count": 42,
   "id": "3ef41833",
   "metadata": {},
   "outputs": [
    {
     "data": {
      "image/png": "[encoded data removed]",
      "text/plain": [
       "<Figure size 432x288 with 1 Axes>"
      ]
     },
     "metadata": {
      "needs_background": "light"
     },
     "output_type": "display_data"
    }
   ],
   "source": [
    "df['cityCenters_nearest'].hist(bins=25);"
   ]
  },
  {
   "cell_type": "markdown",
   "id": "48704a67",
   "metadata": {},
   "source": [
    "Из гистограммы выше можно сделать вывод, что большая часть обьектов находится примерно в 10-20 километрах от центра города."
   ]
  },
  {
   "cell_type": "markdown",
   "id": "d202ba15",
   "metadata": {},
   "source": [
    "Столбец `parks_nearest`, хранящий в себе информацию о расстоянии до ближайшего парка в метрах:"
   ]
  },
  {
   "cell_type": "code",
   "execution_count": 43,
   "id": "4861dfb9",
   "metadata": {},
   "outputs": [
    {
     "data": {
      "text/plain": [
       "count               8,027.00\n",
       "mean                  490.64\n",
       "std                   341.59\n",
       "min                     1.00\n",
       "25%                   288.00\n",
       "50%                   455.00\n",
       "75%                   612.00\n",
       "max                 3,190.00\n",
       "Name: parks_nearest, dtype: float64"
      ]
     },
     "execution_count": 43,
     "metadata": {},
     "output_type": "execute_result"
    }
   ],
   "source": [
    "df['parks_nearest'].describe()"
   ]
  },
  {
   "cell_type": "markdown",
   "id": "50bc449c",
   "metadata": {},
   "source": [
    "При построении гистограммы отсечем те строки, в которых расстояние до ближайшего парка меньше 50 и больше 800 метров:"
   ]
  },
  {
   "cell_type": "code",
   "execution_count": 44,
   "id": "2df19d79",
   "metadata": {},
   "outputs": [
    {
     "data": {
      "image/png": "[encoded data removed]",
      "text/plain": [
       "<Figure size 432x288 with 1 Axes>"
      ]
     },
     "metadata": {
      "needs_background": "light"
     },
     "output_type": "display_data"
    }
   ],
   "source": [
    "df.query('50 < parks_nearest < 800')['parks_nearest'].hist(bins=30);"
   ]
  },
  {
   "cell_type": "markdown",
   "id": "0b5d47d8",
   "metadata": {},
   "source": [
    "Гистограмма имеет нормальное распределение. Из нее видно, что большинство обьектов находятся в ~500 метрах от парка. Наверняка там очень свежий воздух)"
   ]
  },
  {
   "cell_type": "markdown",
   "id": "a965e55f",
   "metadata": {},
   "source": [
    "### Изучите, как быстро продавались квартиры."
   ]
  },
  {
   "cell_type": "markdown",
   "id": "14cc0108",
   "metadata": {},
   "source": [
    "Столбец `days_exposition` хранит информацию о том, сколько было опубликовано обьявление от дня публикации до дня снятия."
   ]
  },
  {
   "cell_type": "code",
   "execution_count": 45,
   "id": "ce12d15c",
   "metadata": {},
   "outputs": [
    {
     "data": {
      "text/html": [
       "<div>\n",
       "<style scoped>\n",
       "    .dataframe tbody tr th:only-of-type {\n",
       "        vertical-align: middle;\n",
       "    }\n",
       "\n",
       "    .dataframe tbody tr th {\n",
       "        vertical-align: top;\n",
       "    }\n",
       "\n",
       "    .dataframe thead th {\n",
       "        text-align: right;\n",
       "    }\n",
       "</style>\n",
       "<table border=\"1\" class=\"dataframe\">\n",
       "  <thead>\n",
       "    <tr style=\"text-align: right;\">\n",
       "      <th></th>\n",
       "      <th>total_images</th>\n",
       "      <th>last_price</th>\n",
       "      <th>total_area</th>\n",
       "      <th>first_day_exposition</th>\n",
       "      <th>rooms</th>\n",
       "      <th>ceiling_height</th>\n",
       "      <th>floors_total</th>\n",
       "      <th>living_area</th>\n",
       "      <th>floor</th>\n",
       "      <th>is_apartment</th>\n",
       "      <th>studio</th>\n",
       "      <th>open_plan</th>\n",
       "      <th>kitchen_area</th>\n",
       "      <th>balcony</th>\n",
       "      <th>locality_name</th>\n",
       "      <th>airports_nearest</th>\n",
       "      <th>cityCenters_nearest</th>\n",
       "      <th>parks_around3000</th>\n",
       "      <th>parks_nearest</th>\n",
       "      <th>ponds_around3000</th>\n",
       "      <th>ponds_nearest</th>\n",
       "      <th>days_exposition</th>\n",
       "      <th>one_square_meter</th>\n",
       "      <th>day_of_week</th>\n",
       "      <th>month</th>\n",
       "      <th>year</th>\n",
       "      <th>type_of_floor</th>\n",
       "      <th>km_cityCenters</th>\n",
       "    </tr>\n",
       "  </thead>\n",
       "  <tbody>\n",
       "    <tr>\n",
       "      <th>0</th>\n",
       "      <td>20</td>\n",
       "      <td>13,000,000.00</td>\n",
       "      <td>108.00</td>\n",
       "      <td>2019-03-07</td>\n",
       "      <td>3</td>\n",
       "      <td>2.70</td>\n",
       "      <td>16.00</td>\n",
       "      <td>51.00</td>\n",
       "      <td>8</td>\n",
       "      <td>False</td>\n",
       "      <td>False</td>\n",
       "      <td>False</td>\n",
       "      <td>25.00</td>\n",
       "      <td>0.00</td>\n",
       "      <td>санкт-петербург</td>\n",
       "      <td>18,863.00</td>\n",
       "      <td>16,028.00</td>\n",
       "      <td>1.00</td>\n",
       "      <td>482.00</td>\n",
       "      <td>2.00</td>\n",
       "      <td>755.00</td>\n",
       "      <td>NaN</td>\n",
       "      <td>120,370.37</td>\n",
       "      <td>3</td>\n",
       "      <td>3</td>\n",
       "      <td>2019</td>\n",
       "      <td>другой</td>\n",
       "      <td>17.00</td>\n",
       "    </tr>\n",
       "    <tr>\n",
       "      <th>1</th>\n",
       "      <td>7</td>\n",
       "      <td>3,350,000.00</td>\n",
       "      <td>40.40</td>\n",
       "      <td>2018-12-04</td>\n",
       "      <td>1</td>\n",
       "      <td>2.65</td>\n",
       "      <td>11.00</td>\n",
       "      <td>18.60</td>\n",
       "      <td>1</td>\n",
       "      <td>False</td>\n",
       "      <td>False</td>\n",
       "      <td>False</td>\n",
       "      <td>11.00</td>\n",
       "      <td>2.00</td>\n",
       "      <td>шушары</td>\n",
       "      <td>12,817.00</td>\n",
       "      <td>18,603.00</td>\n",
       "      <td>0.00</td>\n",
       "      <td>NaN</td>\n",
       "      <td>0.00</td>\n",
       "      <td>NaN</td>\n",
       "      <td>81.00</td>\n",
       "      <td>82,920.79</td>\n",
       "      <td>1</td>\n",
       "      <td>12</td>\n",
       "      <td>2018</td>\n",
       "      <td>первый</td>\n",
       "      <td>19.00</td>\n",
       "    </tr>\n",
       "    <tr>\n",
       "      <th>2</th>\n",
       "      <td>10</td>\n",
       "      <td>5,196,000.00</td>\n",
       "      <td>56.00</td>\n",
       "      <td>2015-08-20</td>\n",
       "      <td>2</td>\n",
       "      <td>2.65</td>\n",
       "      <td>5.00</td>\n",
       "      <td>34.30</td>\n",
       "      <td>4</td>\n",
       "      <td>False</td>\n",
       "      <td>False</td>\n",
       "      <td>False</td>\n",
       "      <td>8.30</td>\n",
       "      <td>0.00</td>\n",
       "      <td>санкт-петербург</td>\n",
       "      <td>21,741.00</td>\n",
       "      <td>13,933.00</td>\n",
       "      <td>1.00</td>\n",
       "      <td>90.00</td>\n",
       "      <td>2.00</td>\n",
       "      <td>574.00</td>\n",
       "      <td>558.00</td>\n",
       "      <td>92,785.71</td>\n",
       "      <td>3</td>\n",
       "      <td>8</td>\n",
       "      <td>2015</td>\n",
       "      <td>другой</td>\n",
       "      <td>14.00</td>\n",
       "    </tr>\n",
       "    <tr>\n",
       "      <th>3</th>\n",
       "      <td>0</td>\n",
       "      <td>64,900,000.00</td>\n",
       "      <td>159.00</td>\n",
       "      <td>2015-07-24</td>\n",
       "      <td>3</td>\n",
       "      <td>2.65</td>\n",
       "      <td>14.00</td>\n",
       "      <td>45.00</td>\n",
       "      <td>9</td>\n",
       "      <td>False</td>\n",
       "      <td>False</td>\n",
       "      <td>False</td>\n",
       "      <td>NaN</td>\n",
       "      <td>0.00</td>\n",
       "      <td>санкт-петербург</td>\n",
       "      <td>28,098.00</td>\n",
       "      <td>6,800.00</td>\n",
       "      <td>2.00</td>\n",
       "      <td>84.00</td>\n",
       "      <td>3.00</td>\n",
       "      <td>234.00</td>\n",
       "      <td>424.00</td>\n",
       "      <td>408,176.10</td>\n",
       "      <td>4</td>\n",
       "      <td>7</td>\n",
       "      <td>2015</td>\n",
       "      <td>другой</td>\n",
       "      <td>7.00</td>\n",
       "    </tr>\n",
       "    <tr>\n",
       "      <th>4</th>\n",
       "      <td>2</td>\n",
       "      <td>10,000,000.00</td>\n",
       "      <td>100.00</td>\n",
       "      <td>2018-06-19</td>\n",
       "      <td>2</td>\n",
       "      <td>3.03</td>\n",
       "      <td>14.00</td>\n",
       "      <td>32.00</td>\n",
       "      <td>13</td>\n",
       "      <td>False</td>\n",
       "      <td>False</td>\n",
       "      <td>False</td>\n",
       "      <td>41.00</td>\n",
       "      <td>0.00</td>\n",
       "      <td>санкт-петербург</td>\n",
       "      <td>31,856.00</td>\n",
       "      <td>8,098.00</td>\n",
       "      <td>2.00</td>\n",
       "      <td>112.00</td>\n",
       "      <td>1.00</td>\n",
       "      <td>48.00</td>\n",
       "      <td>121.00</td>\n",
       "      <td>100,000.00</td>\n",
       "      <td>1</td>\n",
       "      <td>6</td>\n",
       "      <td>2018</td>\n",
       "      <td>другой</td>\n",
       "      <td>9.00</td>\n",
       "    </tr>\n",
       "  </tbody>\n",
       "</table>\n",
       "</div>"
      ],
      "text/plain": [
       "   total_images           last_price           total_area  \\\n",
       "0            20        13,000,000.00               108.00   \n",
       "1             7         3,350,000.00                40.40   \n",
       "2            10         5,196,000.00                56.00   \n",
       "3             0        64,900,000.00               159.00   \n",
       "4             2        10,000,000.00               100.00   \n",
       "\n",
       "  first_day_exposition  rooms       ceiling_height         floors_total  \\\n",
       "0           2019-03-07      3                 2.70                16.00   \n",
       "1           2018-12-04      1                 2.65                11.00   \n",
       "2           2015-08-20      2                 2.65                 5.00   \n",
       "3           2015-07-24      3                 2.65                14.00   \n",
       "4           2018-06-19      2                 3.03                14.00   \n",
       "\n",
       "           living_area  floor  is_apartment  studio  open_plan  \\\n",
       "0                51.00      8         False   False      False   \n",
       "1                18.60      1         False   False      False   \n",
       "2                34.30      4         False   False      False   \n",
       "3                45.00      9         False   False      False   \n",
       "4                32.00     13         False   False      False   \n",
       "\n",
       "          kitchen_area              balcony    locality_name  \\\n",
       "0                25.00                 0.00  санкт-петербург   \n",
       "1                11.00                 2.00           шушары   \n",
       "2                 8.30                 0.00  санкт-петербург   \n",
       "3                  NaN                 0.00  санкт-петербург   \n",
       "4                41.00                 0.00  санкт-петербург   \n",
       "\n",
       "      airports_nearest  cityCenters_nearest     parks_around3000  \\\n",
       "0            18,863.00            16,028.00                 1.00   \n",
       "1            12,817.00            18,603.00                 0.00   \n",
       "2            21,741.00            13,933.00                 1.00   \n",
       "3            28,098.00             6,800.00                 2.00   \n",
       "4            31,856.00             8,098.00                 2.00   \n",
       "\n",
       "         parks_nearest     ponds_around3000        ponds_nearest  \\\n",
       "0               482.00                 2.00               755.00   \n",
       "1                  NaN                 0.00                  NaN   \n",
       "2                90.00                 2.00               574.00   \n",
       "3                84.00                 3.00               234.00   \n",
       "4               112.00                 1.00                48.00   \n",
       "\n",
       "       days_exposition     one_square_meter  day_of_week  month  year  \\\n",
       "0                  NaN           120,370.37            3      3  2019   \n",
       "1                81.00            82,920.79            1     12  2018   \n",
       "2               558.00            92,785.71            3      8  2015   \n",
       "3               424.00           408,176.10            4      7  2015   \n",
       "4               121.00           100,000.00            1      6  2018   \n",
       "\n",
       "  type_of_floor       km_cityCenters  \n",
       "0        другой                17.00  \n",
       "1        первый                19.00  \n",
       "2        другой                14.00  \n",
       "3        другой                 7.00  \n",
       "4        другой                 9.00  "
      ]
     },
     "execution_count": 45,
     "metadata": {},
     "output_type": "execute_result"
    }
   ],
   "source": [
    "df.head()"
   ]
  },
  {
   "cell_type": "code",
   "execution_count": 46,
   "id": "2e7f6167",
   "metadata": {},
   "outputs": [
    {
     "data": {
      "text/plain": [
       "count              20,401.00\n",
       "mean                  180.92\n",
       "std                   219.75\n",
       "min                     1.00\n",
       "25%                    45.00\n",
       "50%                    95.00\n",
       "75%                   232.00\n",
       "max                 1,580.00\n",
       "Name: days_exposition, dtype: float64"
      ]
     },
     "execution_count": 46,
     "metadata": {},
     "output_type": "execute_result"
    }
   ],
   "source": [
    "df['days_exposition'].describe()"
   ]
  },
  {
   "cell_type": "markdown",
   "id": "bdac6f60",
   "metadata": {},
   "source": [
    "Построим гистограмму по столбцу `days_exposition`:"
   ]
  },
  {
   "cell_type": "code",
   "execution_count": 47,
   "id": "0002c849",
   "metadata": {},
   "outputs": [
    {
     "data": {
      "image/png": "[encoded data removed]",
      "text/plain": [
       "<Figure size 432x288 with 1 Axes>"
      ]
     },
     "metadata": {
      "needs_background": "light"
     },
     "output_type": "display_data"
    }
   ],
   "source": [
    "df['days_exposition'].hist(bins=50);"
   ]
  },
  {
   "cell_type": "markdown",
   "id": "6d5f6700",
   "metadata": {},
   "source": [
    "Как видно, большинство квартир продавались всего за пару месяцев. Давайте отсечем те обьявления, которые были опубликованы больше 2х лет и посчитаем среднее и медиану:"
   ]
  },
  {
   "cell_type": "code",
   "execution_count": 48,
   "id": "97fca840",
   "metadata": {},
   "outputs": [
    {
     "data": {
      "text/plain": [
       "mean                   151.00\n",
       "median                  90.00\n",
       "Name: days_exposition, dtype: float64"
      ]
     },
     "execution_count": 48,
     "metadata": {},
     "output_type": "execute_result"
    }
   ],
   "source": [
    "df.query('days_exposition < 730')['days_exposition'].agg(['mean', 'median'])"
   ]
  },
  {
   "cell_type": "markdown",
   "id": "884d0795",
   "metadata": {},
   "source": [
    "Все равно не будем забывать о квартирах, которые продаются больше 2х лет и посмотрим на первые 20 строк:"
   ]
  },
  {
   "cell_type": "code",
   "execution_count": 49,
   "id": "af584889",
   "metadata": {},
   "outputs": [
    {
     "data": {
      "text/html": [
       "<div>\n",
       "<style scoped>\n",
       "    .dataframe tbody tr th:only-of-type {\n",
       "        vertical-align: middle;\n",
       "    }\n",
       "\n",
       "    .dataframe tbody tr th {\n",
       "        vertical-align: top;\n",
       "    }\n",
       "\n",
       "    .dataframe thead th {\n",
       "        text-align: right;\n",
       "    }\n",
       "</style>\n",
       "<table border=\"1\" class=\"dataframe\">\n",
       "  <thead>\n",
       "    <tr style=\"text-align: right;\">\n",
       "      <th></th>\n",
       "      <th>total_images</th>\n",
       "      <th>last_price</th>\n",
       "      <th>total_area</th>\n",
       "      <th>first_day_exposition</th>\n",
       "      <th>rooms</th>\n",
       "      <th>ceiling_height</th>\n",
       "      <th>floors_total</th>\n",
       "      <th>living_area</th>\n",
       "      <th>floor</th>\n",
       "      <th>is_apartment</th>\n",
       "      <th>studio</th>\n",
       "      <th>open_plan</th>\n",
       "      <th>kitchen_area</th>\n",
       "      <th>balcony</th>\n",
       "      <th>locality_name</th>\n",
       "      <th>airports_nearest</th>\n",
       "      <th>cityCenters_nearest</th>\n",
       "      <th>parks_around3000</th>\n",
       "      <th>parks_nearest</th>\n",
       "      <th>ponds_around3000</th>\n",
       "      <th>ponds_nearest</th>\n",
       "      <th>days_exposition</th>\n",
       "      <th>one_square_meter</th>\n",
       "      <th>day_of_week</th>\n",
       "      <th>month</th>\n",
       "      <th>year</th>\n",
       "      <th>type_of_floor</th>\n",
       "      <th>km_cityCenters</th>\n",
       "    </tr>\n",
       "  </thead>\n",
       "  <tbody>\n",
       "    <tr>\n",
       "      <th>42</th>\n",
       "      <td>13</td>\n",
       "      <td>22,000,000.00</td>\n",
       "      <td>161.80</td>\n",
       "      <td>2015-07-08</td>\n",
       "      <td>4</td>\n",
       "      <td>2.80</td>\n",
       "      <td>4.00</td>\n",
       "      <td>80.90</td>\n",
       "      <td>2</td>\n",
       "      <td>False</td>\n",
       "      <td>False</td>\n",
       "      <td>False</td>\n",
       "      <td>17.60</td>\n",
       "      <td>5.00</td>\n",
       "      <td>петергоф</td>\n",
       "      <td>35,416.00</td>\n",
       "      <td>30,605.00</td>\n",
       "      <td>2.00</td>\n",
       "      <td>47.00</td>\n",
       "      <td>1.00</td>\n",
       "      <td>907.00</td>\n",
       "      <td>987.00</td>\n",
       "      <td>135,970.33</td>\n",
       "      <td>2</td>\n",
       "      <td>7</td>\n",
       "      <td>2015</td>\n",
       "      <td>другой</td>\n",
       "      <td>31.00</td>\n",
       "    </tr>\n",
       "    <tr>\n",
       "      <th>43</th>\n",
       "      <td>13</td>\n",
       "      <td>9,330,000.00</td>\n",
       "      <td>48.00</td>\n",
       "      <td>2017-01-10</td>\n",
       "      <td>2</td>\n",
       "      <td>3.00</td>\n",
       "      <td>4.00</td>\n",
       "      <td>28.00</td>\n",
       "      <td>4</td>\n",
       "      <td>False</td>\n",
       "      <td>False</td>\n",
       "      <td>False</td>\n",
       "      <td>7.50</td>\n",
       "      <td>0.00</td>\n",
       "      <td>санкт-петербург</td>\n",
       "      <td>15,016.00</td>\n",
       "      <td>10,822.00</td>\n",
       "      <td>0.00</td>\n",
       "      <td>NaN</td>\n",
       "      <td>1.00</td>\n",
       "      <td>492.00</td>\n",
       "      <td>763.00</td>\n",
       "      <td>194,375.00</td>\n",
       "      <td>1</td>\n",
       "      <td>1</td>\n",
       "      <td>2017</td>\n",
       "      <td>последний</td>\n",
       "      <td>11.00</td>\n",
       "    </tr>\n",
       "    <tr>\n",
       "      <th>98</th>\n",
       "      <td>11</td>\n",
       "      <td>11,700,000.00</td>\n",
       "      <td>80.00</td>\n",
       "      <td>2014-12-10</td>\n",
       "      <td>3</td>\n",
       "      <td>2.65</td>\n",
       "      <td>5.00</td>\n",
       "      <td>55.10</td>\n",
       "      <td>3</td>\n",
       "      <td>False</td>\n",
       "      <td>False</td>\n",
       "      <td>False</td>\n",
       "      <td>11.00</td>\n",
       "      <td>0.00</td>\n",
       "      <td>санкт-петербург</td>\n",
       "      <td>11,248.00</td>\n",
       "      <td>8,767.00</td>\n",
       "      <td>1.00</td>\n",
       "      <td>666.00</td>\n",
       "      <td>0.00</td>\n",
       "      <td>NaN</td>\n",
       "      <td>831.00</td>\n",
       "      <td>146,250.00</td>\n",
       "      <td>2</td>\n",
       "      <td>12</td>\n",
       "      <td>2014</td>\n",
       "      <td>другой</td>\n",
       "      <td>9.00</td>\n",
       "    </tr>\n",
       "    <tr>\n",
       "      <th>109</th>\n",
       "      <td>2</td>\n",
       "      <td>7,497,600.00</td>\n",
       "      <td>62.50</td>\n",
       "      <td>2015-12-08</td>\n",
       "      <td>2</td>\n",
       "      <td>2.65</td>\n",
       "      <td>5.00</td>\n",
       "      <td>35.50</td>\n",
       "      <td>5</td>\n",
       "      <td>False</td>\n",
       "      <td>False</td>\n",
       "      <td>False</td>\n",
       "      <td>9.50</td>\n",
       "      <td>0.00</td>\n",
       "      <td>пушкин</td>\n",
       "      <td>14,517.00</td>\n",
       "      <td>26,670.00</td>\n",
       "      <td>1.00</td>\n",
       "      <td>517.00</td>\n",
       "      <td>0.00</td>\n",
       "      <td>NaN</td>\n",
       "      <td>1,048.00</td>\n",
       "      <td>119,961.60</td>\n",
       "      <td>1</td>\n",
       "      <td>12</td>\n",
       "      <td>2015</td>\n",
       "      <td>последний</td>\n",
       "      <td>27.00</td>\n",
       "    </tr>\n",
       "    <tr>\n",
       "      <th>145</th>\n",
       "      <td>6</td>\n",
       "      <td>8,290,000.00</td>\n",
       "      <td>77.00</td>\n",
       "      <td>2015-09-21</td>\n",
       "      <td>2</td>\n",
       "      <td>2.77</td>\n",
       "      <td>16.00</td>\n",
       "      <td>40.00</td>\n",
       "      <td>5</td>\n",
       "      <td>False</td>\n",
       "      <td>False</td>\n",
       "      <td>False</td>\n",
       "      <td>10.00</td>\n",
       "      <td>1.00</td>\n",
       "      <td>санкт-петербург</td>\n",
       "      <td>30,012.00</td>\n",
       "      <td>7,384.00</td>\n",
       "      <td>0.00</td>\n",
       "      <td>NaN</td>\n",
       "      <td>1.00</td>\n",
       "      <td>260.00</td>\n",
       "      <td>807.00</td>\n",
       "      <td>107,662.34</td>\n",
       "      <td>0</td>\n",
       "      <td>9</td>\n",
       "      <td>2015</td>\n",
       "      <td>другой</td>\n",
       "      <td>8.00</td>\n",
       "    </tr>\n",
       "    <tr>\n",
       "      <th>201</th>\n",
       "      <td>5</td>\n",
       "      <td>10,880,000.00</td>\n",
       "      <td>123.10</td>\n",
       "      <td>2015-11-12</td>\n",
       "      <td>6</td>\n",
       "      <td>3.20</td>\n",
       "      <td>5.00</td>\n",
       "      <td>89.00</td>\n",
       "      <td>2</td>\n",
       "      <td>False</td>\n",
       "      <td>False</td>\n",
       "      <td>False</td>\n",
       "      <td>11.00</td>\n",
       "      <td>0.00</td>\n",
       "      <td>санкт-петербург</td>\n",
       "      <td>26,009.00</td>\n",
       "      <td>3,369.00</td>\n",
       "      <td>2.00</td>\n",
       "      <td>516.00</td>\n",
       "      <td>0.00</td>\n",
       "      <td>NaN</td>\n",
       "      <td>992.00</td>\n",
       "      <td>88,383.43</td>\n",
       "      <td>3</td>\n",
       "      <td>11</td>\n",
       "      <td>2015</td>\n",
       "      <td>другой</td>\n",
       "      <td>4.00</td>\n",
       "    </tr>\n",
       "    <tr>\n",
       "      <th>213</th>\n",
       "      <td>11</td>\n",
       "      <td>8,700,000.00</td>\n",
       "      <td>111.40</td>\n",
       "      <td>2016-10-10</td>\n",
       "      <td>4</td>\n",
       "      <td>3.10</td>\n",
       "      <td>4.00</td>\n",
       "      <td>73.20</td>\n",
       "      <td>2</td>\n",
       "      <td>False</td>\n",
       "      <td>False</td>\n",
       "      <td>False</td>\n",
       "      <td>14.10</td>\n",
       "      <td>0.00</td>\n",
       "      <td>санкт-петербург</td>\n",
       "      <td>20,936.00</td>\n",
       "      <td>1,218.00</td>\n",
       "      <td>1.00</td>\n",
       "      <td>463.00</td>\n",
       "      <td>3.00</td>\n",
       "      <td>55.00</td>\n",
       "      <td>791.00</td>\n",
       "      <td>78,096.95</td>\n",
       "      <td>0</td>\n",
       "      <td>10</td>\n",
       "      <td>2016</td>\n",
       "      <td>другой</td>\n",
       "      <td>2.00</td>\n",
       "    </tr>\n",
       "    <tr>\n",
       "      <th>319</th>\n",
       "      <td>19</td>\n",
       "      <td>4,850,000.00</td>\n",
       "      <td>59.70</td>\n",
       "      <td>2015-03-19</td>\n",
       "      <td>3</td>\n",
       "      <td>2.50</td>\n",
       "      <td>5.00</td>\n",
       "      <td>47.40</td>\n",
       "      <td>4</td>\n",
       "      <td>False</td>\n",
       "      <td>False</td>\n",
       "      <td>False</td>\n",
       "      <td>6.40</td>\n",
       "      <td>1.00</td>\n",
       "      <td>санкт-петербург</td>\n",
       "      <td>43,095.00</td>\n",
       "      <td>15,599.00</td>\n",
       "      <td>0.00</td>\n",
       "      <td>NaN</td>\n",
       "      <td>0.00</td>\n",
       "      <td>NaN</td>\n",
       "      <td>974.00</td>\n",
       "      <td>81,239.53</td>\n",
       "      <td>3</td>\n",
       "      <td>3</td>\n",
       "      <td>2015</td>\n",
       "      <td>другой</td>\n",
       "      <td>16.00</td>\n",
       "    </tr>\n",
       "    <tr>\n",
       "      <th>330</th>\n",
       "      <td>16</td>\n",
       "      <td>7,100,000.00</td>\n",
       "      <td>50.00</td>\n",
       "      <td>2016-04-20</td>\n",
       "      <td>3</td>\n",
       "      <td>2.65</td>\n",
       "      <td>5.00</td>\n",
       "      <td>31.50</td>\n",
       "      <td>1</td>\n",
       "      <td>False</td>\n",
       "      <td>False</td>\n",
       "      <td>False</td>\n",
       "      <td>5.00</td>\n",
       "      <td>0.00</td>\n",
       "      <td>санкт-петербург</td>\n",
       "      <td>21,341.00</td>\n",
       "      <td>2,043.00</td>\n",
       "      <td>2.00</td>\n",
       "      <td>377.00</td>\n",
       "      <td>1.00</td>\n",
       "      <td>411.00</td>\n",
       "      <td>900.00</td>\n",
       "      <td>142,000.00</td>\n",
       "      <td>2</td>\n",
       "      <td>4</td>\n",
       "      <td>2016</td>\n",
       "      <td>первый</td>\n",
       "      <td>3.00</td>\n",
       "    </tr>\n",
       "    <tr>\n",
       "      <th>353</th>\n",
       "      <td>4</td>\n",
       "      <td>5,990,000.00</td>\n",
       "      <td>43.50</td>\n",
       "      <td>2015-05-08</td>\n",
       "      <td>1</td>\n",
       "      <td>3.00</td>\n",
       "      <td>5.00</td>\n",
       "      <td>25.00</td>\n",
       "      <td>4</td>\n",
       "      <td>False</td>\n",
       "      <td>False</td>\n",
       "      <td>False</td>\n",
       "      <td>9.40</td>\n",
       "      <td>0.00</td>\n",
       "      <td>санкт-петербург</td>\n",
       "      <td>10,527.00</td>\n",
       "      <td>10,278.00</td>\n",
       "      <td>1.00</td>\n",
       "      <td>93.00</td>\n",
       "      <td>0.00</td>\n",
       "      <td>NaN</td>\n",
       "      <td>1,292.00</td>\n",
       "      <td>137,701.15</td>\n",
       "      <td>4</td>\n",
       "      <td>5</td>\n",
       "      <td>2015</td>\n",
       "      <td>другой</td>\n",
       "      <td>11.00</td>\n",
       "    </tr>\n",
       "    <tr>\n",
       "      <th>391</th>\n",
       "      <td>10</td>\n",
       "      <td>8,700,000.00</td>\n",
       "      <td>71.00</td>\n",
       "      <td>2016-06-02</td>\n",
       "      <td>2</td>\n",
       "      <td>3.00</td>\n",
       "      <td>25.00</td>\n",
       "      <td>33.00</td>\n",
       "      <td>19</td>\n",
       "      <td>False</td>\n",
       "      <td>False</td>\n",
       "      <td>False</td>\n",
       "      <td>14.20</td>\n",
       "      <td>2.00</td>\n",
       "      <td>санкт-петербург</td>\n",
       "      <td>51,468.00</td>\n",
       "      <td>15,925.00</td>\n",
       "      <td>0.00</td>\n",
       "      <td>NaN</td>\n",
       "      <td>1.00</td>\n",
       "      <td>314.00</td>\n",
       "      <td>776.00</td>\n",
       "      <td>122,535.21</td>\n",
       "      <td>3</td>\n",
       "      <td>6</td>\n",
       "      <td>2016</td>\n",
       "      <td>другой</td>\n",
       "      <td>16.00</td>\n",
       "    </tr>\n",
       "    <tr>\n",
       "      <th>398</th>\n",
       "      <td>7</td>\n",
       "      <td>12,789,000.00</td>\n",
       "      <td>79.30</td>\n",
       "      <td>2014-12-09</td>\n",
       "      <td>2</td>\n",
       "      <td>3.00</td>\n",
       "      <td>8.00</td>\n",
       "      <td>43.10</td>\n",
       "      <td>5</td>\n",
       "      <td>False</td>\n",
       "      <td>False</td>\n",
       "      <td>False</td>\n",
       "      <td>17.60</td>\n",
       "      <td>0.00</td>\n",
       "      <td>санкт-петербург</td>\n",
       "      <td>39,393.00</td>\n",
       "      <td>11,096.00</td>\n",
       "      <td>1.00</td>\n",
       "      <td>537.00</td>\n",
       "      <td>0.00</td>\n",
       "      <td>NaN</td>\n",
       "      <td>1,345.00</td>\n",
       "      <td>161,273.64</td>\n",
       "      <td>1</td>\n",
       "      <td>12</td>\n",
       "      <td>2014</td>\n",
       "      <td>другой</td>\n",
       "      <td>12.00</td>\n",
       "    </tr>\n",
       "    <tr>\n",
       "      <th>437</th>\n",
       "      <td>12</td>\n",
       "      <td>3,350,000.00</td>\n",
       "      <td>37.00</td>\n",
       "      <td>2015-02-24</td>\n",
       "      <td>1</td>\n",
       "      <td>2.55</td>\n",
       "      <td>6.00</td>\n",
       "      <td>17.80</td>\n",
       "      <td>6</td>\n",
       "      <td>False</td>\n",
       "      <td>False</td>\n",
       "      <td>False</td>\n",
       "      <td>8.40</td>\n",
       "      <td>0.00</td>\n",
       "      <td>петергоф</td>\n",
       "      <td>46,151.00</td>\n",
       "      <td>34,044.00</td>\n",
       "      <td>1.00</td>\n",
       "      <td>185.00</td>\n",
       "      <td>1.00</td>\n",
       "      <td>755.00</td>\n",
       "      <td>1,273.00</td>\n",
       "      <td>90,540.54</td>\n",
       "      <td>1</td>\n",
       "      <td>2</td>\n",
       "      <td>2015</td>\n",
       "      <td>последний</td>\n",
       "      <td>35.00</td>\n",
       "    </tr>\n",
       "    <tr>\n",
       "      <th>459</th>\n",
       "      <td>13</td>\n",
       "      <td>5,200,000.00</td>\n",
       "      <td>51.00</td>\n",
       "      <td>2016-03-02</td>\n",
       "      <td>2</td>\n",
       "      <td>2.55</td>\n",
       "      <td>9.00</td>\n",
       "      <td>32.00</td>\n",
       "      <td>5</td>\n",
       "      <td>False</td>\n",
       "      <td>False</td>\n",
       "      <td>False</td>\n",
       "      <td>6.00</td>\n",
       "      <td>0.00</td>\n",
       "      <td>санкт-петербург</td>\n",
       "      <td>48,522.00</td>\n",
       "      <td>16,360.00</td>\n",
       "      <td>0.00</td>\n",
       "      <td>NaN</td>\n",
       "      <td>0.00</td>\n",
       "      <td>NaN</td>\n",
       "      <td>1,153.00</td>\n",
       "      <td>101,960.78</td>\n",
       "      <td>2</td>\n",
       "      <td>3</td>\n",
       "      <td>2016</td>\n",
       "      <td>другой</td>\n",
       "      <td>17.00</td>\n",
       "    </tr>\n",
       "    <tr>\n",
       "      <th>512</th>\n",
       "      <td>8</td>\n",
       "      <td>6,260,000.00</td>\n",
       "      <td>43.30</td>\n",
       "      <td>2014-12-09</td>\n",
       "      <td>1</td>\n",
       "      <td>2.65</td>\n",
       "      <td>8.00</td>\n",
       "      <td>17.60</td>\n",
       "      <td>5</td>\n",
       "      <td>False</td>\n",
       "      <td>False</td>\n",
       "      <td>False</td>\n",
       "      <td>NaN</td>\n",
       "      <td>0.00</td>\n",
       "      <td>санкт-петербург</td>\n",
       "      <td>39,946.00</td>\n",
       "      <td>10,720.00</td>\n",
       "      <td>1.00</td>\n",
       "      <td>2,102.00</td>\n",
       "      <td>3.00</td>\n",
       "      <td>303.00</td>\n",
       "      <td>1,155.00</td>\n",
       "      <td>144,572.75</td>\n",
       "      <td>1</td>\n",
       "      <td>12</td>\n",
       "      <td>2014</td>\n",
       "      <td>другой</td>\n",
       "      <td>11.00</td>\n",
       "    </tr>\n",
       "    <tr>\n",
       "      <th>521</th>\n",
       "      <td>20</td>\n",
       "      <td>25,717,300.00</td>\n",
       "      <td>230.10</td>\n",
       "      <td>2015-01-21</td>\n",
       "      <td>3</td>\n",
       "      <td>2.65</td>\n",
       "      <td>3.00</td>\n",
       "      <td>130.00</td>\n",
       "      <td>1</td>\n",
       "      <td>False</td>\n",
       "      <td>False</td>\n",
       "      <td>False</td>\n",
       "      <td>26.10</td>\n",
       "      <td>1.00</td>\n",
       "      <td>пушкин</td>\n",
       "      <td>16,877.00</td>\n",
       "      <td>29,030.00</td>\n",
       "      <td>2.00</td>\n",
       "      <td>676.00</td>\n",
       "      <td>3.00</td>\n",
       "      <td>278.00</td>\n",
       "      <td>1,441.00</td>\n",
       "      <td>111,765.75</td>\n",
       "      <td>2</td>\n",
       "      <td>1</td>\n",
       "      <td>2015</td>\n",
       "      <td>первый</td>\n",
       "      <td>30.00</td>\n",
       "    </tr>\n",
       "    <tr>\n",
       "      <th>559</th>\n",
       "      <td>10</td>\n",
       "      <td>8,100,000.00</td>\n",
       "      <td>70.80</td>\n",
       "      <td>2015-02-11</td>\n",
       "      <td>3</td>\n",
       "      <td>2.84</td>\n",
       "      <td>7.00</td>\n",
       "      <td>49.50</td>\n",
       "      <td>4</td>\n",
       "      <td>False</td>\n",
       "      <td>False</td>\n",
       "      <td>False</td>\n",
       "      <td>8.60</td>\n",
       "      <td>0.00</td>\n",
       "      <td>санкт-петербург</td>\n",
       "      <td>25,783.00</td>\n",
       "      <td>4,358.00</td>\n",
       "      <td>2.00</td>\n",
       "      <td>498.00</td>\n",
       "      <td>0.00</td>\n",
       "      <td>NaN</td>\n",
       "      <td>927.00</td>\n",
       "      <td>114,406.78</td>\n",
       "      <td>2</td>\n",
       "      <td>2</td>\n",
       "      <td>2015</td>\n",
       "      <td>другой</td>\n",
       "      <td>5.00</td>\n",
       "    </tr>\n",
       "    <tr>\n",
       "      <th>658</th>\n",
       "      <td>16</td>\n",
       "      <td>11,200,000.00</td>\n",
       "      <td>131.50</td>\n",
       "      <td>2015-11-02</td>\n",
       "      <td>4</td>\n",
       "      <td>3.11</td>\n",
       "      <td>5.00</td>\n",
       "      <td>88.20</td>\n",
       "      <td>2</td>\n",
       "      <td>False</td>\n",
       "      <td>False</td>\n",
       "      <td>False</td>\n",
       "      <td>10.40</td>\n",
       "      <td>0.00</td>\n",
       "      <td>санкт-петербург</td>\n",
       "      <td>25,387.00</td>\n",
       "      <td>4,235.00</td>\n",
       "      <td>0.00</td>\n",
       "      <td>NaN</td>\n",
       "      <td>1.00</td>\n",
       "      <td>643.00</td>\n",
       "      <td>1,174.00</td>\n",
       "      <td>85,171.10</td>\n",
       "      <td>0</td>\n",
       "      <td>11</td>\n",
       "      <td>2015</td>\n",
       "      <td>другой</td>\n",
       "      <td>5.00</td>\n",
       "    </tr>\n",
       "    <tr>\n",
       "      <th>681</th>\n",
       "      <td>20</td>\n",
       "      <td>24,900,000.00</td>\n",
       "      <td>249.00</td>\n",
       "      <td>2015-08-13</td>\n",
       "      <td>7</td>\n",
       "      <td>2.65</td>\n",
       "      <td>5.00</td>\n",
       "      <td>180.00</td>\n",
       "      <td>4</td>\n",
       "      <td>False</td>\n",
       "      <td>False</td>\n",
       "      <td>False</td>\n",
       "      <td>NaN</td>\n",
       "      <td>1.00</td>\n",
       "      <td>санкт-петербург</td>\n",
       "      <td>24,810.00</td>\n",
       "      <td>6,108.00</td>\n",
       "      <td>0.00</td>\n",
       "      <td>NaN</td>\n",
       "      <td>0.00</td>\n",
       "      <td>NaN</td>\n",
       "      <td>781.00</td>\n",
       "      <td>100,000.00</td>\n",
       "      <td>3</td>\n",
       "      <td>8</td>\n",
       "      <td>2015</td>\n",
       "      <td>другой</td>\n",
       "      <td>7.00</td>\n",
       "    </tr>\n",
       "    <tr>\n",
       "      <th>684</th>\n",
       "      <td>5</td>\n",
       "      <td>9,200,000.00</td>\n",
       "      <td>82.93</td>\n",
       "      <td>2014-12-09</td>\n",
       "      <td>2</td>\n",
       "      <td>2.65</td>\n",
       "      <td>12.00</td>\n",
       "      <td>41.92</td>\n",
       "      <td>6</td>\n",
       "      <td>False</td>\n",
       "      <td>False</td>\n",
       "      <td>False</td>\n",
       "      <td>16.74</td>\n",
       "      <td>2.00</td>\n",
       "      <td>санкт-петербург</td>\n",
       "      <td>39,946.00</td>\n",
       "      <td>10,720.00</td>\n",
       "      <td>1.00</td>\n",
       "      <td>2,102.00</td>\n",
       "      <td>3.00</td>\n",
       "      <td>303.00</td>\n",
       "      <td>1,141.00</td>\n",
       "      <td>110,936.93</td>\n",
       "      <td>1</td>\n",
       "      <td>12</td>\n",
       "      <td>2014</td>\n",
       "      <td>другой</td>\n",
       "      <td>11.00</td>\n",
       "    </tr>\n",
       "  </tbody>\n",
       "</table>\n",
       "</div>"
      ],
      "text/plain": [
       "     total_images           last_price           total_area  \\\n",
       "42             13        22,000,000.00               161.80   \n",
       "43             13         9,330,000.00                48.00   \n",
       "98             11        11,700,000.00                80.00   \n",
       "109             2         7,497,600.00                62.50   \n",
       "145             6         8,290,000.00                77.00   \n",
       "201             5        10,880,000.00               123.10   \n",
       "213            11         8,700,000.00               111.40   \n",
       "319            19         4,850,000.00                59.70   \n",
       "330            16         7,100,000.00                50.00   \n",
       "353             4         5,990,000.00                43.50   \n",
       "391            10         8,700,000.00                71.00   \n",
       "398             7        12,789,000.00                79.30   \n",
       "437            12         3,350,000.00                37.00   \n",
       "459            13         5,200,000.00                51.00   \n",
       "512             8         6,260,000.00                43.30   \n",
       "521            20        25,717,300.00               230.10   \n",
       "559            10         8,100,000.00                70.80   \n",
       "658            16        11,200,000.00               131.50   \n",
       "681            20        24,900,000.00               249.00   \n",
       "684             5         9,200,000.00                82.93   \n",
       "\n",
       "    first_day_exposition  rooms       ceiling_height         floors_total  \\\n",
       "42            2015-07-08      4                 2.80                 4.00   \n",
       "43            2017-01-10      2                 3.00                 4.00   \n",
       "98            2014-12-10      3                 2.65                 5.00   \n",
       "109           2015-12-08      2                 2.65                 5.00   \n",
       "145           2015-09-21      2                 2.77                16.00   \n",
       "201           2015-11-12      6                 3.20                 5.00   \n",
       "213           2016-10-10      4                 3.10                 4.00   \n",
       "319           2015-03-19      3                 2.50                 5.00   \n",
       "330           2016-04-20      3                 2.65                 5.00   \n",
       "353           2015-05-08      1                 3.00                 5.00   \n",
       "391           2016-06-02      2                 3.00                25.00   \n",
       "398           2014-12-09      2                 3.00                 8.00   \n",
       "437           2015-02-24      1                 2.55                 6.00   \n",
       "459           2016-03-02      2                 2.55                 9.00   \n",
       "512           2014-12-09      1                 2.65                 8.00   \n",
       "521           2015-01-21      3                 2.65                 3.00   \n",
       "559           2015-02-11      3                 2.84                 7.00   \n",
       "658           2015-11-02      4                 3.11                 5.00   \n",
       "681           2015-08-13      7                 2.65                 5.00   \n",
       "684           2014-12-09      2                 2.65                12.00   \n",
       "\n",
       "             living_area  floor  is_apartment  studio  open_plan  \\\n",
       "42                 80.90      2         False   False      False   \n",
       "43                 28.00      4         False   False      False   \n",
       "98                 55.10      3         False   False      False   \n",
       "109                35.50      5         False   False      False   \n",
       "145                40.00      5         False   False      False   \n",
       "201                89.00      2         False   False      False   \n",
       "213                73.20      2         False   False      False   \n",
       "319                47.40      4         False   False      False   \n",
       "330                31.50      1         False   False      False   \n",
       "353                25.00      4         False   False      False   \n",
       "391                33.00     19         False   False      False   \n",
       "398                43.10      5         False   False      False   \n",
       "437                17.80      6         False   False      False   \n",
       "459                32.00      5         False   False      False   \n",
       "512                17.60      5         False   False      False   \n",
       "521               130.00      1         False   False      False   \n",
       "559                49.50      4         False   False      False   \n",
       "658                88.20      2         False   False      False   \n",
       "681               180.00      4         False   False      False   \n",
       "684                41.92      6         False   False      False   \n",
       "\n",
       "            kitchen_area              balcony    locality_name  \\\n",
       "42                 17.60                 5.00         петергоф   \n",
       "43                  7.50                 0.00  санкт-петербург   \n",
       "98                 11.00                 0.00  санкт-петербург   \n",
       "109                 9.50                 0.00           пушкин   \n",
       "145                10.00                 1.00  санкт-петербург   \n",
       "201                11.00                 0.00  санкт-петербург   \n",
       "213                14.10                 0.00  санкт-петербург   \n",
       "319                 6.40                 1.00  санкт-петербург   \n",
       "330                 5.00                 0.00  санкт-петербург   \n",
       "353                 9.40                 0.00  санкт-петербург   \n",
       "391                14.20                 2.00  санкт-петербург   \n",
       "398                17.60                 0.00  санкт-петербург   \n",
       "437                 8.40                 0.00         петергоф   \n",
       "459                 6.00                 0.00  санкт-петербург   \n",
       "512                  NaN                 0.00  санкт-петербург   \n",
       "521                26.10                 1.00           пушкин   \n",
       "559                 8.60                 0.00  санкт-петербург   \n",
       "658                10.40                 0.00  санкт-петербург   \n",
       "681                  NaN                 1.00  санкт-петербург   \n",
       "684                16.74                 2.00  санкт-петербург   \n",
       "\n",
       "        airports_nearest  cityCenters_nearest     parks_around3000  \\\n",
       "42             35,416.00            30,605.00                 2.00   \n",
       "43             15,016.00            10,822.00                 0.00   \n",
       "98             11,248.00             8,767.00                 1.00   \n",
       "109            14,517.00            26,670.00                 1.00   \n",
       "145            30,012.00             7,384.00                 0.00   \n",
       "201            26,009.00             3,369.00                 2.00   \n",
       "213            20,936.00             1,218.00                 1.00   \n",
       "319            43,095.00            15,599.00                 0.00   \n",
       "330            21,341.00             2,043.00                 2.00   \n",
       "353            10,527.00            10,278.00                 1.00   \n",
       "391            51,468.00            15,925.00                 0.00   \n",
       "398            39,393.00            11,096.00                 1.00   \n",
       "437            46,151.00            34,044.00                 1.00   \n",
       "459            48,522.00            16,360.00                 0.00   \n",
       "512            39,946.00            10,720.00                 1.00   \n",
       "521            16,877.00            29,030.00                 2.00   \n",
       "559            25,783.00             4,358.00                 2.00   \n",
       "658            25,387.00             4,235.00                 0.00   \n",
       "681            24,810.00             6,108.00                 0.00   \n",
       "684            39,946.00            10,720.00                 1.00   \n",
       "\n",
       "           parks_nearest     ponds_around3000        ponds_nearest  \\\n",
       "42                 47.00                 1.00               907.00   \n",
       "43                   NaN                 1.00               492.00   \n",
       "98                666.00                 0.00                  NaN   \n",
       "109               517.00                 0.00                  NaN   \n",
       "145                  NaN                 1.00               260.00   \n",
       "201               516.00                 0.00                  NaN   \n",
       "213               463.00                 3.00                55.00   \n",
       "319                  NaN                 0.00                  NaN   \n",
       "330               377.00                 1.00               411.00   \n",
       "353                93.00                 0.00                  NaN   \n",
       "391                  NaN                 1.00               314.00   \n",
       "398               537.00                 0.00                  NaN   \n",
       "437               185.00                 1.00               755.00   \n",
       "459                  NaN                 0.00                  NaN   \n",
       "512             2,102.00                 3.00               303.00   \n",
       "521               676.00                 3.00               278.00   \n",
       "559               498.00                 0.00                  NaN   \n",
       "658                  NaN                 1.00               643.00   \n",
       "681                  NaN                 0.00                  NaN   \n",
       "684             2,102.00                 3.00               303.00   \n",
       "\n",
       "         days_exposition     one_square_meter  day_of_week  month  year  \\\n",
       "42                987.00           135,970.33            2      7  2015   \n",
       "43                763.00           194,375.00            1      1  2017   \n",
       "98                831.00           146,250.00            2     12  2014   \n",
       "109             1,048.00           119,961.60            1     12  2015   \n",
       "145               807.00           107,662.34            0      9  2015   \n",
       "201               992.00            88,383.43            3     11  2015   \n",
       "213               791.00            78,096.95            0     10  2016   \n",
       "319               974.00            81,239.53            3      3  2015   \n",
       "330               900.00           142,000.00            2      4  2016   \n",
       "353             1,292.00           137,701.15            4      5  2015   \n",
       "391               776.00           122,535.21            3      6  2016   \n",
       "398             1,345.00           161,273.64            1     12  2014   \n",
       "437             1,273.00            90,540.54            1      2  2015   \n",
       "459             1,153.00           101,960.78            2      3  2016   \n",
       "512             1,155.00           144,572.75            1     12  2014   \n",
       "521             1,441.00           111,765.75            2      1  2015   \n",
       "559               927.00           114,406.78            2      2  2015   \n",
       "658             1,174.00            85,171.10            0     11  2015   \n",
       "681               781.00           100,000.00            3      8  2015   \n",
       "684             1,141.00           110,936.93            1     12  2014   \n",
       "\n",
       "    type_of_floor       km_cityCenters  \n",
       "42         другой                31.00  \n",
       "43      последний                11.00  \n",
       "98         другой                 9.00  \n",
       "109     последний                27.00  \n",
       "145        другой                 8.00  \n",
       "201        другой                 4.00  \n",
       "213        другой                 2.00  \n",
       "319        другой                16.00  \n",
       "330        первый                 3.00  \n",
       "353        другой                11.00  \n",
       "391        другой                16.00  \n",
       "398        другой                12.00  \n",
       "437     последний                35.00  \n",
       "459        другой                17.00  \n",
       "512        другой                11.00  \n",
       "521        первый                30.00  \n",
       "559        другой                 5.00  \n",
       "658        другой                 5.00  \n",
       "681        другой                 7.00  \n",
       "684        другой                11.00  "
      ]
     },
     "execution_count": 49,
     "metadata": {},
     "output_type": "execute_result"
    }
   ],
   "source": [
    "df.query('days_exposition > 730 ').head(20)"
   ]
  },
  {
   "cell_type": "code",
   "execution_count": 50,
   "id": "a67809cf",
   "metadata": {},
   "outputs": [
    {
     "data": {
      "text/plain": [
       "санкт-петербург    515\n",
       "кудрово             20\n",
       "мурино              18\n",
       "пушкин              15\n",
       "гатчина             14\n",
       "Name: locality_name, dtype: int64"
      ]
     },
     "execution_count": 50,
     "metadata": {},
     "output_type": "execute_result"
    }
   ],
   "source": [
    "df.query('days_exposition > 730 ')['locality_name'].value_counts().head()"
   ]
  },
  {
   "cell_type": "code",
   "execution_count": 51,
   "id": "4edc64e3",
   "metadata": {},
   "outputs": [
    {
     "data": {
      "text/plain": [
       "санкт-петербург    13040\n",
       "мурино               527\n",
       "кудрово              418\n",
       "шушары               396\n",
       "всеволожск           327\n",
       "Name: locality_name, dtype: int64"
      ]
     },
     "execution_count": 51,
     "metadata": {},
     "output_type": "execute_result"
    }
   ],
   "source": [
    "df.query('days_exposition < 730 ')['locality_name'].value_counts().head()"
   ]
  },
  {
   "cell_type": "markdown",
   "id": "eab15c26",
   "metadata": {},
   "source": [
    "Тяжело выявить какую-либо закономерность, из графика и вычислений выше можно сделать вывод, что большая часть обьектов недвижимости продавалась за 40-120 дней, зачастую это квартиры со средней стоимостью и находящиеся не в самом центре. \n",
    "\n",
    "Обьявления, которые висят больше 2-х лет чаще всего встречаются именно в Санкт-Петербурге. Возможно это связано с не самым большим спросом на покупку недвижимости в мегаполисе. \n",
    "\n",
    "Обьявления, которые закрываются менее чем за 2 года чаще включают себя пригороды Санкт-Петербурга. Современный человек часто хочет выбраться из шумного суетливого города на свой огород)"
   ]
  },
  {
   "cell_type": "markdown",
   "id": "2b2f925d",
   "metadata": {},
   "source": [
    "### Определите факторы, которые больше всего влияют на общую (полную) стоимость объекта."
   ]
  },
  {
   "cell_type": "markdown",
   "id": "0c7b0c87",
   "metadata": {},
   "source": [
    "**Построим диаграммы рассеяния для всех значений:**"
   ]
  },
  {
   "cell_type": "markdown",
   "id": "86f8f449",
   "metadata": {},
   "source": [
    "**Изучим, зависит ли цена от общей площади:**"
   ]
  },
  {
   "cell_type": "markdown",
   "id": "830cc55a",
   "metadata": {},
   "source": [
    "Лучше будет избавиться от слишком больших значений. Возьмем только те обьекты, где цена не превышает 50 млн.руб., а общая площадь не превышает 500 кв.м.\n",
    "\n",
    "Посчитаем коэффициент корреляции Пирсона и построим график по этим данным:"
   ]
  },
  {
   "cell_type": "code",
   "execution_count": 52,
   "id": "0d36a625",
   "metadata": {},
   "outputs": [
    {
     "data": {
      "text/plain": [
       "0.7834102968073614"
      ]
     },
     "execution_count": 52,
     "metadata": {},
     "output_type": "execute_result"
    }
   ],
   "source": [
    "df.query('last_price < 50000000')['last_price'].corr(df.query('12 < total_area < 500')['total_area'])"
   ]
  },
  {
   "cell_type": "code",
   "execution_count": 53,
   "id": "09885614",
   "metadata": {},
   "outputs": [
    {
     "data": {
      "image/png": "[encoded data removed]",
      "text/plain": [
       "<Figure size 432x288 with 1 Axes>"
      ]
     },
     "metadata": {
      "needs_background": "light"
     },
     "output_type": "display_data"
    }
   ],
   "source": [
    "df.query('last_price < 50000000 and 12 < total_area < 500').plot(kind='scatter',\n",
    "                                                                 x='last_price',\n",
    "                                                                 y='total_area',\n",
    "                                                                 title='Зависимость цены от общей площади');"
   ]
  },
  {
   "cell_type": "markdown",
   "id": "4fe7a05b",
   "metadata": {},
   "source": [
    "Ожидаемо мы получили достаточно большой коеффициент взаимосвязи (0.78!). Цена квартиры напрямую зависит от ее площади. Возможно, если полностью избавиться от очень больших значений, то можно добиться и большего коеффициента. В нашем случае на график сильно влияют люди, которые продают квартиры не самого большого метража за огромные деньги."
   ]
  },
  {
   "cell_type": "markdown",
   "id": "1679fb89",
   "metadata": {},
   "source": [
    "**Изучим, зависит ли цена от жилой площади:**"
   ]
  },
  {
   "cell_type": "code",
   "execution_count": 54,
   "id": "46a9c705",
   "metadata": {},
   "outputs": [
    {
     "data": {
      "text/plain": [
       "0.6658253909469679"
      ]
     },
     "execution_count": 54,
     "metadata": {},
     "output_type": "execute_result"
    }
   ],
   "source": [
    "df.query('last_price< 50000000')['last_price'].corr(df['living_area'])"
   ]
  },
  {
   "cell_type": "code",
   "execution_count": 55,
   "id": "2a979b67",
   "metadata": {},
   "outputs": [
    {
     "data": {
      "image/png": "[encoded data removed]",
      "text/plain": [
       "<Figure size 432x288 with 1 Axes>"
      ]
     },
     "metadata": {
      "needs_background": "light"
     },
     "output_type": "display_data"
    }
   ],
   "source": [
    "df.query('last_price < 50000000').plot(kind='scatter',\n",
    "                                       x='last_price',\n",
    "                                       y='living_area',\n",
    "                                       title='Зависимость цены от жилой площади');"
   ]
  },
  {
   "cell_type": "markdown",
   "id": "79b792ec",
   "metadata": {},
   "source": [
    "Цена на обьект почти так же сильно зависит от жилой площади, если фильтровать еще и жилую площадь, чтобы не учитывать слишком большие и маленькие значения, то коеффициент будет выше."
   ]
  },
  {
   "cell_type": "markdown",
   "id": "eaa94df2",
   "metadata": {},
   "source": [
    "**Изучим, зависит ли цена от площади кухни:**"
   ]
  },
  {
   "cell_type": "code",
   "execution_count": 56,
   "id": "f35ecfb7",
   "metadata": {},
   "outputs": [
    {
     "data": {
      "text/plain": [
       "0.6034198008893835"
      ]
     },
     "execution_count": 56,
     "metadata": {},
     "output_type": "execute_result"
    }
   ],
   "source": [
    "df.query('last_price< 50000000')['last_price'].corr(df['kitchen_area'])"
   ]
  },
  {
   "cell_type": "code",
   "execution_count": 57,
   "id": "b04963fb",
   "metadata": {},
   "outputs": [
    {
     "data": {
      "image/png": "[encoded data removed]",
      "text/plain": [
       "<Figure size 432x288 with 1 Axes>"
      ]
     },
     "metadata": {
      "needs_background": "light"
     },
     "output_type": "display_data"
    }
   ],
   "source": [
    "df.query('last_price < 50000000').plot(kind='scatter',\n",
    "                                       x='last_price',\n",
    "                                       y='kitchen_area',\n",
    "                                       title='Зависимость цены от площади кухни');"
   ]
  },
  {
   "cell_type": "markdown",
   "id": "a64a21b7",
   "metadata": {},
   "source": [
    "В этом случае цена еще меньше зависит от площади. Из всех вычислений выше можно сделать вывод, что на цену абсолютно влияет площадь помещения, но не так сильно отдельные ее параметры, такие как жилая площадь и площадь кухни."
   ]
  },
  {
   "cell_type": "markdown",
   "id": "c37c6b64",
   "metadata": {},
   "source": [
    "**Изучим, зависит ли цена от количества комнат:**"
   ]
  },
  {
   "cell_type": "markdown",
   "id": "24a8827d",
   "metadata": {},
   "source": [
    "В данных есть проблема, а именно:"
   ]
  },
  {
   "cell_type": "code",
   "execution_count": 58,
   "id": "d1620964",
   "metadata": {},
   "outputs": [
    {
     "data": {
      "text/plain": [
       "count              23,562.00\n",
       "mean                    2.08\n",
       "std                     1.07\n",
       "min                     1.00\n",
       "25%                     1.00\n",
       "50%                     2.00\n",
       "75%                     3.00\n",
       "90%                     3.00\n",
       "99%                     5.00\n",
       "max                    19.00\n",
       "Name: rooms, dtype: float64"
      ]
     },
     "execution_count": 58,
     "metadata": {},
     "output_type": "execute_result"
    }
   ],
   "source": [
    "df['rooms'].describe([.25, .50, .75, .90, .99])"
   ]
  },
  {
   "cell_type": "markdown",
   "id": "15fbafe1",
   "metadata": {},
   "source": [
    "99% обьектов имеют меньше 5 комнат!"
   ]
  },
  {
   "cell_type": "markdown",
   "id": "1bf2d834",
   "metadata": {},
   "source": [
    "Если строить график по таким данным, то будут выбросы:"
   ]
  },
  {
   "cell_type": "code",
   "execution_count": 59,
   "id": "8386a275",
   "metadata": {},
   "outputs": [
    {
     "data": {
      "image/png": "[encoded data removed]",
      "text/plain": [
       "<Figure size 432x288 with 1 Axes>"
      ]
     },
     "metadata": {
      "needs_background": "light"
     },
     "output_type": "display_data"
    }
   ],
   "source": [
    "dependency = df.groupby('rooms')['last_price'].mean()\n",
    "dependency.plot(kind='line', title='Зависимость цены от количества комнат');"
   ]
  },
  {
   "cell_type": "markdown",
   "id": "950416a1",
   "metadata": {},
   "source": [
    "99% квартир имеют 5 комнаты и меньше, давайте нормализуем данные, чтобы наш график правильно отражал действительность:"
   ]
  },
  {
   "cell_type": "code",
   "execution_count": 60,
   "id": "fdd7110e",
   "metadata": {},
   "outputs": [],
   "source": [
    "df['good_rooms'] = df.query('rooms <= 5')['rooms']"
   ]
  },
  {
   "cell_type": "code",
   "execution_count": 61,
   "id": "15f6b620",
   "metadata": {},
   "outputs": [
    {
     "data": {
      "image/png": "[encoded data removed]",
      "text/plain": [
       "<Figure size 432x288 with 1 Axes>"
      ]
     },
     "metadata": {
      "needs_background": "light"
     },
     "output_type": "display_data"
    }
   ],
   "source": [
    "dependency = df.groupby('good_rooms')['last_price'].mean()\n",
    "dependency.plot(kind='line', title='Зависимость цены от количества комнат');"
   ]
  },
  {
   "cell_type": "code",
   "execution_count": 62,
   "id": "0b547891",
   "metadata": {},
   "outputs": [
    {
     "data": {
      "text/plain": [
       "0.46778731069304486"
      ]
     },
     "execution_count": 62,
     "metadata": {},
     "output_type": "execute_result"
    }
   ],
   "source": [
    "df.query('last_price< 50000000')['last_price'].corr(df['good_rooms'])"
   ]
  },
  {
   "cell_type": "markdown",
   "id": "817561ea",
   "metadata": {},
   "source": [
    "На графике видно вполне явную зависимость цены от количества комнат."
   ]
  },
  {
   "cell_type": "markdown",
   "id": "801584c5",
   "metadata": {},
   "source": [
    "**Изучим, зависит ли цена от категории этажа:**"
   ]
  },
  {
   "cell_type": "code",
   "execution_count": 63,
   "id": "c82191b7",
   "metadata": {},
   "outputs": [
    {
     "data": {
      "image/png": "[encoded data removed]",
      "text/plain": [
       "<Figure size 360x360 with 1 Axes>"
      ]
     },
     "metadata": {
      "needs_background": "light"
     },
     "output_type": "display_data"
    }
   ],
   "source": [
    "df.pivot_table(index='type_of_floor', values='last_price', aggfunc='median').plot(kind='bar',\n",
    "                                                                                  grid=True,\n",
    "                                                                                  figsize=(5, 5),\n",
    "                                                                                  title='Зависимость медианы цены от этажа', \n",
    "                                                                                  xlabel='Тип этажа');"
   ]
  },
  {
   "cell_type": "markdown",
   "id": "193bf2c7",
   "metadata": {},
   "source": [
    "Исходя из графика можно сделать вывод, что самые дешевые квартиры находятся на 1 этаже, т.к. там намного шумнее, и не так безопасно. На последний этаж цена выше, чем на первый, но и там есть свои проблемы. \n",
    "\n",
    "Самыйм желанным стал тип этажа *другой*, золотая середина."
   ]
  },
  {
   "cell_type": "markdown",
   "id": "fa0309e0",
   "metadata": {},
   "source": [
    "**Изучим, зависит ли цена от даты размещения.**\n",
    "\n",
    "Для начала выведем общий график, далее посмотрим на все данные по отдельности:"
   ]
  },
  {
   "cell_type": "code",
   "execution_count": 64,
   "id": "b9614e54",
   "metadata": {},
   "outputs": [
    {
     "data": {
      "image/png": "[encoded data removed]",
      "text/plain": [
       "<Figure size 864x432 with 1 Axes>"
      ]
     },
     "metadata": {
      "needs_background": "light"
     },
     "output_type": "display_data"
    }
   ],
   "source": [
    "df.pivot_table(index=['year', 'month', 'day_of_week'],\n",
    "               values='last_price',\n",
    "               aggfunc='median').sort_values(['year'], ascending=True).plot(kind='line',\n",
    "                                                                            figsize=(12, 6),\n",
    "                                                                            grid=True,\n",
    "                                                                            title='Зависимость цены от даты публикации',\n",
    "                                                                            xlabel='Дата публикации',\n",
    "                                                                            ylabel='Медианная стоимость');"
   ]
  },
  {
   "cell_type": "markdown",
   "id": "8aa4acfa",
   "metadata": {},
   "source": [
    "На графике выше мы видим, что в 2014-2016 годах мединанная цена обьявления была значительно выше, чем в последующие. \n",
    "\n",
    "Скорее всего это связано с курсом рубля, его фееричными взлетами и падениями  и конечно же с ситуацией на рынке недвижимости."
   ]
  },
  {
   "cell_type": "markdown",
   "id": "472f23cb",
   "metadata": {},
   "source": [
    "**Узнаем, как влияет день размещения обьявления на цену:**"
   ]
  },
  {
   "cell_type": "code",
   "execution_count": 65,
   "id": "2fbe2b1d",
   "metadata": {},
   "outputs": [
    {
     "data": {
      "image/png": "[encoded data removed]",
      "text/plain": [
       "<Figure size 864x432 with 1 Axes>"
      ]
     },
     "metadata": {
      "needs_background": "light"
     },
     "output_type": "display_data"
    }
   ],
   "source": [
    "df.pivot_table(index='day_of_week', values='last_price', aggfunc='median').plot(kind='line',\n",
    "                                                                                figsize=(12, 6),\n",
    "                                                                                grid=True,\n",
    "                                                                                title='Зависимость цены от дня недели публикации',\n",
    "                                                                                xlabel='День публикации',\n",
    "                                                                                ylabel='Медианная стоимость');"
   ]
  },
  {
   "cell_type": "markdown",
   "id": "d33ef7c2",
   "metadata": {},
   "source": [
    "Из графика выше видно, что медиана цены в течение нелели колебалась примерно на 175-200 тыс.руб. \n",
    "\n",
    "Самые дорогие обьявления опубликовывались в понедельник, в последующие дни цена планомерно понижалась.\n",
    "\n",
    "**Новая неделя - Новая жизнь.**"
   ]
  },
  {
   "cell_type": "markdown",
   "id": "d8f70a9e",
   "metadata": {},
   "source": [
    "**Узнаем, как влияет месяц размещения обьявления на цену:**"
   ]
  },
  {
   "cell_type": "code",
   "execution_count": 66,
   "id": "d8856a5a",
   "metadata": {},
   "outputs": [
    {
     "data": {
      "image/png": "[encoded data removed]",
      "text/plain": [
       "<Figure size 864x432 with 1 Axes>"
      ]
     },
     "metadata": {
      "needs_background": "light"
     },
     "output_type": "display_data"
    }
   ],
   "source": [
    "df.pivot_table(index='month', values='last_price', aggfunc='median').plot(kind='line',\n",
    "                                                                          figsize=(12, 6),\n",
    "                                                                          grid=True,\n",
    "                                                                          title='Зависимость цены от месяца публикации',\n",
    "                                                                          xlabel='Месяц публикации',\n",
    "                                                                          ylabel='Медианная стоимость');"
   ]
  },
  {
   "cell_type": "markdown",
   "id": "68482da4",
   "metadata": {},
   "source": [
    "Из графика выше видно, что медианная цена обьявления в течение года разнится на 400 тыс.руб.\n",
    "\n",
    "Самые дорогие обьявления обычно публикуются в апреле, после чего сильный спад, а самые дешевые обьявления публикуются в июне."
   ]
  },
  {
   "cell_type": "markdown",
   "id": "47cc90ff",
   "metadata": {},
   "source": [
    "**Узнаем, как год размещения обьявления влияет на цену:**"
   ]
  },
  {
   "cell_type": "code",
   "execution_count": 67,
   "id": "385639f3",
   "metadata": {},
   "outputs": [
    {
     "data": {
      "image/png": "[encoded data removed]",
      "text/plain": [
       "<Figure size 864x432 with 1 Axes>"
      ]
     },
     "metadata": {
      "needs_background": "light"
     },
     "output_type": "display_data"
    }
   ],
   "source": [
    "df.pivot_table(index='year', values='last_price', aggfunc='median').plot(kind='line',\n",
    "                                                                                  figsize=(12, 6),\n",
    "                                                                                  grid=True,\n",
    "                                                                                  title='Зависимость цены от года публикации',\n",
    "                                                                                  xlabel='Год публикации',\n",
    "                                                                                  ylabel='Медианная стоимость');"
   ]
  },
  {
   "cell_type": "markdown",
   "id": "5f517c92",
   "metadata": {},
   "source": [
    "Из графика выше можно подтвердить вывод в общем графике по *полной дате*, который гласит, что в 2014 году цены на недвижимость были на ~70% выше, чем в 2016 и последующих годах. Скорее всего это связано с курсом рубля и ситуацией на рынке недвижимости."
   ]
  },
  {
   "cell_type": "markdown",
   "id": "127432e5",
   "metadata": {},
   "source": [
    "**Промежуточный вывод:**\n",
    "\n",
    "Сильнее всего цена зависит от общей площади помещения. Так же большое влияние оказывает и количество комнат в обьекте и этаж, если он не первый и не последний, то медианная цена на такую квартиру будет выше. Так же с течением времени, роста рубля, или его падения, а так же изменения ситуации на рынке недвижимости, на ценю влияет и дата публикации: С 2014-2016 гг. цены были самые большие"
   ]
  },
  {
   "cell_type": "markdown",
   "id": "b01c7f69",
   "metadata": {},
   "source": [
    "## Посчитайте среднюю цену одного квадратного метра в 10 населённых пунктах с наибольшим числом объявлений."
   ]
  },
  {
   "cell_type": "code",
   "execution_count": 68,
   "id": "6245adc5",
   "metadata": {},
   "outputs": [
    {
     "data": {
      "text/plain": [
       "санкт-петербург    15623\n",
       "мурино               584\n",
       "кудрово              469\n",
       "шушары               439\n",
       "всеволожск           397\n",
       "пушкин               369\n",
       "колпино              338\n",
       "парголово            327\n",
       "гатчина              306\n",
       "выборг               235\n",
       "Name: locality_name, dtype: int64"
      ]
     },
     "execution_count": 68,
     "metadata": {},
     "output_type": "execute_result"
    }
   ],
   "source": [
    "# выведем первые 10 населенных пунков с наибольшим количеством обьявлений и сохраним в переменную\n",
    "top_10_most_common = df['locality_name'].value_counts().nlargest(10).index\n",
    "df_top_10_most_common = df[df['locality_name'].isin(top_10_most_common)]\n",
    "df_top_10_most_common['locality_name'].value_counts()"
   ]
  },
  {
   "cell_type": "code",
   "execution_count": 69,
   "id": "a7e0e2c4",
   "metadata": {},
   "outputs": [
    {
     "data": {
      "text/html": [
       "<div>\n",
       "<style scoped>\n",
       "    .dataframe tbody tr th:only-of-type {\n",
       "        vertical-align: middle;\n",
       "    }\n",
       "\n",
       "    .dataframe tbody tr th {\n",
       "        vertical-align: top;\n",
       "    }\n",
       "\n",
       "    .dataframe thead th {\n",
       "        text-align: right;\n",
       "    }\n",
       "</style>\n",
       "<table border=\"1\" class=\"dataframe\">\n",
       "  <thead>\n",
       "    <tr style=\"text-align: right;\">\n",
       "      <th></th>\n",
       "      <th>count</th>\n",
       "      <th>mean</th>\n",
       "    </tr>\n",
       "    <tr>\n",
       "      <th>locality_name</th>\n",
       "      <th></th>\n",
       "      <th></th>\n",
       "    </tr>\n",
       "  </thead>\n",
       "  <tbody>\n",
       "    <tr>\n",
       "      <th>всеволожск</th>\n",
       "      <td>397</td>\n",
       "      <td>68,719.32</td>\n",
       "    </tr>\n",
       "    <tr>\n",
       "      <th>выборг</th>\n",
       "      <td>235</td>\n",
       "      <td>58,238.14</td>\n",
       "    </tr>\n",
       "    <tr>\n",
       "      <th>гатчина</th>\n",
       "      <td>306</td>\n",
       "      <td>68,757.68</td>\n",
       "    </tr>\n",
       "    <tr>\n",
       "      <th>колпино</th>\n",
       "      <td>338</td>\n",
       "      <td>75,424.58</td>\n",
       "    </tr>\n",
       "    <tr>\n",
       "      <th>кудрово</th>\n",
       "      <td>469</td>\n",
       "      <td>95,261.96</td>\n",
       "    </tr>\n",
       "    <tr>\n",
       "      <th>мурино</th>\n",
       "      <td>584</td>\n",
       "      <td>86,018.11</td>\n",
       "    </tr>\n",
       "    <tr>\n",
       "      <th>парголово</th>\n",
       "      <td>327</td>\n",
       "      <td>90,175.91</td>\n",
       "    </tr>\n",
       "    <tr>\n",
       "      <th>пушкин</th>\n",
       "      <td>369</td>\n",
       "      <td>103,125.82</td>\n",
       "    </tr>\n",
       "    <tr>\n",
       "      <th>санкт-петербург</th>\n",
       "      <td>15623</td>\n",
       "      <td>114,774.93</td>\n",
       "    </tr>\n",
       "    <tr>\n",
       "      <th>шушары</th>\n",
       "      <td>439</td>\n",
       "      <td>78,551.34</td>\n",
       "    </tr>\n",
       "  </tbody>\n",
       "</table>\n",
       "</div>"
      ],
      "text/plain": [
       "                 count                 mean\n",
       "locality_name                              \n",
       "всеволожск         397            68,719.32\n",
       "выборг             235            58,238.14\n",
       "гатчина            306            68,757.68\n",
       "колпино            338            75,424.58\n",
       "кудрово            469            95,261.96\n",
       "мурино             584            86,018.11\n",
       "парголово          327            90,175.91\n",
       "пушкин             369           103,125.82\n",
       "санкт-петербург  15623           114,774.93\n",
       "шушары             439            78,551.34"
      ]
     },
     "execution_count": 69,
     "metadata": {},
     "output_type": "execute_result"
    }
   ],
   "source": [
    "# посчитаем среднюю цену за квадратный метр для каждого населенного пункта\n",
    "df_pivot = df_top_10_most_common.pivot_table(index='locality_name', values='one_square_meter', aggfunc=['count', 'mean'])\n",
    "df_pivot.columns = df_pivot.columns.get_level_values(0)\n",
    "df_pivot"
   ]
  },
  {
   "cell_type": "code",
   "execution_count": 70,
   "id": "56eb2656",
   "metadata": {},
   "outputs": [
    {
     "data": {
      "image/png": "[encoded data removed]",
      "text/plain": [
       "<Figure size 432x288 with 1 Axes>"
      ]
     },
     "metadata": {
      "needs_background": "light"
     },
     "output_type": "display_data"
    }
   ],
   "source": [
    "df_pivot['mean'].plot(kind='bar');"
   ]
  },
  {
   "cell_type": "markdown",
   "id": "7753cddf",
   "metadata": {},
   "source": [
    "Как можно увидеть из сводной таблицы и графика, максимальное среднее значение цены квадратного метра составляет: `114,774.93 руб. в Санкт-Петербурге`.\n",
    "\n",
    "Минимальное: `58,238.14 руб. в Выборге`"
   ]
  },
  {
   "cell_type": "markdown",
   "id": "c2ca1937",
   "metadata": {},
   "source": [
    "## Опишите, как стоимость объектов зависит от расстояния до центра Санкт-Петербурга."
   ]
  },
  {
   "cell_type": "code",
   "execution_count": 71,
   "id": "2c9485bf",
   "metadata": {
    "scrolled": false
   },
   "outputs": [
    {
     "data": {
      "text/html": [
       "<div>\n",
       "<style scoped>\n",
       "    .dataframe tbody tr th:only-of-type {\n",
       "        vertical-align: middle;\n",
       "    }\n",
       "\n",
       "    .dataframe tbody tr th {\n",
       "        vertical-align: top;\n",
       "    }\n",
       "\n",
       "    .dataframe thead th {\n",
       "        text-align: right;\n",
       "    }\n",
       "</style>\n",
       "<table border=\"1\" class=\"dataframe\">\n",
       "  <thead>\n",
       "    <tr style=\"text-align: right;\">\n",
       "      <th></th>\n",
       "      <th>last_price</th>\n",
       "    </tr>\n",
       "    <tr>\n",
       "      <th>km_cityCenters</th>\n",
       "      <th></th>\n",
       "    </tr>\n",
       "  </thead>\n",
       "  <tbody>\n",
       "    <tr>\n",
       "      <th>1.00</th>\n",
       "      <td>23,442,315.44</td>\n",
       "    </tr>\n",
       "    <tr>\n",
       "      <th>2.00</th>\n",
       "      <td>18,895,415.90</td>\n",
       "    </tr>\n",
       "    <tr>\n",
       "      <th>3.00</th>\n",
       "      <td>16,163,313.62</td>\n",
       "    </tr>\n",
       "    <tr>\n",
       "      <th>4.00</th>\n",
       "      <td>13,488,260.79</td>\n",
       "    </tr>\n",
       "    <tr>\n",
       "      <th>5.00</th>\n",
       "      <td>13,429,313.71</td>\n",
       "    </tr>\n",
       "    <tr>\n",
       "      <th>6.00</th>\n",
       "      <td>15,170,087.54</td>\n",
       "    </tr>\n",
       "    <tr>\n",
       "      <th>7.00</th>\n",
       "      <td>14,129,569.39</td>\n",
       "    </tr>\n",
       "    <tr>\n",
       "      <th>8.00</th>\n",
       "      <td>12,798,899.54</td>\n",
       "    </tr>\n",
       "    <tr>\n",
       "      <th>9.00</th>\n",
       "      <td>8,434,860.62</td>\n",
       "    </tr>\n",
       "    <tr>\n",
       "      <th>10.00</th>\n",
       "      <td>6,431,845.49</td>\n",
       "    </tr>\n",
       "    <tr>\n",
       "      <th>11.00</th>\n",
       "      <td>6,374,630.06</td>\n",
       "    </tr>\n",
       "    <tr>\n",
       "      <th>12.00</th>\n",
       "      <td>5,965,775.00</td>\n",
       "    </tr>\n",
       "    <tr>\n",
       "      <th>13.00</th>\n",
       "      <td>5,983,067.80</td>\n",
       "    </tr>\n",
       "    <tr>\n",
       "      <th>14.00</th>\n",
       "      <td>6,014,277.07</td>\n",
       "    </tr>\n",
       "    <tr>\n",
       "      <th>15.00</th>\n",
       "      <td>5,756,715.84</td>\n",
       "    </tr>\n",
       "    <tr>\n",
       "      <th>16.00</th>\n",
       "      <td>5,543,978.54</td>\n",
       "    </tr>\n",
       "    <tr>\n",
       "      <th>17.00</th>\n",
       "      <td>5,525,491.16</td>\n",
       "    </tr>\n",
       "    <tr>\n",
       "      <th>18.00</th>\n",
       "      <td>4,872,388.36</td>\n",
       "    </tr>\n",
       "    <tr>\n",
       "      <th>19.00</th>\n",
       "      <td>5,349,032.43</td>\n",
       "    </tr>\n",
       "    <tr>\n",
       "      <th>20.00</th>\n",
       "      <td>4,678,755.67</td>\n",
       "    </tr>\n",
       "    <tr>\n",
       "      <th>21.00</th>\n",
       "      <td>6,371,738.94</td>\n",
       "    </tr>\n",
       "    <tr>\n",
       "      <th>22.00</th>\n",
       "      <td>5,183,239.25</td>\n",
       "    </tr>\n",
       "    <tr>\n",
       "      <th>23.00</th>\n",
       "      <td>5,425,513.32</td>\n",
       "    </tr>\n",
       "    <tr>\n",
       "      <th>24.00</th>\n",
       "      <td>4,126,866.67</td>\n",
       "    </tr>\n",
       "    <tr>\n",
       "      <th>25.00</th>\n",
       "      <td>3,862,235.00</td>\n",
       "    </tr>\n",
       "    <tr>\n",
       "      <th>26.00</th>\n",
       "      <td>4,048,664.32</td>\n",
       "    </tr>\n",
       "    <tr>\n",
       "      <th>27.00</th>\n",
       "      <td>3,575,000.00</td>\n",
       "    </tr>\n",
       "    <tr>\n",
       "      <th>28.00</th>\n",
       "      <td>8,300,000.00</td>\n",
       "    </tr>\n",
       "    <tr>\n",
       "      <th>29.00</th>\n",
       "      <td>4,910,500.00</td>\n",
       "    </tr>\n",
       "    <tr>\n",
       "      <th>30.00</th>\n",
       "      <td>3,833,333.33</td>\n",
       "    </tr>\n",
       "  </tbody>\n",
       "</table>\n",
       "</div>"
      ],
      "text/plain": [
       "                         last_price\n",
       "km_cityCenters                     \n",
       " 1.00                 23,442,315.44\n",
       " 2.00                 18,895,415.90\n",
       " 3.00                 16,163,313.62\n",
       " 4.00                 13,488,260.79\n",
       " 5.00                 13,429,313.71\n",
       " 6.00                 15,170,087.54\n",
       " 7.00                 14,129,569.39\n",
       " 8.00                 12,798,899.54\n",
       " 9.00                  8,434,860.62\n",
       "10.00                  6,431,845.49\n",
       "11.00                  6,374,630.06\n",
       "12.00                  5,965,775.00\n",
       "13.00                  5,983,067.80\n",
       "14.00                  6,014,277.07\n",
       "15.00                  5,756,715.84\n",
       "16.00                  5,543,978.54\n",
       "17.00                  5,525,491.16\n",
       "18.00                  4,872,388.36\n",
       "19.00                  5,349,032.43\n",
       "20.00                  4,678,755.67\n",
       "21.00                  6,371,738.94\n",
       "22.00                  5,183,239.25\n",
       "23.00                  5,425,513.32\n",
       "24.00                  4,126,866.67\n",
       "25.00                  3,862,235.00\n",
       "26.00                  4,048,664.32\n",
       "27.00                  3,575,000.00\n",
       "28.00                  8,300,000.00\n",
       "29.00                  4,910,500.00\n",
       "30.00                  3,833,333.33"
      ]
     },
     "execution_count": 71,
     "metadata": {},
     "output_type": "execute_result"
    }
   ],
   "source": [
    "# выделение квартир в Санкт-Петербурге\n",
    "df_spb = df[df['locality_name'] == 'санкт-петербург']\n",
    "# построение сводной таблицы\n",
    "df_spb.pivot_table(index='km_cityCenters', values='last_price')"
   ]
  },
  {
   "cell_type": "markdown",
   "id": "e6fdee8a",
   "metadata": {},
   "source": [
    "Видно, что цена сильно зависит от расстояния до центра города. Построим график для наглядности:"
   ]
  },
  {
   "cell_type": "code",
   "execution_count": 72,
   "id": "90e1b779",
   "metadata": {
    "scrolled": false
   },
   "outputs": [
    {
     "data": {
      "image/png": "[encoded data removed]",
      "text/plain": [
       "<Figure size 720x432 with 1 Axes>"
      ]
     },
     "metadata": {
      "needs_background": "light"
     },
     "output_type": "display_data"
    }
   ],
   "source": [
    "df_spb.pivot_table(index='km_cityCenters', values='last_price').head(10).plot(kind='line',\n",
    "                                                                     marker='o',\n",
    "                                                                     figsize=(10, 6),\n",
    "                                                                     title='Средняя цена квартир в зависимости от расстояния от центра',\n",
    "                                                                     xlabel='Расстояние от центра, км',\n",
    "                                                                     ylabel='Средняя цена квартиры в десятках млн.руб',\n",
    "                                                                     color = ['r', 'b']);"
   ]
  },
  {
   "cell_type": "markdown",
   "id": "64e3df6b",
   "metadata": {},
   "source": [
    "Догадки подтвердились, видно четкую зависимость цены и расстояния от центра города. "
   ]
  },
  {
   "cell_type": "markdown",
   "id": "f4026a9b",
   "metadata": {},
   "source": [
    "## Итоговый вывод:"
   ]
  },
  {
   "cell_type": "markdown",
   "id": "41e02490",
   "metadata": {},
   "source": [
    "Подытоживая все вышесказанное и вычисленное можно обьединить всё в один вывод:\n",
    "**Сильнее всего цена квартиры зависит от общей площади и расстояния от центра города. Так же эта зависимость сохраняется и в пригородах: Чем ближе пригород к мегаполису, тем дороже в нем недвижимость**. "
   ]
  },
  {
   "cell_type": "markdown",
   "id": "2badb06f",
   "metadata": {},
   "source": [
    "Чек-ап:\n",
    "- прочитал файл\n",
    "- провел предобработку\n",
    "- удалил пропуски там где это возможно\n",
    "- поменял типы данных\n",
    "- избавился от неявных дубликатов\n",
    "- добавил новые столбцы\n",
    "- провел исследовательсикй анализ данных\n",
    "- изучил как быстро продавались квартиры\n",
    "- какие факторы сильнее всего влияют на итоговую стоимость\n",
    "- посчитал среднюю цену квадратного метра в топ 10 населенных пунктов\n",
    "- посчитал зависимость цены от растояния от центра\n",
    "- написал итоговый вывод"
   ]
  }
 ],
 "metadata": {
  "ExecuteTimeLog": [
   {
    "duration": 859,
    "start_time": "2024-02-29T10:44:38.683Z"
   },
   {
    "duration": 0,
    "start_time": "2024-02-29T10:44:39.546Z"
   },
   {
    "duration": 0,
    "start_time": "2024-02-29T10:44:39.547Z"
   },
   {
    "duration": 0,
    "start_time": "2024-02-29T10:44:39.548Z"
   },
   {
    "duration": 0,
    "start_time": "2024-02-29T10:44:39.549Z"
   },
   {
    "duration": 0,
    "start_time": "2024-02-29T10:44:39.550Z"
   },
   {
    "duration": 0,
    "start_time": "2024-02-29T10:44:39.551Z"
   },
   {
    "duration": 0,
    "start_time": "2024-02-29T10:44:39.552Z"
   },
   {
    "duration": 0,
    "start_time": "2024-02-29T10:44:39.552Z"
   },
   {
    "duration": 0,
    "start_time": "2024-02-29T10:44:39.553Z"
   },
   {
    "duration": 0,
    "start_time": "2024-02-29T10:44:39.555Z"
   },
   {
    "duration": 0,
    "start_time": "2024-02-29T10:44:39.556Z"
   },
   {
    "duration": 0,
    "start_time": "2024-02-29T10:44:39.557Z"
   },
   {
    "duration": 0,
    "start_time": "2024-02-29T10:44:39.558Z"
   },
   {
    "duration": 0,
    "start_time": "2024-02-29T10:44:39.560Z"
   },
   {
    "duration": 0,
    "start_time": "2024-02-29T10:44:39.561Z"
   },
   {
    "duration": 0,
    "start_time": "2024-02-29T10:44:39.562Z"
   },
   {
    "duration": 0,
    "start_time": "2024-02-29T10:44:39.563Z"
   },
   {
    "duration": 0,
    "start_time": "2024-02-29T10:44:39.565Z"
   },
   {
    "duration": 0,
    "start_time": "2024-02-29T10:44:39.634Z"
   },
   {
    "duration": 0,
    "start_time": "2024-02-29T10:44:39.636Z"
   },
   {
    "duration": 0,
    "start_time": "2024-02-29T10:44:39.637Z"
   },
   {
    "duration": 0,
    "start_time": "2024-02-29T10:44:39.638Z"
   },
   {
    "duration": 0,
    "start_time": "2024-02-29T10:44:39.640Z"
   },
   {
    "duration": 0,
    "start_time": "2024-02-29T10:44:39.641Z"
   },
   {
    "duration": 0,
    "start_time": "2024-02-29T10:44:39.643Z"
   },
   {
    "duration": 0,
    "start_time": "2024-02-29T10:44:39.645Z"
   },
   {
    "duration": 0,
    "start_time": "2024-02-29T10:44:39.646Z"
   },
   {
    "duration": 0,
    "start_time": "2024-02-29T10:44:39.647Z"
   },
   {
    "duration": 0,
    "start_time": "2024-02-29T10:44:39.649Z"
   },
   {
    "duration": 0,
    "start_time": "2024-02-29T10:44:39.650Z"
   },
   {
    "duration": 0,
    "start_time": "2024-02-29T10:44:39.652Z"
   },
   {
    "duration": 0,
    "start_time": "2024-02-29T10:44:39.653Z"
   },
   {
    "duration": 0,
    "start_time": "2024-02-29T10:44:39.655Z"
   },
   {
    "duration": 0,
    "start_time": "2024-02-29T10:44:39.656Z"
   },
   {
    "duration": 0,
    "start_time": "2024-02-29T10:44:39.657Z"
   },
   {
    "duration": 0,
    "start_time": "2024-02-29T10:44:39.659Z"
   },
   {
    "duration": 0,
    "start_time": "2024-02-29T10:44:39.733Z"
   },
   {
    "duration": 0,
    "start_time": "2024-02-29T10:44:39.734Z"
   },
   {
    "duration": 0,
    "start_time": "2024-02-29T10:44:39.735Z"
   },
   {
    "duration": 0,
    "start_time": "2024-02-29T10:44:39.737Z"
   },
   {
    "duration": 0,
    "start_time": "2024-02-29T10:44:39.741Z"
   },
   {
    "duration": 0,
    "start_time": "2024-02-29T10:44:39.742Z"
   },
   {
    "duration": 0,
    "start_time": "2024-02-29T10:44:39.742Z"
   },
   {
    "duration": 0,
    "start_time": "2024-02-29T10:44:39.743Z"
   },
   {
    "duration": 0,
    "start_time": "2024-02-29T10:44:39.744Z"
   },
   {
    "duration": 0,
    "start_time": "2024-02-29T10:44:39.746Z"
   },
   {
    "duration": 0,
    "start_time": "2024-02-29T10:44:39.747Z"
   },
   {
    "duration": 0,
    "start_time": "2024-02-29T10:44:39.748Z"
   },
   {
    "duration": 0,
    "start_time": "2024-02-29T10:44:39.749Z"
   },
   {
    "duration": 0,
    "start_time": "2024-02-29T10:44:39.750Z"
   },
   {
    "duration": 0,
    "start_time": "2024-02-29T10:44:39.751Z"
   },
   {
    "duration": 0,
    "start_time": "2024-02-29T10:44:39.752Z"
   },
   {
    "duration": 0,
    "start_time": "2024-02-29T10:44:39.754Z"
   },
   {
    "duration": 0,
    "start_time": "2024-02-29T10:44:39.755Z"
   },
   {
    "duration": 0,
    "start_time": "2024-02-29T10:44:39.756Z"
   },
   {
    "duration": 0,
    "start_time": "2024-02-29T10:44:39.757Z"
   },
   {
    "duration": 0,
    "start_time": "2024-02-29T10:44:39.760Z"
   },
   {
    "duration": 0,
    "start_time": "2024-02-29T10:44:39.833Z"
   },
   {
    "duration": 0,
    "start_time": "2024-02-29T10:44:39.834Z"
   },
   {
    "duration": 0,
    "start_time": "2024-02-29T10:44:39.835Z"
   },
   {
    "duration": 0,
    "start_time": "2024-02-29T10:44:39.837Z"
   },
   {
    "duration": 0,
    "start_time": "2024-02-29T10:44:39.838Z"
   },
   {
    "duration": 0,
    "start_time": "2024-02-29T10:44:39.839Z"
   },
   {
    "duration": 0,
    "start_time": "2024-02-29T10:44:39.840Z"
   },
   {
    "duration": 0,
    "start_time": "2024-02-29T10:44:39.841Z"
   },
   {
    "duration": 0,
    "start_time": "2024-02-29T10:44:39.843Z"
   },
   {
    "duration": 633,
    "start_time": "2024-02-29T19:12:47.784Z"
   },
   {
    "duration": 2340,
    "start_time": "2024-02-29T19:12:48.419Z"
   },
   {
    "duration": 17,
    "start_time": "2024-02-29T19:12:50.761Z"
   },
   {
    "duration": 11,
    "start_time": "2024-02-29T19:12:50.779Z"
   },
   {
    "duration": 8,
    "start_time": "2024-02-29T19:12:50.792Z"
   },
   {
    "duration": 24,
    "start_time": "2024-02-29T19:12:50.801Z"
   },
   {
    "duration": 24,
    "start_time": "2024-02-29T19:12:50.827Z"
   },
   {
    "duration": 7,
    "start_time": "2024-02-29T19:12:50.852Z"
   },
   {
    "duration": 9,
    "start_time": "2024-02-29T19:12:50.860Z"
   },
   {
    "duration": 15,
    "start_time": "2024-02-29T19:12:50.870Z"
   },
   {
    "duration": 4,
    "start_time": "2024-02-29T19:12:50.887Z"
   },
   {
    "duration": 43,
    "start_time": "2024-02-29T19:12:50.893Z"
   },
   {
    "duration": 9,
    "start_time": "2024-02-29T19:12:50.937Z"
   },
   {
    "duration": 13,
    "start_time": "2024-02-29T19:12:50.949Z"
   },
   {
    "duration": 32,
    "start_time": "2024-02-29T19:12:50.963Z"
   },
   {
    "duration": 6,
    "start_time": "2024-02-29T19:12:50.997Z"
   },
   {
    "duration": 387,
    "start_time": "2024-02-29T19:12:51.005Z"
   },
   {
    "duration": 7,
    "start_time": "2024-02-29T19:12:51.393Z"
   },
   {
    "duration": 23,
    "start_time": "2024-02-29T19:12:51.401Z"
   },
   {
    "duration": 8,
    "start_time": "2024-02-29T19:12:51.426Z"
   },
   {
    "duration": 20,
    "start_time": "2024-02-29T19:12:51.435Z"
   },
   {
    "duration": 5,
    "start_time": "2024-02-29T19:12:51.457Z"
   },
   {
    "duration": 358,
    "start_time": "2024-02-29T19:12:51.464Z"
   },
   {
    "duration": 4,
    "start_time": "2024-02-29T19:12:51.823Z"
   },
   {
    "duration": 18,
    "start_time": "2024-02-29T19:12:51.829Z"
   },
   {
    "duration": 199,
    "start_time": "2024-02-29T19:12:51.849Z"
   },
   {
    "duration": 13,
    "start_time": "2024-02-29T19:12:52.050Z"
   },
   {
    "duration": 238,
    "start_time": "2024-02-29T19:12:52.065Z"
   },
   {
    "duration": 13,
    "start_time": "2024-02-29T19:12:52.306Z"
   },
   {
    "duration": 270,
    "start_time": "2024-02-29T19:12:52.321Z"
   },
   {
    "duration": 14,
    "start_time": "2024-02-29T19:12:52.593Z"
   },
   {
    "duration": 261,
    "start_time": "2024-02-29T19:12:52.609Z"
   },
   {
    "duration": 20,
    "start_time": "2024-02-29T19:12:52.872Z"
   },
   {
    "duration": 162,
    "start_time": "2024-02-29T19:12:52.894Z"
   },
   {
    "duration": 13,
    "start_time": "2024-02-29T19:12:53.058Z"
   },
   {
    "duration": 167,
    "start_time": "2024-02-29T19:12:53.072Z"
   },
   {
    "duration": 136,
    "start_time": "2024-02-29T19:12:53.241Z"
   },
   {
    "duration": 15,
    "start_time": "2024-02-29T19:12:53.379Z"
   },
   {
    "duration": 155,
    "start_time": "2024-02-29T19:12:53.396Z"
   },
   {
    "duration": 10,
    "start_time": "2024-02-29T19:12:53.552Z"
   },
   {
    "duration": 174,
    "start_time": "2024-02-29T19:12:53.566Z"
   },
   {
    "duration": 9,
    "start_time": "2024-02-29T19:12:53.741Z"
   },
   {
    "duration": 192,
    "start_time": "2024-02-29T19:12:53.752Z"
   },
   {
    "duration": 20,
    "start_time": "2024-02-29T19:12:53.946Z"
   },
   {
    "duration": 22,
    "start_time": "2024-02-29T19:12:53.968Z"
   },
   {
    "duration": 207,
    "start_time": "2024-02-29T19:12:53.992Z"
   },
   {
    "duration": 12,
    "start_time": "2024-02-29T19:12:54.201Z"
   },
   {
    "duration": 37,
    "start_time": "2024-02-29T19:12:54.215Z"
   },
   {
    "duration": 9,
    "start_time": "2024-02-29T19:12:54.254Z"
   },
   {
    "duration": 30,
    "start_time": "2024-02-29T19:12:54.264Z"
   },
   {
    "duration": 19,
    "start_time": "2024-02-29T19:12:54.296Z"
   },
   {
    "duration": 328,
    "start_time": "2024-02-29T19:12:54.317Z"
   },
   {
    "duration": 12,
    "start_time": "2024-02-29T19:12:54.647Z"
   },
   {
    "duration": 212,
    "start_time": "2024-02-29T19:12:54.661Z"
   },
   {
    "duration": 20,
    "start_time": "2024-02-29T19:12:54.874Z"
   },
   {
    "duration": 200,
    "start_time": "2024-02-29T19:12:54.895Z"
   },
   {
    "duration": 9,
    "start_time": "2024-02-29T19:12:55.096Z"
   },
   {
    "duration": 158,
    "start_time": "2024-02-29T19:12:55.107Z"
   },
   {
    "duration": 24,
    "start_time": "2024-02-29T19:12:55.267Z"
   },
   {
    "duration": 154,
    "start_time": "2024-02-29T19:12:55.292Z"
   },
   {
    "duration": 13,
    "start_time": "2024-02-29T19:12:55.448Z"
   },
   {
    "duration": 161,
    "start_time": "2024-02-29T19:12:55.463Z"
   },
   {
    "duration": 206,
    "start_time": "2024-02-29T19:12:55.626Z"
   },
   {
    "duration": 17,
    "start_time": "2024-02-29T19:12:55.834Z"
   },
   {
    "duration": 37,
    "start_time": "2024-02-29T19:12:55.853Z"
   },
   {
    "duration": 17,
    "start_time": "2024-02-29T19:12:55.892Z"
   },
   {
    "duration": 202,
    "start_time": "2024-02-29T19:12:55.910Z"
   },
   {
    "duration": 9,
    "start_time": "2024-02-29T19:14:29.117Z"
   },
   {
    "duration": 90,
    "start_time": "2024-02-29T19:16:15.703Z"
   },
   {
    "duration": 923,
    "start_time": "2024-03-01T19:44:20.593Z"
   },
   {
    "duration": 383,
    "start_time": "2024-03-01T19:44:21.517Z"
   },
   {
    "duration": 6697,
    "start_time": "2024-03-01T19:44:21.902Z"
   },
   {
    "duration": 15,
    "start_time": "2024-03-01T19:44:28.601Z"
   },
   {
    "duration": 85,
    "start_time": "2024-03-01T19:44:28.618Z"
   },
   {
    "duration": 17,
    "start_time": "2024-03-01T19:44:28.705Z"
   },
   {
    "duration": 94,
    "start_time": "2024-03-01T19:44:28.723Z"
   },
   {
    "duration": 76,
    "start_time": "2024-03-01T19:44:28.819Z"
   },
   {
    "duration": 6,
    "start_time": "2024-03-01T19:44:28.896Z"
   },
   {
    "duration": 17,
    "start_time": "2024-03-01T19:44:28.903Z"
   },
   {
    "duration": 80,
    "start_time": "2024-03-01T19:44:28.921Z"
   },
   {
    "duration": 10,
    "start_time": "2024-03-01T19:44:29.003Z"
   },
   {
    "duration": 108,
    "start_time": "2024-03-01T19:44:29.015Z"
   },
   {
    "duration": 10,
    "start_time": "2024-03-01T19:44:29.194Z"
   },
   {
    "duration": 90,
    "start_time": "2024-03-01T19:44:29.206Z"
   },
   {
    "duration": 115,
    "start_time": "2024-03-01T19:44:29.297Z"
   },
   {
    "duration": 84,
    "start_time": "2024-03-01T19:44:29.414Z"
   },
   {
    "duration": 827,
    "start_time": "2024-03-01T19:44:29.500Z"
   },
   {
    "duration": 6,
    "start_time": "2024-03-01T19:44:30.329Z"
   },
   {
    "duration": 29,
    "start_time": "2024-03-01T19:44:30.394Z"
   },
   {
    "duration": 75,
    "start_time": "2024-03-01T19:44:30.425Z"
   },
   {
    "duration": 102,
    "start_time": "2024-03-01T19:44:30.502Z"
   },
   {
    "duration": 91,
    "start_time": "2024-03-01T19:44:30.606Z"
   },
   {
    "duration": 899,
    "start_time": "2024-03-01T19:44:30.700Z"
   },
   {
    "duration": 5,
    "start_time": "2024-03-01T19:44:31.601Z"
   },
   {
    "duration": 97,
    "start_time": "2024-03-01T19:44:31.607Z"
   },
   {
    "duration": 608,
    "start_time": "2024-03-01T19:44:31.706Z"
   },
   {
    "duration": 88,
    "start_time": "2024-03-01T19:44:32.315Z"
   },
   {
    "duration": 597,
    "start_time": "2024-03-01T19:44:32.406Z"
   },
   {
    "duration": 13,
    "start_time": "2024-03-01T19:44:33.005Z"
   },
   {
    "duration": 792,
    "start_time": "2024-03-01T19:44:33.019Z"
   },
   {
    "duration": 84,
    "start_time": "2024-03-01T19:44:33.813Z"
   },
   {
    "duration": 495,
    "start_time": "2024-03-01T19:44:33.899Z"
   },
   {
    "duration": 12,
    "start_time": "2024-03-01T19:44:34.395Z"
   },
   {
    "duration": 490,
    "start_time": "2024-03-01T19:44:34.408Z"
   },
   {
    "duration": 14,
    "start_time": "2024-03-01T19:44:34.900Z"
   },
   {
    "duration": 501,
    "start_time": "2024-03-01T19:44:34.916Z"
   },
   {
    "duration": 394,
    "start_time": "2024-03-01T19:44:35.419Z"
   },
   {
    "duration": 84,
    "start_time": "2024-03-01T19:44:35.814Z"
   },
   {
    "duration": 611,
    "start_time": "2024-03-01T19:44:35.900Z"
   },
   {
    "duration": 79,
    "start_time": "2024-03-01T19:44:36.517Z"
   },
   {
    "duration": 607,
    "start_time": "2024-03-01T19:44:36.598Z"
   },
   {
    "duration": 12,
    "start_time": "2024-03-01T19:44:37.207Z"
   },
   {
    "duration": 681,
    "start_time": "2024-03-01T19:44:37.221Z"
   },
   {
    "duration": 17,
    "start_time": "2024-03-01T19:44:37.903Z"
   },
   {
    "duration": 76,
    "start_time": "2024-03-01T19:44:37.921Z"
   },
   {
    "duration": 596,
    "start_time": "2024-03-01T19:44:37.999Z"
   },
   {
    "duration": 11,
    "start_time": "2024-03-01T19:44:38.597Z"
   },
   {
    "duration": 105,
    "start_time": "2024-03-01T19:44:38.610Z"
   },
   {
    "duration": 83,
    "start_time": "2024-03-01T19:44:38.717Z"
   },
   {
    "duration": 11,
    "start_time": "2024-03-01T19:44:38.801Z"
   },
   {
    "duration": 93,
    "start_time": "2024-03-01T19:44:38.814Z"
   },
   {
    "duration": 688,
    "start_time": "2024-03-01T19:44:38.908Z"
   },
   {
    "duration": 13,
    "start_time": "2024-03-01T19:44:39.597Z"
   },
   {
    "duration": 905,
    "start_time": "2024-03-01T19:44:39.612Z"
   },
   {
    "duration": 81,
    "start_time": "2024-03-01T19:44:40.519Z"
   },
   {
    "duration": 704,
    "start_time": "2024-03-01T19:44:40.602Z"
   },
   {
    "duration": 9,
    "start_time": "2024-03-01T19:44:41.309Z"
   },
   {
    "duration": 579,
    "start_time": "2024-03-01T19:44:41.320Z"
   },
   {
    "duration": 9,
    "start_time": "2024-03-01T19:44:41.901Z"
   },
   {
    "duration": 600,
    "start_time": "2024-03-01T19:44:41.912Z"
   },
   {
    "duration": 90,
    "start_time": "2024-03-01T19:44:42.514Z"
   },
   {
    "duration": 407,
    "start_time": "2024-03-01T19:44:42.605Z"
   },
   {
    "duration": 596,
    "start_time": "2024-03-01T19:44:43.013Z"
   },
   {
    "duration": 595,
    "start_time": "2024-03-01T19:44:43.611Z"
   },
   {
    "duration": 606,
    "start_time": "2024-03-01T19:44:44.207Z"
   },
   {
    "duration": 594,
    "start_time": "2024-03-01T19:44:44.815Z"
   },
   {
    "duration": 17,
    "start_time": "2024-03-01T19:44:45.410Z"
   },
   {
    "duration": 97,
    "start_time": "2024-03-01T19:44:45.429Z"
   },
   {
    "duration": 300,
    "start_time": "2024-03-01T19:44:45.527Z"
   },
   {
    "duration": 74,
    "start_time": "2024-03-01T19:44:45.829Z"
   },
   {
    "duration": 324,
    "start_time": "2024-03-01T19:44:45.906Z"
   }
  ],
  "kernelspec": {
   "display_name": "Python 3 (ipykernel)",
   "language": "python",
   "name": "python3"
  },
  "language_info": {
   "codemirror_mode": {
    "name": "ipython",
    "version": 3
   },
   "file_extension": ".py",
   "mimetype": "text/x-python",
   "name": "python",
   "nbconvert_exporter": "python",
   "pygments_lexer": "ipython3",
   "version": "3.11.5"
  },
  "toc": {
   "base_numbering": 1,
   "nav_menu": {},
   "number_sections": true,
   "sideBar": true,
   "skip_h1_title": true,
   "title_cell": "Table of Contents",
   "title_sidebar": "Contents",
   "toc_cell": true,
   "toc_position": {},
   "toc_section_display": true,
   "toc_window_display": false
  },
  "varInspector": {
   "cols": {
    "lenName": 16,
    "lenType": 16,
    "lenVar": 40
   },
   "kernels_config": {
    "python": {
     "delete_cmd_postfix": "",
     "delete_cmd_prefix": "del ",
     "library": "var_list.py",
     "varRefreshCmd": "print(var_dic_list())"
    },
    "r": {
     "delete_cmd_postfix": ") ",
     "delete_cmd_prefix": "rm(",
     "library": "var_list.r",
     "varRefreshCmd": "cat(var_dic_list()) "
    }
   },
   "types_to_exclude": [
    "module",
    "function",
    "builtin_function_or_method",
    "instance",
    "_Feature"
   ],
   "window_display": false
  }
 },
 "nbformat": 4,
 "nbformat_minor": 5
}
