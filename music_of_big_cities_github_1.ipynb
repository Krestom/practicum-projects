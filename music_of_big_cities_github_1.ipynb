{
  "cells": [
    {
      "cell_type": "markdown",
      "metadata": {
        "deletable": false,
        "editable": false,
        "id": "E0vqbgi9ay0H"
      },
      "source": [
        "# Яндекс Музыка"
      ]
    },
    {
      "cell_type": "markdown",
      "metadata": {
        "deletable": false,
        "editable": false,
        "id": "VUC88oWjTJw2"
      },
      "source": [
        "Сравнение Москвы и Петербурга окружено мифами. Например:\n",
        " * Москва — мегаполис, подчинённый жёсткому ритму рабочей недели;\n",
        " * Петербург — культурная столица, со своими вкусами.\n",
        "\n",
        "На данных Яндекс Музыки вы сравните поведение пользователей двух столиц.\n",
        "\n",
        "**Цель исследования** — проверьте три гипотезы:\n",
        "1. Активность пользователей зависит от дня недели. Причём в Москве и Петербурге это проявляется по-разному.\n",
        "2. В понедельник утром в Москве преобладают одни жанры, а в Петербурге — другие. Так же и вечером пятницы преобладают разные жанры — в зависимости от города.\n",
        "3. Москва и Петербург предпочитают разные жанры музыки. В Москве чаще слушают поп-музыку, в Петербурге — русский рэп.\n",
        "\n",
        "**Ход исследования**\n",
        "\n",
        "Данные о поведении пользователей вы получите из файла `yandex_music_project.csv`. О качестве данных ничего не известно. Поэтому перед проверкой гипотез понадобится обзор данных.\n",
        "\n",
        "Вы проверите данные на ошибки и оцените их влияние на исследование. Затем, на этапе предобработки вы поищете возможность исправить самые критичные ошибки данных.\n",
        "\n",
        "Таким образом, исследование пройдёт в три этапа:\n",
        " 1. Обзор данных.\n",
        " 2. Предобработка данных.\n",
        " 3. Проверка гипотез.\n",
        "\n"
      ]
    },
    {
      "cell_type": "markdown",
      "metadata": {
        "deletable": false,
        "editable": false,
        "id": "Ml1hmfXC_Zcs"
      },
      "source": [
        "## Обзор данных\n",
        "\n",
        "Составьте первое представление о данных Яндекс Музыки.\n",
        "\n",
        "\n"
      ]
    },
    {
      "cell_type": "markdown",
      "metadata": {
        "deletable": false,
        "editable": false,
        "id": "57eAOGIz_Zcs",
        "tags": [
          "start_task"
        ]
      },
      "source": [
        "**Задание 1**"
      ]
    },
    {
      "cell_type": "code",
      "execution_count": null,
      "metadata": {
        "deletable": false,
        "id": "AXN7PHPN_Zcs"
      },
      "outputs": [],
      "source": [
        "import pandas as pd # импорт библиотеки pandas"
      ]
    },
    {
      "cell_type": "markdown",
      "metadata": {
        "deletable": false,
        "editable": false,
        "id": "SG23P8tt_Zcs",
        "tags": [
          "start_task"
        ]
      },
      "source": [
        "**Задание 2**"
      ]
    },
    {
      "cell_type": "code",
      "execution_count": null,
      "metadata": {
        "deletable": false,
        "id": "fFVu7vqh_Zct"
      },
      "outputs": [],
      "source": [
        "df = pd.read_csv('/datasets/yandex_music_project.csv') # чтение файла с данными и сохранение в df"
      ]
    },
    {
      "cell_type": "markdown",
      "metadata": {
        "deletable": false,
        "editable": false,
        "id": "rDoOMd3uTqnZ",
        "tags": [
          "start_task"
        ]
      },
      "source": [
        "**Задание 3**"
      ]
    },
    {
      "cell_type": "code",
      "execution_count": null,
      "metadata": {
        "deletable": false,
        "id": "oWTVX3gW_Zct",
        "outputId": "f3791796-698b-4ac3-f2d1-eac3ae5ab5c8"
      },
      "outputs": [
        {
          "data": {
            "text/html": [
              "<div>\n",
              "<style scoped>\n",
              "    .dataframe tbody tr th:only-of-type {\n",
              "        vertical-align: middle;\n",
              "    }\n",
              "\n",
              "    .dataframe tbody tr th {\n",
              "        vertical-align: top;\n",
              "    }\n",
              "\n",
              "    .dataframe thead th {\n",
              "        text-align: right;\n",
              "    }\n",
              "</style>\n",
              "<table border=\"1\" class=\"dataframe\">\n",
              "  <thead>\n",
              "    <tr style=\"text-align: right;\">\n",
              "      <th></th>\n",
              "      <th>userID</th>\n",
              "      <th>Track</th>\n",
              "      <th>artist</th>\n",
              "      <th>genre</th>\n",
              "      <th>City</th>\n",
              "      <th>time</th>\n",
              "      <th>Day</th>\n",
              "    </tr>\n",
              "  </thead>\n",
              "  <tbody>\n",
              "    <tr>\n",
              "      <th>0</th>\n",
              "      <td>FFB692EC</td>\n",
              "      <td>Kamigata To Boots</td>\n",
              "      <td>The Mass Missile</td>\n",
              "      <td>rock</td>\n",
              "      <td>Saint-Petersburg</td>\n",
              "      <td>20:28:33</td>\n",
              "      <td>Wednesday</td>\n",
              "    </tr>\n",
              "    <tr>\n",
              "      <th>1</th>\n",
              "      <td>55204538</td>\n",
              "      <td>Delayed Because of Accident</td>\n",
              "      <td>Andreas Rönnberg</td>\n",
              "      <td>rock</td>\n",
              "      <td>Moscow</td>\n",
              "      <td>14:07:09</td>\n",
              "      <td>Friday</td>\n",
              "    </tr>\n",
              "    <tr>\n",
              "      <th>2</th>\n",
              "      <td>20EC38</td>\n",
              "      <td>Funiculì funiculà</td>\n",
              "      <td>Mario Lanza</td>\n",
              "      <td>pop</td>\n",
              "      <td>Saint-Petersburg</td>\n",
              "      <td>20:58:07</td>\n",
              "      <td>Wednesday</td>\n",
              "    </tr>\n",
              "    <tr>\n",
              "      <th>3</th>\n",
              "      <td>A3DD03C9</td>\n",
              "      <td>Dragons in the Sunset</td>\n",
              "      <td>Fire + Ice</td>\n",
              "      <td>folk</td>\n",
              "      <td>Saint-Petersburg</td>\n",
              "      <td>08:37:09</td>\n",
              "      <td>Monday</td>\n",
              "    </tr>\n",
              "    <tr>\n",
              "      <th>4</th>\n",
              "      <td>E2DC1FAE</td>\n",
              "      <td>Soul People</td>\n",
              "      <td>Space Echo</td>\n",
              "      <td>dance</td>\n",
              "      <td>Moscow</td>\n",
              "      <td>08:34:34</td>\n",
              "      <td>Monday</td>\n",
              "    </tr>\n",
              "    <tr>\n",
              "      <th>5</th>\n",
              "      <td>842029A1</td>\n",
              "      <td>Преданная</td>\n",
              "      <td>IMPERVTOR</td>\n",
              "      <td>rusrap</td>\n",
              "      <td>Saint-Petersburg</td>\n",
              "      <td>13:09:41</td>\n",
              "      <td>Friday</td>\n",
              "    </tr>\n",
              "    <tr>\n",
              "      <th>6</th>\n",
              "      <td>4CB90AA5</td>\n",
              "      <td>True</td>\n",
              "      <td>Roman Messer</td>\n",
              "      <td>dance</td>\n",
              "      <td>Moscow</td>\n",
              "      <td>13:00:07</td>\n",
              "      <td>Wednesday</td>\n",
              "    </tr>\n",
              "    <tr>\n",
              "      <th>7</th>\n",
              "      <td>F03E1C1F</td>\n",
              "      <td>Feeling This Way</td>\n",
              "      <td>Polina Griffith</td>\n",
              "      <td>dance</td>\n",
              "      <td>Moscow</td>\n",
              "      <td>20:47:49</td>\n",
              "      <td>Wednesday</td>\n",
              "    </tr>\n",
              "    <tr>\n",
              "      <th>8</th>\n",
              "      <td>8FA1D3BE</td>\n",
              "      <td>И вновь продолжается бой</td>\n",
              "      <td>NaN</td>\n",
              "      <td>ruspop</td>\n",
              "      <td>Moscow</td>\n",
              "      <td>09:17:40</td>\n",
              "      <td>Friday</td>\n",
              "    </tr>\n",
              "    <tr>\n",
              "      <th>9</th>\n",
              "      <td>E772D5C0</td>\n",
              "      <td>Pessimist</td>\n",
              "      <td>NaN</td>\n",
              "      <td>dance</td>\n",
              "      <td>Saint-Petersburg</td>\n",
              "      <td>21:20:49</td>\n",
              "      <td>Wednesday</td>\n",
              "    </tr>\n",
              "  </tbody>\n",
              "</table>\n",
              "</div>"
            ],
            "text/plain": [
              "     userID                        Track            artist   genre  \\\n",
              "0  FFB692EC            Kamigata To Boots  The Mass Missile    rock   \n",
              "1  55204538  Delayed Because of Accident  Andreas Rönnberg    rock   \n",
              "2    20EC38            Funiculì funiculà       Mario Lanza     pop   \n",
              "3  A3DD03C9        Dragons in the Sunset        Fire + Ice    folk   \n",
              "4  E2DC1FAE                  Soul People        Space Echo   dance   \n",
              "5  842029A1                    Преданная         IMPERVTOR  rusrap   \n",
              "6  4CB90AA5                         True      Roman Messer   dance   \n",
              "7  F03E1C1F             Feeling This Way   Polina Griffith   dance   \n",
              "8  8FA1D3BE     И вновь продолжается бой               NaN  ruspop   \n",
              "9  E772D5C0                    Pessimist               NaN   dance   \n",
              "\n",
              "             City        time        Day  \n",
              "0  Saint-Petersburg  20:28:33  Wednesday  \n",
              "1            Moscow  14:07:09     Friday  \n",
              "2  Saint-Petersburg  20:58:07  Wednesday  \n",
              "3  Saint-Petersburg  08:37:09     Monday  \n",
              "4            Moscow  08:34:34     Monday  \n",
              "5  Saint-Petersburg  13:09:41     Friday  \n",
              "6            Moscow  13:00:07  Wednesday  \n",
              "7            Moscow  20:47:49  Wednesday  \n",
              "8            Moscow  09:17:40     Friday  \n",
              "9  Saint-Petersburg  21:20:49  Wednesday  "
            ]
          },
          "execution_count": 3,
          "metadata": {},
          "output_type": "execute_result"
        }
      ],
      "source": [
        "df.head(10) # получение первых 10 строк таблицы df"
      ]
    },
    {
      "cell_type": "markdown",
      "metadata": {
        "deletable": false,
        "editable": false,
        "id": "EO73Kwic_Zct",
        "tags": [
          "start_task"
        ]
      },
      "source": [
        "**Задание 4**"
      ]
    },
    {
      "cell_type": "code",
      "execution_count": null,
      "metadata": {
        "deletable": false,
        "id": "DSf2kIb-_Zct",
        "outputId": "e5dacae2-f902-4f9d-87a6-892a56eb76bf"
      },
      "outputs": [
        {
          "name": "stdout",
          "output_type": "stream",
          "text": [
            "<class 'pandas.core.frame.DataFrame'>\n",
            "RangeIndex: 65079 entries, 0 to 65078\n",
            "Data columns (total 7 columns):\n",
            " #   Column    Non-Null Count  Dtype \n",
            "---  ------    --------------  ----- \n",
            " 0     userID  65079 non-null  object\n",
            " 1   Track     63848 non-null  object\n",
            " 2   artist    57876 non-null  object\n",
            " 3   genre     63881 non-null  object\n",
            " 4     City    65079 non-null  object\n",
            " 5   time      65079 non-null  object\n",
            " 6   Day       65079 non-null  object\n",
            "dtypes: object(7)\n",
            "memory usage: 3.5+ MB\n"
          ]
        }
      ],
      "source": [
        "df.info() # получение общей информации о данных в таблице df"
      ]
    },
    {
      "cell_type": "markdown",
      "metadata": {
        "deletable": false,
        "editable": false,
        "id": "TaQ2Iwbr_Zct"
      },
      "source": [
        "Количество значений в столбцах различается. Значит, в данных есть пропущенные значения."
      ]
    },
    {
      "cell_type": "markdown",
      "metadata": {
        "deletable": false,
        "editable": false,
        "id": "4P0UCWzswgEm",
        "tags": [
          "start_task"
        ]
      },
      "source": [
        "**Задание 5**"
      ]
    },
    {
      "cell_type": "code",
      "execution_count": null,
      "metadata": {
        "id": "c137-ZstwgEm"
      },
      "outputs": [],
      "source": [
        "# Напишите ваш ответ здесь комментарием. Не удаляйте символ #. Не меняйте тип этой ячейки на Markdown.\n",
        "# Слова желательно разделять нижними подчеркиваниями. Так, userID было бы читабельнее как user_id"
      ]
    },
    {
      "cell_type": "markdown",
      "metadata": {
        "deletable": false,
        "editable": false,
        "id": "MCB6-dXG_Zct"
      },
      "source": [
        "**Выводы**\n",
        "\n",
        "В каждой строке таблицы — данные о прослушанном треке. Часть колонок описывает саму композицию: название, исполнителя и жанр. Остальные данные рассказывают о пользователе: из какого он города, когда он слушал музыку.\n",
        "\n",
        "Предварительно можно утверждать, что данных достаточно для проверки гипотез. Но встречаются пропуски в данных, а в названиях колонок — расхождения с хорошим стилем.\n",
        "\n",
        "Чтобы двигаться дальше, нужно устранить проблемы в данных."
      ]
    },
    {
      "cell_type": "markdown",
      "metadata": {
        "deletable": false,
        "editable": false,
        "id": "SjYF6Ub9_Zct"
      },
      "source": [
        "## Предобработка данных"
      ]
    },
    {
      "cell_type": "markdown",
      "metadata": {
        "deletable": false,
        "editable": false,
        "id": "dIaKXr29_Zct",
        "tags": [
          "start_task"
        ]
      },
      "source": [
        "### Переименование столбцов\n",
        "\n",
        "**Задание 6**"
      ]
    },
    {
      "cell_type": "code",
      "execution_count": null,
      "metadata": {
        "deletable": false,
        "id": "oKOTdF_Q_Zct",
        "outputId": "1904df2a-b23a-4fd1-ea44-97e9c004df11"
      },
      "outputs": [
        {
          "data": {
            "text/plain": [
              "Index(['  userID', 'Track', 'artist', 'genre', '  City  ', 'time', 'Day'], dtype='object')"
            ]
          },
          "execution_count": 6,
          "metadata": {},
          "output_type": "execute_result"
        }
      ],
      "source": [
        "# перечень названий столбцов таблицы df\n",
        "df.columns"
      ]
    },
    {
      "cell_type": "markdown",
      "metadata": {
        "deletable": false,
        "editable": false,
        "id": "zj5534cv_Zct",
        "tags": [
          "start_task"
        ]
      },
      "source": [
        "**Задание 7**"
      ]
    },
    {
      "cell_type": "code",
      "execution_count": null,
      "metadata": {
        "deletable": false,
        "id": "ISlFqs5y_Zct"
      },
      "outputs": [],
      "source": [
        "# переименование столбцов\n",
        "df = df.rename(columns={'  userID': 'user_id', 'Track': 'track', '  City  ': 'city', 'Day': 'day'})"
      ]
    },
    {
      "cell_type": "markdown",
      "metadata": {
        "deletable": false,
        "editable": false,
        "id": "1dqbh00J_Zct",
        "tags": [
          "start_task"
        ]
      },
      "source": [
        "**Задание 8**"
      ]
    },
    {
      "cell_type": "code",
      "execution_count": null,
      "metadata": {
        "deletable": false,
        "id": "d4NOAmTW_Zct",
        "outputId": "bf93f579-5719-4cef-ebf8-e6a3830a604e"
      },
      "outputs": [
        {
          "data": {
            "text/plain": [
              "Index(['user_id', 'track', 'artist', 'genre', 'city', 'time', 'day'], dtype='object')"
            ]
          },
          "execution_count": 8,
          "metadata": {},
          "output_type": "execute_result"
        }
      ],
      "source": [
        "# проверка результатов - перечень названий столбцов\n",
        "df.columns"
      ]
    },
    {
      "cell_type": "markdown",
      "metadata": {
        "deletable": false,
        "editable": false,
        "id": "5ISfbcfY_Zct",
        "tags": [
          "start_task"
        ]
      },
      "source": [
        "### Обработка пропущенных значений\n",
        "\n",
        "**Задание 9**"
      ]
    },
    {
      "cell_type": "code",
      "execution_count": null,
      "metadata": {
        "deletable": false,
        "id": "RskX29qr_Zct",
        "outputId": "7d5bb845-473d-4044-e03a-efc3baccbf5c"
      },
      "outputs": [
        {
          "data": {
            "text/plain": [
              "user_id       0\n",
              "track      1231\n",
              "artist     7203\n",
              "genre      1198\n",
              "city          0\n",
              "time          0\n",
              "day           0\n",
              "dtype: int64"
            ]
          },
          "execution_count": 9,
          "metadata": {},
          "output_type": "execute_result"
        }
      ],
      "source": [
        "# подсчёт пропусков\n",
        "df.isna().sum()"
      ]
    },
    {
      "cell_type": "markdown",
      "metadata": {
        "deletable": false,
        "editable": false,
        "id": "fSv2laPA_Zct",
        "tags": [
          "start_task"
        ]
      },
      "source": [
        "**Задание 10**"
      ]
    },
    {
      "cell_type": "code",
      "execution_count": null,
      "metadata": {
        "deletable": false,
        "id": "KplB5qWs_Zct"
      },
      "outputs": [],
      "source": [
        "# замена пропущенных значений на 'unknown'\n",
        "columns_to_replace = ['track', 'artist', 'genre']\n",
        "for column in columns_to_replace:\n",
        "    df[column] = df[column].fillna('unknown')"
      ]
    },
    {
      "cell_type": "markdown",
      "metadata": {
        "deletable": false,
        "editable": false,
        "id": "Ilsm-MZo_Zct",
        "tags": [
          "start_task"
        ]
      },
      "source": [
        "**Задание 11**"
      ]
    },
    {
      "cell_type": "code",
      "execution_count": null,
      "metadata": {
        "deletable": false,
        "id": "Tq4nYRX4_Zct",
        "outputId": "64035538-8d88-4ba8-9650-a0e1d8286357"
      },
      "outputs": [
        {
          "data": {
            "text/plain": [
              "user_id    0\n",
              "track      0\n",
              "artist     0\n",
              "genre      0\n",
              "city       0\n",
              "time       0\n",
              "day        0\n",
              "dtype: int64"
            ]
          },
          "execution_count": 11,
          "metadata": {},
          "output_type": "execute_result"
        }
      ],
      "source": [
        "# проверка на отсутствие пропусков\n",
        "df.isna().sum()"
      ]
    },
    {
      "cell_type": "markdown",
      "metadata": {
        "deletable": false,
        "editable": false,
        "id": "BWKRtBJ3_Zct",
        "tags": [
          "start_task"
        ]
      },
      "source": [
        "### Обработка дубликатов\n",
        "\n",
        "**Задание 12**"
      ]
    },
    {
      "cell_type": "code",
      "execution_count": null,
      "metadata": {
        "deletable": false,
        "id": "36eES_S0_Zct",
        "outputId": "885a56d0-5e05-4c18-93b0-7b78a5343435"
      },
      "outputs": [
        {
          "data": {
            "text/plain": [
              "3826"
            ]
          },
          "execution_count": 12,
          "metadata": {},
          "output_type": "execute_result"
        }
      ],
      "source": [
        "# подсчёт явных дубликатов\n",
        "df.duplicated().sum()"
      ]
    },
    {
      "cell_type": "markdown",
      "metadata": {
        "deletable": false,
        "editable": false,
        "id": "Ot25h6XR_Zct",
        "tags": [
          "start_task"
        ]
      },
      "source": [
        "**Задание 13**"
      ]
    },
    {
      "cell_type": "code",
      "execution_count": null,
      "metadata": {
        "deletable": false,
        "id": "exFHq6tt_Zct"
      },
      "outputs": [],
      "source": [
        "# удаление явных дубликатов, создание новых индексов и удаление старых\n",
        "df = df.drop_duplicates().reset_index(drop=True)"
      ]
    },
    {
      "cell_type": "markdown",
      "metadata": {
        "deletable": false,
        "editable": false,
        "id": "Im2YwBEG_Zct",
        "tags": [
          "start_task"
        ]
      },
      "source": [
        "**Задание 14**"
      ]
    },
    {
      "cell_type": "code",
      "execution_count": null,
      "metadata": {
        "deletable": false,
        "id": "-8PuNWQ0_Zct",
        "outputId": "f7daf3de-d4e8-476c-ceb3-a56f5e37d817"
      },
      "outputs": [
        {
          "data": {
            "text/plain": [
              "0"
            ]
          },
          "execution_count": 14,
          "metadata": {},
          "output_type": "execute_result"
        }
      ],
      "source": [
        "# проверка на отсутствие явных дубликатов\n",
        "df.duplicated().sum()"
      ]
    },
    {
      "cell_type": "markdown",
      "metadata": {
        "deletable": false,
        "editable": false,
        "id": "eSjWwsOh_Zct",
        "tags": [
          "start_task"
        ]
      },
      "source": [
        "**Задание 15**"
      ]
    },
    {
      "cell_type": "code",
      "execution_count": null,
      "metadata": {
        "deletable": false,
        "id": "JIUcqzZN_Zct",
        "outputId": "6afa06e4-2d4a-445d-a232-31b13c6da3db"
      },
      "outputs": [
        {
          "data": {
            "text/plain": [
              "array(['acid', 'acoustic', 'action', 'adult', 'africa', 'afrikaans',\n",
              "       'alternative', 'alternativepunk', 'ambient', 'americana',\n",
              "       'animated', 'anime', 'arabesk', 'arabic', 'arena',\n",
              "       'argentinetango', 'art', 'audiobook', 'author', 'avantgarde',\n",
              "       'axé', 'baile', 'balkan', 'beats', 'bigroom', 'black', 'bluegrass',\n",
              "       'blues', 'bollywood', 'bossa', 'brazilian', 'breakbeat', 'breaks',\n",
              "       'broadway', 'cantautori', 'cantopop', 'canzone', 'caribbean',\n",
              "       'caucasian', 'celtic', 'chamber', 'chanson', 'children', 'chill',\n",
              "       'chinese', 'choral', 'christian', 'christmas', 'classical',\n",
              "       'classicmetal', 'club', 'colombian', 'comedy', 'conjazz',\n",
              "       'contemporary', 'country', 'cuban', 'dance', 'dancehall',\n",
              "       'dancepop', 'dark', 'death', 'deep', 'deutschrock', 'deutschspr',\n",
              "       'dirty', 'disco', 'dnb', 'documentary', 'downbeat', 'downtempo',\n",
              "       'drum', 'dub', 'dubstep', 'eastern', 'easy', 'electronic',\n",
              "       'electropop', 'emo', 'entehno', 'epicmetal', 'estrada', 'ethnic',\n",
              "       'eurofolk', 'european', 'experimental', 'extrememetal', 'fado',\n",
              "       'fairytail', 'film', 'fitness', 'flamenco', 'folk', 'folklore',\n",
              "       'folkmetal', 'folkrock', 'folktronica', 'forró', 'frankreich',\n",
              "       'französisch', 'french', 'funk', 'future', 'gangsta', 'garage',\n",
              "       'german', 'ghazal', 'gitarre', 'glitch', 'gospel', 'gothic',\n",
              "       'grime', 'grunge', 'gypsy', 'handsup', \"hard'n'heavy\", 'hardcore',\n",
              "       'hardstyle', 'hardtechno', 'hip', 'hip-hop', 'hiphop',\n",
              "       'historisch', 'holiday', 'hop', 'horror', 'house', 'hymn', 'idm',\n",
              "       'independent', 'indian', 'indie', 'indipop', 'industrial',\n",
              "       'inspirational', 'instrumental', 'international', 'irish', 'jam',\n",
              "       'japanese', 'jazz', 'jewish', 'jpop', 'jungle', 'k-pop',\n",
              "       'karadeniz', 'karaoke', 'kayokyoku', 'korean', 'laiko', 'latin',\n",
              "       'latino', 'leftfield', 'local', 'lounge', 'loungeelectronic',\n",
              "       'lovers', 'malaysian', 'mandopop', 'marschmusik', 'meditative',\n",
              "       'mediterranean', 'melodic', 'metal', 'metalcore', 'mexican',\n",
              "       'middle', 'minimal', 'miscellaneous', 'modern', 'mood', 'mpb',\n",
              "       'muslim', 'native', 'neoklassik', 'neue', 'new', 'newage',\n",
              "       'newwave', 'nu', 'nujazz', 'numetal', 'oceania', 'old', 'opera',\n",
              "       'orchestral', 'other', 'piano', 'podcasts', 'pop', 'popdance',\n",
              "       'popelectronic', 'popeurodance', 'poprussian', 'post',\n",
              "       'posthardcore', 'postrock', 'power', 'progmetal', 'progressive',\n",
              "       'psychedelic', 'punjabi', 'punk', 'quebecois', 'ragga', 'ram',\n",
              "       'rancheras', 'rap', 'rave', 'reggae', 'reggaeton', 'regional',\n",
              "       'relax', 'religious', 'retro', 'rhythm', 'rnb', 'rnr', 'rock',\n",
              "       'rockabilly', 'rockalternative', 'rockindie', 'rockother',\n",
              "       'romance', 'roots', 'ruspop', 'rusrap', 'rusrock', 'russian',\n",
              "       'salsa', 'samba', 'scenic', 'schlager', 'self', 'sertanejo',\n",
              "       'shanson', 'shoegazing', 'showtunes', 'singer', 'ska', 'skarock',\n",
              "       'slow', 'smooth', 'soft', 'soul', 'soulful', 'sound', 'soundtrack',\n",
              "       'southern', 'specialty', 'speech', 'spiritual', 'sport',\n",
              "       'stonerrock', 'surf', 'swing', 'synthpop', 'synthrock',\n",
              "       'sängerportrait', 'tango', 'tanzorchester', 'taraftar', 'tatar',\n",
              "       'tech', 'techno', 'teen', 'thrash', 'top', 'traditional',\n",
              "       'tradjazz', 'trance', 'tribal', 'trip', 'triphop', 'tropical',\n",
              "       'türk', 'türkçe', 'ukrrock', 'unknown', 'urban', 'uzbek',\n",
              "       'variété', 'vi', 'videogame', 'vocal', 'western', 'world',\n",
              "       'worldbeat', 'ïîï', 'электроника'], dtype=object)"
            ]
          },
          "execution_count": 15,
          "metadata": {},
          "output_type": "execute_result"
        }
      ],
      "source": [
        "# просмотр уникальных отсортированных названий жанров\n",
        "df['genre'].sort_values().unique()"
      ]
    },
    {
      "cell_type": "markdown",
      "metadata": {
        "deletable": false,
        "editable": false,
        "id": "qej-Qmuo_Zct",
        "tags": [
          "start_task"
        ]
      },
      "source": [
        "**Задание 16**"
      ]
    },
    {
      "cell_type": "code",
      "execution_count": null,
      "metadata": {
        "deletable": false,
        "id": "ErNDkmns_Zct"
      },
      "outputs": [],
      "source": [
        "# устранение неявных дубликатов\n",
        "df['genre'] = df['genre'].replace(['hip', 'hop', 'hip-hop'], 'hiphop')"
      ]
    },
    {
      "cell_type": "markdown",
      "metadata": {
        "deletable": false,
        "editable": false,
        "id": "zQKF16_RG15m",
        "tags": [
          "start_task"
        ]
      },
      "source": [
        "**Задание 17**"
      ]
    },
    {
      "cell_type": "code",
      "execution_count": null,
      "metadata": {
        "deletable": false,
        "id": "wvixALnFG15m",
        "outputId": "88baa1dc-5224-4451-e0ee-5c6a588086d6"
      },
      "outputs": [
        {
          "data": {
            "text/plain": [
              "array(['acid', 'acoustic', 'action', 'adult', 'africa', 'afrikaans',\n",
              "       'alternative', 'alternativepunk', 'ambient', 'americana',\n",
              "       'animated', 'anime', 'arabesk', 'arabic', 'arena',\n",
              "       'argentinetango', 'art', 'audiobook', 'author', 'avantgarde',\n",
              "       'axé', 'baile', 'balkan', 'beats', 'bigroom', 'black', 'bluegrass',\n",
              "       'blues', 'bollywood', 'bossa', 'brazilian', 'breakbeat', 'breaks',\n",
              "       'broadway', 'cantautori', 'cantopop', 'canzone', 'caribbean',\n",
              "       'caucasian', 'celtic', 'chamber', 'chanson', 'children', 'chill',\n",
              "       'chinese', 'choral', 'christian', 'christmas', 'classical',\n",
              "       'classicmetal', 'club', 'colombian', 'comedy', 'conjazz',\n",
              "       'contemporary', 'country', 'cuban', 'dance', 'dancehall',\n",
              "       'dancepop', 'dark', 'death', 'deep', 'deutschrock', 'deutschspr',\n",
              "       'dirty', 'disco', 'dnb', 'documentary', 'downbeat', 'downtempo',\n",
              "       'drum', 'dub', 'dubstep', 'eastern', 'easy', 'electronic',\n",
              "       'electropop', 'emo', 'entehno', 'epicmetal', 'estrada', 'ethnic',\n",
              "       'eurofolk', 'european', 'experimental', 'extrememetal', 'fado',\n",
              "       'fairytail', 'film', 'fitness', 'flamenco', 'folk', 'folklore',\n",
              "       'folkmetal', 'folkrock', 'folktronica', 'forró', 'frankreich',\n",
              "       'französisch', 'french', 'funk', 'future', 'gangsta', 'garage',\n",
              "       'german', 'ghazal', 'gitarre', 'glitch', 'gospel', 'gothic',\n",
              "       'grime', 'grunge', 'gypsy', 'handsup', \"hard'n'heavy\", 'hardcore',\n",
              "       'hardstyle', 'hardtechno', 'hiphop', 'historisch', 'holiday',\n",
              "       'horror', 'house', 'hymn', 'idm', 'independent', 'indian', 'indie',\n",
              "       'indipop', 'industrial', 'inspirational', 'instrumental',\n",
              "       'international', 'irish', 'jam', 'japanese', 'jazz', 'jewish',\n",
              "       'jpop', 'jungle', 'k-pop', 'karadeniz', 'karaoke', 'kayokyoku',\n",
              "       'korean', 'laiko', 'latin', 'latino', 'leftfield', 'local',\n",
              "       'lounge', 'loungeelectronic', 'lovers', 'malaysian', 'mandopop',\n",
              "       'marschmusik', 'meditative', 'mediterranean', 'melodic', 'metal',\n",
              "       'metalcore', 'mexican', 'middle', 'minimal', 'miscellaneous',\n",
              "       'modern', 'mood', 'mpb', 'muslim', 'native', 'neoklassik', 'neue',\n",
              "       'new', 'newage', 'newwave', 'nu', 'nujazz', 'numetal', 'oceania',\n",
              "       'old', 'opera', 'orchestral', 'other', 'piano', 'podcasts', 'pop',\n",
              "       'popdance', 'popelectronic', 'popeurodance', 'poprussian', 'post',\n",
              "       'posthardcore', 'postrock', 'power', 'progmetal', 'progressive',\n",
              "       'psychedelic', 'punjabi', 'punk', 'quebecois', 'ragga', 'ram',\n",
              "       'rancheras', 'rap', 'rave', 'reggae', 'reggaeton', 'regional',\n",
              "       'relax', 'religious', 'retro', 'rhythm', 'rnb', 'rnr', 'rock',\n",
              "       'rockabilly', 'rockalternative', 'rockindie', 'rockother',\n",
              "       'romance', 'roots', 'ruspop', 'rusrap', 'rusrock', 'russian',\n",
              "       'salsa', 'samba', 'scenic', 'schlager', 'self', 'sertanejo',\n",
              "       'shanson', 'shoegazing', 'showtunes', 'singer', 'ska', 'skarock',\n",
              "       'slow', 'smooth', 'soft', 'soul', 'soulful', 'sound', 'soundtrack',\n",
              "       'southern', 'specialty', 'speech', 'spiritual', 'sport',\n",
              "       'stonerrock', 'surf', 'swing', 'synthpop', 'synthrock',\n",
              "       'sängerportrait', 'tango', 'tanzorchester', 'taraftar', 'tatar',\n",
              "       'tech', 'techno', 'teen', 'thrash', 'top', 'traditional',\n",
              "       'tradjazz', 'trance', 'tribal', 'trip', 'triphop', 'tropical',\n",
              "       'türk', 'türkçe', 'ukrrock', 'unknown', 'urban', 'uzbek',\n",
              "       'variété', 'vi', 'videogame', 'vocal', 'western', 'world',\n",
              "       'worldbeat', 'ïîï', 'электроника'], dtype=object)"
            ]
          },
          "execution_count": 17,
          "metadata": {},
          "output_type": "execute_result"
        }
      ],
      "source": [
        "# проверка на отсутствие неявных дубликатов\n",
        "df['genre'].sort_values().unique()"
      ]
    },
    {
      "cell_type": "markdown",
      "metadata": {
        "deletable": false,
        "editable": false,
        "id": "jz6a9-7HQUDd"
      },
      "source": [
        "**Выводы**\n",
        "\n",
        "Предобработка обнаружила три проблемы в данных:\n",
        "\n",
        "- нарушения в стиле заголовков,\n",
        "- пропущенные значения,\n",
        "- дубликаты — явные и неявные.\n",
        "\n",
        "Вы исправили заголовки, чтобы упростить работу с таблицей. Без дубликатов исследование станет более точным.\n",
        "\n",
        "Пропущенные значения вы заменили на `'unknown'`. Ещё предстоит увидеть, не повредят ли исследованию пропуски в колонке `genre`.\n",
        "\n",
        "Теперь можно перейти к проверке гипотез."
      ]
    },
    {
      "cell_type": "markdown",
      "metadata": {
        "deletable": false,
        "editable": false,
        "id": "WttZHXH0SqKk"
      },
      "source": [
        "## Проверка гипотез"
      ]
    },
    {
      "cell_type": "markdown",
      "metadata": {
        "deletable": false,
        "editable": false,
        "id": "Im936VVi_Zcu"
      },
      "source": [
        "### Сравнение поведения пользователей двух столиц"
      ]
    },
    {
      "cell_type": "markdown",
      "metadata": {
        "deletable": false,
        "editable": false,
        "id": "nwt_MuaL_Zcu"
      },
      "source": [
        "Первая гипотеза утверждает, что пользователи по-разному слушают музыку в Москве и Санкт-Петербурге. Проверим это предположение по данным о трёх днях недели — понедельнике, среде и пятнице. Для этого:\n",
        "\n",
        "* Разделим пользователей Москвы и Санкт-Петербурга.\n",
        "* Сравним, сколько треков послушала каждая группа пользователей в понедельник, среду и пятницу.\n"
      ]
    },
    {
      "cell_type": "markdown",
      "metadata": {
        "deletable": false,
        "id": "8Dw_YMmT_Zcu",
        "tags": [
          "start_task"
        ]
      },
      "source": [
        "**Задание 18**\n",
        "\n"
      ]
    },
    {
      "cell_type": "code",
      "execution_count": null,
      "metadata": {
        "deletable": false,
        "id": "0_Qs96oh_Zcu",
        "outputId": "6e7be0f5-4e7f-4370-bb97-f20e3b3ad936"
      },
      "outputs": [
        {
          "data": {
            "text/plain": [
              "city\n",
              "Moscow              42741\n",
              "Saint-Petersburg    18512\n",
              "Name: day, dtype: int64"
            ]
          },
          "execution_count": 43,
          "metadata": {},
          "output_type": "execute_result"
        }
      ],
      "source": [
        "# подсчёт прослушиваний в каждом городе\n",
        "df.groupby('city')['day'].count()"
      ]
    },
    {
      "cell_type": "markdown",
      "metadata": {
        "id": "dzli3w8o_Zcu",
        "tags": [
          "start_task"
        ]
      },
      "source": [
        "**Задание 19**\n"
      ]
    },
    {
      "cell_type": "code",
      "execution_count": null,
      "metadata": {
        "deletable": false,
        "id": "uZMKjiJz_Zcu",
        "outputId": "b63d44df-d673-4e4f-945e-f2a7bfd82b95"
      },
      "outputs": [
        {
          "data": {
            "text/plain": [
              "day\n",
              "Friday       21840\n",
              "Monday       21354\n",
              "Wednesday    18059\n",
              "Name: user_id, dtype: int64"
            ]
          },
          "execution_count": 19,
          "metadata": {},
          "output_type": "execute_result"
        }
      ],
      "source": [
        "# подсчёт прослушиваний в каждый из трёх дней\n",
        "df.groupby('day')['user_id'].count()"
      ]
    },
    {
      "cell_type": "markdown",
      "metadata": {
        "deletable": false,
        "editable": false,
        "id": "POzs8bGa_Zcu",
        "tags": [
          "start_task"
        ]
      },
      "source": [
        "**Задание 20**"
      ]
    },
    {
      "cell_type": "code",
      "execution_count": null,
      "metadata": {
        "deletable": false,
        "id": "Nz3GdQB1_Zcu"
      },
      "outputs": [],
      "source": [
        "def number_tracks(day, city):\n",
        "    track_list = df[df['day'] == day] # выберите только строки df со значением переменной day в столбце day\n",
        "    track_list = track_list[track_list['city'] == city] # выберите только строки track_list со значением переменной city в столбце city\n",
        "    track_list_count = track_list['user_id'].count() # вызовите метод подсчета строк для track_list и выберите столбец user_id\n",
        "    return track_list_count\n"
      ]
    },
    {
      "cell_type": "markdown",
      "metadata": {
        "deletable": false,
        "editable": false,
        "id": "ytf7xFrFJQ2r",
        "tags": [
          "start_task"
        ]
      },
      "source": [
        "**Задание 21**"
      ]
    },
    {
      "cell_type": "code",
      "execution_count": null,
      "metadata": {
        "deletable": false,
        "id": "rJcRATNQ_Zcu",
        "outputId": "c5b66449-3d96-4bef-edcf-45dff039aa26"
      },
      "outputs": [
        {
          "data": {
            "text/plain": [
              "15740"
            ]
          },
          "execution_count": 44,
          "metadata": {},
          "output_type": "execute_result"
        }
      ],
      "source": [
        "# количество прослушиваний в Москве по понедельникам\n",
        "number_tracks('Monday', 'Moscow')"
      ]
    },
    {
      "cell_type": "code",
      "execution_count": null,
      "metadata": {
        "deletable": false,
        "id": "hq_ncZ5T_Zcu",
        "outputId": "b740ceed-c84f-452a-8a22-c077d9eda65b"
      },
      "outputs": [
        {
          "data": {
            "text/plain": [
              "5614"
            ]
          },
          "execution_count": 22,
          "metadata": {},
          "output_type": "execute_result"
        }
      ],
      "source": [
        "# количество прослушиваний в Санкт-Петербурге по понедельникам\n",
        "number_tracks('Monday', 'Saint-Petersburg')"
      ]
    },
    {
      "cell_type": "code",
      "execution_count": null,
      "metadata": {
        "deletable": false,
        "id": "_NTy2VPU_Zcu",
        "outputId": "5d9c36bb-b861-43f3-cb8e-0a3ff6ceab96"
      },
      "outputs": [
        {
          "data": {
            "text/plain": [
              "11056"
            ]
          },
          "execution_count": 23,
          "metadata": {},
          "output_type": "execute_result"
        }
      ],
      "source": [
        "# количество прослушиваний в Москве по средам\n",
        "number_tracks('Wednesday', 'Moscow')"
      ]
    },
    {
      "cell_type": "code",
      "execution_count": null,
      "metadata": {
        "deletable": false,
        "id": "j2y3TAwo_Zcu",
        "outputId": "002ebc91-fe41-4d73-b943-46548e9c2f9e"
      },
      "outputs": [
        {
          "data": {
            "text/plain": [
              "7003"
            ]
          },
          "execution_count": 24,
          "metadata": {},
          "output_type": "execute_result"
        }
      ],
      "source": [
        "# количество прослушиваний в Санкт-Петербурге по средам\n",
        "number_tracks('Wednesday', 'Saint-Petersburg')"
      ]
    },
    {
      "cell_type": "code",
      "execution_count": null,
      "metadata": {
        "deletable": false,
        "id": "vYDw5u_K_Zcu",
        "outputId": "d5a9b065-bacf-42b9-a9e4-b3888622ead9"
      },
      "outputs": [
        {
          "data": {
            "text/plain": [
              "15945"
            ]
          },
          "execution_count": 25,
          "metadata": {},
          "output_type": "execute_result"
        }
      ],
      "source": [
        "# количество прослушиваний в Москве по пятницам\n",
        "number_tracks('Friday', 'Moscow')"
      ]
    },
    {
      "cell_type": "code",
      "execution_count": null,
      "metadata": {
        "deletable": false,
        "id": "8_yzFtW3_Zcu",
        "outputId": "13953a44-cbad-495a-e1a8-a8a0fed06d93"
      },
      "outputs": [
        {
          "data": {
            "text/plain": [
              "5895"
            ]
          },
          "execution_count": 26,
          "metadata": {},
          "output_type": "execute_result"
        }
      ],
      "source": [
        "# количество прослушиваний в Санкт-Петербурге по пятницам\n",
        "number_tracks('Friday', 'Saint-Petersburg')"
      ]
    },
    {
      "cell_type": "markdown",
      "metadata": {
        "deletable": false,
        "editable": false,
        "id": "7QXffbO-_Zcu",
        "tags": [
          "start_task"
        ]
      },
      "source": [
        "**Задание 22**"
      ]
    },
    {
      "cell_type": "code",
      "execution_count": null,
      "metadata": {
        "deletable": false,
        "id": "APAcLpOr_Zcu",
        "outputId": "73b4791d-5707-4863-a320-0ff8eaf9e874"
      },
      "outputs": [
        {
          "data": {
            "text/html": [
              "<div>\n",
              "<style scoped>\n",
              "    .dataframe tbody tr th:only-of-type {\n",
              "        vertical-align: middle;\n",
              "    }\n",
              "\n",
              "    .dataframe tbody tr th {\n",
              "        vertical-align: top;\n",
              "    }\n",
              "\n",
              "    .dataframe thead th {\n",
              "        text-align: right;\n",
              "    }\n",
              "</style>\n",
              "<table border=\"1\" class=\"dataframe\">\n",
              "  <thead>\n",
              "    <tr style=\"text-align: right;\">\n",
              "      <th></th>\n",
              "      <th>0</th>\n",
              "      <th>1</th>\n",
              "      <th>2</th>\n",
              "      <th>3</th>\n",
              "    </tr>\n",
              "  </thead>\n",
              "  <tbody>\n",
              "    <tr>\n",
              "      <th>0</th>\n",
              "      <td>Moscow</td>\n",
              "      <td>15740</td>\n",
              "      <td>11056</td>\n",
              "      <td>15945</td>\n",
              "    </tr>\n",
              "    <tr>\n",
              "      <th>1</th>\n",
              "      <td>Saint-Petersburg</td>\n",
              "      <td>5614</td>\n",
              "      <td>7003</td>\n",
              "      <td>5895</td>\n",
              "    </tr>\n",
              "  </tbody>\n",
              "</table>\n",
              "</div>"
            ],
            "text/plain": [
              "                  0      1      2      3\n",
              "0            Moscow  15740  11056  15945\n",
              "1  Saint-Petersburg   5614   7003   5895"
            ]
          },
          "execution_count": 46,
          "metadata": {},
          "output_type": "execute_result"
        }
      ],
      "source": [
        "# создание таблицы с результатами\n",
        "# вывод таблицы на экран\n",
        "columns = ['city', 'monday', 'wednesday', 'friday']\n",
        "info = pd.DataFrame(data=[['Moscow', 15740, 11056, 15945], ['Saint-Petersburg', 5614, 7003, 5895]])\n",
        "info"
      ]
    },
    {
      "cell_type": "markdown",
      "metadata": {
        "deletable": false,
        "editable": false,
        "id": "-EgPIHYu_Zcu"
      },
      "source": [
        "**Выводы**\n",
        "\n",
        "Данные показывают разницу поведения пользователей:\n",
        "\n",
        "- В Москве пик прослушиваний приходится на понедельник и пятницу, а в среду заметен спад.\n",
        "- В Петербурге, наоборот, больше слушают музыку по средам. Активность в понедельник и пятницу здесь почти в равной мере уступает среде.\n",
        "\n",
        "Значит, данные говорят в пользу первой гипотезы."
      ]
    },
    {
      "cell_type": "markdown",
      "metadata": {
        "deletable": false,
        "editable": false,
        "id": "atZAxtq4_Zcu"
      },
      "source": [
        "### Музыка в начале и в конце недели"
      ]
    },
    {
      "cell_type": "markdown",
      "metadata": {
        "deletable": false,
        "editable": false,
        "id": "eXrQqXFH_Zcu"
      },
      "source": [
        "Согласно второй гипотезе, утром в понедельник в Москве преобладают одни жанры, а в Петербурге — другие. Так же и вечером пятницы преобладают разные жанры — в зависимости от города."
      ]
    },
    {
      "cell_type": "markdown",
      "metadata": {
        "deletable": false,
        "editable": false,
        "id": "S8UcW6Hw_Zcu",
        "tags": [
          "start_task"
        ]
      },
      "source": [
        "**Задание 23**"
      ]
    },
    {
      "cell_type": "code",
      "execution_count": null,
      "metadata": {
        "deletable": false,
        "id": "qeaFfM_P_Zcu"
      },
      "outputs": [],
      "source": [
        "# получение таблицы moscow_general из тех строк таблицы df, для которых значение в столбце 'city' равно 'Moscow'\n",
        "moscow_general = df[df['city'] == 'Moscow']"
      ]
    },
    {
      "cell_type": "code",
      "execution_count": null,
      "metadata": {
        "deletable": false,
        "id": "ORaVRKto_Zcu"
      },
      "outputs": [],
      "source": [
        "# получение таблицы spb_general из тех строк таблицы df, для которых значение в столбце 'city' равно 'Saint-Petersburg'\n",
        "spb_general = df[df['city'] == 'Saint-Petersburg']"
      ]
    },
    {
      "cell_type": "markdown",
      "metadata": {
        "deletable": false,
        "editable": false,
        "id": "MEJV-CX2_Zcu",
        "tags": [
          "start_task"
        ]
      },
      "source": [
        "**Задание 24**"
      ]
    },
    {
      "cell_type": "code",
      "execution_count": null,
      "metadata": {
        "deletable": false,
        "id": "laJT9BYl_Zcu"
      },
      "outputs": [],
      "source": [
        "def genre_weekday(df, day, time1, time2):\n",
        "    # последовательная фильтрация\n",
        "    # оставляем в genre_df только те строки df, у которых день равен day\n",
        "    genre_df = df[df['day'] == day] # ваш код здесь\n",
        "    # оставляем в genre_df только те строки genre_df, у которых время меньше time2\n",
        "    genre_df = genre_df[genre_df['time'] < time2] # ваш код здесь\n",
        "    # оставляем в genre_df только те строки genre_df, у которых время больше time1\n",
        "    genre_df = genre_df[genre_df['time'] > time1] # ваш код здесь\n",
        "    # сгруппируем отфильтрованный датафрейм по столбцу с названиями жанров, возьмём столбец genre и посчитаем кол-во строк для каждого жанра методом count()\n",
        "    genre_df_grouped = genre_df.groupby('genre')['user_id'].count() # ваш код здесь\n",
        "    # отсортируем результат по убыванию (чтобы в начале Series оказались самые популярные жанры)\n",
        "    genre_df_sorted = genre_df_grouped.sort_values(ascending=False) # ваш код здесь\n",
        "    # вернём Series с 10 самыми популярными жанрами в указанный отрезок времени заданного дня\n",
        "    return genre_df_sorted[:10]"
      ]
    },
    {
      "cell_type": "markdown",
      "metadata": {
        "deletable": false,
        "editable": false,
        "id": "la2s2_PF_Zcu",
        "tags": [
          "start_task"
        ]
      },
      "source": [
        "**Задание 25**"
      ]
    },
    {
      "cell_type": "code",
      "execution_count": null,
      "metadata": {
        "deletable": false,
        "id": "yz7itPUQ_Zcu",
        "scrolled": true,
        "outputId": "eaf83bbf-656b-468d-a918-4912d0864e5d"
      },
      "outputs": [
        {
          "data": {
            "text/plain": [
              "genre\n",
              "pop            781\n",
              "dance          549\n",
              "electronic     480\n",
              "rock           474\n",
              "hiphop         286\n",
              "ruspop         186\n",
              "world          181\n",
              "rusrap         175\n",
              "alternative    164\n",
              "unknown        161\n",
              "Name: user_id, dtype: int64"
            ]
          },
          "execution_count": 31,
          "metadata": {},
          "output_type": "execute_result"
        }
      ],
      "source": [
        "# вызов функции для утра понедельника в Москве (вместо df — таблица moscow_general)\n",
        "genre_weekday(moscow_general, 'Monday', '07:00', '11:00')"
      ]
    },
    {
      "cell_type": "code",
      "execution_count": null,
      "metadata": {
        "deletable": false,
        "id": "kwUcHPdy_Zcu",
        "outputId": "f29f1a9f-20d6-498f-8533-99082fa86948"
      },
      "outputs": [
        {
          "data": {
            "text/plain": [
              "genre\n",
              "pop            218\n",
              "dance          182\n",
              "rock           162\n",
              "electronic     147\n",
              "hiphop          80\n",
              "ruspop          64\n",
              "alternative     58\n",
              "rusrap          55\n",
              "jazz            44\n",
              "classical       40\n",
              "Name: user_id, dtype: int64"
            ]
          },
          "execution_count": 32,
          "metadata": {},
          "output_type": "execute_result"
        }
      ],
      "source": [
        "# вызов функции для утра понедельника в Петербурге (вместо df — таблица spb_general)\n",
        "genre_weekday(spb_general, 'Monday', '07:00', '11:00')"
      ]
    },
    {
      "cell_type": "code",
      "execution_count": null,
      "metadata": {
        "deletable": false,
        "id": "EzXVRE1o_Zcu",
        "outputId": "1e7208ec-2fcb-404d-deeb-79b5de89ac9b"
      },
      "outputs": [
        {
          "data": {
            "text/plain": [
              "genre\n",
              "pop            713\n",
              "rock           517\n",
              "dance          495\n",
              "electronic     482\n",
              "hiphop         273\n",
              "world          208\n",
              "ruspop         170\n",
              "alternative    163\n",
              "classical      163\n",
              "rusrap         142\n",
              "Name: user_id, dtype: int64"
            ]
          },
          "execution_count": 33,
          "metadata": {},
          "output_type": "execute_result"
        }
      ],
      "source": [
        "# вызов функции для вечера пятницы в Москве\n",
        "genre_weekday(moscow_general, 'Friday', '17:00', '23:00')"
      ]
    },
    {
      "cell_type": "code",
      "execution_count": null,
      "metadata": {
        "deletable": false,
        "id": "JZaEKu5v_Zcu",
        "outputId": "eed20170-6f11-40ad-de1b-51c72e3c63d4"
      },
      "outputs": [
        {
          "data": {
            "text/plain": [
              "genre\n",
              "pop            256\n",
              "electronic     216\n",
              "rock           216\n",
              "dance          210\n",
              "hiphop          97\n",
              "alternative     63\n",
              "jazz            61\n",
              "classical       60\n",
              "rusrap          59\n",
              "world           54\n",
              "Name: user_id, dtype: int64"
            ]
          },
          "execution_count": 34,
          "metadata": {},
          "output_type": "execute_result"
        }
      ],
      "source": [
        "# вызов функции для вечера пятницы в Петербурге\n",
        "genre_weekday(spb_general, 'Friday', '17:00', '23:00')"
      ]
    },
    {
      "cell_type": "markdown",
      "metadata": {
        "deletable": false,
        "editable": false,
        "id": "wrCe4MNX_Zcu"
      },
      "source": [
        "**Выводы**\n",
        "\n",
        "Если сравнить топ-10 жанров в понедельник утром, можно сделать такие выводы:\n",
        "\n",
        "1. В Москве и Петербурге слушают похожую музыку. Единственное различие — в московский рейтинг вошёл жанр “world”, а в петербургский — джаз и классика.\n",
        "\n",
        "2. В Москве пропущенных значений оказалось так много, что значение `'unknown'` заняло десятое место среди самых популярных жанров. Значит, пропущенные значения занимают существенную долю в данных и угрожают достоверности исследования.\n",
        "\n",
        "Вечер пятницы не меняет эту картину. Некоторые жанры поднимаются немного выше, другие спускаются, но в целом топ-10 остаётся тем же самым.\n",
        "\n",
        "Таким образом, вторая гипотеза подтвердилась лишь частично:\n",
        "* Пользователи слушают похожую музыку в начале недели и в конце.\n",
        "* Разница между Москвой и Петербургом не слишком выражена. В Москве чаще слушают русскую популярную музыку, в Петербурге — джаз.\n",
        "\n",
        "Однако пропуски в данных ставят под сомнение этот результат. В Москве их так много, что рейтинг топ-10 мог бы выглядеть иначе, если бы не утерянные  данные о жанрах."
      ]
    },
    {
      "cell_type": "markdown",
      "metadata": {
        "deletable": false,
        "editable": false,
        "id": "JolODAqr_Zcu"
      },
      "source": [
        "### Жанровые предпочтения в Москве и Петербурге\n",
        "\n",
        "Гипотеза: Петербург — столица рэпа, музыку этого жанра там слушают чаще, чем в Москве.  А Москва — город контрастов, в котором, тем не менее, преобладает поп-музыка."
      ]
    },
    {
      "cell_type": "markdown",
      "metadata": {
        "deletable": false,
        "editable": false,
        "id": "DlegSvaT_Zcu",
        "tags": [
          "start_task"
        ]
      },
      "source": [
        "**Задание 26**"
      ]
    },
    {
      "cell_type": "code",
      "execution_count": null,
      "metadata": {
        "deletable": false,
        "id": "r19lIPke_Zcu"
      },
      "outputs": [],
      "source": [
        "# одной строкой: группировка таблицы moscow_general по столбцу 'genre', выбор столбца `genre`, подсчёт числа значений 'genre' методом count(), сохранение в moscow_genres\n",
        "# сортировка получившегося Series в порядке убывания и сохранение обратно в moscow_genres\n",
        "moscow_genres = moscow_general.groupby('genre')['genre'].count()\n",
        "moscow_genres = moscow_genres.sort_values(ascending=False)"
      ]
    },
    {
      "cell_type": "markdown",
      "metadata": {
        "deletable": false,
        "editable": false,
        "id": "6kMuomxTiIr8",
        "tags": [
          "start_task"
        ]
      },
      "source": [
        "**Задание 27**"
      ]
    },
    {
      "cell_type": "code",
      "execution_count": null,
      "metadata": {
        "deletable": false,
        "id": "WhCSooF8_Zcv",
        "outputId": "f624f0aa-5a7f-422f-ac3f-3d5577595198"
      },
      "outputs": [
        {
          "data": {
            "text/plain": [
              "genre\n",
              "pop            5892\n",
              "dance          4435\n",
              "rock           3965\n",
              "electronic     3786\n",
              "hiphop         2096\n",
              "classical      1616\n",
              "world          1432\n",
              "alternative    1379\n",
              "ruspop         1372\n",
              "rusrap         1161\n",
              "Name: genre, dtype: int64"
            ]
          },
          "execution_count": 36,
          "metadata": {},
          "output_type": "execute_result"
        }
      ],
      "source": [
        "# просмотр первых 10 строк moscow_genres\n",
        "moscow_genres.head(10)"
      ]
    },
    {
      "cell_type": "markdown",
      "metadata": {
        "deletable": false,
        "editable": false,
        "id": "cnPG2vnN_Zcv",
        "tags": [
          "start_task"
        ]
      },
      "source": [
        "**Задание 28**"
      ]
    },
    {
      "cell_type": "code",
      "execution_count": null,
      "metadata": {
        "deletable": false,
        "id": "gluLIpE7_Zcv"
      },
      "outputs": [],
      "source": [
        "# одной строкой: группировка таблицы spb_general по столбцу 'genre', выбор столбца `genre`, подсчёт числа значений 'genre' методом count(), сохранение в spb_genres\n",
        "# сортировка получившегося Series в порядке убывания и сохранение обратно в spb_genres\n",
        "spb_genres = spb_general.groupby('genre')['genre'].count()\n",
        "spb_genres = spb_genres.sort_values(ascending=False)"
      ]
    },
    {
      "cell_type": "markdown",
      "metadata": {
        "deletable": false,
        "editable": false,
        "id": "5Doha_ODgyQ8",
        "tags": [
          "start_task"
        ]
      },
      "source": [
        "**Задание 29**"
      ]
    },
    {
      "cell_type": "code",
      "execution_count": null,
      "metadata": {
        "deletable": false,
        "id": "uaGJHjVU_Zcv",
        "outputId": "4420a13d-7196-4ef8-95e7-a296af8d1956"
      },
      "outputs": [
        {
          "data": {
            "text/plain": [
              "genre\n",
              "pop            2431\n",
              "dance          1932\n",
              "rock           1879\n",
              "electronic     1736\n",
              "hiphop          960\n",
              "alternative     649\n",
              "classical       646\n",
              "rusrap          564\n",
              "ruspop          538\n",
              "world           515\n",
              "Name: genre, dtype: int64"
            ]
          },
          "execution_count": 38,
          "metadata": {},
          "output_type": "execute_result"
        }
      ],
      "source": [
        "# просмотр первых 10 строк spb_genres\n",
        "spb_genres.head(10)"
      ]
    },
    {
      "cell_type": "markdown",
      "metadata": {
        "deletable": false,
        "editable": false,
        "id": "RY51YJYu_Zcv"
      },
      "source": [
        "**Выводы**"
      ]
    },
    {
      "cell_type": "markdown",
      "metadata": {
        "deletable": false,
        "editable": false,
        "id": "nVhnJEm__Zcv"
      },
      "source": [
        "Гипотеза частично подтвердилась:\n",
        "* Поп-музыка — самый популярный жанр в Москве, как и предполагала гипотеза. Более того, в топ-10 жанров встречается близкий жанр — русская популярная музыка.\n",
        "* Вопреки ожиданиям, рэп одинаково популярен в Москве и Петербурге.\n"
      ]
    },
    {
      "cell_type": "markdown",
      "metadata": {
        "deletable": false,
        "editable": false,
        "id": "ykKQ0N65_Zcv"
      },
      "source": [
        "## Итоги исследования"
      ]
    },
    {
      "cell_type": "markdown",
      "metadata": {
        "deletable": false,
        "editable": false,
        "id": "tjUwbHb3_Zcv"
      },
      "source": [
        "Вы проверили три гипотезы и установили:\n",
        "\n",
        "1. День недели по-разному влияет на активность пользователей в Москве и Петербурге.\n",
        "\n",
        "Первая гипотеза полностью подтвердилась.\n",
        "\n",
        "2. Музыкальные предпочтения не сильно меняются в течение недели — будь то Москва или Петербург. Небольшие различия заметны в начале недели, по понедельникам:\n",
        "* в Москве слушают музыку жанра “world”,\n",
        "* в Петербурге — джаз и классику.\n",
        "\n",
        "Таким образом, вторая гипотеза подтвердилась лишь отчасти. Этот результат мог оказаться иным, если бы не пропуски в данных.\n",
        "\n",
        "3. Во вкусах пользователей Москвы и Петербурга больше общего, чем различий. Вопреки ожиданиям, предпочтения жанров в Петербурге напоминают московские.\n",
        "\n",
        "Третья гипотеза не подтвердилась. Если различия в предпочтениях и существуют, на основной массе пользователей они незаметны.\n",
        "\n",
        "**На практике исследования содержат проверки статистических гипотез.**\n",
        "Из части данных одного сервиса невозможно сделать какие-то выводы о всех пользователях сервиса без методов статистики.\n",
        "Проверки статистических гипотез покажут, насколько они достоверны, исходя из имеющихся данных.\n",
        "С методами проверок гипотез вы ещё познакомитесь в следующих темах."
      ]
    }
  ],
  "metadata": {
    "ExecuteTimeLog": [
      {
        "duration": 411,
        "start_time": "2024-01-26T10:32:09.486Z"
      },
      {
        "duration": 96,
        "start_time": "2024-01-26T10:32:33.392Z"
      },
      {
        "duration": 11,
        "start_time": "2024-01-26T10:33:39.062Z"
      },
      {
        "duration": 11,
        "start_time": "2024-01-26T10:33:45.024Z"
      },
      {
        "duration": 180,
        "start_time": "2024-01-26T10:34:19.622Z"
      },
      {
        "duration": 16,
        "start_time": "2024-01-26T10:34:45.507Z"
      },
      {
        "duration": 8,
        "start_time": "2024-01-26T10:35:03.230Z"
      },
      {
        "duration": 31,
        "start_time": "2024-01-26T10:35:41.642Z"
      },
      {
        "duration": 2,
        "start_time": "2024-01-26T10:44:11.625Z"
      },
      {
        "duration": 4,
        "start_time": "2024-01-26T10:44:58.380Z"
      },
      {
        "duration": 11,
        "start_time": "2024-01-26T10:47:12.451Z"
      },
      {
        "duration": 4,
        "start_time": "2024-01-26T10:47:31.516Z"
      },
      {
        "duration": 31,
        "start_time": "2024-01-26T10:48:00.119Z"
      },
      {
        "duration": 27,
        "start_time": "2024-01-26T10:48:14.077Z"
      },
      {
        "duration": 28,
        "start_time": "2024-01-26T10:49:09.240Z"
      },
      {
        "duration": 25,
        "start_time": "2024-01-26T10:51:08.288Z"
      },
      {
        "duration": 25,
        "start_time": "2024-01-26T10:51:24.724Z"
      },
      {
        "duration": 30,
        "start_time": "2024-01-26T10:52:24.971Z"
      },
      {
        "duration": 19,
        "start_time": "2024-01-26T10:52:36.149Z"
      },
      {
        "duration": 28,
        "start_time": "2024-01-26T10:52:54.621Z"
      },
      {
        "duration": 33,
        "start_time": "2024-01-26T10:53:04.611Z"
      },
      {
        "duration": 42,
        "start_time": "2024-01-26T10:53:34.522Z"
      },
      {
        "duration": 18,
        "start_time": "2024-01-26T10:53:45.256Z"
      },
      {
        "duration": 27,
        "start_time": "2024-01-26T10:55:35.471Z"
      },
      {
        "duration": 66,
        "start_time": "2024-01-26T10:56:01.262Z"
      },
      {
        "duration": 10,
        "start_time": "2024-01-26T10:57:24.854Z"
      },
      {
        "duration": 8,
        "start_time": "2024-01-26T10:57:52.913Z"
      },
      {
        "duration": 84,
        "start_time": "2024-01-26T10:58:30.813Z"
      },
      {
        "duration": 68,
        "start_time": "2024-01-26T10:58:52.960Z"
      },
      {
        "duration": 70,
        "start_time": "2024-01-26T10:58:55.884Z"
      },
      {
        "duration": 53,
        "start_time": "2024-01-26T10:59:56.492Z"
      },
      {
        "duration": 42,
        "start_time": "2024-01-26T11:01:23.849Z"
      },
      {
        "duration": 13,
        "start_time": "2024-01-26T11:04:25.951Z"
      },
      {
        "duration": 11,
        "start_time": "2024-01-26T11:04:41.194Z"
      },
      {
        "duration": 9,
        "start_time": "2024-01-26T11:04:54.153Z"
      },
      {
        "duration": 362,
        "start_time": "2024-01-26T11:05:15.724Z"
      },
      {
        "duration": 172,
        "start_time": "2024-01-26T11:05:16.088Z"
      },
      {
        "duration": 15,
        "start_time": "2024-01-26T11:05:16.261Z"
      },
      {
        "duration": 32,
        "start_time": "2024-01-26T11:05:16.278Z"
      },
      {
        "duration": 2,
        "start_time": "2024-01-26T11:05:16.311Z"
      },
      {
        "duration": 10,
        "start_time": "2024-01-26T11:05:16.314Z"
      },
      {
        "duration": 22,
        "start_time": "2024-01-26T11:05:16.325Z"
      },
      {
        "duration": 5,
        "start_time": "2024-01-26T11:05:16.348Z"
      },
      {
        "duration": 34,
        "start_time": "2024-01-26T11:05:16.354Z"
      },
      {
        "duration": 20,
        "start_time": "2024-01-26T11:05:16.390Z"
      },
      {
        "duration": 24,
        "start_time": "2024-01-26T11:05:16.412Z"
      },
      {
        "duration": 78,
        "start_time": "2024-01-26T11:05:16.438Z"
      },
      {
        "duration": 83,
        "start_time": "2024-01-26T11:05:16.518Z"
      },
      {
        "duration": 62,
        "start_time": "2024-01-26T11:05:16.603Z"
      },
      {
        "duration": 40,
        "start_time": "2024-01-26T11:05:16.667Z"
      },
      {
        "duration": 64,
        "start_time": "2024-01-26T11:05:16.709Z"
      },
      {
        "duration": 2,
        "start_time": "2024-01-26T11:05:16.774Z"
      },
      {
        "duration": 15,
        "start_time": "2024-01-26T11:05:16.777Z"
      },
      {
        "duration": 4,
        "start_time": "2024-01-26T11:05:16.794Z"
      },
      {
        "duration": 84,
        "start_time": "2024-01-26T11:05:16.800Z"
      },
      {
        "duration": 0,
        "start_time": "2024-01-26T11:05:16.886Z"
      },
      {
        "duration": 0,
        "start_time": "2024-01-26T11:05:16.888Z"
      },
      {
        "duration": 0,
        "start_time": "2024-01-26T11:05:16.889Z"
      },
      {
        "duration": 0,
        "start_time": "2024-01-26T11:05:16.890Z"
      },
      {
        "duration": 0,
        "start_time": "2024-01-26T11:05:16.891Z"
      },
      {
        "duration": 0,
        "start_time": "2024-01-26T11:05:16.892Z"
      },
      {
        "duration": 0,
        "start_time": "2024-01-26T11:05:16.893Z"
      },
      {
        "duration": 0,
        "start_time": "2024-01-26T11:05:16.894Z"
      },
      {
        "duration": 0,
        "start_time": "2024-01-26T11:05:16.895Z"
      },
      {
        "duration": 0,
        "start_time": "2024-01-26T11:05:16.896Z"
      },
      {
        "duration": 1,
        "start_time": "2024-01-26T11:05:16.897Z"
      },
      {
        "duration": 0,
        "start_time": "2024-01-26T11:05:16.899Z"
      },
      {
        "duration": 0,
        "start_time": "2024-01-26T11:05:16.900Z"
      },
      {
        "duration": 0,
        "start_time": "2024-01-26T11:05:16.901Z"
      },
      {
        "duration": 0,
        "start_time": "2024-01-26T11:05:16.902Z"
      },
      {
        "duration": 0,
        "start_time": "2024-01-26T11:05:16.903Z"
      },
      {
        "duration": 0,
        "start_time": "2024-01-26T11:05:16.904Z"
      },
      {
        "duration": 0,
        "start_time": "2024-01-26T11:05:16.905Z"
      },
      {
        "duration": 68,
        "start_time": "2024-01-26T11:05:53.728Z"
      },
      {
        "duration": 13,
        "start_time": "2024-01-26T11:06:18.538Z"
      },
      {
        "duration": 14,
        "start_time": "2024-01-26T11:06:23.741Z"
      },
      {
        "duration": 11,
        "start_time": "2024-01-26T11:06:50.004Z"
      },
      {
        "duration": 49,
        "start_time": "2024-01-26T11:07:14.298Z"
      },
      {
        "duration": 10,
        "start_time": "2024-01-26T11:07:24.317Z"
      },
      {
        "duration": 45,
        "start_time": "2024-01-26T11:07:58.843Z"
      },
      {
        "duration": 61,
        "start_time": "2024-01-26T11:10:21.816Z"
      },
      {
        "duration": 9,
        "start_time": "2024-01-26T11:10:32.978Z"
      },
      {
        "duration": 7,
        "start_time": "2024-01-26T11:11:25.574Z"
      },
      {
        "duration": 50,
        "start_time": "2024-01-26T15:29:31.676Z"
      },
      {
        "duration": 392,
        "start_time": "2024-01-26T15:29:50.227Z"
      },
      {
        "duration": 260,
        "start_time": "2024-01-26T15:29:50.621Z"
      },
      {
        "duration": 19,
        "start_time": "2024-01-26T15:29:50.882Z"
      },
      {
        "duration": 41,
        "start_time": "2024-01-26T15:29:50.903Z"
      },
      {
        "duration": 3,
        "start_time": "2024-01-26T15:29:50.946Z"
      },
      {
        "duration": 15,
        "start_time": "2024-01-26T15:29:50.950Z"
      },
      {
        "duration": 54,
        "start_time": "2024-01-26T15:29:50.967Z"
      },
      {
        "duration": 24,
        "start_time": "2024-01-26T15:29:51.023Z"
      },
      {
        "duration": 49,
        "start_time": "2024-01-26T15:29:51.049Z"
      },
      {
        "duration": 45,
        "start_time": "2024-01-26T15:29:51.102Z"
      },
      {
        "duration": 32,
        "start_time": "2024-01-26T15:29:51.148Z"
      },
      {
        "duration": 85,
        "start_time": "2024-01-26T15:29:51.182Z"
      },
      {
        "duration": 93,
        "start_time": "2024-01-26T15:29:51.268Z"
      },
      {
        "duration": 73,
        "start_time": "2024-01-26T15:29:51.362Z"
      },
      {
        "duration": 53,
        "start_time": "2024-01-26T15:29:51.436Z"
      },
      {
        "duration": 11,
        "start_time": "2024-01-26T15:29:51.491Z"
      },
      {
        "duration": 49,
        "start_time": "2024-01-26T15:29:51.504Z"
      },
      {
        "duration": 85,
        "start_time": "2024-01-26T15:29:51.554Z"
      },
      {
        "duration": 0,
        "start_time": "2024-01-26T15:29:51.641Z"
      },
      {
        "duration": 0,
        "start_time": "2024-01-26T15:29:51.642Z"
      },
      {
        "duration": 0,
        "start_time": "2024-01-26T15:29:51.643Z"
      },
      {
        "duration": 0,
        "start_time": "2024-01-26T15:29:51.645Z"
      },
      {
        "duration": 0,
        "start_time": "2024-01-26T15:29:51.645Z"
      },
      {
        "duration": 0,
        "start_time": "2024-01-26T15:29:51.646Z"
      },
      {
        "duration": 0,
        "start_time": "2024-01-26T15:29:51.648Z"
      },
      {
        "duration": 0,
        "start_time": "2024-01-26T15:29:51.649Z"
      },
      {
        "duration": 0,
        "start_time": "2024-01-26T15:29:51.650Z"
      },
      {
        "duration": 0,
        "start_time": "2024-01-26T15:29:51.651Z"
      },
      {
        "duration": 0,
        "start_time": "2024-01-26T15:29:51.652Z"
      },
      {
        "duration": 0,
        "start_time": "2024-01-26T15:29:51.653Z"
      },
      {
        "duration": 0,
        "start_time": "2024-01-26T15:29:51.654Z"
      },
      {
        "duration": 0,
        "start_time": "2024-01-26T15:29:51.682Z"
      },
      {
        "duration": 0,
        "start_time": "2024-01-26T15:29:51.684Z"
      },
      {
        "duration": 0,
        "start_time": "2024-01-26T15:29:51.685Z"
      },
      {
        "duration": 0,
        "start_time": "2024-01-26T15:29:51.686Z"
      },
      {
        "duration": 0,
        "start_time": "2024-01-26T15:29:51.687Z"
      },
      {
        "duration": 0,
        "start_time": "2024-01-26T15:29:51.688Z"
      },
      {
        "duration": 0,
        "start_time": "2024-01-26T15:29:51.689Z"
      },
      {
        "duration": 7,
        "start_time": "2024-01-26T15:30:00.229Z"
      },
      {
        "duration": 7,
        "start_time": "2024-01-26T15:30:54.469Z"
      },
      {
        "duration": 45,
        "start_time": "2024-01-26T15:31:06.588Z"
      },
      {
        "duration": 2,
        "start_time": "2024-01-26T15:31:25.544Z"
      },
      {
        "duration": 4516,
        "start_time": "2024-01-26T15:31:51.651Z"
      },
      {
        "duration": 38,
        "start_time": "2024-01-26T15:32:33.030Z"
      },
      {
        "duration": 12,
        "start_time": "2024-01-26T15:32:43.932Z"
      },
      {
        "duration": 8,
        "start_time": "2024-01-26T15:33:18.316Z"
      },
      {
        "duration": 13,
        "start_time": "2024-01-26T15:33:26.006Z"
      },
      {
        "duration": 35,
        "start_time": "2024-01-26T15:34:29.128Z"
      },
      {
        "duration": 13,
        "start_time": "2024-01-26T15:34:50.599Z"
      },
      {
        "duration": 4,
        "start_time": "2024-01-26T15:39:34.546Z"
      },
      {
        "duration": 3,
        "start_time": "2024-01-26T15:43:52.228Z"
      },
      {
        "duration": 3,
        "start_time": "2024-01-26T15:47:49.592Z"
      },
      {
        "duration": 4,
        "start_time": "2024-01-26T15:47:54.846Z"
      },
      {
        "duration": 4,
        "start_time": "2024-01-26T15:57:40.765Z"
      },
      {
        "duration": 12,
        "start_time": "2024-01-26T15:58:02.358Z"
      },
      {
        "duration": 3,
        "start_time": "2024-01-26T15:58:22.252Z"
      },
      {
        "duration": 9,
        "start_time": "2024-01-26T15:58:24.588Z"
      },
      {
        "duration": 4,
        "start_time": "2024-01-26T15:59:57.115Z"
      },
      {
        "duration": 10,
        "start_time": "2024-01-26T15:59:59.530Z"
      },
      {
        "duration": 10,
        "start_time": "2024-01-26T16:00:10.700Z"
      },
      {
        "duration": 3,
        "start_time": "2024-01-26T16:00:21.834Z"
      },
      {
        "duration": 13,
        "start_time": "2024-01-26T16:00:24.005Z"
      },
      {
        "duration": 3,
        "start_time": "2024-01-26T16:01:23.301Z"
      },
      {
        "duration": 1250,
        "start_time": "2024-01-26T16:01:26.180Z"
      },
      {
        "duration": 3,
        "start_time": "2024-01-26T16:01:45.612Z"
      },
      {
        "duration": 9,
        "start_time": "2024-01-26T16:01:46.578Z"
      },
      {
        "duration": 9,
        "start_time": "2024-01-26T16:02:07.364Z"
      },
      {
        "duration": 8,
        "start_time": "2024-01-26T16:02:19.435Z"
      },
      {
        "duration": 4,
        "start_time": "2024-01-26T16:02:22.432Z"
      },
      {
        "duration": 9,
        "start_time": "2024-01-26T16:02:23.512Z"
      },
      {
        "duration": 4,
        "start_time": "2024-01-26T16:12:38.380Z"
      },
      {
        "duration": 14,
        "start_time": "2024-01-26T16:12:39.507Z"
      },
      {
        "duration": 3,
        "start_time": "2024-01-26T16:15:14.472Z"
      },
      {
        "duration": 12,
        "start_time": "2024-01-26T16:15:15.222Z"
      },
      {
        "duration": 4,
        "start_time": "2024-01-26T16:15:35.532Z"
      },
      {
        "duration": 8,
        "start_time": "2024-01-26T16:15:36.248Z"
      },
      {
        "duration": 3,
        "start_time": "2024-01-26T16:15:55.498Z"
      },
      {
        "duration": 9,
        "start_time": "2024-01-26T16:15:56.264Z"
      },
      {
        "duration": 4,
        "start_time": "2024-01-26T16:20:46.806Z"
      },
      {
        "duration": 2088,
        "start_time": "2024-01-26T16:20:47.613Z"
      },
      {
        "duration": 4,
        "start_time": "2024-01-26T16:22:42.262Z"
      },
      {
        "duration": 18,
        "start_time": "2024-01-26T16:22:48.660Z"
      },
      {
        "duration": 16,
        "start_time": "2024-01-26T16:23:22.341Z"
      },
      {
        "duration": 17,
        "start_time": "2024-01-26T16:23:35.317Z"
      },
      {
        "duration": 17,
        "start_time": "2024-01-26T16:24:51.851Z"
      },
      {
        "duration": 17,
        "start_time": "2024-01-26T16:25:03.781Z"
      },
      {
        "duration": 16,
        "start_time": "2024-01-26T16:25:19.575Z"
      },
      {
        "duration": 9,
        "start_time": "2024-01-26T16:28:01.009Z"
      },
      {
        "duration": 431,
        "start_time": "2024-01-26T16:28:23.554Z"
      },
      {
        "duration": 204,
        "start_time": "2024-01-26T16:28:23.986Z"
      },
      {
        "duration": 18,
        "start_time": "2024-01-26T16:28:24.192Z"
      },
      {
        "duration": 33,
        "start_time": "2024-01-26T16:28:24.212Z"
      },
      {
        "duration": 6,
        "start_time": "2024-01-26T16:28:24.247Z"
      },
      {
        "duration": 7,
        "start_time": "2024-01-26T16:28:24.254Z"
      },
      {
        "duration": 39,
        "start_time": "2024-01-26T16:28:24.262Z"
      },
      {
        "duration": 15,
        "start_time": "2024-01-26T16:28:24.302Z"
      },
      {
        "duration": 34,
        "start_time": "2024-01-26T16:28:24.318Z"
      },
      {
        "duration": 22,
        "start_time": "2024-01-26T16:28:24.353Z"
      },
      {
        "duration": 29,
        "start_time": "2024-01-26T16:28:24.381Z"
      },
      {
        "duration": 84,
        "start_time": "2024-01-26T16:28:24.411Z"
      },
      {
        "duration": 87,
        "start_time": "2024-01-26T16:28:24.496Z"
      },
      {
        "duration": 61,
        "start_time": "2024-01-26T16:28:24.584Z"
      },
      {
        "duration": 59,
        "start_time": "2024-01-26T16:28:24.647Z"
      },
      {
        "duration": 11,
        "start_time": "2024-01-26T16:28:24.708Z"
      },
      {
        "duration": 64,
        "start_time": "2024-01-26T16:28:24.721Z"
      },
      {
        "duration": 11,
        "start_time": "2024-01-26T16:28:24.787Z"
      },
      {
        "duration": 12,
        "start_time": "2024-01-26T16:28:24.800Z"
      },
      {
        "duration": 4,
        "start_time": "2024-01-26T16:28:24.813Z"
      },
      {
        "duration": 18,
        "start_time": "2024-01-26T16:28:24.818Z"
      },
      {
        "duration": 15,
        "start_time": "2024-01-26T16:28:24.838Z"
      },
      {
        "duration": 42,
        "start_time": "2024-01-26T16:28:24.854Z"
      },
      {
        "duration": 14,
        "start_time": "2024-01-26T16:28:24.898Z"
      },
      {
        "duration": 17,
        "start_time": "2024-01-26T16:28:24.914Z"
      },
      {
        "duration": 15,
        "start_time": "2024-01-26T16:28:24.932Z"
      },
      {
        "duration": 68,
        "start_time": "2024-01-26T16:28:24.982Z"
      },
      {
        "duration": 0,
        "start_time": "2024-01-26T16:28:25.052Z"
      },
      {
        "duration": 0,
        "start_time": "2024-01-26T16:28:25.054Z"
      },
      {
        "duration": 0,
        "start_time": "2024-01-26T16:28:25.055Z"
      },
      {
        "duration": 0,
        "start_time": "2024-01-26T16:28:25.056Z"
      },
      {
        "duration": 0,
        "start_time": "2024-01-26T16:28:25.057Z"
      },
      {
        "duration": 0,
        "start_time": "2024-01-26T16:28:25.058Z"
      },
      {
        "duration": 0,
        "start_time": "2024-01-26T16:28:25.059Z"
      },
      {
        "duration": 0,
        "start_time": "2024-01-26T16:28:25.060Z"
      },
      {
        "duration": 0,
        "start_time": "2024-01-26T16:28:25.061Z"
      },
      {
        "duration": 0,
        "start_time": "2024-01-26T16:28:25.082Z"
      },
      {
        "duration": 0,
        "start_time": "2024-01-26T16:28:25.083Z"
      },
      {
        "duration": 4,
        "start_time": "2024-01-26T16:29:28.054Z"
      },
      {
        "duration": 8,
        "start_time": "2024-01-26T16:33:20.772Z"
      },
      {
        "duration": 21,
        "start_time": "2024-01-26T16:35:16.088Z"
      },
      {
        "duration": 13,
        "start_time": "2024-01-26T16:35:46.085Z"
      },
      {
        "duration": 9,
        "start_time": "2024-01-26T16:36:22.166Z"
      },
      {
        "duration": 6,
        "start_time": "2024-01-26T16:47:33.833Z"
      },
      {
        "duration": 5,
        "start_time": "2024-01-26T16:48:56.500Z"
      },
      {
        "duration": 4,
        "start_time": "2024-01-26T16:49:56.215Z"
      },
      {
        "duration": 4,
        "start_time": "2024-01-26T16:51:10.439Z"
      },
      {
        "duration": 4,
        "start_time": "2024-01-26T16:52:14.609Z"
      },
      {
        "duration": 5,
        "start_time": "2024-01-26T16:53:45.213Z"
      },
      {
        "duration": 19,
        "start_time": "2024-01-26T16:54:43.158Z"
      },
      {
        "duration": 13,
        "start_time": "2024-01-26T16:55:09.998Z"
      },
      {
        "duration": 21,
        "start_time": "2024-01-26T16:55:57.340Z"
      },
      {
        "duration": 12,
        "start_time": "2024-01-26T16:56:14.634Z"
      },
      {
        "duration": 11,
        "start_time": "2024-01-26T17:00:16.743Z"
      },
      {
        "duration": 4,
        "start_time": "2024-01-26T17:05:41.944Z"
      },
      {
        "duration": 10,
        "start_time": "2024-01-26T17:05:56.339Z"
      },
      {
        "duration": 5,
        "start_time": "2024-01-26T17:05:57.702Z"
      },
      {
        "duration": 12,
        "start_time": "2024-01-26T17:07:25.744Z"
      },
      {
        "duration": 6,
        "start_time": "2024-01-26T17:07:37.461Z"
      },
      {
        "duration": 4,
        "start_time": "2024-01-26T17:07:57.211Z"
      },
      {
        "duration": 48,
        "start_time": "2024-02-01T17:15:52.241Z"
      },
      {
        "duration": 436,
        "start_time": "2024-02-01T17:16:01.261Z"
      },
      {
        "duration": 247,
        "start_time": "2024-02-01T17:16:01.698Z"
      },
      {
        "duration": 18,
        "start_time": "2024-02-01T17:16:01.947Z"
      },
      {
        "duration": 49,
        "start_time": "2024-02-01T17:16:01.967Z"
      },
      {
        "duration": 8,
        "start_time": "2024-02-01T17:16:02.018Z"
      },
      {
        "duration": 20,
        "start_time": "2024-02-01T17:16:02.027Z"
      },
      {
        "duration": 27,
        "start_time": "2024-02-01T17:16:02.048Z"
      },
      {
        "duration": 14,
        "start_time": "2024-02-01T17:16:02.077Z"
      },
      {
        "duration": 36,
        "start_time": "2024-02-01T17:16:02.093Z"
      },
      {
        "duration": 28,
        "start_time": "2024-02-01T17:16:02.132Z"
      },
      {
        "duration": 35,
        "start_time": "2024-02-01T17:16:02.161Z"
      },
      {
        "duration": 79,
        "start_time": "2024-02-01T17:16:02.198Z"
      },
      {
        "duration": 77,
        "start_time": "2024-02-01T17:16:02.278Z"
      },
      {
        "duration": 67,
        "start_time": "2024-02-01T17:16:02.357Z"
      },
      {
        "duration": 44,
        "start_time": "2024-02-01T17:16:02.425Z"
      },
      {
        "duration": 22,
        "start_time": "2024-02-01T17:16:02.470Z"
      },
      {
        "duration": 52,
        "start_time": "2024-02-01T17:16:02.494Z"
      },
      {
        "duration": 5,
        "start_time": "2024-02-01T17:16:02.548Z"
      },
      {
        "duration": 34,
        "start_time": "2024-02-01T17:16:02.554Z"
      },
      {
        "duration": 4,
        "start_time": "2024-02-01T17:16:02.590Z"
      },
      {
        "duration": 18,
        "start_time": "2024-02-01T17:16:02.596Z"
      },
      {
        "duration": 14,
        "start_time": "2024-02-01T17:16:02.616Z"
      },
      {
        "duration": 13,
        "start_time": "2024-02-01T17:16:02.632Z"
      },
      {
        "duration": 43,
        "start_time": "2024-02-01T17:16:02.646Z"
      },
      {
        "duration": 15,
        "start_time": "2024-02-01T17:16:02.691Z"
      },
      {
        "duration": 12,
        "start_time": "2024-02-01T17:16:02.707Z"
      },
      {
        "duration": 9,
        "start_time": "2024-02-01T17:16:02.721Z"
      },
      {
        "duration": 16,
        "start_time": "2024-02-01T17:16:02.733Z"
      },
      {
        "duration": 31,
        "start_time": "2024-02-01T17:16:02.751Z"
      },
      {
        "duration": 4,
        "start_time": "2024-02-01T17:16:02.783Z"
      },
      {
        "duration": 21,
        "start_time": "2024-02-01T17:16:02.789Z"
      },
      {
        "duration": 11,
        "start_time": "2024-02-01T17:16:02.812Z"
      },
      {
        "duration": 19,
        "start_time": "2024-02-01T17:16:02.824Z"
      },
      {
        "duration": 39,
        "start_time": "2024-02-01T17:16:02.844Z"
      },
      {
        "duration": 13,
        "start_time": "2024-02-01T17:16:02.884Z"
      },
      {
        "duration": 7,
        "start_time": "2024-02-01T17:16:02.899Z"
      },
      {
        "duration": 11,
        "start_time": "2024-02-01T17:16:02.908Z"
      },
      {
        "duration": 4,
        "start_time": "2024-02-01T17:16:02.921Z"
      },
      {
        "duration": 4,
        "start_time": "2024-02-01T17:16:08.421Z"
      },
      {
        "duration": 5,
        "start_time": "2024-02-01T17:16:19.338Z"
      },
      {
        "duration": 12,
        "start_time": "2024-02-01T17:16:34.943Z"
      },
      {
        "duration": 72,
        "start_time": "2024-02-01T17:17:03.934Z"
      },
      {
        "duration": 13,
        "start_time": "2024-02-01T17:17:19.104Z"
      },
      {
        "duration": 17,
        "start_time": "2024-02-01T17:18:49.432Z"
      },
      {
        "duration": 73,
        "start_time": "2024-02-01T17:20:08.868Z"
      },
      {
        "duration": 7,
        "start_time": "2024-02-01T17:20:18.376Z"
      }
    ],
    "celltoolbar": "Отсутствует",
    "colab": {
      "collapsed_sections": [
        "E0vqbgi9ay0H",
        "VUC88oWjTJw2"
      ],
      "provenance": []
    },
    "kernelspec": {
      "display_name": "Python 3 (ipykernel)",
      "language": "python",
      "name": "python3"
    },
    "language_info": {
      "codemirror_mode": {
        "name": "ipython",
        "version": 3
      },
      "file_extension": ".py",
      "mimetype": "text/x-python",
      "name": "python",
      "nbconvert_exporter": "python",
      "pygments_lexer": "ipython3",
      "version": "3.11.5"
    },
    "toc": {
      "base_numbering": 1,
      "nav_menu": {
        "height": "215px",
        "width": "403px"
      },
      "number_sections": true,
      "sideBar": true,
      "skip_h1_title": true,
      "title_cell": "Table of Contents",
      "title_sidebar": "Contents",
      "toc_cell": false,
      "toc_position": {
        "height": "calc(100% - 180px)",
        "left": "10px",
        "top": "150px",
        "width": "285.825px"
      },
      "toc_section_display": true,
      "toc_window_display": false
    },
    "varInspector": {
      "cols": {
        "lenName": 16,
        "lenType": 16,
        "lenVar": 40
      },
      "kernels_config": {
        "python": {
          "delete_cmd_postfix": "",
          "delete_cmd_prefix": "del ",
          "library": "var_list.py",
          "varRefreshCmd": "print(var_dic_list())"
        },
        "r": {
          "delete_cmd_postfix": ") ",
          "delete_cmd_prefix": "rm(",
          "library": "var_list.r",
          "varRefreshCmd": "cat(var_dic_list()) "
        }
      },
      "types_to_exclude": [
        "module",
        "function",
        "builtin_function_or_method",
        "instance",
        "_Feature"
      ],
      "window_display": false
    }
  },
  "nbformat": 4,
  "nbformat_minor": 0
}