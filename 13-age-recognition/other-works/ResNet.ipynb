{
 "cells": [
  {
   "cell_type": "code",
   "execution_count": 2,
   "id": "04f8b7b4",
   "metadata": {},
   "outputs": [],
   "source": [
    "from tensorflow.keras.preprocessing.image import ImageDataGenerator\n",
    "from tensorflow.keras.applications.resnet import ResNet50\n",
    "from tensorflow.keras.models import Sequential\n",
    "from tensorflow.keras.layers import GlobalAveragePooling2D, Dense\n",
    "from tensorflow.keras.optimizers import Adam\n",
    "\n",
    "def load_train(path):\n",
    "    train_datagen = ImageDataGenerator(\n",
    "        rescale=1/255.,\n",
    "        horizontal_flip=True,\n",
    "#         vertical_flip=True,\n",
    "#         width_shift_range=0.2,\n",
    "#         height_shift_range=0.2,\n",
    "#         rotation_range=90\n",
    "    )\n",
    "    train_datagen_flow = train_datagen.flow_from_directory(\n",
    "        path,\n",
    "        target_size=(150, 150),\n",
    "        batch_size=16,\n",
    "        class_mode='sparse',\n",
    "        subset='training',\n",
    "        seed=12345,\n",
    "    )\n",
    "\n",
    "    return train_datagen_flow\n",
    "\n",
    "\n",
    "def create_model(input_shape):\n",
    "    backbone = ResNet50(\n",
    "        input_shape=input_shape,\n",
    "        weights='/datasets/keras_models/resnet50_weights_tf_dim_ordering_tf_kernels_notop.h5',\n",
    "        include_top=False,\n",
    "        )\n",
    "\n",
    "    model = Sequential()\n",
    "    model.add(backbone)\n",
    "    model.add(GlobalAveragePooling2D())\n",
    "#     model.add(Dense(128, activation='relu'))\n",
    "#     model.add(Dense(128, activation='relu'))\n",
    "    model.add(Dense(12, activation='softmax'))\n",
    "\n",
    "    # Используем Adam с learning rate 0.003\n",
    "    optimizer = Adam(learning_rate=0.001)\n",
    "    model.compile(loss='sparse_categorical_crossentropy', optimizer=optimizer, metrics=['acc'])\n",
    "\n",
    "    return model\n",
    "\n",
    "\n",
    "def train_model(\n",
    "        model,\n",
    "        train_data,\n",
    "        test_data,\n",
    "        batch_size=None,\n",
    "        epochs=7,\n",
    "        steps_per_epoch=None,\n",
    "        validation_steps=None,\n",
    "):      \n",
    "    model.fit(\n",
    "        train_data,\n",
    "        validation_data=test_data,\n",
    "        batch_size=batch_size,\n",
    "        epochs=epochs,\n",
    "        steps_per_epoch=steps_per_epoch,\n",
    "        validation_steps=validation_steps,\n",
    "        verbose=2,\n",
    "        shuffle=True,\n",
    "        callbacks=[early_stopping]\n",
    "    )\n",
    "\n",
    "    return model"
   ]
  },
  {
   "cell_type": "code",
   "execution_count": null,
   "id": "e6984267",
   "metadata": {},
   "outputs": [],
   "source": []
  }
 ],
 "metadata": {
  "kernelspec": {
   "display_name": "Python 3 (ipykernel)",
   "language": "python",
   "name": "python3"
  },
  "language_info": {
   "codemirror_mode": {
    "name": "ipython",
    "version": 3
   },
   "file_extension": ".py",
   "mimetype": "text/x-python",
   "name": "python",
   "nbconvert_exporter": "python",
   "pygments_lexer": "ipython3",
   "version": "3.11.5"
  },
  "varInspector": {
   "cols": {
    "lenName": 16,
    "lenType": 16,
    "lenVar": 40
   },
   "kernels_config": {
    "python": {
     "delete_cmd_postfix": "",
     "delete_cmd_prefix": "del ",
     "library": "var_list.py",
     "varRefreshCmd": "print(var_dic_list())"
    },
    "r": {
     "delete_cmd_postfix": ") ",
     "delete_cmd_prefix": "rm(",
     "library": "var_list.r",
     "varRefreshCmd": "cat(var_dic_list()) "
    }
   },
   "types_to_exclude": [
    "module",
    "function",
    "builtin_function_or_method",
    "instance",
    "_Feature"
   ],
   "window_display": false
  }
 },
 "nbformat": 4,
 "nbformat_minor": 5
}
