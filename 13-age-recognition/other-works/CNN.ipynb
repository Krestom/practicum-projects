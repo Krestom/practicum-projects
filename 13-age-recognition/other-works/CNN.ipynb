{
 "cells": [
  {
   "cell_type": "code",
   "execution_count": 3,
   "id": "29acb795",
   "metadata": {},
   "outputs": [],
   "source": [
    "import numpy as np\n",
    "from tensorflow.keras.preprocessing.image import ImageDataGenerator\n",
    "from tensorflow.keras.models import Sequential\n",
    "from tensorflow.keras.layers import Conv2D, AvgPool2D, Dropout, Flatten, Dense\n",
    "from tensorflow.keras.optimizers import Adam\n",
    "\n",
    "def load_train(path):\n",
    "    train_datagen = ImageDataGenerator(\n",
    "        validation_split=0.25,\n",
    "        rescale=1/255.\n",
    "#         horizontal_flip=True,\n",
    "#         vertical_flip=True\n",
    "    )\n",
    "    \n",
    "    train_data = train_datagen.flow_from_directory(\n",
    "        directory=path,  \n",
    "        target_size=(150, 150),\n",
    "        batch_size=16,\n",
    "        class_mode='sparse',\n",
    "        subset='training',\n",
    "        seed=12345\n",
    "    )\n",
    "    return train_data\n",
    "\n",
    "\n",
    "def create_model(input_shape):\n",
    "    model = Sequential()\n",
    "    optimizer = Adam(learning_rate=0.001)\n",
    "\n",
    "    model.add(Conv2D(filters=32, kernel_size=(3, 3), input_shape=input_shape, padding='same', activation='relu'))\n",
    "    model.add(AvgPool2D(pool_size=(2, 2)))\n",
    "    model.add(Dropout(0.2))\n",
    "\n",
    "    model.add(Conv2D(filters=64, kernel_size=(3, 3), activation='relu', padding='same'))\n",
    "    model.add(AvgPool2D(pool_size=(2, 2)))\n",
    "    model.add(Dropout(0.2))\n",
    "\n",
    "#     model.add(Conv2D(filters=128, kernel_size=(3, 3), activation='relu'))\n",
    "#     model.add(AvgPool2D(pool_size=(2, 2)))\n",
    "#     model.add(Dropout(0.2))\n",
    "\n",
    "    model.add(Flatten())\n",
    "\n",
    "#     model.add(Dense(units=128, activation='relu'))\n",
    "#     model.add(Dropout(0.2)) \n",
    "\n",
    "    model.add(Dense(units=64, activation='relu'))\n",
    "    model.add(Dropout(0.2))\n",
    "\n",
    "    model.add(Dense(units=12, activation='softmax')) \n",
    "\n",
    "    model.compile(loss='sparse_categorical_crossentropy', optimizer=optimizer, metrics=['acc'])\n",
    "    \n",
    "    return model \n",
    "\n",
    "\n",
    "def train_model(model, train_data, test_data, batch_size=None, epochs=10,\n",
    "               steps_per_epoch=None, validation_steps=None):\n",
    "\n",
    "    \n",
    "    model.fit(train_data, \n",
    "              validation_data=test_data,\n",
    "              epochs=epochs, batch_size=batch_size,\n",
    "              steps_per_epoch=steps_per_epoch,\n",
    "              validation_steps=validation_steps,\n",
    "              verbose=2, shuffle=True)\n",
    "\n",
    "    return model "
   ]
  },
  {
   "cell_type": "code",
   "execution_count": null,
   "id": "ef71280c",
   "metadata": {},
   "outputs": [],
   "source": []
  }
 ],
 "metadata": {
  "kernelspec": {
   "display_name": "Python 3 (ipykernel)",
   "language": "python",
   "name": "python3"
  },
  "language_info": {
   "codemirror_mode": {
    "name": "ipython",
    "version": 3
   },
   "file_extension": ".py",
   "mimetype": "text/x-python",
   "name": "python",
   "nbconvert_exporter": "python",
   "pygments_lexer": "ipython3",
   "version": "3.11.5"
  },
  "varInspector": {
   "cols": {
    "lenName": 16,
    "lenType": 16,
    "lenVar": 40
   },
   "kernels_config": {
    "python": {
     "delete_cmd_postfix": "",
     "delete_cmd_prefix": "del ",
     "library": "var_list.py",
     "varRefreshCmd": "print(var_dic_list())"
    },
    "r": {
     "delete_cmd_postfix": ") ",
     "delete_cmd_prefix": "rm(",
     "library": "var_list.r",
     "varRefreshCmd": "cat(var_dic_list()) "
    }
   },
   "types_to_exclude": [
    "module",
    "function",
    "builtin_function_or_method",
    "instance",
    "_Feature"
   ],
   "window_display": false
  }
 },
 "nbformat": 4,
 "nbformat_minor": 5
}
